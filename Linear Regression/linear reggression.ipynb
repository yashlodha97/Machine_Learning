{
 "cells": [
  {
   "cell_type": "markdown",
   "id": "6e2fb556",
   "metadata": {},
   "source": [
    "# Objective\n",
    "\n",
    "* Making a Model on Fish Dataset by using Linear Regression\n",
    "\n",
    "* Q1. Plot a bar chart showing count of individual species\n",
    "\n",
    "* Q2. Identify outliers and remove if any\n",
    "\n",
    "* Q3. Build a regression model and print regression equation\n",
    "\n",
    "* Q4. Find the mean score of the model at 95% confidence interval\n",
    "\n",
    "* Q5. Compare real and predicted weights and give a conclusion statement based on it."
   ]
  },
  {
   "cell_type": "code",
   "execution_count": 1,
   "id": "efb6589d",
   "metadata": {},
   "outputs": [],
   "source": [
    "################################## Data Analysis & Calculation ##################################\n",
    "\n",
    "import pandas as pd \n",
    "import numpy as np \n",
    "\n",
    "################# Machine Learning ################\n",
    "import statsmodels\n",
    "from statsmodels.stats.anova import anova_lm\n",
    "from statsmodels.stats.outliers_influence import variance_inflation_factor\n",
    "\n",
    "################# Data Visualization ################\n",
    "import seaborn as sns\n",
    "from matplotlib import pyplot as plt\n",
    "%matplotlib inline"
   ]
  },
  {
   "cell_type": "markdown",
   "id": "6e57b445",
   "metadata": {},
   "source": [
    "# Data Import"
   ]
  },
  {
   "cell_type": "code",
   "execution_count": 2,
   "id": "d254b409",
   "metadata": {},
   "outputs": [
    {
     "data": {
      "text/html": [
       "<div>\n",
       "<style scoped>\n",
       "    .dataframe tbody tr th:only-of-type {\n",
       "        vertical-align: middle;\n",
       "    }\n",
       "\n",
       "    .dataframe tbody tr th {\n",
       "        vertical-align: top;\n",
       "    }\n",
       "\n",
       "    .dataframe thead th {\n",
       "        text-align: right;\n",
       "    }\n",
       "</style>\n",
       "<table border=\"1\" class=\"dataframe\">\n",
       "  <thead>\n",
       "    <tr style=\"text-align: right;\">\n",
       "      <th></th>\n",
       "      <th>Species</th>\n",
       "      <th>Weight</th>\n",
       "      <th>Length1</th>\n",
       "      <th>Length2</th>\n",
       "      <th>Length3</th>\n",
       "      <th>Height</th>\n",
       "      <th>Width</th>\n",
       "    </tr>\n",
       "  </thead>\n",
       "  <tbody>\n",
       "    <tr>\n",
       "      <th>0</th>\n",
       "      <td>Bream</td>\n",
       "      <td>242.0</td>\n",
       "      <td>23.2</td>\n",
       "      <td>25.4</td>\n",
       "      <td>30.0</td>\n",
       "      <td>11.5200</td>\n",
       "      <td>4.0200</td>\n",
       "    </tr>\n",
       "    <tr>\n",
       "      <th>1</th>\n",
       "      <td>Bream</td>\n",
       "      <td>290.0</td>\n",
       "      <td>24.0</td>\n",
       "      <td>26.3</td>\n",
       "      <td>31.2</td>\n",
       "      <td>12.4800</td>\n",
       "      <td>4.3056</td>\n",
       "    </tr>\n",
       "    <tr>\n",
       "      <th>2</th>\n",
       "      <td>Bream</td>\n",
       "      <td>340.0</td>\n",
       "      <td>23.9</td>\n",
       "      <td>26.5</td>\n",
       "      <td>31.1</td>\n",
       "      <td>12.3778</td>\n",
       "      <td>4.6961</td>\n",
       "    </tr>\n",
       "    <tr>\n",
       "      <th>3</th>\n",
       "      <td>Bream</td>\n",
       "      <td>363.0</td>\n",
       "      <td>26.3</td>\n",
       "      <td>29.0</td>\n",
       "      <td>33.5</td>\n",
       "      <td>12.7300</td>\n",
       "      <td>4.4555</td>\n",
       "    </tr>\n",
       "    <tr>\n",
       "      <th>4</th>\n",
       "      <td>Bream</td>\n",
       "      <td>430.0</td>\n",
       "      <td>26.5</td>\n",
       "      <td>29.0</td>\n",
       "      <td>34.0</td>\n",
       "      <td>12.4440</td>\n",
       "      <td>5.1340</td>\n",
       "    </tr>\n",
       "    <tr>\n",
       "      <th>...</th>\n",
       "      <td>...</td>\n",
       "      <td>...</td>\n",
       "      <td>...</td>\n",
       "      <td>...</td>\n",
       "      <td>...</td>\n",
       "      <td>...</td>\n",
       "      <td>...</td>\n",
       "    </tr>\n",
       "    <tr>\n",
       "      <th>154</th>\n",
       "      <td>Smelt</td>\n",
       "      <td>12.2</td>\n",
       "      <td>11.5</td>\n",
       "      <td>12.2</td>\n",
       "      <td>13.4</td>\n",
       "      <td>2.0904</td>\n",
       "      <td>1.3936</td>\n",
       "    </tr>\n",
       "    <tr>\n",
       "      <th>155</th>\n",
       "      <td>Smelt</td>\n",
       "      <td>13.4</td>\n",
       "      <td>11.7</td>\n",
       "      <td>12.4</td>\n",
       "      <td>13.5</td>\n",
       "      <td>2.4300</td>\n",
       "      <td>1.2690</td>\n",
       "    </tr>\n",
       "    <tr>\n",
       "      <th>156</th>\n",
       "      <td>Smelt</td>\n",
       "      <td>12.2</td>\n",
       "      <td>12.1</td>\n",
       "      <td>13.0</td>\n",
       "      <td>13.8</td>\n",
       "      <td>2.2770</td>\n",
       "      <td>1.2558</td>\n",
       "    </tr>\n",
       "    <tr>\n",
       "      <th>157</th>\n",
       "      <td>Smelt</td>\n",
       "      <td>19.7</td>\n",
       "      <td>13.2</td>\n",
       "      <td>14.3</td>\n",
       "      <td>15.2</td>\n",
       "      <td>2.8728</td>\n",
       "      <td>2.0672</td>\n",
       "    </tr>\n",
       "    <tr>\n",
       "      <th>158</th>\n",
       "      <td>Smelt</td>\n",
       "      <td>19.9</td>\n",
       "      <td>13.8</td>\n",
       "      <td>15.0</td>\n",
       "      <td>16.2</td>\n",
       "      <td>2.9322</td>\n",
       "      <td>1.8792</td>\n",
       "    </tr>\n",
       "  </tbody>\n",
       "</table>\n",
       "<p>159 rows × 7 columns</p>\n",
       "</div>"
      ],
      "text/plain": [
       "    Species  Weight  Length1  Length2  Length3   Height   Width\n",
       "0     Bream   242.0     23.2     25.4     30.0  11.5200  4.0200\n",
       "1     Bream   290.0     24.0     26.3     31.2  12.4800  4.3056\n",
       "2     Bream   340.0     23.9     26.5     31.1  12.3778  4.6961\n",
       "3     Bream   363.0     26.3     29.0     33.5  12.7300  4.4555\n",
       "4     Bream   430.0     26.5     29.0     34.0  12.4440  5.1340\n",
       "..      ...     ...      ...      ...      ...      ...     ...\n",
       "154   Smelt    12.2     11.5     12.2     13.4   2.0904  1.3936\n",
       "155   Smelt    13.4     11.7     12.4     13.5   2.4300  1.2690\n",
       "156   Smelt    12.2     12.1     13.0     13.8   2.2770  1.2558\n",
       "157   Smelt    19.7     13.2     14.3     15.2   2.8728  2.0672\n",
       "158   Smelt    19.9     13.8     15.0     16.2   2.9322  1.8792\n",
       "\n",
       "[159 rows x 7 columns]"
      ]
     },
     "execution_count": 2,
     "metadata": {},
     "output_type": "execute_result"
    }
   ],
   "source": [
    "fish = pd.read_csv(r\"C:\\Users\\Dell\\Desktop\\Machine Learning\\exam\\Fish_dataset.csv\") #for an earlier version of Excel, you may need to use the file extension of 'xls'\n",
    "fish"
   ]
  },
  {
   "cell_type": "markdown",
   "id": "2f2e43ef",
   "metadata": {},
   "source": [
    "# Data Type "
   ]
  },
  {
   "cell_type": "code",
   "execution_count": 4,
   "id": "cb9aabf7",
   "metadata": {},
   "outputs": [
    {
     "name": "stdout",
     "output_type": "stream",
     "text": [
      "<class 'pandas.core.frame.DataFrame'>\n",
      "RangeIndex: 159 entries, 0 to 158\n",
      "Data columns (total 7 columns):\n",
      " #   Column   Non-Null Count  Dtype  \n",
      "---  ------   --------------  -----  \n",
      " 0   Species  159 non-null    object \n",
      " 1   Weight   159 non-null    float64\n",
      " 2   Length1  159 non-null    float64\n",
      " 3   Length2  159 non-null    float64\n",
      " 4   Length3  159 non-null    float64\n",
      " 5   Height   159 non-null    float64\n",
      " 6   Width    159 non-null    float64\n",
      "dtypes: float64(6), object(1)\n",
      "memory usage: 8.8+ KB\n"
     ]
    }
   ],
   "source": [
    "fish.info()"
   ]
  },
  {
   "cell_type": "markdown",
   "id": "326ffde5",
   "metadata": {},
   "source": [
    " here we can see the datatype of every column"
   ]
  },
  {
   "cell_type": "markdown",
   "id": "d6cc012f",
   "metadata": {},
   "source": [
    "# Univariate Analysis"
   ]
  },
  {
   "cell_type": "code",
   "execution_count": 6,
   "id": "54f538a3",
   "metadata": {},
   "outputs": [
    {
     "data": {
      "text/html": [
       "<div>\n",
       "<style scoped>\n",
       "    .dataframe tbody tr th:only-of-type {\n",
       "        vertical-align: middle;\n",
       "    }\n",
       "\n",
       "    .dataframe tbody tr th {\n",
       "        vertical-align: top;\n",
       "    }\n",
       "\n",
       "    .dataframe thead th {\n",
       "        text-align: right;\n",
       "    }\n",
       "</style>\n",
       "<table border=\"1\" class=\"dataframe\">\n",
       "  <thead>\n",
       "    <tr style=\"text-align: right;\">\n",
       "      <th></th>\n",
       "      <th>Weight</th>\n",
       "      <th>Length1</th>\n",
       "      <th>Length2</th>\n",
       "      <th>Length3</th>\n",
       "      <th>Height</th>\n",
       "      <th>Width</th>\n",
       "    </tr>\n",
       "  </thead>\n",
       "  <tbody>\n",
       "    <tr>\n",
       "      <th>count</th>\n",
       "      <td>159.000000</td>\n",
       "      <td>159.000000</td>\n",
       "      <td>159.000000</td>\n",
       "      <td>159.000000</td>\n",
       "      <td>159.000000</td>\n",
       "      <td>159.000000</td>\n",
       "    </tr>\n",
       "    <tr>\n",
       "      <th>mean</th>\n",
       "      <td>398.326415</td>\n",
       "      <td>26.247170</td>\n",
       "      <td>28.415723</td>\n",
       "      <td>31.227044</td>\n",
       "      <td>8.970994</td>\n",
       "      <td>4.417486</td>\n",
       "    </tr>\n",
       "    <tr>\n",
       "      <th>std</th>\n",
       "      <td>357.978317</td>\n",
       "      <td>9.996441</td>\n",
       "      <td>10.716328</td>\n",
       "      <td>11.610246</td>\n",
       "      <td>4.286208</td>\n",
       "      <td>1.685804</td>\n",
       "    </tr>\n",
       "    <tr>\n",
       "      <th>min</th>\n",
       "      <td>0.000000</td>\n",
       "      <td>7.500000</td>\n",
       "      <td>8.400000</td>\n",
       "      <td>8.800000</td>\n",
       "      <td>1.728400</td>\n",
       "      <td>1.047600</td>\n",
       "    </tr>\n",
       "    <tr>\n",
       "      <th>25%</th>\n",
       "      <td>120.000000</td>\n",
       "      <td>19.050000</td>\n",
       "      <td>21.000000</td>\n",
       "      <td>23.150000</td>\n",
       "      <td>5.944800</td>\n",
       "      <td>3.385650</td>\n",
       "    </tr>\n",
       "    <tr>\n",
       "      <th>50%</th>\n",
       "      <td>273.000000</td>\n",
       "      <td>25.200000</td>\n",
       "      <td>27.300000</td>\n",
       "      <td>29.400000</td>\n",
       "      <td>7.786000</td>\n",
       "      <td>4.248500</td>\n",
       "    </tr>\n",
       "    <tr>\n",
       "      <th>75%</th>\n",
       "      <td>650.000000</td>\n",
       "      <td>32.700000</td>\n",
       "      <td>35.500000</td>\n",
       "      <td>39.650000</td>\n",
       "      <td>12.365900</td>\n",
       "      <td>5.584500</td>\n",
       "    </tr>\n",
       "    <tr>\n",
       "      <th>max</th>\n",
       "      <td>1650.000000</td>\n",
       "      <td>59.000000</td>\n",
       "      <td>63.400000</td>\n",
       "      <td>68.000000</td>\n",
       "      <td>18.957000</td>\n",
       "      <td>8.142000</td>\n",
       "    </tr>\n",
       "  </tbody>\n",
       "</table>\n",
       "</div>"
      ],
      "text/plain": [
       "            Weight     Length1     Length2     Length3      Height       Width\n",
       "count   159.000000  159.000000  159.000000  159.000000  159.000000  159.000000\n",
       "mean    398.326415   26.247170   28.415723   31.227044    8.970994    4.417486\n",
       "std     357.978317    9.996441   10.716328   11.610246    4.286208    1.685804\n",
       "min       0.000000    7.500000    8.400000    8.800000    1.728400    1.047600\n",
       "25%     120.000000   19.050000   21.000000   23.150000    5.944800    3.385650\n",
       "50%     273.000000   25.200000   27.300000   29.400000    7.786000    4.248500\n",
       "75%     650.000000   32.700000   35.500000   39.650000   12.365900    5.584500\n",
       "max    1650.000000   59.000000   63.400000   68.000000   18.957000    8.142000"
      ]
     },
     "execution_count": 6,
     "metadata": {},
     "output_type": "execute_result"
    }
   ],
   "source": [
    "# Let's look at some statistical information about our dataframe.\n",
    "fish.describe()"
   ]
  },
  {
   "cell_type": "markdown",
   "id": "d04c0fa5",
   "metadata": {},
   "source": [
    "here we analysis the mean median and mode of perticular dataset"
   ]
  },
  {
   "cell_type": "markdown",
   "id": "0ab06641",
   "metadata": {},
   "source": [
    "* Q2. Identify outliers and remove if any"
   ]
  },
  {
   "cell_type": "markdown",
   "id": "c814653a",
   "metadata": {},
   "source": [
    "# EDA\n",
    "* Identify & Treatment of Outlier "
   ]
  },
  {
   "cell_type": "code",
   "execution_count": 8,
   "id": "7a3e9438",
   "metadata": {},
   "outputs": [
    {
     "data": {
      "text/plain": [
       "<AxesSubplot:>"
      ]
     },
     "execution_count": 8,
     "metadata": {},
     "output_type": "execute_result"
    },
    {
     "data": {
      "image/png": "[encoded data removed]",
      "text/plain": [
       "<Figure size 640x480 with 1 Axes>"
      ]
     },
     "metadata": {},
     "output_type": "display_data"
    }
   ],
   "source": [
    "sns.boxplot(data=fish)"
   ]
  },
  {
   "cell_type": "code",
   "execution_count": 15,
   "id": "dcf87b07",
   "metadata": {},
   "outputs": [],
   "source": [
    "outlier = ['Weight','Length1',\"Length2\",'Length3','Height','Width']\n",
    "for i in outlier:\n",
    "    Q1 = fish[i].quantile(0.25)\n",
    "    Q3 = fish[i].quantile(0.75)\n",
    "    IQR = Q3-Q1\n",
    "    upper_limit=Q3+1.5*IQR\n",
    "    lower_limit=Q1-1.5*IQR\n",
    "    fish[i]=np.where(fish[i] > upper_limit,upper_limit,fish[i])\n",
    "    fish[i]=np.where(fish[i] < lower_limit,lower_limit,fish[i])"
   ]
  },
  {
   "cell_type": "code",
   "execution_count": 16,
   "id": "239709e3",
   "metadata": {},
   "outputs": [
    {
     "data": {
      "text/plain": [
       "<AxesSubplot:>"
      ]
     },
     "execution_count": 16,
     "metadata": {},
     "output_type": "execute_result"
    },
    {
     "data": {
      "image/png": "[encoded data removed]",
      "text/plain": [
       "<Figure size 640x480 with 1 Axes>"
      ]
     },
     "metadata": {},
     "output_type": "display_data"
    }
   ],
   "source": [
    "sns.boxplot(data=fish)"
   ]
  },
  {
   "cell_type": "markdown",
   "id": "219c046f",
   "metadata": {},
   "source": [
    "finally we change the outliers with upper limit and lower limit"
   ]
  },
  {
   "cell_type": "markdown",
   "id": "d51e6089",
   "metadata": {},
   "source": [
    "#### Missing Value"
   ]
  },
  {
   "cell_type": "code",
   "execution_count": 18,
   "id": "205bf470",
   "metadata": {},
   "outputs": [
    {
     "data": {
      "text/plain": [
       "Species    0\n",
       "Weight     0\n",
       "Length1    0\n",
       "Length2    0\n",
       "Length3    0\n",
       "Height     0\n",
       "Width      0\n",
       "dtype: int64"
      ]
     },
     "execution_count": 18,
     "metadata": {},
     "output_type": "execute_result"
    }
   ],
   "source": [
    "fish.isna().sum()  # no missing data"
   ]
  },
  {
   "cell_type": "code",
   "execution_count": 58,
   "id": "a29d0c09",
   "metadata": {},
   "outputs": [
    {
     "data": {
      "text/plain": [
       "Text(0, 0.5, 'Frequency')"
      ]
     },
     "execution_count": 58,
     "metadata": {},
     "output_type": "execute_result"
    },
    {
     "data": {
      "image/png": "[encoded data removed]",
      "text/plain": [
       "<Figure size 1400x800 with 1 Axes>"
      ]
     },
     "metadata": {},
     "output_type": "display_data"
    }
   ],
   "source": [
    "xy = fish['Species'].value_counts().plot(kind='bar', figsize=(14,8), title= \"Count od Species\")\n",
    "                                        \n",
    "xy.set_xlabel(\"Species\")\n",
    "xy.set_ylabel(\"Frequency\")"
   ]
  },
  {
   "cell_type": "code",
   "execution_count": 60,
   "id": "e7fc296e",
   "metadata": {},
   "outputs": [
    {
     "data": {
      "text/html": [
       "<div>\n",
       "<style scoped>\n",
       "    .dataframe tbody tr th:only-of-type {\n",
       "        vertical-align: middle;\n",
       "    }\n",
       "\n",
       "    .dataframe tbody tr th {\n",
       "        vertical-align: top;\n",
       "    }\n",
       "\n",
       "    .dataframe thead th {\n",
       "        text-align: right;\n",
       "    }\n",
       "</style>\n",
       "<table border=\"1\" class=\"dataframe\">\n",
       "  <thead>\n",
       "    <tr style=\"text-align: right;\">\n",
       "      <th></th>\n",
       "      <th>Weight</th>\n",
       "      <th>Length1</th>\n",
       "      <th>Length2</th>\n",
       "      <th>Length3</th>\n",
       "      <th>Height</th>\n",
       "      <th>Width</th>\n",
       "    </tr>\n",
       "  </thead>\n",
       "  <tbody>\n",
       "    <tr>\n",
       "      <th>0</th>\n",
       "      <td>242.0</td>\n",
       "      <td>23.2</td>\n",
       "      <td>25.4</td>\n",
       "      <td>30.0</td>\n",
       "      <td>11.5200</td>\n",
       "      <td>4.0200</td>\n",
       "    </tr>\n",
       "    <tr>\n",
       "      <th>1</th>\n",
       "      <td>290.0</td>\n",
       "      <td>24.0</td>\n",
       "      <td>26.3</td>\n",
       "      <td>31.2</td>\n",
       "      <td>12.4800</td>\n",
       "      <td>4.3056</td>\n",
       "    </tr>\n",
       "    <tr>\n",
       "      <th>2</th>\n",
       "      <td>340.0</td>\n",
       "      <td>23.9</td>\n",
       "      <td>26.5</td>\n",
       "      <td>31.1</td>\n",
       "      <td>12.3778</td>\n",
       "      <td>4.6961</td>\n",
       "    </tr>\n",
       "  </tbody>\n",
       "</table>\n",
       "</div>"
      ],
      "text/plain": [
       "   Weight  Length1  Length2  Length3   Height   Width\n",
       "0   242.0     23.2     25.4     30.0  11.5200  4.0200\n",
       "1   290.0     24.0     26.3     31.2  12.4800  4.3056\n",
       "2   340.0     23.9     26.5     31.1  12.3778  4.6961"
      ]
     },
     "execution_count": 60,
     "metadata": {},
     "output_type": "execute_result"
    }
   ],
   "source": [
    "# Quanitative Variable\n",
    "Quantitative_Variable = fish[fish.select_dtypes(include=[np.number]).columns.tolist()]\n",
    "Quantitative_Variable.head(3)"
   ]
  },
  {
   "cell_type": "code",
   "execution_count": 62,
   "id": "f252e482",
   "metadata": {},
   "outputs": [
    {
     "data": {
      "text/html": [
       "<div>\n",
       "<style scoped>\n",
       "    .dataframe tbody tr th:only-of-type {\n",
       "        vertical-align: middle;\n",
       "    }\n",
       "\n",
       "    .dataframe tbody tr th {\n",
       "        vertical-align: top;\n",
       "    }\n",
       "\n",
       "    .dataframe thead th {\n",
       "        text-align: right;\n",
       "    }\n",
       "</style>\n",
       "<table border=\"1\" class=\"dataframe\">\n",
       "  <thead>\n",
       "    <tr style=\"text-align: right;\">\n",
       "      <th></th>\n",
       "      <th>Species</th>\n",
       "    </tr>\n",
       "  </thead>\n",
       "  <tbody>\n",
       "    <tr>\n",
       "      <th>0</th>\n",
       "      <td>Bream</td>\n",
       "    </tr>\n",
       "    <tr>\n",
       "      <th>1</th>\n",
       "      <td>Bream</td>\n",
       "    </tr>\n",
       "    <tr>\n",
       "      <th>2</th>\n",
       "      <td>Bream</td>\n",
       "    </tr>\n",
       "  </tbody>\n",
       "</table>\n",
       "</div>"
      ],
      "text/plain": [
       "  Species\n",
       "0   Bream\n",
       "1   Bream\n",
       "2   Bream"
      ]
     },
     "execution_count": 62,
     "metadata": {},
     "output_type": "execute_result"
    }
   ],
   "source": [
    "#Qualitative Variable\n",
    "Qualitative_Variable = fish[fish.select_dtypes(include=['object']).columns.tolist()]\n",
    "Qualitative_Variable.head(3)"
   ]
  },
  {
   "cell_type": "code",
   "execution_count": 63,
   "id": "d5508750",
   "metadata": {},
   "outputs": [
    {
     "data": {
      "text/html": [
       "<div>\n",
       "<style scoped>\n",
       "    .dataframe tbody tr th:only-of-type {\n",
       "        vertical-align: middle;\n",
       "    }\n",
       "\n",
       "    .dataframe tbody tr th {\n",
       "        vertical-align: top;\n",
       "    }\n",
       "\n",
       "    .dataframe thead th {\n",
       "        text-align: right;\n",
       "    }\n",
       "</style>\n",
       "<table border=\"1\" class=\"dataframe\">\n",
       "  <thead>\n",
       "    <tr style=\"text-align: right;\">\n",
       "      <th></th>\n",
       "      <th>Species</th>\n",
       "    </tr>\n",
       "  </thead>\n",
       "  <tbody>\n",
       "    <tr>\n",
       "      <th>0</th>\n",
       "      <td>0</td>\n",
       "    </tr>\n",
       "    <tr>\n",
       "      <th>1</th>\n",
       "      <td>0</td>\n",
       "    </tr>\n",
       "    <tr>\n",
       "      <th>2</th>\n",
       "      <td>0</td>\n",
       "    </tr>\n",
       "    <tr>\n",
       "      <th>3</th>\n",
       "      <td>0</td>\n",
       "    </tr>\n",
       "    <tr>\n",
       "      <th>4</th>\n",
       "      <td>0</td>\n",
       "    </tr>\n",
       "  </tbody>\n",
       "</table>\n",
       "</div>"
      ],
      "text/plain": [
       "   Species\n",
       "0        0\n",
       "1        0\n",
       "2        0\n",
       "3        0\n",
       "4        0"
      ]
     },
     "execution_count": 63,
     "metadata": {},
     "output_type": "execute_result"
    }
   ],
   "source": [
    "from sklearn.preprocessing import LabelEncoder\n",
    "Qualitative_Variable=Qualitative_Variable.apply(LabelEncoder().fit_transform) # label in ascending order\n",
    "Qualitative_Variable.head()"
   ]
  },
  {
   "cell_type": "code",
   "execution_count": 64,
   "id": "95f7f019",
   "metadata": {},
   "outputs": [
    {
     "data": {
      "text/html": [
       "<div>\n",
       "<style scoped>\n",
       "    .dataframe tbody tr th:only-of-type {\n",
       "        vertical-align: middle;\n",
       "    }\n",
       "\n",
       "    .dataframe tbody tr th {\n",
       "        vertical-align: top;\n",
       "    }\n",
       "\n",
       "    .dataframe thead th {\n",
       "        text-align: right;\n",
       "    }\n",
       "</style>\n",
       "<table border=\"1\" class=\"dataframe\">\n",
       "  <thead>\n",
       "    <tr style=\"text-align: right;\">\n",
       "      <th></th>\n",
       "      <th>Species</th>\n",
       "      <th>Weight</th>\n",
       "      <th>Length1</th>\n",
       "      <th>Length2</th>\n",
       "      <th>Length3</th>\n",
       "      <th>Height</th>\n",
       "      <th>Width</th>\n",
       "    </tr>\n",
       "  </thead>\n",
       "  <tbody>\n",
       "    <tr>\n",
       "      <th>0</th>\n",
       "      <td>0</td>\n",
       "      <td>242.0</td>\n",
       "      <td>23.2</td>\n",
       "      <td>25.4</td>\n",
       "      <td>30.0</td>\n",
       "      <td>11.5200</td>\n",
       "      <td>4.0200</td>\n",
       "    </tr>\n",
       "    <tr>\n",
       "      <th>1</th>\n",
       "      <td>0</td>\n",
       "      <td>290.0</td>\n",
       "      <td>24.0</td>\n",
       "      <td>26.3</td>\n",
       "      <td>31.2</td>\n",
       "      <td>12.4800</td>\n",
       "      <td>4.3056</td>\n",
       "    </tr>\n",
       "    <tr>\n",
       "      <th>2</th>\n",
       "      <td>0</td>\n",
       "      <td>340.0</td>\n",
       "      <td>23.9</td>\n",
       "      <td>26.5</td>\n",
       "      <td>31.1</td>\n",
       "      <td>12.3778</td>\n",
       "      <td>4.6961</td>\n",
       "    </tr>\n",
       "    <tr>\n",
       "      <th>3</th>\n",
       "      <td>0</td>\n",
       "      <td>363.0</td>\n",
       "      <td>26.3</td>\n",
       "      <td>29.0</td>\n",
       "      <td>33.5</td>\n",
       "      <td>12.7300</td>\n",
       "      <td>4.4555</td>\n",
       "    </tr>\n",
       "    <tr>\n",
       "      <th>4</th>\n",
       "      <td>0</td>\n",
       "      <td>430.0</td>\n",
       "      <td>26.5</td>\n",
       "      <td>29.0</td>\n",
       "      <td>34.0</td>\n",
       "      <td>12.4440</td>\n",
       "      <td>5.1340</td>\n",
       "    </tr>\n",
       "  </tbody>\n",
       "</table>\n",
       "</div>"
      ],
      "text/plain": [
       "   Species  Weight  Length1  Length2  Length3   Height   Width\n",
       "0        0   242.0     23.2     25.4     30.0  11.5200  4.0200\n",
       "1        0   290.0     24.0     26.3     31.2  12.4800  4.3056\n",
       "2        0   340.0     23.9     26.5     31.1  12.3778  4.6961\n",
       "3        0   363.0     26.3     29.0     33.5  12.7300  4.4555\n",
       "4        0   430.0     26.5     29.0     34.0  12.4440  5.1340"
      ]
     },
     "execution_count": 64,
     "metadata": {},
     "output_type": "execute_result"
    }
   ],
   "source": [
    "Final_combined = pd.concat([Qualitative_Variable, Quantitative_Variable],axis=1)\n",
    "Final_combined.head()"
   ]
  },
  {
   "cell_type": "markdown",
   "id": "5662c9a2",
   "metadata": {},
   "source": [
    "# Step 3 : Splitting the data in Training and Test set\n",
    "* Using sklearn we split 70% of our data into training set and rest in test set.\n",
    "* Setting random_state will give the same training and test set everytime on running the code"
   ]
  },
  {
   "cell_type": "code",
   "execution_count": 67,
   "id": "efd06296",
   "metadata": {},
   "outputs": [
    {
     "data": {
      "text/html": [
       "<div>\n",
       "<style scoped>\n",
       "    .dataframe tbody tr th:only-of-type {\n",
       "        vertical-align: middle;\n",
       "    }\n",
       "\n",
       "    .dataframe tbody tr th {\n",
       "        vertical-align: top;\n",
       "    }\n",
       "\n",
       "    .dataframe thead th {\n",
       "        text-align: right;\n",
       "    }\n",
       "</style>\n",
       "<table border=\"1\" class=\"dataframe\">\n",
       "  <thead>\n",
       "    <tr style=\"text-align: right;\">\n",
       "      <th></th>\n",
       "      <th>Species</th>\n",
       "      <th>Weight</th>\n",
       "      <th>Length1</th>\n",
       "      <th>Length2</th>\n",
       "      <th>Length3</th>\n",
       "      <th>Height</th>\n",
       "      <th>Width</th>\n",
       "    </tr>\n",
       "  </thead>\n",
       "  <tbody>\n",
       "    <tr>\n",
       "      <th>0</th>\n",
       "      <td>0</td>\n",
       "      <td>242.0</td>\n",
       "      <td>23.2</td>\n",
       "      <td>25.4</td>\n",
       "      <td>30.0</td>\n",
       "      <td>11.5200</td>\n",
       "      <td>4.0200</td>\n",
       "    </tr>\n",
       "    <tr>\n",
       "      <th>1</th>\n",
       "      <td>0</td>\n",
       "      <td>290.0</td>\n",
       "      <td>24.0</td>\n",
       "      <td>26.3</td>\n",
       "      <td>31.2</td>\n",
       "      <td>12.4800</td>\n",
       "      <td>4.3056</td>\n",
       "    </tr>\n",
       "    <tr>\n",
       "      <th>2</th>\n",
       "      <td>0</td>\n",
       "      <td>340.0</td>\n",
       "      <td>23.9</td>\n",
       "      <td>26.5</td>\n",
       "      <td>31.1</td>\n",
       "      <td>12.3778</td>\n",
       "      <td>4.6961</td>\n",
       "    </tr>\n",
       "    <tr>\n",
       "      <th>3</th>\n",
       "      <td>0</td>\n",
       "      <td>363.0</td>\n",
       "      <td>26.3</td>\n",
       "      <td>29.0</td>\n",
       "      <td>33.5</td>\n",
       "      <td>12.7300</td>\n",
       "      <td>4.4555</td>\n",
       "    </tr>\n",
       "    <tr>\n",
       "      <th>4</th>\n",
       "      <td>0</td>\n",
       "      <td>430.0</td>\n",
       "      <td>26.5</td>\n",
       "      <td>29.0</td>\n",
       "      <td>34.0</td>\n",
       "      <td>12.4440</td>\n",
       "      <td>5.1340</td>\n",
       "    </tr>\n",
       "  </tbody>\n",
       "</table>\n",
       "</div>"
      ],
      "text/plain": [
       "   Species  Weight  Length1  Length2  Length3   Height   Width\n",
       "0        0   242.0     23.2     25.4     30.0  11.5200  4.0200\n",
       "1        0   290.0     24.0     26.3     31.2  12.4800  4.3056\n",
       "2        0   340.0     23.9     26.5     31.1  12.3778  4.6961\n",
       "3        0   363.0     26.3     29.0     33.5  12.7300  4.4555\n",
       "4        0   430.0     26.5     29.0     34.0  12.4440  5.1340"
      ]
     },
     "execution_count": 67,
     "metadata": {},
     "output_type": "execute_result"
    }
   ],
   "source": [
    "Final_combined.head()"
   ]
  },
  {
   "cell_type": "code",
   "execution_count": 68,
   "id": "1c27f121",
   "metadata": {},
   "outputs": [],
   "source": [
    "# Putting feature variable to X\n",
    "X = Final_combined.drop('Weight', axis= 1)\n",
    "\n",
    "# Putting response variable to y\n",
    "y = Final_combined[['Weight']]\n",
    "\n",
    "#random_state is the seed used by the random number generator. It can be any integer.\n",
    "from sklearn.model_selection import train_test_split\n",
    "X_train, X_test, y_train, y_test =train_test_split(X, y, train_size=0.7 ,random_state=67)"
   ]
  },
  {
   "cell_type": "code",
   "execution_count": 69,
   "id": "c1238271",
   "metadata": {},
   "outputs": [
    {
     "data": {
      "text/html": [
       "<div>\n",
       "<style scoped>\n",
       "    .dataframe tbody tr th:only-of-type {\n",
       "        vertical-align: middle;\n",
       "    }\n",
       "\n",
       "    .dataframe tbody tr th {\n",
       "        vertical-align: top;\n",
       "    }\n",
       "\n",
       "    .dataframe thead th {\n",
       "        text-align: right;\n",
       "    }\n",
       "</style>\n",
       "<table border=\"1\" class=\"dataframe\">\n",
       "  <thead>\n",
       "    <tr style=\"text-align: right;\">\n",
       "      <th></th>\n",
       "      <th>Weight</th>\n",
       "      <th>Species</th>\n",
       "      <th>Length1</th>\n",
       "      <th>Length2</th>\n",
       "      <th>Length3</th>\n",
       "      <th>Height</th>\n",
       "      <th>Width</th>\n",
       "    </tr>\n",
       "  </thead>\n",
       "  <tbody>\n",
       "    <tr>\n",
       "      <th>51</th>\n",
       "      <td>180.0</td>\n",
       "      <td>4</td>\n",
       "      <td>23.6</td>\n",
       "      <td>25.2</td>\n",
       "      <td>27.9</td>\n",
       "      <td>7.0866</td>\n",
       "      <td>3.9060</td>\n",
       "    </tr>\n",
       "    <tr>\n",
       "      <th>3</th>\n",
       "      <td>363.0</td>\n",
       "      <td>0</td>\n",
       "      <td>26.3</td>\n",
       "      <td>29.0</td>\n",
       "      <td>33.5</td>\n",
       "      <td>12.7300</td>\n",
       "      <td>4.4555</td>\n",
       "    </tr>\n",
       "    <tr>\n",
       "      <th>133</th>\n",
       "      <td>345.0</td>\n",
       "      <td>3</td>\n",
       "      <td>36.0</td>\n",
       "      <td>38.5</td>\n",
       "      <td>41.0</td>\n",
       "      <td>6.3960</td>\n",
       "      <td>3.9770</td>\n",
       "    </tr>\n",
       "    <tr>\n",
       "      <th>103</th>\n",
       "      <td>260.0</td>\n",
       "      <td>2</td>\n",
       "      <td>25.4</td>\n",
       "      <td>27.5</td>\n",
       "      <td>28.9</td>\n",
       "      <td>7.1672</td>\n",
       "      <td>4.3350</td>\n",
       "    </tr>\n",
       "    <tr>\n",
       "      <th>123</th>\n",
       "      <td>1100.0</td>\n",
       "      <td>2</td>\n",
       "      <td>39.0</td>\n",
       "      <td>42.0</td>\n",
       "      <td>44.6</td>\n",
       "      <td>12.8002</td>\n",
       "      <td>6.8684</td>\n",
       "    </tr>\n",
       "  </tbody>\n",
       "</table>\n",
       "</div>"
      ],
      "text/plain": [
       "     Weight  Species  Length1  Length2  Length3   Height   Width\n",
       "51    180.0        4     23.6     25.2     27.9   7.0866  3.9060\n",
       "3     363.0        0     26.3     29.0     33.5  12.7300  4.4555\n",
       "133   345.0        3     36.0     38.5     41.0   6.3960  3.9770\n",
       "103   260.0        2     25.4     27.5     28.9   7.1672  4.3350\n",
       "123  1100.0        2     39.0     42.0     44.6  12.8002  6.8684"
      ]
     },
     "execution_count": 69,
     "metadata": {},
     "output_type": "execute_result"
    }
   ],
   "source": [
    "df = pd.concat([y_train, X_train], axis=1)\n",
    "df.head()"
   ]
  },
  {
   "cell_type": "markdown",
   "id": "fbbcc3ca",
   "metadata": {},
   "source": [
    "# Correlation Matrix"
   ]
  },
  {
   "cell_type": "code",
   "execution_count": 70,
   "id": "73921b7a",
   "metadata": {},
   "outputs": [
    {
     "data": {
      "text/html": [
       "<div>\n",
       "<style scoped>\n",
       "    .dataframe tbody tr th:only-of-type {\n",
       "        vertical-align: middle;\n",
       "    }\n",
       "\n",
       "    .dataframe tbody tr th {\n",
       "        vertical-align: top;\n",
       "    }\n",
       "\n",
       "    .dataframe thead th {\n",
       "        text-align: right;\n",
       "    }\n",
       "</style>\n",
       "<table border=\"1\" class=\"dataframe\">\n",
       "  <thead>\n",
       "    <tr style=\"text-align: right;\">\n",
       "      <th></th>\n",
       "      <th>Weight</th>\n",
       "      <th>Species</th>\n",
       "      <th>Length1</th>\n",
       "      <th>Length2</th>\n",
       "      <th>Length3</th>\n",
       "      <th>Height</th>\n",
       "      <th>Width</th>\n",
       "    </tr>\n",
       "  </thead>\n",
       "  <tbody>\n",
       "    <tr>\n",
       "      <th>Weight</th>\n",
       "      <td>1.000000</td>\n",
       "      <td>-0.312609</td>\n",
       "      <td>0.908870</td>\n",
       "      <td>0.913044</td>\n",
       "      <td>0.923009</td>\n",
       "      <td>0.729114</td>\n",
       "      <td>0.882609</td>\n",
       "    </tr>\n",
       "    <tr>\n",
       "      <th>Species</th>\n",
       "      <td>-0.312609</td>\n",
       "      <td>1.000000</td>\n",
       "      <td>-0.272869</td>\n",
       "      <td>-0.289734</td>\n",
       "      <td>-0.330337</td>\n",
       "      <td>-0.691296</td>\n",
       "      <td>-0.400183</td>\n",
       "    </tr>\n",
       "    <tr>\n",
       "      <th>Length1</th>\n",
       "      <td>0.908870</td>\n",
       "      <td>-0.272869</td>\n",
       "      <td>1.000000</td>\n",
       "      <td>0.999515</td>\n",
       "      <td>0.992473</td>\n",
       "      <td>0.609953</td>\n",
       "      <td>0.856752</td>\n",
       "    </tr>\n",
       "    <tr>\n",
       "      <th>Length2</th>\n",
       "      <td>0.913044</td>\n",
       "      <td>-0.289734</td>\n",
       "      <td>0.999515</td>\n",
       "      <td>1.000000</td>\n",
       "      <td>0.994447</td>\n",
       "      <td>0.625662</td>\n",
       "      <td>0.864353</td>\n",
       "    </tr>\n",
       "    <tr>\n",
       "      <th>Length3</th>\n",
       "      <td>0.923009</td>\n",
       "      <td>-0.330337</td>\n",
       "      <td>0.992473</td>\n",
       "      <td>0.994447</td>\n",
       "      <td>1.000000</td>\n",
       "      <td>0.676953</td>\n",
       "      <td>0.863707</td>\n",
       "    </tr>\n",
       "    <tr>\n",
       "      <th>Height</th>\n",
       "      <td>0.729114</td>\n",
       "      <td>-0.691296</td>\n",
       "      <td>0.609953</td>\n",
       "      <td>0.625662</td>\n",
       "      <td>0.676953</td>\n",
       "      <td>1.000000</td>\n",
       "      <td>0.792840</td>\n",
       "    </tr>\n",
       "    <tr>\n",
       "      <th>Width</th>\n",
       "      <td>0.882609</td>\n",
       "      <td>-0.400183</td>\n",
       "      <td>0.856752</td>\n",
       "      <td>0.864353</td>\n",
       "      <td>0.863707</td>\n",
       "      <td>0.792840</td>\n",
       "      <td>1.000000</td>\n",
       "    </tr>\n",
       "  </tbody>\n",
       "</table>\n",
       "</div>"
      ],
      "text/plain": [
       "           Weight   Species   Length1   Length2   Length3    Height     Width\n",
       "Weight   1.000000 -0.312609  0.908870  0.913044  0.923009  0.729114  0.882609\n",
       "Species -0.312609  1.000000 -0.272869 -0.289734 -0.330337 -0.691296 -0.400183\n",
       "Length1  0.908870 -0.272869  1.000000  0.999515  0.992473  0.609953  0.856752\n",
       "Length2  0.913044 -0.289734  0.999515  1.000000  0.994447  0.625662  0.864353\n",
       "Length3  0.923009 -0.330337  0.992473  0.994447  1.000000  0.676953  0.863707\n",
       "Height   0.729114 -0.691296  0.609953  0.625662  0.676953  1.000000  0.792840\n",
       "Width    0.882609 -0.400183  0.856752  0.864353  0.863707  0.792840  1.000000"
      ]
     },
     "execution_count": 70,
     "metadata": {},
     "output_type": "execute_result"
    }
   ],
   "source": [
    "df.corr()"
   ]
  },
  {
   "cell_type": "code",
   "execution_count": 71,
   "id": "2dfa8e6a",
   "metadata": {},
   "outputs": [
    {
     "data": {
      "text/plain": [
       "<AxesSubplot:>"
      ]
     },
     "execution_count": 71,
     "metadata": {},
     "output_type": "execute_result"
    },
    {
     "data": {
      "image/png": "[encoded data removed]",
      "text/plain": [
       "<Figure size 640x480 with 2 Axes>"
      ]
     },
     "metadata": {},
     "output_type": "display_data"
    }
   ],
   "source": [
    "sns.heatmap(df.corr(),annot = True)"
   ]
  },
  {
   "cell_type": "markdown",
   "id": "cac49191",
   "metadata": {},
   "source": [
    "* by using correlation and heatmap we can say that there is multicolinearity"
   ]
  },
  {
   "cell_type": "markdown",
   "id": "a86c235d",
   "metadata": {},
   "source": [
    "### Multicolinearity (with the help of VIF)"
   ]
  },
  {
   "cell_type": "code",
   "execution_count": 73,
   "id": "6f6f73e7",
   "metadata": {},
   "outputs": [
    {
     "data": {
      "text/plain": [
       "Species        2.701984\n",
       "Length1    14626.987999\n",
       "Length2    19630.651366\n",
       "Length3     2317.604763\n",
       "Height        55.645287\n",
       "Width        103.503685\n",
       "dtype: float64"
      ]
     },
     "execution_count": 73,
     "metadata": {},
     "output_type": "execute_result"
    }
   ],
   "source": [
    "X1=df.drop(['Weight'],axis=1)\n",
    "series_before = pd.Series([variance_inflation_factor(X1.values, i) \n",
    "                           for i in range(X1.shape[1])],  # i=0,1,2\n",
    "                          index=X1.columns)  # column name\n",
    "series_before"
   ]
  },
  {
   "cell_type": "code",
   "execution_count": 74,
   "id": "0e50ff8c",
   "metadata": {},
   "outputs": [
    {
     "data": {
      "text/plain": [
       "Species       2.630990\n",
       "Length1    1741.440874\n",
       "Length3    1767.297548\n",
       "Height       54.769193\n",
       "Width        85.118671\n",
       "dtype: float64"
      ]
     },
     "execution_count": 74,
     "metadata": {},
     "output_type": "execute_result"
    }
   ],
   "source": [
    "X1=df.drop(['Weight','Length2'],axis=1)\n",
    "series_before = pd.Series([variance_inflation_factor(X1.values, i) \n",
    "                           for i in range(X1.shape[1])],  # i=0,1,2\n",
    "                          index=X1.columns)  # column name\n",
    "series_before"
   ]
  },
  {
   "cell_type": "code",
   "execution_count": 75,
   "id": "227c4617",
   "metadata": {},
   "outputs": [
    {
     "data": {
      "text/plain": [
       "Species     2.574971\n",
       "Length1    31.813708\n",
       "Height     20.009222\n",
       "Width      58.784866\n",
       "dtype: float64"
      ]
     },
     "execution_count": 75,
     "metadata": {},
     "output_type": "execute_result"
    }
   ],
   "source": [
    "X1=df.drop(['Weight','Length2','Length3'],axis=1)\n",
    "series_before = pd.Series([variance_inflation_factor(X1.values, i) \n",
    "                           for i in range(X1.shape[1])],  # i=0,1,2\n",
    "                          index=X1.columns)  # column name\n",
    "series_before"
   ]
  },
  {
   "cell_type": "code",
   "execution_count": 76,
   "id": "5e73a0a5",
   "metadata": {},
   "outputs": [
    {
     "data": {
      "text/plain": [
       "Species     2.373571\n",
       "Length1    13.667559\n",
       "Height     10.049121\n",
       "dtype: float64"
      ]
     },
     "execution_count": 76,
     "metadata": {},
     "output_type": "execute_result"
    }
   ],
   "source": [
    "X1=df.drop(['Weight','Width','Length3','Length2'],axis=1)\n",
    "series_before = pd.Series([variance_inflation_factor(X1.values, i) \n",
    "                           for i in range(X1.shape[1])],  # i=0,1,2\n",
    "                          index=X1.columns)  # column name\n",
    "series_before"
   ]
  },
  {
   "cell_type": "code",
   "execution_count": 77,
   "id": "3780efec",
   "metadata": {},
   "outputs": [
    {
     "data": {
      "text/plain": [
       "Length1    8.329817\n",
       "Height     8.329817\n",
       "dtype: float64"
      ]
     },
     "execution_count": 77,
     "metadata": {},
     "output_type": "execute_result"
    }
   ],
   "source": [
    "X1=df.drop(['Weight','Species','Length2','Width','Length3'],axis=1)\n",
    "series_before = pd.Series([variance_inflation_factor(X1.values, i) \n",
    "                           for i in range(X1.shape[1])],  # i=0,1,2\n",
    "                          index=X1.columns)  # column name\n",
    "series_before"
   ]
  },
  {
   "cell_type": "markdown",
   "id": "50e3d1c2",
   "metadata": {},
   "source": [
    "* so after using VIF we can say that Length1 and height have linear relationship with Length1 and Height"
   ]
  },
  {
   "cell_type": "markdown",
   "id": "e7dacef2",
   "metadata": {},
   "source": [
    "# Model Building"
   ]
  },
  {
   "cell_type": "markdown",
   "id": "9500ee56",
   "metadata": {},
   "source": [
    "*  H0 :- There is no Linear relationship between weight and length1, height\n",
    "\n",
    "* Vs \n",
    "\n",
    "*  H1 :- There is a Linear relationship between weight and length1, height\n",
    "\n",
    "Alpha = 0.05 (5%)"
   ]
  },
  {
   "cell_type": "code",
   "execution_count": 78,
   "id": "2e7dc7e2",
   "metadata": {},
   "outputs": [
    {
     "data": {
      "text/html": [
       "<table class=\"simpletable\">\n",
       "<caption>OLS Regression Results</caption>\n",
       "<tr>\n",
       "  <th>Dep. Variable:</th>         <td>Weight</td>      <th>  R-squared:         </th> <td>   0.875</td>\n",
       "</tr>\n",
       "<tr>\n",
       "  <th>Model:</th>                   <td>OLS</td>       <th>  Adj. R-squared:    </th> <td>   0.872</td>\n",
       "</tr>\n",
       "<tr>\n",
       "  <th>Method:</th>             <td>Least Squares</td>  <th>  F-statistic:       </th> <td>   376.9</td>\n",
       "</tr>\n",
       "<tr>\n",
       "  <th>Date:</th>             <td>Tue, 13 Dec 2022</td> <th>  Prob (F-statistic):</th> <td>1.97e-49</td>\n",
       "</tr>\n",
       "<tr>\n",
       "  <th>Time:</th>                 <td>13:07:50</td>     <th>  Log-Likelihood:    </th> <td> -693.76</td>\n",
       "</tr>\n",
       "<tr>\n",
       "  <th>No. Observations:</th>      <td>   111</td>      <th>  AIC:               </th> <td>   1394.</td>\n",
       "</tr>\n",
       "<tr>\n",
       "  <th>Df Residuals:</th>          <td>   108</td>      <th>  BIC:               </th> <td>   1402.</td>\n",
       "</tr>\n",
       "<tr>\n",
       "  <th>Df Model:</th>              <td>     2</td>      <th>                     </th>     <td> </td>   \n",
       "</tr>\n",
       "<tr>\n",
       "  <th>Covariance Type:</th>      <td>nonrobust</td>    <th>                     </th>     <td> </td>   \n",
       "</tr>\n",
       "</table>\n",
       "<table class=\"simpletable\">\n",
       "<tr>\n",
       "      <td></td>         <th>coef</th>     <th>std err</th>      <th>t</th>      <th>P>|t|</th>  <th>[0.025</th>    <th>0.975]</th>  \n",
       "</tr>\n",
       "<tr>\n",
       "  <th>Intercept</th> <td> -499.9604</td> <td>   35.349</td> <td>  -14.143</td> <td> 0.000</td> <td> -570.029</td> <td> -429.892</td>\n",
       "</tr>\n",
       "<tr>\n",
       "  <th>Length1</th>   <td>   26.2143</td> <td>    1.525</td> <td>   17.194</td> <td> 0.000</td> <td>   23.192</td> <td>   29.236</td>\n",
       "</tr>\n",
       "<tr>\n",
       "  <th>Height</th>    <td>   23.0485</td> <td>    3.560</td> <td>    6.473</td> <td> 0.000</td> <td>   15.991</td> <td>   30.106</td>\n",
       "</tr>\n",
       "</table>\n",
       "<table class=\"simpletable\">\n",
       "<tr>\n",
       "  <th>Omnibus:</th>       <td> 3.904</td> <th>  Durbin-Watson:     </th> <td>   1.689</td>\n",
       "</tr>\n",
       "<tr>\n",
       "  <th>Prob(Omnibus):</th> <td> 0.142</td> <th>  Jarque-Bera (JB):  </th> <td>   3.481</td>\n",
       "</tr>\n",
       "<tr>\n",
       "  <th>Skew:</th>          <td> 0.429</td> <th>  Prob(JB):          </th> <td>   0.175</td>\n",
       "</tr>\n",
       "<tr>\n",
       "  <th>Kurtosis:</th>      <td> 3.128</td> <th>  Cond. No.          </th> <td>    88.5</td>\n",
       "</tr>\n",
       "</table><br/><br/>Notes:<br/>[1] Standard Errors assume that the covariance matrix of the errors is correctly specified."
      ],
      "text/plain": [
       "<class 'statsmodels.iolib.summary.Summary'>\n",
       "\"\"\"\n",
       "                            OLS Regression Results                            \n",
       "==============================================================================\n",
       "Dep. Variable:                 Weight   R-squared:                       0.875\n",
       "Model:                            OLS   Adj. R-squared:                  0.872\n",
       "Method:                 Least Squares   F-statistic:                     376.9\n",
       "Date:                Tue, 13 Dec 2022   Prob (F-statistic):           1.97e-49\n",
       "Time:                        13:07:50   Log-Likelihood:                -693.76\n",
       "No. Observations:                 111   AIC:                             1394.\n",
       "Df Residuals:                     108   BIC:                             1402.\n",
       "Df Model:                           2                                         \n",
       "Covariance Type:            nonrobust                                         \n",
       "==============================================================================\n",
       "                 coef    std err          t      P>|t|      [0.025      0.975]\n",
       "------------------------------------------------------------------------------\n",
       "Intercept   -499.9604     35.349    -14.143      0.000    -570.029    -429.892\n",
       "Length1       26.2143      1.525     17.194      0.000      23.192      29.236\n",
       "Height        23.0485      3.560      6.473      0.000      15.991      30.106\n",
       "==============================================================================\n",
       "Omnibus:                        3.904   Durbin-Watson:                   1.689\n",
       "Prob(Omnibus):                  0.142   Jarque-Bera (JB):                3.481\n",
       "Skew:                           0.429   Prob(JB):                        0.175\n",
       "Kurtosis:                       3.128   Cond. No.                         88.5\n",
       "==============================================================================\n",
       "\n",
       "Notes:\n",
       "[1] Standard Errors assume that the covariance matrix of the errors is correctly specified.\n",
       "\"\"\""
      ]
     },
     "execution_count": 78,
     "metadata": {},
     "output_type": "execute_result"
    }
   ],
   "source": [
    "import statsmodels.formula.api as smf\n",
    "model = smf.ols('Weight ~ Length1 + Height',data=df).fit()\n",
    "model.summary()"
   ]
  },
  {
   "cell_type": "markdown",
   "id": "f3e56c33",
   "metadata": {},
   "source": [
    "* There is Linear relationship between Weight and Lenght1 and Height\n",
    "* 87.5% is accuracy of model , so we say model is good fit "
   ]
  },
  {
   "cell_type": "markdown",
   "id": "38490a2d",
   "metadata": {},
   "source": [
    "# Assumption of Model\n",
    "\n",
    "* Linearity\n",
    "* Normality\n",
    "* Homoscedasicity\n",
    "* Model Error has to be independently identificaly Distibuted"
   ]
  },
  {
   "cell_type": "code",
   "execution_count": 79,
   "id": "6490fac7",
   "metadata": {},
   "outputs": [
    {
     "data": {
      "text/html": [
       "<div>\n",
       "<style scoped>\n",
       "    .dataframe tbody tr th:only-of-type {\n",
       "        vertical-align: middle;\n",
       "    }\n",
       "\n",
       "    .dataframe tbody tr th {\n",
       "        vertical-align: top;\n",
       "    }\n",
       "\n",
       "    .dataframe thead th {\n",
       "        text-align: right;\n",
       "    }\n",
       "</style>\n",
       "<table border=\"1\" class=\"dataframe\">\n",
       "  <thead>\n",
       "    <tr style=\"text-align: right;\">\n",
       "      <th></th>\n",
       "      <th>Weight</th>\n",
       "      <th>Species</th>\n",
       "      <th>Length1</th>\n",
       "      <th>Length2</th>\n",
       "      <th>Length3</th>\n",
       "      <th>Height</th>\n",
       "      <th>Width</th>\n",
       "    </tr>\n",
       "  </thead>\n",
       "  <tbody>\n",
       "    <tr>\n",
       "      <th>51</th>\n",
       "      <td>180.0</td>\n",
       "      <td>4</td>\n",
       "      <td>23.6</td>\n",
       "      <td>25.2</td>\n",
       "      <td>27.9</td>\n",
       "      <td>7.0866</td>\n",
       "      <td>3.9060</td>\n",
       "    </tr>\n",
       "    <tr>\n",
       "      <th>3</th>\n",
       "      <td>363.0</td>\n",
       "      <td>0</td>\n",
       "      <td>26.3</td>\n",
       "      <td>29.0</td>\n",
       "      <td>33.5</td>\n",
       "      <td>12.7300</td>\n",
       "      <td>4.4555</td>\n",
       "    </tr>\n",
       "    <tr>\n",
       "      <th>133</th>\n",
       "      <td>345.0</td>\n",
       "      <td>3</td>\n",
       "      <td>36.0</td>\n",
       "      <td>38.5</td>\n",
       "      <td>41.0</td>\n",
       "      <td>6.3960</td>\n",
       "      <td>3.9770</td>\n",
       "    </tr>\n",
       "    <tr>\n",
       "      <th>103</th>\n",
       "      <td>260.0</td>\n",
       "      <td>2</td>\n",
       "      <td>25.4</td>\n",
       "      <td>27.5</td>\n",
       "      <td>28.9</td>\n",
       "      <td>7.1672</td>\n",
       "      <td>4.3350</td>\n",
       "    </tr>\n",
       "    <tr>\n",
       "      <th>123</th>\n",
       "      <td>1100.0</td>\n",
       "      <td>2</td>\n",
       "      <td>39.0</td>\n",
       "      <td>42.0</td>\n",
       "      <td>44.6</td>\n",
       "      <td>12.8002</td>\n",
       "      <td>6.8684</td>\n",
       "    </tr>\n",
       "  </tbody>\n",
       "</table>\n",
       "</div>"
      ],
      "text/plain": [
       "     Weight  Species  Length1  Length2  Length3   Height   Width\n",
       "51    180.0        4     23.6     25.2     27.9   7.0866  3.9060\n",
       "3     363.0        0     26.3     29.0     33.5  12.7300  4.4555\n",
       "133   345.0        3     36.0     38.5     41.0   6.3960  3.9770\n",
       "103   260.0        2     25.4     27.5     28.9   7.1672  4.3350\n",
       "123  1100.0        2     39.0     42.0     44.6  12.8002  6.8684"
      ]
     },
     "execution_count": 79,
     "metadata": {},
     "output_type": "execute_result"
    }
   ],
   "source": [
    "df.head()"
   ]
  },
  {
   "cell_type": "code",
   "execution_count": 80,
   "id": "21d4e983",
   "metadata": {},
   "outputs": [
    {
     "data": {
      "text/plain": [
       "282.0325801000001"
      ]
     },
     "execution_count": 80,
     "metadata": {},
     "output_type": "execute_result"
    }
   ],
   "source": [
    "# Y = intercet + b1 * Length1 + b2 * Height\n",
    "Y = -499.9604 + 26.2143 * 23.6 + 23.0485 * 7.0866\n",
    "Y"
   ]
  },
  {
   "cell_type": "code",
   "execution_count": 81,
   "id": "fc6657ca",
   "metadata": {},
   "outputs": [
    {
     "data": {
      "text/html": [
       "<div>\n",
       "<style scoped>\n",
       "    .dataframe tbody tr th:only-of-type {\n",
       "        vertical-align: middle;\n",
       "    }\n",
       "\n",
       "    .dataframe tbody tr th {\n",
       "        vertical-align: top;\n",
       "    }\n",
       "\n",
       "    .dataframe thead th {\n",
       "        text-align: right;\n",
       "    }\n",
       "</style>\n",
       "<table border=\"1\" class=\"dataframe\">\n",
       "  <thead>\n",
       "    <tr style=\"text-align: right;\">\n",
       "      <th></th>\n",
       "      <th>Weight</th>\n",
       "      <th>Species</th>\n",
       "      <th>Length1</th>\n",
       "      <th>Length2</th>\n",
       "      <th>Length3</th>\n",
       "      <th>Height</th>\n",
       "      <th>Width</th>\n",
       "      <th>fitted_value</th>\n",
       "      <th>residual</th>\n",
       "    </tr>\n",
       "  </thead>\n",
       "  <tbody>\n",
       "    <tr>\n",
       "      <th>51</th>\n",
       "      <td>180.0</td>\n",
       "      <td>4</td>\n",
       "      <td>23.6</td>\n",
       "      <td>25.2</td>\n",
       "      <td>27.9</td>\n",
       "      <td>7.0866</td>\n",
       "      <td>3.9060</td>\n",
       "      <td>282.031530</td>\n",
       "      <td>-102.031530</td>\n",
       "    </tr>\n",
       "    <tr>\n",
       "      <th>3</th>\n",
       "      <td>363.0</td>\n",
       "      <td>0</td>\n",
       "      <td>26.3</td>\n",
       "      <td>29.0</td>\n",
       "      <td>33.5</td>\n",
       "      <td>12.7300</td>\n",
       "      <td>4.4555</td>\n",
       "      <td>482.881844</td>\n",
       "      <td>-119.881844</td>\n",
       "    </tr>\n",
       "    <tr>\n",
       "      <th>133</th>\n",
       "      <td>345.0</td>\n",
       "      <td>3</td>\n",
       "      <td>36.0</td>\n",
       "      <td>38.5</td>\n",
       "      <td>41.0</td>\n",
       "      <td>6.3960</td>\n",
       "      <td>3.9770</td>\n",
       "      <td>591.171098</td>\n",
       "      <td>-246.171098</td>\n",
       "    </tr>\n",
       "    <tr>\n",
       "      <th>103</th>\n",
       "      <td>260.0</td>\n",
       "      <td>2</td>\n",
       "      <td>25.4</td>\n",
       "      <td>27.5</td>\n",
       "      <td>28.9</td>\n",
       "      <td>7.1672</td>\n",
       "      <td>4.3350</td>\n",
       "      <td>331.074909</td>\n",
       "      <td>-71.074909</td>\n",
       "    </tr>\n",
       "    <tr>\n",
       "      <th>123</th>\n",
       "      <td>1100.0</td>\n",
       "      <td>2</td>\n",
       "      <td>39.0</td>\n",
       "      <td>42.0</td>\n",
       "      <td>44.6</td>\n",
       "      <td>12.8002</td>\n",
       "      <td>6.8684</td>\n",
       "      <td>817.420976</td>\n",
       "      <td>282.579024</td>\n",
       "    </tr>\n",
       "  </tbody>\n",
       "</table>\n",
       "</div>"
      ],
      "text/plain": [
       "     Weight  Species  Length1  Length2  Length3   Height   Width  \\\n",
       "51    180.0        4     23.6     25.2     27.9   7.0866  3.9060   \n",
       "3     363.0        0     26.3     29.0     33.5  12.7300  4.4555   \n",
       "133   345.0        3     36.0     38.5     41.0   6.3960  3.9770   \n",
       "103   260.0        2     25.4     27.5     28.9   7.1672  4.3350   \n",
       "123  1100.0        2     39.0     42.0     44.6  12.8002  6.8684   \n",
       "\n",
       "     fitted_value    residual  \n",
       "51     282.031530 -102.031530  \n",
       "3      482.881844 -119.881844  \n",
       "133    591.171098 -246.171098  \n",
       "103    331.074909  -71.074909  \n",
       "123    817.420976  282.579024  "
      ]
     },
     "execution_count": 81,
     "metadata": {},
     "output_type": "execute_result"
    }
   ],
   "source": [
    "df['fitted_value']=model.fittedvalues #Predicted Value\n",
    "df['residual']=model.resid  #Error\n",
    "df.head()"
   ]
  },
  {
   "cell_type": "markdown",
   "id": "de7be1a0",
   "metadata": {},
   "source": [
    "# Linearity"
   ]
  },
  {
   "cell_type": "code",
   "execution_count": 83,
   "id": "793d0ebd",
   "metadata": {},
   "outputs": [
    {
     "data": {
      "text/plain": [
       "<AxesSubplot:title={'center':'weight vs length1'}, xlabel='Length1', ylabel='Weight'>"
      ]
     },
     "execution_count": 83,
     "metadata": {},
     "output_type": "execute_result"
    },
    {
     "data": {
      "image/png": "[encoded data removed]",
      "text/plain": [
       "<Figure size 640x480 with 1 Axes>"
      ]
     },
     "metadata": {},
     "output_type": "display_data"
    }
   ],
   "source": [
    "df.plot.scatter(x='Length1', y='Weight', title='weight vs length1')"
   ]
  },
  {
   "cell_type": "code",
   "execution_count": 84,
   "id": "4bd28b5a",
   "metadata": {},
   "outputs": [
    {
     "data": {
      "text/plain": [
       "<AxesSubplot:title={'center':'weight vs height'}, xlabel='Height', ylabel='Weight'>"
      ]
     },
     "execution_count": 84,
     "metadata": {},
     "output_type": "execute_result"
    },
    {
     "data": {
      "image/png": "[encoded data removed]",
      "text/plain": [
       "<Figure size 640x480 with 1 Axes>"
      ]
     },
     "metadata": {},
     "output_type": "display_data"
    }
   ],
   "source": [
    "df.plot.scatter(x='Height', y='Weight', title='weight vs height')"
   ]
  },
  {
   "cell_type": "markdown",
   "id": "7a24379f",
   "metadata": {},
   "source": [
    "# Homoscedasicity"
   ]
  },
  {
   "cell_type": "code",
   "execution_count": 85,
   "id": "b270ee25",
   "metadata": {},
   "outputs": [
    {
     "data": {
      "text/plain": [
       "<AxesSubplot:xlabel='fitted_value', ylabel='residual'>"
      ]
     },
     "execution_count": 85,
     "metadata": {},
     "output_type": "execute_result"
    },
    {
     "data": {
      "image/png": "[encoded data removed]",
      "text/plain": [
       "<Figure size 640x480 with 1 Axes>"
      ]
     },
     "metadata": {},
     "output_type": "display_data"
    }
   ],
   "source": [
    "sns.scatterplot(x='fitted_value', y='residual',data=df)"
   ]
  },
  {
   "cell_type": "markdown",
   "id": "af10563e",
   "metadata": {},
   "source": [
    "# Normality"
   ]
  },
  {
   "cell_type": "code",
   "execution_count": 86,
   "id": "194155b2",
   "metadata": {},
   "outputs": [
    {
     "data": {
      "image/png": "[encoded data removed]",
      "text/plain": [
       "<Figure size 640x480 with 1 Axes>"
      ]
     },
     "metadata": {},
     "output_type": "display_data"
    }
   ],
   "source": [
    "import statsmodels.api as sm\n",
    "fig = sm.qqplot(df['residual'], fit=True, line='s') # s indicate standardized line\n",
    "plt.show()"
   ]
  },
  {
   "cell_type": "markdown",
   "id": "9747f694",
   "metadata": {},
   "source": [
    "# Model Error are IID "
   ]
  },
  {
   "cell_type": "code",
   "execution_count": 87,
   "id": "d5de13a6",
   "metadata": {},
   "outputs": [
    {
     "data": {
      "text/plain": [
       "<AxesSubplot:ylabel='Frequency'>"
      ]
     },
     "execution_count": 87,
     "metadata": {},
     "output_type": "execute_result"
    },
    {
     "data": {
      "image/png": "[encoded data removed]",
      "text/plain": [
       "<Figure size 640x480 with 1 Axes>"
      ]
     },
     "metadata": {},
     "output_type": "display_data"
    }
   ],
   "source": [
    "df['residual'].plot.hist()"
   ]
  },
  {
   "cell_type": "markdown",
   "id": "fb82fa04",
   "metadata": {},
   "source": [
    "* We can say that all the assumption are true"
   ]
  },
  {
   "cell_type": "markdown",
   "id": "6eff064a",
   "metadata": {},
   "source": [
    "# Prediction on Test Data (unseen data)"
   ]
  },
  {
   "cell_type": "code",
   "execution_count": 88,
   "id": "14fda8b6",
   "metadata": {},
   "outputs": [
    {
     "data": {
      "text/html": [
       "<div>\n",
       "<style scoped>\n",
       "    .dataframe tbody tr th:only-of-type {\n",
       "        vertical-align: middle;\n",
       "    }\n",
       "\n",
       "    .dataframe tbody tr th {\n",
       "        vertical-align: top;\n",
       "    }\n",
       "\n",
       "    .dataframe thead th {\n",
       "        text-align: right;\n",
       "    }\n",
       "</style>\n",
       "<table border=\"1\" class=\"dataframe\">\n",
       "  <thead>\n",
       "    <tr style=\"text-align: right;\">\n",
       "      <th></th>\n",
       "      <th>Species</th>\n",
       "      <th>Length1</th>\n",
       "      <th>Length2</th>\n",
       "      <th>Length3</th>\n",
       "      <th>Height</th>\n",
       "      <th>Width</th>\n",
       "      <th>Weight</th>\n",
       "    </tr>\n",
       "  </thead>\n",
       "  <tbody>\n",
       "    <tr>\n",
       "      <th>86</th>\n",
       "      <td>2</td>\n",
       "      <td>20.0</td>\n",
       "      <td>22.0</td>\n",
       "      <td>23.5</td>\n",
       "      <td>6.1100</td>\n",
       "      <td>3.4075</td>\n",
       "      <td>120.0</td>\n",
       "    </tr>\n",
       "    <tr>\n",
       "      <th>116</th>\n",
       "      <td>2</td>\n",
       "      <td>36.5</td>\n",
       "      <td>39.0</td>\n",
       "      <td>41.4</td>\n",
       "      <td>11.1366</td>\n",
       "      <td>7.4934</td>\n",
       "      <td>900.0</td>\n",
       "    </tr>\n",
       "    <tr>\n",
       "      <th>79</th>\n",
       "      <td>2</td>\n",
       "      <td>17.2</td>\n",
       "      <td>19.0</td>\n",
       "      <td>20.2</td>\n",
       "      <td>5.6358</td>\n",
       "      <td>3.0502</td>\n",
       "      <td>80.0</td>\n",
       "    </tr>\n",
       "    <tr>\n",
       "      <th>140</th>\n",
       "      <td>3</td>\n",
       "      <td>48.3</td>\n",
       "      <td>51.7</td>\n",
       "      <td>55.1</td>\n",
       "      <td>8.9262</td>\n",
       "      <td>6.1712</td>\n",
       "      <td>950.0</td>\n",
       "    </tr>\n",
       "    <tr>\n",
       "      <th>71</th>\n",
       "      <td>1</td>\n",
       "      <td>24.0</td>\n",
       "      <td>26.0</td>\n",
       "      <td>29.0</td>\n",
       "      <td>11.3680</td>\n",
       "      <td>4.2340</td>\n",
       "      <td>300.0</td>\n",
       "    </tr>\n",
       "  </tbody>\n",
       "</table>\n",
       "</div>"
      ],
      "text/plain": [
       "     Species  Length1  Length2  Length3   Height   Width  Weight\n",
       "86         2     20.0     22.0     23.5   6.1100  3.4075   120.0\n",
       "116        2     36.5     39.0     41.4  11.1366  7.4934   900.0\n",
       "79         2     17.2     19.0     20.2   5.6358  3.0502    80.0\n",
       "140        3     48.3     51.7     55.1   8.9262  6.1712   950.0\n",
       "71         1     24.0     26.0     29.0  11.3680  4.2340   300.0"
      ]
     },
     "execution_count": 88,
     "metadata": {},
     "output_type": "execute_result"
    }
   ],
   "source": [
    "df_test=pd.concat([X_test,y_test],axis=1)\n",
    "\n",
    "df_test.head()"
   ]
  },
  {
   "cell_type": "code",
   "execution_count": 89,
   "id": "6018017a",
   "metadata": {},
   "outputs": [
    {
     "data": {
      "text/html": [
       "<div>\n",
       "<style scoped>\n",
       "    .dataframe tbody tr th:only-of-type {\n",
       "        vertical-align: middle;\n",
       "    }\n",
       "\n",
       "    .dataframe tbody tr th {\n",
       "        vertical-align: top;\n",
       "    }\n",
       "\n",
       "    .dataframe thead th {\n",
       "        text-align: right;\n",
       "    }\n",
       "</style>\n",
       "<table border=\"1\" class=\"dataframe\">\n",
       "  <thead>\n",
       "    <tr style=\"text-align: right;\">\n",
       "      <th></th>\n",
       "      <th>Species</th>\n",
       "      <th>Length1</th>\n",
       "      <th>Length2</th>\n",
       "      <th>Length3</th>\n",
       "      <th>Height</th>\n",
       "      <th>Width</th>\n",
       "      <th>Weight</th>\n",
       "      <th>Prediction</th>\n",
       "    </tr>\n",
       "  </thead>\n",
       "  <tbody>\n",
       "    <tr>\n",
       "      <th>86</th>\n",
       "      <td>2</td>\n",
       "      <td>20.0</td>\n",
       "      <td>22.0</td>\n",
       "      <td>23.5</td>\n",
       "      <td>6.1100</td>\n",
       "      <td>3.4075</td>\n",
       "      <td>120.0</td>\n",
       "      <td>165.151038</td>\n",
       "    </tr>\n",
       "    <tr>\n",
       "      <th>116</th>\n",
       "      <td>2</td>\n",
       "      <td>36.5</td>\n",
       "      <td>39.0</td>\n",
       "      <td>41.4</td>\n",
       "      <td>11.1366</td>\n",
       "      <td>7.4934</td>\n",
       "      <td>900.0</td>\n",
       "      <td>713.541865</td>\n",
       "    </tr>\n",
       "    <tr>\n",
       "      <th>79</th>\n",
       "      <td>2</td>\n",
       "      <td>17.2</td>\n",
       "      <td>19.0</td>\n",
       "      <td>20.2</td>\n",
       "      <td>5.6358</td>\n",
       "      <td>3.0502</td>\n",
       "      <td>80.0</td>\n",
       "      <td>80.821514</td>\n",
       "    </tr>\n",
       "    <tr>\n",
       "      <th>140</th>\n",
       "      <td>3</td>\n",
       "      <td>48.3</td>\n",
       "      <td>51.7</td>\n",
       "      <td>55.1</td>\n",
       "      <td>8.9262</td>\n",
       "      <td>6.1712</td>\n",
       "      <td>950.0</td>\n",
       "      <td>971.923792</td>\n",
       "    </tr>\n",
       "    <tr>\n",
       "      <th>71</th>\n",
       "      <td>1</td>\n",
       "      <td>24.0</td>\n",
       "      <td>26.0</td>\n",
       "      <td>29.0</td>\n",
       "      <td>11.3680</td>\n",
       "      <td>4.2340</td>\n",
       "      <td>300.0</td>\n",
       "      <td>391.197008</td>\n",
       "    </tr>\n",
       "  </tbody>\n",
       "</table>\n",
       "</div>"
      ],
      "text/plain": [
       "     Species  Length1  Length2  Length3   Height   Width  Weight  Prediction\n",
       "86         2     20.0     22.0     23.5   6.1100  3.4075   120.0  165.151038\n",
       "116        2     36.5     39.0     41.4  11.1366  7.4934   900.0  713.541865\n",
       "79         2     17.2     19.0     20.2   5.6358  3.0502    80.0   80.821514\n",
       "140        3     48.3     51.7     55.1   8.9262  6.1712   950.0  971.923792\n",
       "71         1     24.0     26.0     29.0  11.3680  4.2340   300.0  391.197008"
      ]
     },
     "execution_count": 89,
     "metadata": {},
     "output_type": "execute_result"
    }
   ],
   "source": [
    "df_test['Prediction']=model.predict(df_test) # predict = all row prediction ( Auto )\n",
    "df_test.head()"
   ]
  },
  {
   "cell_type": "code",
   "execution_count": 90,
   "id": "ef4dcc9f",
   "metadata": {},
   "outputs": [
    {
     "data": {
      "text/plain": [
       "165.15193500000007"
      ]
     },
     "execution_count": 90,
     "metadata": {},
     "output_type": "execute_result"
    }
   ],
   "source": [
    "# Y = intercet + b1 * Length1 + b2 * Height\n",
    "Y = -499.9604 + 26.2143 * 20 + 23.0485 * 6.1100\n",
    "Y"
   ]
  },
  {
   "cell_type": "markdown",
   "id": "baecde78",
   "metadata": {},
   "source": [
    "# Test"
   ]
  },
  {
   "cell_type": "code",
   "execution_count": 91,
   "id": "bb82da10",
   "metadata": {},
   "outputs": [
    {
     "name": "stdout",
     "output_type": "stream",
     "text": [
      "R2 score for model Performance on Test 0.87\n"
     ]
    }
   ],
   "source": [
    "from sklearn.metrics import r2_score\n",
    "r2 = r2_score(df_test.Weight, df_test.Prediction)\n",
    "print('R2 score for model Performance on Test', np.round(r2,2))"
   ]
  },
  {
   "cell_type": "markdown",
   "id": "05762461",
   "metadata": {},
   "source": [
    "# Train"
   ]
  },
  {
   "cell_type": "code",
   "execution_count": 93,
   "id": "ef08432c",
   "metadata": {},
   "outputs": [
    {
     "name": "stdout",
     "output_type": "stream",
     "text": [
      "R2 score for model Performance on Test 0.87\n"
     ]
    }
   ],
   "source": [
    "from sklearn.metrics import r2_score\n",
    "r2 = r2_score(df.Weight, df.fitted_value)\n",
    "print('R2 score for model Performance on Test', np.round(r2,2))"
   ]
  },
  {
   "cell_type": "markdown",
   "id": "131a6624",
   "metadata": {},
   "source": [
    "* Test data is good fit with 87% Accuracy\n",
    "* Train data is also good fit with 87% Accuracy\n",
    "* Model is good fit on Train dataset  & Performance of model on Test data is also good fit"
   ]
  },
  {
   "cell_type": "code",
   "execution_count": 100,
   "id": "f88eda7f",
   "metadata": {},
   "outputs": [
    {
     "data": {
      "text/html": [
       "<div>\n",
       "<style scoped>\n",
       "    .dataframe tbody tr th:only-of-type {\n",
       "        vertical-align: middle;\n",
       "    }\n",
       "\n",
       "    .dataframe tbody tr th {\n",
       "        vertical-align: top;\n",
       "    }\n",
       "\n",
       "    .dataframe thead th {\n",
       "        text-align: right;\n",
       "    }\n",
       "</style>\n",
       "<table border=\"1\" class=\"dataframe\">\n",
       "  <thead>\n",
       "    <tr style=\"text-align: right;\">\n",
       "      <th></th>\n",
       "      <th>Weight</th>\n",
       "      <th>fitted_value</th>\n",
       "    </tr>\n",
       "  </thead>\n",
       "  <tbody>\n",
       "    <tr>\n",
       "      <th>51</th>\n",
       "      <td>180.0</td>\n",
       "      <td>282.031530</td>\n",
       "    </tr>\n",
       "    <tr>\n",
       "      <th>3</th>\n",
       "      <td>363.0</td>\n",
       "      <td>482.881844</td>\n",
       "    </tr>\n",
       "    <tr>\n",
       "      <th>133</th>\n",
       "      <td>345.0</td>\n",
       "      <td>591.171098</td>\n",
       "    </tr>\n",
       "    <tr>\n",
       "      <th>103</th>\n",
       "      <td>260.0</td>\n",
       "      <td>331.074909</td>\n",
       "    </tr>\n",
       "    <tr>\n",
       "      <th>123</th>\n",
       "      <td>1100.0</td>\n",
       "      <td>817.420976</td>\n",
       "    </tr>\n",
       "    <tr>\n",
       "      <th>...</th>\n",
       "      <td>...</td>\n",
       "      <td>...</td>\n",
       "    </tr>\n",
       "    <tr>\n",
       "      <th>91</th>\n",
       "      <td>130.0</td>\n",
       "      <td>172.403854</td>\n",
       "    </tr>\n",
       "    <tr>\n",
       "      <th>137</th>\n",
       "      <td>500.0</td>\n",
       "      <td>761.456015</td>\n",
       "    </tr>\n",
       "    <tr>\n",
       "      <th>7</th>\n",
       "      <td>390.0</td>\n",
       "      <td>515.577475</td>\n",
       "    </tr>\n",
       "    <tr>\n",
       "      <th>53</th>\n",
       "      <td>272.0</td>\n",
       "      <td>352.875519</td>\n",
       "    </tr>\n",
       "    <tr>\n",
       "      <th>67</th>\n",
       "      <td>170.0</td>\n",
       "      <td>214.674089</td>\n",
       "    </tr>\n",
       "  </tbody>\n",
       "</table>\n",
       "<p>111 rows × 2 columns</p>\n",
       "</div>"
      ],
      "text/plain": [
       "     Weight  fitted_value\n",
       "51    180.0    282.031530\n",
       "3     363.0    482.881844\n",
       "133   345.0    591.171098\n",
       "103   260.0    331.074909\n",
       "123  1100.0    817.420976\n",
       "..      ...           ...\n",
       "91    130.0    172.403854\n",
       "137   500.0    761.456015\n",
       "7     390.0    515.577475\n",
       "53    272.0    352.875519\n",
       "67    170.0    214.674089\n",
       "\n",
       "[111 rows x 2 columns]"
      ]
     },
     "execution_count": 100,
     "metadata": {},
     "output_type": "execute_result"
    }
   ],
   "source": [
    "df[[\"Weight\",\"fitted_value\"]]"
   ]
  },
  {
   "cell_type": "markdown",
   "id": "15af38c1",
   "metadata": {},
   "source": [
    "# Conclusion"
   ]
  },
  {
   "cell_type": "markdown",
   "id": "ad5998fb",
   "metadata": {},
   "source": [
    "* initially we remove the outliers and made a barplot \n",
    "* here we can conclude that the accuracy of our model is 87% good fit so our model is good fit\n",
    "* here we can say that we reject hte null hypothesys(H0) and there is a linear relationship between weight and lenght and height\n",
    "* there is a linear relationship in this Model \n",
    "* so we can say that as fish weight increase the price will also increase"
   ]
  },
  {
   "cell_type": "code",
   "execution_count": null,
   "id": "b6342448",
   "metadata": {},
   "outputs": [],
   "source": []
  }
 ],
 "metadata": {
  "kernelspec": {
   "display_name": "Python 3 (ipykernel)",
   "language": "python",
   "name": "python3"
  },
  "language_info": {
   "codemirror_mode": {
    "name": "ipython",
    "version": 3
   },
   "file_extension": ".py",
   "mimetype": "text/x-python",
   "name": "python",
   "nbconvert_exporter": "python",
   "pygments_lexer": "ipython3",
   "version": "3.9.13"
  }
 },
 "nbformat": 4,
 "nbformat_minor": 5
}
