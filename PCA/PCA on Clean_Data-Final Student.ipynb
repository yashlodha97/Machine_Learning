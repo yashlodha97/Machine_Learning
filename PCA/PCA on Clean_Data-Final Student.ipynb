{
 "cells": [
  {
   "cell_type": "markdown",
   "metadata": {},
   "source": [
    "# Import Library & Data"
   ]
  },
  {
   "cell_type": "code",
   "execution_count": 1,
   "metadata": {},
   "outputs": [],
   "source": [
    "# importing required libraries \n",
    "import numpy as np \n",
    "import matplotlib.pyplot as plt \n",
    "import pandas as pd "
   ]
  },
  {
   "cell_type": "code",
   "execution_count": 2,
   "metadata": {},
   "outputs": [],
   "source": [
    "import os \n",
    "os.chdir(r\"C:\\Users\\Dell\\Desktop\\Machine Learning\\unsupervied\\PCA\") "
   ]
  },
  {
   "cell_type": "code",
   "execution_count": 3,
   "metadata": {},
   "outputs": [
    {
     "data": {
      "text/html": [
       "<div>\n",
       "<style scoped>\n",
       "    .dataframe tbody tr th:only-of-type {\n",
       "        vertical-align: middle;\n",
       "    }\n",
       "\n",
       "    .dataframe tbody tr th {\n",
       "        vertical-align: top;\n",
       "    }\n",
       "\n",
       "    .dataframe thead th {\n",
       "        text-align: right;\n",
       "    }\n",
       "</style>\n",
       "<table border=\"1\" class=\"dataframe\">\n",
       "  <thead>\n",
       "    <tr style=\"text-align: right;\">\n",
       "      <th></th>\n",
       "      <th>Dist_Taxi</th>\n",
       "      <th>Dist_Market</th>\n",
       "      <th>Dist_Hospital</th>\n",
       "      <th>Carpet</th>\n",
       "      <th>Builtup</th>\n",
       "      <th>Parking</th>\n",
       "      <th>City_Category</th>\n",
       "      <th>Rainfall</th>\n",
       "      <th>House_Price</th>\n",
       "    </tr>\n",
       "  </thead>\n",
       "  <tbody>\n",
       "    <tr>\n",
       "      <th>0</th>\n",
       "      <td>9796</td>\n",
       "      <td>5250</td>\n",
       "      <td>10703</td>\n",
       "      <td>1659</td>\n",
       "      <td>1961</td>\n",
       "      <td>Open</td>\n",
       "      <td>CAT B</td>\n",
       "      <td>530</td>\n",
       "      <td>6649000</td>\n",
       "    </tr>\n",
       "    <tr>\n",
       "      <th>1</th>\n",
       "      <td>8294</td>\n",
       "      <td>8186</td>\n",
       "      <td>12694</td>\n",
       "      <td>1461</td>\n",
       "      <td>1752</td>\n",
       "      <td>Not Provided</td>\n",
       "      <td>CAT B</td>\n",
       "      <td>210</td>\n",
       "      <td>3982000</td>\n",
       "    </tr>\n",
       "    <tr>\n",
       "      <th>2</th>\n",
       "      <td>11001</td>\n",
       "      <td>14399</td>\n",
       "      <td>16991</td>\n",
       "      <td>1340</td>\n",
       "      <td>1609</td>\n",
       "      <td>Not Provided</td>\n",
       "      <td>CAT A</td>\n",
       "      <td>720</td>\n",
       "      <td>5401000</td>\n",
       "    </tr>\n",
       "    <tr>\n",
       "      <th>3</th>\n",
       "      <td>8301</td>\n",
       "      <td>11188</td>\n",
       "      <td>12289</td>\n",
       "      <td>1451</td>\n",
       "      <td>1748</td>\n",
       "      <td>Covered</td>\n",
       "      <td>CAT B</td>\n",
       "      <td>620</td>\n",
       "      <td>5373000</td>\n",
       "    </tr>\n",
       "    <tr>\n",
       "      <th>4</th>\n",
       "      <td>10510</td>\n",
       "      <td>12629</td>\n",
       "      <td>13921</td>\n",
       "      <td>1770</td>\n",
       "      <td>2111</td>\n",
       "      <td>Not Provided</td>\n",
       "      <td>CAT B</td>\n",
       "      <td>450</td>\n",
       "      <td>4662000</td>\n",
       "    </tr>\n",
       "  </tbody>\n",
       "</table>\n",
       "</div>"
      ],
      "text/plain": [
       "   Dist_Taxi  Dist_Market  Dist_Hospital  Carpet  Builtup       Parking  \\\n",
       "0       9796         5250          10703    1659     1961          Open   \n",
       "1       8294         8186          12694    1461     1752  Not Provided   \n",
       "2      11001        14399          16991    1340     1609  Not Provided   \n",
       "3       8301        11188          12289    1451     1748       Covered   \n",
       "4      10510        12629          13921    1770     2111  Not Provided   \n",
       "\n",
       "  City_Category  Rainfall  House_Price  \n",
       "0         CAT B       530      6649000  \n",
       "1         CAT B       210      3982000  \n",
       "2         CAT A       720      5401000  \n",
       "3         CAT B       620      5373000  \n",
       "4         CAT B       450      4662000  "
      ]
     },
     "execution_count": 3,
     "metadata": {},
     "output_type": "execute_result"
    }
   ],
   "source": [
    "# importing or loading the dataset \n",
    "Data_for_PCA = pd.read_csv(r\"Clean_Data.csv\")\n",
    "\n",
    "Data_for_PCA.head()"
   ]
  },
  {
   "cell_type": "markdown",
   "metadata": {},
   "source": [
    "## Taking specific column for Analysis"
   ]
  },
  {
   "cell_type": "code",
   "execution_count": 4,
   "metadata": {},
   "outputs": [],
   "source": [
    "numeric_predictors=['Dist_Taxi','Dist_Market','Dist_Hospital','Carpet','Builtup','Rainfall']\n",
    "X_train = Data_for_PCA[numeric_predictors]\n",
    "y_train = Data_for_PCA['House_Price']"
   ]
  },
  {
   "cell_type": "code",
   "execution_count": 5,
   "metadata": {},
   "outputs": [
    {
     "data": {
      "text/html": [
       "<div>\n",
       "<style scoped>\n",
       "    .dataframe tbody tr th:only-of-type {\n",
       "        vertical-align: middle;\n",
       "    }\n",
       "\n",
       "    .dataframe tbody tr th {\n",
       "        vertical-align: top;\n",
       "    }\n",
       "\n",
       "    .dataframe thead th {\n",
       "        text-align: right;\n",
       "    }\n",
       "</style>\n",
       "<table border=\"1\" class=\"dataframe\">\n",
       "  <thead>\n",
       "    <tr style=\"text-align: right;\">\n",
       "      <th></th>\n",
       "      <th>Dist_Taxi</th>\n",
       "      <th>Dist_Market</th>\n",
       "      <th>Dist_Hospital</th>\n",
       "      <th>Carpet</th>\n",
       "      <th>Builtup</th>\n",
       "      <th>Rainfall</th>\n",
       "    </tr>\n",
       "  </thead>\n",
       "  <tbody>\n",
       "    <tr>\n",
       "      <th>0</th>\n",
       "      <td>9796</td>\n",
       "      <td>5250</td>\n",
       "      <td>10703</td>\n",
       "      <td>1659</td>\n",
       "      <td>1961</td>\n",
       "      <td>530</td>\n",
       "    </tr>\n",
       "    <tr>\n",
       "      <th>1</th>\n",
       "      <td>8294</td>\n",
       "      <td>8186</td>\n",
       "      <td>12694</td>\n",
       "      <td>1461</td>\n",
       "      <td>1752</td>\n",
       "      <td>210</td>\n",
       "    </tr>\n",
       "    <tr>\n",
       "      <th>2</th>\n",
       "      <td>11001</td>\n",
       "      <td>14399</td>\n",
       "      <td>16991</td>\n",
       "      <td>1340</td>\n",
       "      <td>1609</td>\n",
       "      <td>720</td>\n",
       "    </tr>\n",
       "    <tr>\n",
       "      <th>3</th>\n",
       "      <td>8301</td>\n",
       "      <td>11188</td>\n",
       "      <td>12289</td>\n",
       "      <td>1451</td>\n",
       "      <td>1748</td>\n",
       "      <td>620</td>\n",
       "    </tr>\n",
       "    <tr>\n",
       "      <th>4</th>\n",
       "      <td>10510</td>\n",
       "      <td>12629</td>\n",
       "      <td>13921</td>\n",
       "      <td>1770</td>\n",
       "      <td>2111</td>\n",
       "      <td>450</td>\n",
       "    </tr>\n",
       "  </tbody>\n",
       "</table>\n",
       "</div>"
      ],
      "text/plain": [
       "   Dist_Taxi  Dist_Market  Dist_Hospital  Carpet  Builtup  Rainfall\n",
       "0       9796         5250          10703    1659     1961       530\n",
       "1       8294         8186          12694    1461     1752       210\n",
       "2      11001        14399          16991    1340     1609       720\n",
       "3       8301        11188          12289    1451     1748       620\n",
       "4      10510        12629          13921    1770     2111       450"
      ]
     },
     "execution_count": 5,
     "metadata": {},
     "output_type": "execute_result"
    }
   ],
   "source": [
    "X_train.head()"
   ]
  },
  {
   "cell_type": "code",
   "execution_count": 6,
   "metadata": {},
   "outputs": [
    {
     "data": {
      "text/html": [
       "<style type=\"text/css\">\n",
       "#T_bee1e_row0_col0, #T_bee1e_row0_col2, #T_bee1e_row1_col1, #T_bee1e_row1_col2, #T_bee1e_row2_col0, #T_bee1e_row2_col1, #T_bee1e_row2_col2, #T_bee1e_row3_col3, #T_bee1e_row3_col4, #T_bee1e_row4_col3, #T_bee1e_row4_col4, #T_bee1e_row5_col5 {\n",
       "  background-color: yellow;\n",
       "}\n",
       "</style>\n",
       "<table id=\"T_bee1e\">\n",
       "  <thead>\n",
       "    <tr>\n",
       "      <th class=\"blank level0\" >&nbsp;</th>\n",
       "      <th id=\"T_bee1e_level0_col0\" class=\"col_heading level0 col0\" >Dist_Taxi</th>\n",
       "      <th id=\"T_bee1e_level0_col1\" class=\"col_heading level0 col1\" >Dist_Market</th>\n",
       "      <th id=\"T_bee1e_level0_col2\" class=\"col_heading level0 col2\" >Dist_Hospital</th>\n",
       "      <th id=\"T_bee1e_level0_col3\" class=\"col_heading level0 col3\" >Carpet</th>\n",
       "      <th id=\"T_bee1e_level0_col4\" class=\"col_heading level0 col4\" >Builtup</th>\n",
       "      <th id=\"T_bee1e_level0_col5\" class=\"col_heading level0 col5\" >Rainfall</th>\n",
       "    </tr>\n",
       "  </thead>\n",
       "  <tbody>\n",
       "    <tr>\n",
       "      <th id=\"T_bee1e_level0_row0\" class=\"row_heading level0 row0\" >Dist_Taxi</th>\n",
       "      <td id=\"T_bee1e_row0_col0\" class=\"data row0 col0\" >1.000000</td>\n",
       "      <td id=\"T_bee1e_row0_col1\" class=\"data row0 col1\" >0.453479</td>\n",
       "      <td id=\"T_bee1e_row0_col2\" class=\"data row0 col2\" >0.795520</td>\n",
       "      <td id=\"T_bee1e_row0_col3\" class=\"data row0 col3\" >0.008703</td>\n",
       "      <td id=\"T_bee1e_row0_col4\" class=\"data row0 col4\" >0.008230</td>\n",
       "      <td id=\"T_bee1e_row0_col5\" class=\"data row0 col5\" >0.013540</td>\n",
       "    </tr>\n",
       "    <tr>\n",
       "      <th id=\"T_bee1e_level0_row1\" class=\"row_heading level0 row1\" >Dist_Market</th>\n",
       "      <td id=\"T_bee1e_row1_col0\" class=\"data row1 col0\" >0.453479</td>\n",
       "      <td id=\"T_bee1e_row1_col1\" class=\"data row1 col1\" >1.000000</td>\n",
       "      <td id=\"T_bee1e_row1_col2\" class=\"data row1 col2\" >0.621466</td>\n",
       "      <td id=\"T_bee1e_row1_col3\" class=\"data row1 col3\" >-0.020778</td>\n",
       "      <td id=\"T_bee1e_row1_col4\" class=\"data row1 col4\" >-0.020384</td>\n",
       "      <td id=\"T_bee1e_row1_col5\" class=\"data row1 col5\" >0.069806</td>\n",
       "    </tr>\n",
       "    <tr>\n",
       "      <th id=\"T_bee1e_level0_row2\" class=\"row_heading level0 row2\" >Dist_Hospital</th>\n",
       "      <td id=\"T_bee1e_row2_col0\" class=\"data row2 col0\" >0.795520</td>\n",
       "      <td id=\"T_bee1e_row2_col1\" class=\"data row2 col1\" >0.621466</td>\n",
       "      <td id=\"T_bee1e_row2_col2\" class=\"data row2 col2\" >1.000000</td>\n",
       "      <td id=\"T_bee1e_row2_col3\" class=\"data row2 col3\" >0.011706</td>\n",
       "      <td id=\"T_bee1e_row2_col4\" class=\"data row2 col4\" >0.011960</td>\n",
       "      <td id=\"T_bee1e_row2_col5\" class=\"data row2 col5\" >0.046826</td>\n",
       "    </tr>\n",
       "    <tr>\n",
       "      <th id=\"T_bee1e_level0_row3\" class=\"row_heading level0 row3\" >Carpet</th>\n",
       "      <td id=\"T_bee1e_row3_col0\" class=\"data row3 col0\" >0.008703</td>\n",
       "      <td id=\"T_bee1e_row3_col1\" class=\"data row3 col1\" >-0.020778</td>\n",
       "      <td id=\"T_bee1e_row3_col2\" class=\"data row3 col2\" >0.011706</td>\n",
       "      <td id=\"T_bee1e_row3_col3\" class=\"data row3 col3\" >1.000000</td>\n",
       "      <td id=\"T_bee1e_row3_col4\" class=\"data row3 col4\" >0.998885</td>\n",
       "      <td id=\"T_bee1e_row3_col5\" class=\"data row3 col5\" >-0.043485</td>\n",
       "    </tr>\n",
       "    <tr>\n",
       "      <th id=\"T_bee1e_level0_row4\" class=\"row_heading level0 row4\" >Builtup</th>\n",
       "      <td id=\"T_bee1e_row4_col0\" class=\"data row4 col0\" >0.008230</td>\n",
       "      <td id=\"T_bee1e_row4_col1\" class=\"data row4 col1\" >-0.020384</td>\n",
       "      <td id=\"T_bee1e_row4_col2\" class=\"data row4 col2\" >0.011960</td>\n",
       "      <td id=\"T_bee1e_row4_col3\" class=\"data row4 col3\" >0.998885</td>\n",
       "      <td id=\"T_bee1e_row4_col4\" class=\"data row4 col4\" >1.000000</td>\n",
       "      <td id=\"T_bee1e_row4_col5\" class=\"data row4 col5\" >-0.043424</td>\n",
       "    </tr>\n",
       "    <tr>\n",
       "      <th id=\"T_bee1e_level0_row5\" class=\"row_heading level0 row5\" >Rainfall</th>\n",
       "      <td id=\"T_bee1e_row5_col0\" class=\"data row5 col0\" >0.013540</td>\n",
       "      <td id=\"T_bee1e_row5_col1\" class=\"data row5 col1\" >0.069806</td>\n",
       "      <td id=\"T_bee1e_row5_col2\" class=\"data row5 col2\" >0.046826</td>\n",
       "      <td id=\"T_bee1e_row5_col3\" class=\"data row5 col3\" >-0.043485</td>\n",
       "      <td id=\"T_bee1e_row5_col4\" class=\"data row5 col4\" >-0.043424</td>\n",
       "      <td id=\"T_bee1e_row5_col5\" class=\"data row5 col5\" >1.000000</td>\n",
       "    </tr>\n",
       "  </tbody>\n",
       "</table>\n"
      ],
      "text/plain": [
       "<pandas.io.formats.style.Styler at 0x2448d366a60>"
      ]
     },
     "execution_count": 6,
     "metadata": {},
     "output_type": "execute_result"
    }
   ],
   "source": [
    "Correlation=X_train.corr()\n",
    "Correlation.style.applymap(lambda x: 'background-color : yellow' if x > 0.5 else '')"
   ]
  },
  {
   "cell_type": "markdown",
   "metadata": {},
   "source": [
    "### PCA is effected by scale so you need to scale the features in the data before applying PCA. \n",
    "\n",
    "* You can transform the data onto unit scale (mean = 0 and variance = 1) "
   ]
  },
  {
   "cell_type": "code",
   "execution_count": 7,
   "metadata": {},
   "outputs": [],
   "source": [
    "# performing preprocessing part \n",
    "from sklearn.preprocessing import StandardScaler \n",
    "\n",
    "sc = StandardScaler() # mean 0 & std=1\n",
    "  \n",
    "X_train_1 = sc.fit_transform(X_train)  # Fit to data, then transform it."
   ]
  },
  {
   "cell_type": "markdown",
   "metadata": {},
   "source": [
    "### Mean"
   ]
  },
  {
   "cell_type": "code",
   "execution_count": 8,
   "metadata": {},
   "outputs": [
    {
     "data": {
      "text/plain": [
       "array([-9.50558844e-17, -2.73285668e-16,  6.38656723e-17, -1.10898532e-16,\n",
       "        4.35672803e-17,  5.54492659e-17])"
      ]
     },
     "execution_count": 8,
     "metadata": {},
     "output_type": "execute_result"
    }
   ],
   "source": [
    "X_train_1.mean(axis=0)"
   ]
  },
  {
   "cell_type": "markdown",
   "metadata": {},
   "source": [
    "### Standard Deviation"
   ]
  },
  {
   "cell_type": "code",
   "execution_count": 9,
   "metadata": {},
   "outputs": [
    {
     "data": {
      "text/plain": [
       "array([1., 1., 1., 1., 1., 1.])"
      ]
     },
     "execution_count": 9,
     "metadata": {},
     "output_type": "execute_result"
    }
   ],
   "source": [
    "X_train_1.std(axis=0)"
   ]
  },
  {
   "cell_type": "code",
   "execution_count": 10,
   "metadata": {
    "scrolled": true
   },
   "outputs": [
    {
     "data": {
      "text/html": [
       "<div>\n",
       "<style scoped>\n",
       "    .dataframe tbody tr th:only-of-type {\n",
       "        vertical-align: middle;\n",
       "    }\n",
       "\n",
       "    .dataframe tbody tr th {\n",
       "        vertical-align: top;\n",
       "    }\n",
       "\n",
       "    .dataframe thead th {\n",
       "        text-align: right;\n",
       "    }\n",
       "</style>\n",
       "<table border=\"1\" class=\"dataframe\">\n",
       "  <thead>\n",
       "    <tr style=\"text-align: right;\">\n",
       "      <th></th>\n",
       "      <th>Dist_Taxi</th>\n",
       "      <th>Dist_Market</th>\n",
       "      <th>Dist_Hospital</th>\n",
       "      <th>Carpet</th>\n",
       "      <th>Builtup</th>\n",
       "      <th>Rainfall</th>\n",
       "    </tr>\n",
       "  </thead>\n",
       "  <tbody>\n",
       "    <tr>\n",
       "      <th>0</th>\n",
       "      <td>9796</td>\n",
       "      <td>5250</td>\n",
       "      <td>10703</td>\n",
       "      <td>1659</td>\n",
       "      <td>1961</td>\n",
       "      <td>530</td>\n",
       "    </tr>\n",
       "    <tr>\n",
       "      <th>1</th>\n",
       "      <td>8294</td>\n",
       "      <td>8186</td>\n",
       "      <td>12694</td>\n",
       "      <td>1461</td>\n",
       "      <td>1752</td>\n",
       "      <td>210</td>\n",
       "    </tr>\n",
       "    <tr>\n",
       "      <th>2</th>\n",
       "      <td>11001</td>\n",
       "      <td>14399</td>\n",
       "      <td>16991</td>\n",
       "      <td>1340</td>\n",
       "      <td>1609</td>\n",
       "      <td>720</td>\n",
       "    </tr>\n",
       "  </tbody>\n",
       "</table>\n",
       "</div>"
      ],
      "text/plain": [
       "   Dist_Taxi  Dist_Market  Dist_Hospital  Carpet  Builtup  Rainfall\n",
       "0       9796         5250          10703    1659     1961       530\n",
       "1       8294         8186          12694    1461     1752       210\n",
       "2      11001        14399          16991    1340     1609       720"
      ]
     },
     "execution_count": 10,
     "metadata": {},
     "output_type": "execute_result"
    }
   ],
   "source": [
    "X_train.head(3)"
   ]
  },
  {
   "cell_type": "code",
   "execution_count": 11,
   "metadata": {},
   "outputs": [
    {
     "data": {
      "text/plain": [
       "array([[ 0.61846877, -2.28157722, -0.92900726,  0.69361583,  0.59646551,\n",
       "        -0.95701769],\n",
       "       [ 0.02372157, -1.11957706, -0.15298842, -0.09834013, -0.10106539,\n",
       "        -2.15638182],\n",
       "       [ 1.09561283,  1.3393831 ,  1.52182472, -0.58231321, -0.57832337,\n",
       "        -0.24489525],\n",
       "       ...,\n",
       "       [-0.32116845,  0.27434821,  0.05202711, -1.14228207, -1.1557054 ,\n",
       "         1.02942913],\n",
       "       [ 2.71156711,  1.45851186,  2.5453433 , -0.74630409, -0.74185932,\n",
       "        -0.0574946 ],\n",
       "       [ 0.42087965,  0.60244703,  0.51896361, -1.24627629, -1.17906768,\n",
       "         1.21682978]])"
      ]
     },
     "execution_count": 11,
     "metadata": {},
     "output_type": "execute_result"
    }
   ],
   "source": [
    "X_train_1"
   ]
  },
  {
   "cell_type": "markdown",
   "metadata": {},
   "source": [
    "# No. of variable in original dataset"
   ]
  },
  {
   "cell_type": "code",
   "execution_count": 12,
   "metadata": {},
   "outputs": [],
   "source": [
    "# Applying PCA function on training \n",
    "# and testing set of X component \n",
    "from sklearn.decomposition import PCA \n",
    "  \n",
    "model = PCA(n_components = 3) # we are specifying we want 3 PCA\n",
    "  \n",
    "principalComponents= model.fit(X_train_1) # Fit the model with X and apply the dimensionality reduction on X."
   ]
  },
  {
   "cell_type": "markdown",
   "metadata": {},
   "source": [
    "# Explained Variance\n",
    "* The explained variance tells you how much information (variance) can be attributed to each of the principal components. \n",
    "\n",
    "* This is important as while you can convert high dimensional space to 2 dimensional space, you lose some of the variance (information) when you do this. By using the attribute explained_variance_ratio_, "
   ]
  },
  {
   "cell_type": "code",
   "execution_count": 13,
   "metadata": {},
   "outputs": [
    {
     "data": {
      "text/plain": [
       "[2.26, 2.01, 1.0]"
      ]
     },
     "execution_count": 13,
     "metadata": {},
     "output_type": "execute_result"
    }
   ],
   "source": [
    "import numpy as np\n",
    "list(np.round(principalComponents.explained_variance_,2))   # eigen values  >= 1 "
   ]
  },
  {
   "cell_type": "code",
   "execution_count": 14,
   "metadata": {},
   "outputs": [
    {
     "data": {
      "text/plain": [
       "0.37666666666666665"
      ]
     },
     "execution_count": 14,
     "metadata": {},
     "output_type": "execute_result"
    }
   ],
   "source": [
    "2.26/6"
   ]
  },
  {
   "cell_type": "code",
   "execution_count": 15,
   "metadata": {},
   "outputs": [
    {
     "data": {
      "text/plain": [
       "[0.38, 0.33, 0.17]"
      ]
     },
     "execution_count": 15,
     "metadata": {},
     "output_type": "execute_result"
    }
   ],
   "source": [
    "list(np.round(principalComponents.explained_variance_ratio_,2))    # >= 50%"
   ]
  },
  {
   "cell_type": "code",
   "execution_count": 16,
   "metadata": {},
   "outputs": [
    {
     "data": {
      "text/plain": [
       "0.88"
      ]
     },
     "execution_count": 16,
     "metadata": {},
     "output_type": "execute_result"
    }
   ],
   "source": [
    "0.38+ 0.33+0.17"
   ]
  },
  {
   "cell_type": "markdown",
   "metadata": {},
   "source": [
    "* You can see that the first principal component contains 38% of the variance \n",
    "\n",
    "* The second principal component contains 33% of the variance & third  PC contain 17%.\n",
    "\n",
    "* Together, the three components contain 88% of the information."
   ]
  },
  {
   "cell_type": "markdown",
   "metadata": {},
   "source": [
    "principalComponents.mean_"
   ]
  },
  {
   "cell_type": "markdown",
   "metadata": {
    "scrolled": true
   },
   "source": [
    "principalComponents.get_covariance()"
   ]
  },
  {
   "cell_type": "code",
   "execution_count": 17,
   "metadata": {},
   "outputs": [
    {
     "data": {
      "text/plain": [
       "array([[ 0.61846877, -2.28157722, -0.92900726,  0.69361583,  0.59646551,\n",
       "        -0.95701769],\n",
       "       [ 0.02372157, -1.11957706, -0.15298842, -0.09834013, -0.10106539,\n",
       "        -2.15638182],\n",
       "       [ 1.09561283,  1.3393831 ,  1.52182472, -0.58231321, -0.57832337,\n",
       "        -0.24489525],\n",
       "       ...,\n",
       "       [-0.32116845,  0.27434821,  0.05202711, -1.14228207, -1.1557054 ,\n",
       "         1.02942913],\n",
       "       [ 2.71156711,  1.45851186,  2.5453433 , -0.74630409, -0.74185932,\n",
       "        -0.0574946 ],\n",
       "       [ 0.42087965,  0.60244703,  0.51896361, -1.24627629, -1.17906768,\n",
       "         1.21682978]])"
      ]
     },
     "execution_count": 17,
     "metadata": {},
     "output_type": "execute_result"
    }
   ],
   "source": [
    "X_train_1 ### scaled dataset"
   ]
  },
  {
   "cell_type": "markdown",
   "metadata": {},
   "source": [
    "# Beta Values or Eigen Vector \n",
    "Z1 = Beta1*x1+Beta2*X2 + beta3*X3 + ..... + beta13*X13\n"
   ]
  },
  {
   "cell_type": "code",
   "execution_count": 18,
   "metadata": {},
   "outputs": [
    {
     "data": {
      "text/plain": [
       "array([[-0.58073993, -0.51944522, -0.62408786,  0.00354015,  0.00349942,\n",
       "        -0.05837261],\n",
       "       [ 0.0147218 , -0.01752286,  0.01458963,  0.70551362,  0.70550669,\n",
       "        -0.06143455],\n",
       "       [ 0.0923583 , -0.04204714,  0.0413229 , -0.04504566, -0.04515597,\n",
       "        -0.99193056]])"
      ]
     },
     "execution_count": 18,
     "metadata": {},
     "output_type": "execute_result"
    }
   ],
   "source": [
    "principalComponents.components_   ##  BETA VALUES  Z1 , Z2 & Z3 "
   ]
  },
  {
   "cell_type": "markdown",
   "metadata": {},
   "source": [
    "z1=(-0.58073993*0.61846877) + (-0.51944522 *-2.28157722) + (-0.62408786*0.92900726)+(0.00354015*0.69361583)+(0.00349942*0.59646551)+(-0.05837261*-0.95701769)\n",
    "z1"
   ]
  },
  {
   "cell_type": "markdown",
   "metadata": {},
   "source": [
    "### Renaming the Columns  \n",
    "\n",
    "* Prediction for data to get data reduction \n"
   ]
  },
  {
   "cell_type": "code",
   "execution_count": 19,
   "metadata": {},
   "outputs": [
    {
     "data": {
      "text/plain": [
       "array([[ 0.61846877, -2.28157722, -0.92900726,  0.69361583,  0.59646551,\n",
       "        -0.95701769],\n",
       "       [ 0.02372157, -1.11957706, -0.15298842, -0.09834013, -0.10106539,\n",
       "        -2.15638182],\n",
       "       [ 1.09561283,  1.3393831 ,  1.52182472, -0.58231321, -0.57832337,\n",
       "        -0.24489525],\n",
       "       ...,\n",
       "       [-0.32116845,  0.27434821,  0.05202711, -1.14228207, -1.1557054 ,\n",
       "         1.02942913],\n",
       "       [ 2.71156711,  1.45851186,  2.5453433 , -0.74630409, -0.74185932,\n",
       "        -0.0574946 ],\n",
       "       [ 0.42087965,  0.60244703,  0.51896361, -1.24627629, -1.17906768,\n",
       "         1.21682978]])"
      ]
     },
     "execution_count": 19,
     "metadata": {},
     "output_type": "execute_result"
    }
   ],
   "source": [
    "X_train_1  # scaled data"
   ]
  },
  {
   "cell_type": "code",
   "execution_count": 20,
   "metadata": {},
   "outputs": [
    {
     "data": {
      "text/plain": [
       "array([[ 1.46617342,  1.00449064,  1.00578199],\n",
       "       [ 0.78843292,  0.00952911,  2.19091849],\n",
       "       [-2.2715447 , -0.78893345,  0.40302242],\n",
       "       ...,\n",
       "       [-0.05664161, -1.69327246, -0.95652859],\n",
       "       [-3.92273216, -0.9948848 ,  0.41843821],\n",
       "       [-0.96080632, -1.78264943, -1.06264373]])"
      ]
     },
     "execution_count": 20,
     "metadata": {},
     "output_type": "execute_result"
    }
   ],
   "source": [
    "transformed_data=principalComponents.fit_transform(X_train_1)  ### only give data which is transformed ( principal component)\n",
    "transformed_data"
   ]
  },
  {
   "cell_type": "code",
   "execution_count": 21,
   "metadata": {},
   "outputs": [
    {
     "name": "stdout",
     "output_type": "stream",
     "text": [
      "original shape:    (897, 6)\n",
      "transformed shape: (897, 3)\n"
     ]
    }
   ],
   "source": [
    "print(\"original shape:   \", X_train_1.shape)\n",
    "print(\"transformed shape:\", transformed_data.shape)"
   ]
  },
  {
   "cell_type": "code",
   "execution_count": 22,
   "metadata": {},
   "outputs": [
    {
     "data": {
      "text/html": [
       "<div>\n",
       "<style scoped>\n",
       "    .dataframe tbody tr th:only-of-type {\n",
       "        vertical-align: middle;\n",
       "    }\n",
       "\n",
       "    .dataframe tbody tr th {\n",
       "        vertical-align: top;\n",
       "    }\n",
       "\n",
       "    .dataframe thead th {\n",
       "        text-align: right;\n",
       "    }\n",
       "</style>\n",
       "<table border=\"1\" class=\"dataframe\">\n",
       "  <thead>\n",
       "    <tr style=\"text-align: right;\">\n",
       "      <th></th>\n",
       "      <th>Data PC1</th>\n",
       "      <th>Data PC2</th>\n",
       "      <th>Data PC3</th>\n",
       "    </tr>\n",
       "  </thead>\n",
       "  <tbody>\n",
       "    <tr>\n",
       "      <th>0</th>\n",
       "      <td>1.466173</td>\n",
       "      <td>1.004491</td>\n",
       "      <td>1.005782</td>\n",
       "    </tr>\n",
       "    <tr>\n",
       "      <th>1</th>\n",
       "      <td>0.788433</td>\n",
       "      <td>0.009529</td>\n",
       "      <td>2.190918</td>\n",
       "    </tr>\n",
       "    <tr>\n",
       "      <th>2</th>\n",
       "      <td>-2.271545</td>\n",
       "      <td>-0.788933</td>\n",
       "      <td>0.403022</td>\n",
       "    </tr>\n",
       "    <tr>\n",
       "      <th>3</th>\n",
       "      <td>0.178285</td>\n",
       "      <td>-0.145595</td>\n",
       "      <td>0.612814</td>\n",
       "    </tr>\n",
       "    <tr>\n",
       "      <th>4</th>\n",
       "      <td>-0.976963</td>\n",
       "      <td>1.660620</td>\n",
       "      <td>1.215744</td>\n",
       "    </tr>\n",
       "  </tbody>\n",
       "</table>\n",
       "</div>"
      ],
      "text/plain": [
       "   Data PC1  Data PC2  Data PC3\n",
       "0  1.466173  1.004491  1.005782\n",
       "1  0.788433  0.009529  2.190918\n",
       "2 -2.271545 -0.788933  0.403022\n",
       "3  0.178285 -0.145595  0.612814\n",
       "4 -0.976963  1.660620  1.215744"
      ]
     },
     "execution_count": 22,
     "metadata": {},
     "output_type": "execute_result"
    }
   ],
   "source": [
    "principalDf = pd.DataFrame(data = transformed_data\n",
    "             , columns = ['Data PC1', 'Data PC2', 'Data PC3'])\n",
    "principalDf.head()"
   ]
  },
  {
   "cell_type": "markdown",
   "metadata": {},
   "source": [
    "# To check the Principal Component is uncorrelated / independent"
   ]
  },
  {
   "cell_type": "code",
   "execution_count": 23,
   "metadata": {},
   "outputs": [
    {
     "data": {
      "text/html": [
       "<style type=\"text/css\">\n",
       "#T_6f94c_row0_col0, #T_6f94c_row1_col1, #T_6f94c_row2_col2 {\n",
       "  background-color: yellow;\n",
       "}\n",
       "</style>\n",
       "<table id=\"T_6f94c\">\n",
       "  <thead>\n",
       "    <tr>\n",
       "      <th class=\"blank level0\" >&nbsp;</th>\n",
       "      <th id=\"T_6f94c_level0_col0\" class=\"col_heading level0 col0\" >Data PC1</th>\n",
       "      <th id=\"T_6f94c_level0_col1\" class=\"col_heading level0 col1\" >Data PC2</th>\n",
       "      <th id=\"T_6f94c_level0_col2\" class=\"col_heading level0 col2\" >Data PC3</th>\n",
       "    </tr>\n",
       "  </thead>\n",
       "  <tbody>\n",
       "    <tr>\n",
       "      <th id=\"T_6f94c_level0_row0\" class=\"row_heading level0 row0\" >Data PC1</th>\n",
       "      <td id=\"T_6f94c_row0_col0\" class=\"data row0 col0\" >1.000000</td>\n",
       "      <td id=\"T_6f94c_row0_col1\" class=\"data row0 col1\" >-0.000000</td>\n",
       "      <td id=\"T_6f94c_row0_col2\" class=\"data row0 col2\" >-0.000000</td>\n",
       "    </tr>\n",
       "    <tr>\n",
       "      <th id=\"T_6f94c_level0_row1\" class=\"row_heading level0 row1\" >Data PC2</th>\n",
       "      <td id=\"T_6f94c_row1_col0\" class=\"data row1 col0\" >-0.000000</td>\n",
       "      <td id=\"T_6f94c_row1_col1\" class=\"data row1 col1\" >1.000000</td>\n",
       "      <td id=\"T_6f94c_row1_col2\" class=\"data row1 col2\" >0.000000</td>\n",
       "    </tr>\n",
       "    <tr>\n",
       "      <th id=\"T_6f94c_level0_row2\" class=\"row_heading level0 row2\" >Data PC3</th>\n",
       "      <td id=\"T_6f94c_row2_col0\" class=\"data row2 col0\" >-0.000000</td>\n",
       "      <td id=\"T_6f94c_row2_col1\" class=\"data row2 col1\" >0.000000</td>\n",
       "      <td id=\"T_6f94c_row2_col2\" class=\"data row2 col2\" >1.000000</td>\n",
       "    </tr>\n",
       "  </tbody>\n",
       "</table>\n"
      ],
      "text/plain": [
       "<pandas.io.formats.style.Styler at 0x2448fc128b0>"
      ]
     },
     "execution_count": 23,
     "metadata": {},
     "output_type": "execute_result"
    }
   ],
   "source": [
    "Correlation=round(principalDf.corr(),3)\n",
    "Correlation.style.applymap(lambda x: 'background-color : yellow' if x > 0.5 else '')"
   ]
  },
  {
   "cell_type": "markdown",
   "metadata": {},
   "source": [
    "## Identify variable is combining together in Which PCA "
   ]
  },
  {
   "cell_type": "code",
   "execution_count": 24,
   "metadata": {},
   "outputs": [
    {
     "data": {
      "text/html": [
       "<div>\n",
       "<style scoped>\n",
       "    .dataframe tbody tr th:only-of-type {\n",
       "        vertical-align: middle;\n",
       "    }\n",
       "\n",
       "    .dataframe tbody tr th {\n",
       "        vertical-align: top;\n",
       "    }\n",
       "\n",
       "    .dataframe thead th {\n",
       "        text-align: right;\n",
       "    }\n",
       "</style>\n",
       "<table border=\"1\" class=\"dataframe\">\n",
       "  <thead>\n",
       "    <tr style=\"text-align: right;\">\n",
       "      <th></th>\n",
       "      <th>Dist_Taxi</th>\n",
       "      <th>Dist_Market</th>\n",
       "      <th>Dist_Hospital</th>\n",
       "      <th>Carpet</th>\n",
       "      <th>Builtup</th>\n",
       "      <th>Rainfall</th>\n",
       "    </tr>\n",
       "  </thead>\n",
       "  <tbody>\n",
       "    <tr>\n",
       "      <th>0</th>\n",
       "      <td>0.618469</td>\n",
       "      <td>-2.281577</td>\n",
       "      <td>-0.929007</td>\n",
       "      <td>0.693616</td>\n",
       "      <td>0.596466</td>\n",
       "      <td>-0.957018</td>\n",
       "    </tr>\n",
       "    <tr>\n",
       "      <th>1</th>\n",
       "      <td>0.023722</td>\n",
       "      <td>-1.119577</td>\n",
       "      <td>-0.152988</td>\n",
       "      <td>-0.098340</td>\n",
       "      <td>-0.101065</td>\n",
       "      <td>-2.156382</td>\n",
       "    </tr>\n",
       "    <tr>\n",
       "      <th>2</th>\n",
       "      <td>1.095613</td>\n",
       "      <td>1.339383</td>\n",
       "      <td>1.521825</td>\n",
       "      <td>-0.582313</td>\n",
       "      <td>-0.578323</td>\n",
       "      <td>-0.244895</td>\n",
       "    </tr>\n",
       "    <tr>\n",
       "      <th>3</th>\n",
       "      <td>0.026493</td>\n",
       "      <td>0.068544</td>\n",
       "      <td>-0.310843</td>\n",
       "      <td>-0.138338</td>\n",
       "      <td>-0.114415</td>\n",
       "      <td>-0.619697</td>\n",
       "    </tr>\n",
       "    <tr>\n",
       "      <th>4</th>\n",
       "      <td>0.901191</td>\n",
       "      <td>0.638858</td>\n",
       "      <td>0.325251</td>\n",
       "      <td>1.137591</td>\n",
       "      <td>1.097086</td>\n",
       "      <td>-1.256859</td>\n",
       "    </tr>\n",
       "  </tbody>\n",
       "</table>\n",
       "</div>"
      ],
      "text/plain": [
       "   Dist_Taxi  Dist_Market  Dist_Hospital    Carpet   Builtup  Rainfall\n",
       "0   0.618469    -2.281577      -0.929007  0.693616  0.596466 -0.957018\n",
       "1   0.023722    -1.119577      -0.152988 -0.098340 -0.101065 -2.156382\n",
       "2   1.095613     1.339383       1.521825 -0.582313 -0.578323 -0.244895\n",
       "3   0.026493     0.068544      -0.310843 -0.138338 -0.114415 -0.619697\n",
       "4   0.901191     0.638858       0.325251  1.137591  1.097086 -1.256859"
      ]
     },
     "execution_count": 24,
     "metadata": {},
     "output_type": "execute_result"
    }
   ],
   "source": [
    "numeric_predictors_1=['Dist_Taxi','Dist_Market','Dist_Hospital','Carpet','Builtup','Rainfall']\n",
    "scaled_train=pd.DataFrame(X_train_1,columns=numeric_predictors_1)\n",
    "scaled_train.head()"
   ]
  },
  {
   "cell_type": "code",
   "execution_count": 25,
   "metadata": {
    "scrolled": true
   },
   "outputs": [
    {
     "data": {
      "text/html": [
       "<div>\n",
       "<style scoped>\n",
       "    .dataframe tbody tr th:only-of-type {\n",
       "        vertical-align: middle;\n",
       "    }\n",
       "\n",
       "    .dataframe tbody tr th {\n",
       "        vertical-align: top;\n",
       "    }\n",
       "\n",
       "    .dataframe thead th {\n",
       "        text-align: right;\n",
       "    }\n",
       "</style>\n",
       "<table border=\"1\" class=\"dataframe\">\n",
       "  <thead>\n",
       "    <tr style=\"text-align: right;\">\n",
       "      <th></th>\n",
       "      <th>Dist_Taxi</th>\n",
       "      <th>Dist_Market</th>\n",
       "      <th>Dist_Hospital</th>\n",
       "      <th>Carpet</th>\n",
       "      <th>Builtup</th>\n",
       "      <th>Rainfall</th>\n",
       "      <th>Data PC1</th>\n",
       "      <th>Data PC2</th>\n",
       "      <th>Data PC3</th>\n",
       "    </tr>\n",
       "  </thead>\n",
       "  <tbody>\n",
       "    <tr>\n",
       "      <th>0</th>\n",
       "      <td>0.618469</td>\n",
       "      <td>-2.281577</td>\n",
       "      <td>-0.929007</td>\n",
       "      <td>0.693616</td>\n",
       "      <td>0.596466</td>\n",
       "      <td>-0.957018</td>\n",
       "      <td>1.466173</td>\n",
       "      <td>1.004491</td>\n",
       "      <td>1.005782</td>\n",
       "    </tr>\n",
       "    <tr>\n",
       "      <th>1</th>\n",
       "      <td>0.023722</td>\n",
       "      <td>-1.119577</td>\n",
       "      <td>-0.152988</td>\n",
       "      <td>-0.098340</td>\n",
       "      <td>-0.101065</td>\n",
       "      <td>-2.156382</td>\n",
       "      <td>0.788433</td>\n",
       "      <td>0.009529</td>\n",
       "      <td>2.190918</td>\n",
       "    </tr>\n",
       "    <tr>\n",
       "      <th>2</th>\n",
       "      <td>1.095613</td>\n",
       "      <td>1.339383</td>\n",
       "      <td>1.521825</td>\n",
       "      <td>-0.582313</td>\n",
       "      <td>-0.578323</td>\n",
       "      <td>-0.244895</td>\n",
       "      <td>-2.271545</td>\n",
       "      <td>-0.788933</td>\n",
       "      <td>0.403022</td>\n",
       "    </tr>\n",
       "    <tr>\n",
       "      <th>3</th>\n",
       "      <td>0.026493</td>\n",
       "      <td>0.068544</td>\n",
       "      <td>-0.310843</td>\n",
       "      <td>-0.138338</td>\n",
       "      <td>-0.114415</td>\n",
       "      <td>-0.619697</td>\n",
       "      <td>0.178285</td>\n",
       "      <td>-0.145595</td>\n",
       "      <td>0.612814</td>\n",
       "    </tr>\n",
       "    <tr>\n",
       "      <th>4</th>\n",
       "      <td>0.901191</td>\n",
       "      <td>0.638858</td>\n",
       "      <td>0.325251</td>\n",
       "      <td>1.137591</td>\n",
       "      <td>1.097086</td>\n",
       "      <td>-1.256859</td>\n",
       "      <td>-0.976963</td>\n",
       "      <td>1.660620</td>\n",
       "      <td>1.215744</td>\n",
       "    </tr>\n",
       "  </tbody>\n",
       "</table>\n",
       "</div>"
      ],
      "text/plain": [
       "   Dist_Taxi  Dist_Market  Dist_Hospital    Carpet   Builtup  Rainfall  \\\n",
       "0   0.618469    -2.281577      -0.929007  0.693616  0.596466 -0.957018   \n",
       "1   0.023722    -1.119577      -0.152988 -0.098340 -0.101065 -2.156382   \n",
       "2   1.095613     1.339383       1.521825 -0.582313 -0.578323 -0.244895   \n",
       "3   0.026493     0.068544      -0.310843 -0.138338 -0.114415 -0.619697   \n",
       "4   0.901191     0.638858       0.325251  1.137591  1.097086 -1.256859   \n",
       "\n",
       "   Data PC1  Data PC2  Data PC3  \n",
       "0  1.466173  1.004491  1.005782  \n",
       "1  0.788433  0.009529  2.190918  \n",
       "2 -2.271545 -0.788933  0.403022  \n",
       "3  0.178285 -0.145595  0.612814  \n",
       "4 -0.976963  1.660620  1.215744  "
      ]
     },
     "execution_count": 25,
     "metadata": {},
     "output_type": "execute_result"
    }
   ],
   "source": [
    "final_data=pd.concat([scaled_train,principalDf],axis=1)\n",
    "final_data.head()"
   ]
  },
  {
   "cell_type": "code",
   "execution_count": 26,
   "metadata": {},
   "outputs": [
    {
     "data": {
      "text/html": [
       "<style type=\"text/css\">\n",
       "#T_84586_row0_col0, #T_84586_row1_col0, #T_84586_row2_col0, #T_84586_row3_col1, #T_84586_row4_col1, #T_84586_row5_col2 {\n",
       "  background-color: yellow;\n",
       "}\n",
       "</style>\n",
       "<table id=\"T_84586\">\n",
       "  <thead>\n",
       "    <tr>\n",
       "      <th class=\"blank level0\" >&nbsp;</th>\n",
       "      <th id=\"T_84586_level0_col0\" class=\"col_heading level0 col0\" >Data PC1</th>\n",
       "      <th id=\"T_84586_level0_col1\" class=\"col_heading level0 col1\" >Data PC2</th>\n",
       "      <th id=\"T_84586_level0_col2\" class=\"col_heading level0 col2\" >Data PC3</th>\n",
       "    </tr>\n",
       "  </thead>\n",
       "  <tbody>\n",
       "    <tr>\n",
       "      <th id=\"T_84586_level0_row0\" class=\"row_heading level0 row0\" >Dist_Taxi</th>\n",
       "      <td id=\"T_84586_row0_col0\" class=\"data row0 col0\" >87.300000</td>\n",
       "      <td id=\"T_84586_row0_col1\" class=\"data row0 col1\" >2.100000</td>\n",
       "      <td id=\"T_84586_row0_col2\" class=\"data row0 col2\" >9.200000</td>\n",
       "    </tr>\n",
       "    <tr>\n",
       "      <th id=\"T_84586_level0_row1\" class=\"row_heading level0 row1\" >Dist_Market</th>\n",
       "      <td id=\"T_84586_row1_col0\" class=\"data row1 col0\" >78.100000</td>\n",
       "      <td id=\"T_84586_row1_col1\" class=\"data row1 col1\" >2.500000</td>\n",
       "      <td id=\"T_84586_row1_col2\" class=\"data row1 col2\" >4.200000</td>\n",
       "    </tr>\n",
       "    <tr>\n",
       "      <th id=\"T_84586_level0_row2\" class=\"row_heading level0 row2\" >Dist_Hospital</th>\n",
       "      <td id=\"T_84586_row2_col0\" class=\"data row2 col0\" >93.900000</td>\n",
       "      <td id=\"T_84586_row2_col1\" class=\"data row2 col1\" >2.100000</td>\n",
       "      <td id=\"T_84586_row2_col2\" class=\"data row2 col2\" >4.100000</td>\n",
       "    </tr>\n",
       "    <tr>\n",
       "      <th id=\"T_84586_level0_row3\" class=\"row_heading level0 row3\" >Carpet</th>\n",
       "      <td id=\"T_84586_row3_col0\" class=\"data row3 col0\" >0.500000</td>\n",
       "      <td id=\"T_84586_row3_col1\" class=\"data row3 col1\" >99.900000</td>\n",
       "      <td id=\"T_84586_row3_col2\" class=\"data row3 col2\" >4.500000</td>\n",
       "    </tr>\n",
       "    <tr>\n",
       "      <th id=\"T_84586_level0_row4\" class=\"row_heading level0 row4\" >Builtup</th>\n",
       "      <td id=\"T_84586_row4_col0\" class=\"data row4 col0\" >0.500000</td>\n",
       "      <td id=\"T_84586_row4_col1\" class=\"data row4 col1\" >99.900000</td>\n",
       "      <td id=\"T_84586_row4_col2\" class=\"data row4 col2\" >4.500000</td>\n",
       "    </tr>\n",
       "    <tr>\n",
       "      <th id=\"T_84586_level0_row5\" class=\"row_heading level0 row5\" >Rainfall</th>\n",
       "      <td id=\"T_84586_row5_col0\" class=\"data row5 col0\" >8.800000</td>\n",
       "      <td id=\"T_84586_row5_col1\" class=\"data row5 col1\" >8.700000</td>\n",
       "      <td id=\"T_84586_row5_col2\" class=\"data row5 col2\" >99.000000</td>\n",
       "    </tr>\n",
       "  </tbody>\n",
       "</table>\n"
      ],
      "text/plain": [
       "<pandas.io.formats.style.Styler at 0x2448fc12d90>"
      ]
     },
     "execution_count": 26,
     "metadata": {},
     "output_type": "execute_result"
    }
   ],
   "source": [
    "Correlation_Matrix=pd.DataFrame(round(final_data.corr(),3))*100\n",
    "Correlation_Matrix=abs(Correlation_Matrix.iloc[0:6,6:9])\n",
    "Correlation_Matrix.style.applymap(lambda x: 'background-color : yellow' if x > 50 else '')"
   ]
  },
  {
   "cell_type": "markdown",
   "metadata": {},
   "source": [
    "* Data PC1 = Dist_Taxi,Dist_Market,Dist_Hospital\n",
    "* Data PC2 = Carpet, Builtup\n",
    "* Data PC3 = Rainfall"
   ]
  },
  {
   "cell_type": "markdown",
   "metadata": {},
   "source": [
    "# Submission to Business"
   ]
  },
  {
   "cell_type": "markdown",
   "metadata": {},
   "source": [
    "#### Coefficient Values "
   ]
  },
  {
   "cell_type": "code",
   "execution_count": 27,
   "metadata": {},
   "outputs": [
    {
     "data": {
      "text/plain": [
       "array([[-0.58073993, -0.51944522, -0.62408786,  0.00354015,  0.00349942,\n",
       "        -0.05837261],\n",
       "       [ 0.0147218 , -0.01752286,  0.01458963,  0.70551362,  0.70550669,\n",
       "        -0.06143455],\n",
       "       [ 0.0923583 , -0.04204714,  0.0413229 , -0.04504566, -0.04515597,\n",
       "        -0.99193056]])"
      ]
     },
     "execution_count": 27,
     "metadata": {},
     "output_type": "execute_result"
    }
   ],
   "source": [
    "principalComponents.components_"
   ]
  },
  {
   "cell_type": "code",
   "execution_count": 28,
   "metadata": {},
   "outputs": [
    {
     "data": {
      "text/html": [
       "<div>\n",
       "<style scoped>\n",
       "    .dataframe tbody tr th:only-of-type {\n",
       "        vertical-align: middle;\n",
       "    }\n",
       "\n",
       "    .dataframe tbody tr th {\n",
       "        vertical-align: top;\n",
       "    }\n",
       "\n",
       "    .dataframe thead th {\n",
       "        text-align: right;\n",
       "    }\n",
       "</style>\n",
       "<table border=\"1\" class=\"dataframe\">\n",
       "  <thead>\n",
       "    <tr style=\"text-align: right;\">\n",
       "      <th></th>\n",
       "      <th>Data PC1</th>\n",
       "      <th>Data PC2</th>\n",
       "      <th>Data PC3</th>\n",
       "    </tr>\n",
       "  </thead>\n",
       "  <tbody>\n",
       "    <tr>\n",
       "      <th>0</th>\n",
       "      <td>1.466173</td>\n",
       "      <td>1.004491</td>\n",
       "      <td>1.005782</td>\n",
       "    </tr>\n",
       "    <tr>\n",
       "      <th>1</th>\n",
       "      <td>0.788433</td>\n",
       "      <td>0.009529</td>\n",
       "      <td>2.190918</td>\n",
       "    </tr>\n",
       "    <tr>\n",
       "      <th>2</th>\n",
       "      <td>-2.271545</td>\n",
       "      <td>-0.788933</td>\n",
       "      <td>0.403022</td>\n",
       "    </tr>\n",
       "    <tr>\n",
       "      <th>3</th>\n",
       "      <td>0.178285</td>\n",
       "      <td>-0.145595</td>\n",
       "      <td>0.612814</td>\n",
       "    </tr>\n",
       "    <tr>\n",
       "      <th>4</th>\n",
       "      <td>-0.976963</td>\n",
       "      <td>1.660620</td>\n",
       "      <td>1.215744</td>\n",
       "    </tr>\n",
       "    <tr>\n",
       "      <th>...</th>\n",
       "      <td>...</td>\n",
       "      <td>...</td>\n",
       "      <td>...</td>\n",
       "    </tr>\n",
       "    <tr>\n",
       "      <th>892</th>\n",
       "      <td>-1.083922</td>\n",
       "      <td>0.559950</td>\n",
       "      <td>-0.904728</td>\n",
       "    </tr>\n",
       "    <tr>\n",
       "      <th>893</th>\n",
       "      <td>1.306303</td>\n",
       "      <td>-0.578369</td>\n",
       "      <td>-0.244524</td>\n",
       "    </tr>\n",
       "    <tr>\n",
       "      <th>894</th>\n",
       "      <td>-0.056642</td>\n",
       "      <td>-1.693272</td>\n",
       "      <td>-0.956529</td>\n",
       "    </tr>\n",
       "    <tr>\n",
       "      <th>895</th>\n",
       "      <td>-3.922732</td>\n",
       "      <td>-0.994885</td>\n",
       "      <td>0.418438</td>\n",
       "    </tr>\n",
       "    <tr>\n",
       "      <th>896</th>\n",
       "      <td>-0.960806</td>\n",
       "      <td>-1.782649</td>\n",
       "      <td>-1.062644</td>\n",
       "    </tr>\n",
       "  </tbody>\n",
       "</table>\n",
       "<p>897 rows × 3 columns</p>\n",
       "</div>"
      ],
      "text/plain": [
       "     Data PC1  Data PC2  Data PC3\n",
       "0    1.466173  1.004491  1.005782\n",
       "1    0.788433  0.009529  2.190918\n",
       "2   -2.271545 -0.788933  0.403022\n",
       "3    0.178285 -0.145595  0.612814\n",
       "4   -0.976963  1.660620  1.215744\n",
       "..        ...       ...       ...\n",
       "892 -1.083922  0.559950 -0.904728\n",
       "893  1.306303 -0.578369 -0.244524\n",
       "894 -0.056642 -1.693272 -0.956529\n",
       "895 -3.922732 -0.994885  0.418438\n",
       "896 -0.960806 -1.782649 -1.062644\n",
       "\n",
       "[897 rows x 3 columns]"
      ]
     },
     "execution_count": 28,
     "metadata": {},
     "output_type": "execute_result"
    }
   ],
   "source": [
    "principalDf"
   ]
  },
  {
   "cell_type": "markdown",
   "metadata": {},
   "source": [
    "# Converting Unsupervised to Supervised -- Combining PC's & Y Variable"
   ]
  },
  {
   "cell_type": "code",
   "execution_count": 29,
   "metadata": {},
   "outputs": [
    {
     "data": {
      "text/html": [
       "<div>\n",
       "<style scoped>\n",
       "    .dataframe tbody tr th:only-of-type {\n",
       "        vertical-align: middle;\n",
       "    }\n",
       "\n",
       "    .dataframe tbody tr th {\n",
       "        vertical-align: top;\n",
       "    }\n",
       "\n",
       "    .dataframe thead th {\n",
       "        text-align: right;\n",
       "    }\n",
       "</style>\n",
       "<table border=\"1\" class=\"dataframe\">\n",
       "  <thead>\n",
       "    <tr style=\"text-align: right;\">\n",
       "      <th></th>\n",
       "      <th>Data PC1</th>\n",
       "      <th>Data PC2</th>\n",
       "      <th>Data PC3</th>\n",
       "      <th>House_Price</th>\n",
       "    </tr>\n",
       "  </thead>\n",
       "  <tbody>\n",
       "    <tr>\n",
       "      <th>0</th>\n",
       "      <td>1.466173</td>\n",
       "      <td>1.004491</td>\n",
       "      <td>1.005782</td>\n",
       "      <td>6649000</td>\n",
       "    </tr>\n",
       "    <tr>\n",
       "      <th>1</th>\n",
       "      <td>0.788433</td>\n",
       "      <td>0.009529</td>\n",
       "      <td>2.190918</td>\n",
       "      <td>3982000</td>\n",
       "    </tr>\n",
       "    <tr>\n",
       "      <th>2</th>\n",
       "      <td>-2.271545</td>\n",
       "      <td>-0.788933</td>\n",
       "      <td>0.403022</td>\n",
       "      <td>5401000</td>\n",
       "    </tr>\n",
       "    <tr>\n",
       "      <th>3</th>\n",
       "      <td>0.178285</td>\n",
       "      <td>-0.145595</td>\n",
       "      <td>0.612814</td>\n",
       "      <td>5373000</td>\n",
       "    </tr>\n",
       "    <tr>\n",
       "      <th>4</th>\n",
       "      <td>-0.976963</td>\n",
       "      <td>1.660620</td>\n",
       "      <td>1.215744</td>\n",
       "      <td>4662000</td>\n",
       "    </tr>\n",
       "    <tr>\n",
       "      <th>...</th>\n",
       "      <td>...</td>\n",
       "      <td>...</td>\n",
       "      <td>...</td>\n",
       "      <td>...</td>\n",
       "    </tr>\n",
       "    <tr>\n",
       "      <th>892</th>\n",
       "      <td>-1.083922</td>\n",
       "      <td>0.559950</td>\n",
       "      <td>-0.904728</td>\n",
       "      <td>6639000</td>\n",
       "    </tr>\n",
       "    <tr>\n",
       "      <th>893</th>\n",
       "      <td>1.306303</td>\n",
       "      <td>-0.578369</td>\n",
       "      <td>-0.244524</td>\n",
       "      <td>8208000</td>\n",
       "    </tr>\n",
       "    <tr>\n",
       "      <th>894</th>\n",
       "      <td>-0.056642</td>\n",
       "      <td>-1.693272</td>\n",
       "      <td>-0.956529</td>\n",
       "      <td>7644000</td>\n",
       "    </tr>\n",
       "    <tr>\n",
       "      <th>895</th>\n",
       "      <td>-3.922732</td>\n",
       "      <td>-0.994885</td>\n",
       "      <td>0.418438</td>\n",
       "      <td>9661000</td>\n",
       "    </tr>\n",
       "    <tr>\n",
       "      <th>896</th>\n",
       "      <td>-0.960806</td>\n",
       "      <td>-1.782649</td>\n",
       "      <td>-1.062644</td>\n",
       "      <td>5434000</td>\n",
       "    </tr>\n",
       "  </tbody>\n",
       "</table>\n",
       "<p>897 rows × 4 columns</p>\n",
       "</div>"
      ],
      "text/plain": [
       "     Data PC1  Data PC2  Data PC3  House_Price\n",
       "0    1.466173  1.004491  1.005782      6649000\n",
       "1    0.788433  0.009529  2.190918      3982000\n",
       "2   -2.271545 -0.788933  0.403022      5401000\n",
       "3    0.178285 -0.145595  0.612814      5373000\n",
       "4   -0.976963  1.660620  1.215744      4662000\n",
       "..        ...       ...       ...          ...\n",
       "892 -1.083922  0.559950 -0.904728      6639000\n",
       "893  1.306303 -0.578369 -0.244524      8208000\n",
       "894 -0.056642 -1.693272 -0.956529      7644000\n",
       "895 -3.922732 -0.994885  0.418438      9661000\n",
       "896 -0.960806 -1.782649 -1.062644      5434000\n",
       "\n",
       "[897 rows x 4 columns]"
      ]
     },
     "execution_count": 29,
     "metadata": {},
     "output_type": "execute_result"
    }
   ],
   "source": [
    "train=pd.concat([principalDf,y_train],axis=1)\n",
    "train"
   ]
  },
  {
   "cell_type": "markdown",
   "metadata": {},
   "source": [
    "# Finished "
   ]
  }
 ],
 "metadata": {
  "kernelspec": {
   "display_name": "Python 3 (ipykernel)",
   "language": "python",
   "name": "python3"
  },
  "language_info": {
   "codemirror_mode": {
    "name": "ipython",
    "version": 3
   },
   "file_extension": ".py",
   "mimetype": "text/x-python",
   "name": "python",
   "nbconvert_exporter": "python",
   "pygments_lexer": "ipython3",
   "version": "3.9.13"
  }
 },
 "nbformat": 4,
 "nbformat_minor": 2
}
