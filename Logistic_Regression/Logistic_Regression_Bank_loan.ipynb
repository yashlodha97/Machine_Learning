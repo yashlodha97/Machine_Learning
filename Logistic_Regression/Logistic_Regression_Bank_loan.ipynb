{
 "cells": [
  {
   "cell_type": "markdown",
   "metadata": {},
   "source": [
    "# Objective\n",
    "\n",
    "* Predict whether the customer ( Applicant ) loan will be Reject ( Bad ) or Approved ( Good )\n",
    "\n",
    "* Yes = loan Reject , No =loan approved"
   ]
  },
  {
   "cell_type": "code",
   "execution_count": 45,
   "metadata": {},
   "outputs": [
    {
     "data": {
      "text/html": [
       "        <script type=\"text/javascript\">\n",
       "        window.PlotlyConfig = {MathJaxConfig: 'local'};\n",
       "        if (window.MathJax && window.MathJax.Hub && window.MathJax.Hub.Config) {window.MathJax.Hub.Config({SVG: {font: \"STIX-Web\"}});}\n",
       "        if (typeof require !== 'undefined') {\n",
       "        require.undef(\"plotly\");\n",
       "        requirejs.config({\n",
       "            paths: {\n",
       "                'plotly': ['https://cdn.plot.ly/plotly-2.12.1.min']\n",
       "            }\n",
       "        });\n",
       "        require(['plotly'], function(Plotly) {\n",
       "            window._Plotly = Plotly;\n",
       "        });\n",
       "        }\n",
       "        </script>\n",
       "        "
      ]
     },
     "metadata": {},
     "output_type": "display_data"
    }
   ],
   "source": [
    "#Importing libraries\n",
    "import numpy as np # linear algebra\n",
    "import pandas as pd # data processing, CSV file I/O \n",
    "import os\n",
    "import itertools\n",
    "import warnings\n",
    "warnings.filterwarnings(\"ignore\")\n",
    "import io\n",
    "\n",
    "################# visualization #################\n",
    "import matplotlib.pyplot as plt \n",
    "from PIL import  Image\n",
    "import seaborn as sns \n",
    "import plotly.offline as py\n",
    "py.init_notebook_mode(connected=True)\n",
    "import plotly.graph_objs as go\n",
    "import plotly.tools as tls\n",
    "import plotly.figure_factory as ff"
   ]
  },
  {
   "cell_type": "markdown",
   "metadata": {},
   "source": [
    "# 1. Data Importing"
   ]
  },
  {
   "cell_type": "code",
   "execution_count": 47,
   "metadata": {},
   "outputs": [
    {
     "data": {
      "text/html": [
       "<div>\n",
       "<style scoped>\n",
       "    .dataframe tbody tr th:only-of-type {\n",
       "        vertical-align: middle;\n",
       "    }\n",
       "\n",
       "    .dataframe tbody tr th {\n",
       "        vertical-align: top;\n",
       "    }\n",
       "\n",
       "    .dataframe thead th {\n",
       "        text-align: right;\n",
       "    }\n",
       "</style>\n",
       "<table border=\"1\" class=\"dataframe\">\n",
       "  <thead>\n",
       "    <tr style=\"text-align: right;\">\n",
       "      <th></th>\n",
       "      <th>Loan_ID</th>\n",
       "      <th>Age</th>\n",
       "      <th>Gender</th>\n",
       "      <th>Married</th>\n",
       "      <th>Dependents</th>\n",
       "      <th>Education</th>\n",
       "      <th>Self_Employed</th>\n",
       "      <th>ApplicantIncome</th>\n",
       "      <th>LoanAmount</th>\n",
       "      <th>Previous_Loan_Taken</th>\n",
       "      <th>Cibil_Score</th>\n",
       "      <th>Property_Area</th>\n",
       "      <th>Customer_Bandwith</th>\n",
       "      <th>Tenure</th>\n",
       "      <th>Loan_Status</th>\n",
       "    </tr>\n",
       "  </thead>\n",
       "  <tbody>\n",
       "    <tr>\n",
       "      <th>0</th>\n",
       "      <td>LP001002</td>\n",
       "      <td>43</td>\n",
       "      <td>Male</td>\n",
       "      <td>No</td>\n",
       "      <td>3</td>\n",
       "      <td>Graduate</td>\n",
       "      <td>No</td>\n",
       "      <td>54005</td>\n",
       "      <td>334113</td>\n",
       "      <td>Yes</td>\n",
       "      <td>668</td>\n",
       "      <td>Urban</td>\n",
       "      <td>Good</td>\n",
       "      <td>43</td>\n",
       "      <td>No</td>\n",
       "    </tr>\n",
       "    <tr>\n",
       "      <th>1</th>\n",
       "      <td>LP001003</td>\n",
       "      <td>57</td>\n",
       "      <td>Male</td>\n",
       "      <td>Yes</td>\n",
       "      <td>2</td>\n",
       "      <td>Graduate</td>\n",
       "      <td>No</td>\n",
       "      <td>28817</td>\n",
       "      <td>736026</td>\n",
       "      <td>Yes</td>\n",
       "      <td>684</td>\n",
       "      <td>Rural</td>\n",
       "      <td>Good</td>\n",
       "      <td>13</td>\n",
       "      <td>Yes</td>\n",
       "    </tr>\n",
       "    <tr>\n",
       "      <th>2</th>\n",
       "      <td>LP001005</td>\n",
       "      <td>25</td>\n",
       "      <td>Male</td>\n",
       "      <td>Yes</td>\n",
       "      <td>3</td>\n",
       "      <td>Graduate</td>\n",
       "      <td>Yes</td>\n",
       "      <td>99939</td>\n",
       "      <td>712432</td>\n",
       "      <td>Yes</td>\n",
       "      <td>788</td>\n",
       "      <td>Urban</td>\n",
       "      <td>Good</td>\n",
       "      <td>10</td>\n",
       "      <td>No</td>\n",
       "    </tr>\n",
       "    <tr>\n",
       "      <th>3</th>\n",
       "      <td>LP001006</td>\n",
       "      <td>44</td>\n",
       "      <td>Male</td>\n",
       "      <td>Yes</td>\n",
       "      <td>1</td>\n",
       "      <td>Not Graduate</td>\n",
       "      <td>No</td>\n",
       "      <td>38470</td>\n",
       "      <td>267161</td>\n",
       "      <td>Yes</td>\n",
       "      <td>888</td>\n",
       "      <td>Urban</td>\n",
       "      <td>Good</td>\n",
       "      <td>9</td>\n",
       "      <td>No</td>\n",
       "    </tr>\n",
       "    <tr>\n",
       "      <th>4</th>\n",
       "      <td>LP001008</td>\n",
       "      <td>58</td>\n",
       "      <td>Male</td>\n",
       "      <td>No</td>\n",
       "      <td>1</td>\n",
       "      <td>Graduate</td>\n",
       "      <td>No</td>\n",
       "      <td>28991</td>\n",
       "      <td>402474</td>\n",
       "      <td>Yes</td>\n",
       "      <td>703</td>\n",
       "      <td>Urban</td>\n",
       "      <td>Good</td>\n",
       "      <td>11</td>\n",
       "      <td>No</td>\n",
       "    </tr>\n",
       "  </tbody>\n",
       "</table>\n",
       "</div>"
      ],
      "text/plain": [
       "    Loan_ID  Age Gender Married  Dependents     Education Self_Employed  \\\n",
       "0  LP001002   43   Male      No           3      Graduate            No   \n",
       "1  LP001003   57   Male     Yes           2      Graduate            No   \n",
       "2  LP001005   25   Male     Yes           3      Graduate           Yes   \n",
       "3  LP001006   44   Male     Yes           1  Not Graduate            No   \n",
       "4  LP001008   58   Male      No           1      Graduate            No   \n",
       "\n",
       "   ApplicantIncome  LoanAmount Previous_Loan_Taken  Cibil_Score Property_Area  \\\n",
       "0            54005      334113                 Yes          668         Urban   \n",
       "1            28817      736026                 Yes          684         Rural   \n",
       "2            99939      712432                 Yes          788         Urban   \n",
       "3            38470      267161                 Yes          888         Urban   \n",
       "4            28991      402474                 Yes          703         Urban   \n",
       "\n",
       "  Customer_Bandwith  Tenure Loan_Status  \n",
       "0              Good      43          No  \n",
       "1              Good      13         Yes  \n",
       "2              Good      10          No  \n",
       "3              Good       9          No  \n",
       "4              Good      11          No  "
      ]
     },
     "execution_count": 47,
     "metadata": {},
     "output_type": "execute_result"
    }
   ],
   "source": [
    "import pandas as pd\n",
    "Bank = pd.read_csv (r\"C:\\Users\\Dell\\Desktop\\Machine Learning\\Bank_Loan.csv\")\n",
    "\n",
    "#first few rows\n",
    "Bank.head()"
   ]
  },
  {
   "cell_type": "markdown",
   "metadata": {},
   "source": [
    "# 2. Data Pre-Processing \n",
    "\n",
    "1. Data Type and conversion\n",
    "2. Identifying & Treatment Missing Value "
   ]
  },
  {
   "cell_type": "markdown",
   "metadata": {},
   "source": [
    "#### 2.1. Data Type and conversion"
   ]
  },
  {
   "cell_type": "code",
   "execution_count": 3,
   "metadata": {},
   "outputs": [
    {
     "name": "stdout",
     "output_type": "stream",
     "text": [
      "<class 'pandas.core.frame.DataFrame'>\n",
      "RangeIndex: 981 entries, 0 to 980\n",
      "Data columns (total 15 columns):\n",
      " #   Column               Non-Null Count  Dtype \n",
      "---  ------               --------------  ----- \n",
      " 0   Loan_ID              981 non-null    object\n",
      " 1   Age                  981 non-null    int64 \n",
      " 2   Gender               957 non-null    object\n",
      " 3   Married              978 non-null    object\n",
      " 4   Dependents           981 non-null    int64 \n",
      " 5   Education            981 non-null    object\n",
      " 6   Self_Employed        926 non-null    object\n",
      " 7   ApplicantIncome      981 non-null    int64 \n",
      " 8   LoanAmount           981 non-null    int64 \n",
      " 9   Previous_Loan_Taken  981 non-null    object\n",
      " 10  Cibil_Score          981 non-null    int64 \n",
      " 11  Property_Area        981 non-null    object\n",
      " 12  Customer_Bandwith    981 non-null    object\n",
      " 13  Tenure               981 non-null    int64 \n",
      " 14  Loan_Status          981 non-null    object\n",
      "dtypes: int64(6), object(9)\n",
      "memory usage: 115.1+ KB\n"
     ]
    }
   ],
   "source": [
    "Bank.info()"
   ]
  },
  {
   "cell_type": "markdown",
   "metadata": {},
   "source": [
    "#### 2.2. Identifying & Treatment Missing Value"
   ]
  },
  {
   "cell_type": "code",
   "execution_count": 4,
   "metadata": {},
   "outputs": [
    {
     "data": {
      "text/plain": [
       "Loan_ID                 0\n",
       "Age                     0\n",
       "Gender                 24\n",
       "Married                 3\n",
       "Dependents              0\n",
       "Education               0\n",
       "Self_Employed          55\n",
       "ApplicantIncome         0\n",
       "LoanAmount              0\n",
       "Previous_Loan_Taken     0\n",
       "Cibil_Score             0\n",
       "Property_Area           0\n",
       "Customer_Bandwith       0\n",
       "Tenure                  0\n",
       "Loan_Status             0\n",
       "dtype: int64"
      ]
     },
     "execution_count": 4,
     "metadata": {},
     "output_type": "execute_result"
    }
   ],
   "source": [
    "# count the number of NaN values in each column\n",
    "Bank.isnull().sum()"
   ]
  },
  {
   "cell_type": "code",
   "execution_count": 5,
   "metadata": {},
   "outputs": [
    {
     "data": {
      "text/html": [
       "<div>\n",
       "<style scoped>\n",
       "    .dataframe tbody tr th:only-of-type {\n",
       "        vertical-align: middle;\n",
       "    }\n",
       "\n",
       "    .dataframe tbody tr th {\n",
       "        vertical-align: top;\n",
       "    }\n",
       "\n",
       "    .dataframe thead th {\n",
       "        text-align: right;\n",
       "    }\n",
       "</style>\n",
       "<table border=\"1\" class=\"dataframe\">\n",
       "  <thead>\n",
       "    <tr style=\"text-align: right;\">\n",
       "      <th></th>\n",
       "      <th>Loan_ID</th>\n",
       "      <th>Age</th>\n",
       "      <th>Gender</th>\n",
       "      <th>Married</th>\n",
       "      <th>Dependents</th>\n",
       "      <th>Education</th>\n",
       "      <th>Self_Employed</th>\n",
       "      <th>ApplicantIncome</th>\n",
       "      <th>LoanAmount</th>\n",
       "      <th>Previous_Loan_Taken</th>\n",
       "      <th>Cibil_Score</th>\n",
       "      <th>Property_Area</th>\n",
       "      <th>Customer_Bandwith</th>\n",
       "      <th>Tenure</th>\n",
       "      <th>Loan_Status</th>\n",
       "    </tr>\n",
       "  </thead>\n",
       "  <tbody>\n",
       "    <tr>\n",
       "      <th>0</th>\n",
       "      <td>LP001002</td>\n",
       "      <td>43</td>\n",
       "      <td>Male</td>\n",
       "      <td>No</td>\n",
       "      <td>3</td>\n",
       "      <td>Graduate</td>\n",
       "      <td>No</td>\n",
       "      <td>54005</td>\n",
       "      <td>334113</td>\n",
       "      <td>Yes</td>\n",
       "      <td>668</td>\n",
       "      <td>Urban</td>\n",
       "      <td>Good</td>\n",
       "      <td>43</td>\n",
       "      <td>No</td>\n",
       "    </tr>\n",
       "    <tr>\n",
       "      <th>1</th>\n",
       "      <td>LP001003</td>\n",
       "      <td>57</td>\n",
       "      <td>Male</td>\n",
       "      <td>Yes</td>\n",
       "      <td>2</td>\n",
       "      <td>Graduate</td>\n",
       "      <td>No</td>\n",
       "      <td>28817</td>\n",
       "      <td>736026</td>\n",
       "      <td>Yes</td>\n",
       "      <td>684</td>\n",
       "      <td>Rural</td>\n",
       "      <td>Good</td>\n",
       "      <td>13</td>\n",
       "      <td>Yes</td>\n",
       "    </tr>\n",
       "    <tr>\n",
       "      <th>2</th>\n",
       "      <td>LP001005</td>\n",
       "      <td>25</td>\n",
       "      <td>Male</td>\n",
       "      <td>Yes</td>\n",
       "      <td>3</td>\n",
       "      <td>Graduate</td>\n",
       "      <td>Yes</td>\n",
       "      <td>99939</td>\n",
       "      <td>712432</td>\n",
       "      <td>Yes</td>\n",
       "      <td>788</td>\n",
       "      <td>Urban</td>\n",
       "      <td>Good</td>\n",
       "      <td>10</td>\n",
       "      <td>No</td>\n",
       "    </tr>\n",
       "    <tr>\n",
       "      <th>3</th>\n",
       "      <td>LP001006</td>\n",
       "      <td>44</td>\n",
       "      <td>Male</td>\n",
       "      <td>Yes</td>\n",
       "      <td>1</td>\n",
       "      <td>Not Graduate</td>\n",
       "      <td>No</td>\n",
       "      <td>38470</td>\n",
       "      <td>267161</td>\n",
       "      <td>Yes</td>\n",
       "      <td>888</td>\n",
       "      <td>Urban</td>\n",
       "      <td>Good</td>\n",
       "      <td>9</td>\n",
       "      <td>No</td>\n",
       "    </tr>\n",
       "    <tr>\n",
       "      <th>4</th>\n",
       "      <td>LP001008</td>\n",
       "      <td>58</td>\n",
       "      <td>Male</td>\n",
       "      <td>No</td>\n",
       "      <td>1</td>\n",
       "      <td>Graduate</td>\n",
       "      <td>No</td>\n",
       "      <td>28991</td>\n",
       "      <td>402474</td>\n",
       "      <td>Yes</td>\n",
       "      <td>703</td>\n",
       "      <td>Urban</td>\n",
       "      <td>Good</td>\n",
       "      <td>11</td>\n",
       "      <td>No</td>\n",
       "    </tr>\n",
       "  </tbody>\n",
       "</table>\n",
       "</div>"
      ],
      "text/plain": [
       "    Loan_ID  Age Gender Married  Dependents     Education Self_Employed  \\\n",
       "0  LP001002   43   Male      No           3      Graduate            No   \n",
       "1  LP001003   57   Male     Yes           2      Graduate            No   \n",
       "2  LP001005   25   Male     Yes           3      Graduate           Yes   \n",
       "3  LP001006   44   Male     Yes           1  Not Graduate            No   \n",
       "4  LP001008   58   Male      No           1      Graduate            No   \n",
       "\n",
       "   ApplicantIncome  LoanAmount Previous_Loan_Taken  Cibil_Score Property_Area  \\\n",
       "0            54005      334113                 Yes          668         Urban   \n",
       "1            28817      736026                 Yes          684         Rural   \n",
       "2            99939      712432                 Yes          788         Urban   \n",
       "3            38470      267161                 Yes          888         Urban   \n",
       "4            28991      402474                 Yes          703         Urban   \n",
       "\n",
       "  Customer_Bandwith  Tenure Loan_Status  \n",
       "0              Good      43          No  \n",
       "1              Good      13         Yes  \n",
       "2              Good      10          No  \n",
       "3              Good       9          No  \n",
       "4              Good      11          No  "
      ]
     },
     "execution_count": 5,
     "metadata": {},
     "output_type": "execute_result"
    }
   ],
   "source": [
    "Bank.head()"
   ]
  },
  {
   "cell_type": "markdown",
   "metadata": {},
   "source": [
    "#### Replacing Missing value by Mode"
   ]
  },
  {
   "cell_type": "code",
   "execution_count": 6,
   "metadata": {},
   "outputs": [
    {
     "data": {
      "text/plain": [
       "Yes    631\n",
       "No     347\n",
       "NaN      3\n",
       "Name: Married, dtype: int64"
      ]
     },
     "execution_count": 6,
     "metadata": {},
     "output_type": "execute_result"
    }
   ],
   "source": [
    "Bank.Married.value_counts(dropna=False)"
   ]
  },
  {
   "cell_type": "code",
   "execution_count": 7,
   "metadata": {},
   "outputs": [],
   "source": [
    "for column in ['Married','Gender','Self_Employed']:\n",
    "    Bank[column].fillna(Bank[column].mode()[0], inplace=True)"
   ]
  },
  {
   "cell_type": "code",
   "execution_count": 8,
   "metadata": {},
   "outputs": [
    {
     "data": {
      "text/plain": [
       "Yes    634\n",
       "No     347\n",
       "Name: Married, dtype: int64"
      ]
     },
     "execution_count": 8,
     "metadata": {},
     "output_type": "execute_result"
    }
   ],
   "source": [
    "Bank.Married.value_counts(dropna=False)"
   ]
  },
  {
   "cell_type": "code",
   "execution_count": 9,
   "metadata": {
    "scrolled": true
   },
   "outputs": [
    {
     "name": "stdout",
     "output_type": "stream",
     "text": [
      "Loan_ID                0\n",
      "Age                    0\n",
      "Gender                 0\n",
      "Married                0\n",
      "Dependents             0\n",
      "Education              0\n",
      "Self_Employed          0\n",
      "ApplicantIncome        0\n",
      "LoanAmount             0\n",
      "Previous_Loan_Taken    0\n",
      "Cibil_Score            0\n",
      "Property_Area          0\n",
      "Customer_Bandwith      0\n",
      "Tenure                 0\n",
      "Loan_Status            0\n",
      "dtype: int64\n"
     ]
    }
   ],
   "source": [
    "# count the number of NaN values in each column\n",
    "print(Bank.isnull().sum())"
   ]
  },
  {
   "cell_type": "code",
   "execution_count": 10,
   "metadata": {},
   "outputs": [
    {
     "data": {
      "text/html": [
       "<div>\n",
       "<style scoped>\n",
       "    .dataframe tbody tr th:only-of-type {\n",
       "        vertical-align: middle;\n",
       "    }\n",
       "\n",
       "    .dataframe tbody tr th {\n",
       "        vertical-align: top;\n",
       "    }\n",
       "\n",
       "    .dataframe thead th {\n",
       "        text-align: right;\n",
       "    }\n",
       "</style>\n",
       "<table border=\"1\" class=\"dataframe\">\n",
       "  <thead>\n",
       "    <tr style=\"text-align: right;\">\n",
       "      <th></th>\n",
       "      <th>Loan_ID</th>\n",
       "      <th>Age</th>\n",
       "      <th>Gender</th>\n",
       "      <th>Married</th>\n",
       "      <th>Dependents</th>\n",
       "      <th>Education</th>\n",
       "      <th>Self_Employed</th>\n",
       "      <th>ApplicantIncome</th>\n",
       "      <th>LoanAmount</th>\n",
       "      <th>Previous_Loan_Taken</th>\n",
       "      <th>Cibil_Score</th>\n",
       "      <th>Property_Area</th>\n",
       "      <th>Customer_Bandwith</th>\n",
       "      <th>Tenure</th>\n",
       "      <th>Loan_Status</th>\n",
       "    </tr>\n",
       "  </thead>\n",
       "  <tbody>\n",
       "    <tr>\n",
       "      <th>0</th>\n",
       "      <td>LP001002</td>\n",
       "      <td>43</td>\n",
       "      <td>Male</td>\n",
       "      <td>No</td>\n",
       "      <td>3</td>\n",
       "      <td>Graduate</td>\n",
       "      <td>No</td>\n",
       "      <td>54005</td>\n",
       "      <td>334113</td>\n",
       "      <td>Yes</td>\n",
       "      <td>668</td>\n",
       "      <td>Urban</td>\n",
       "      <td>Good</td>\n",
       "      <td>43</td>\n",
       "      <td>No</td>\n",
       "    </tr>\n",
       "    <tr>\n",
       "      <th>1</th>\n",
       "      <td>LP001003</td>\n",
       "      <td>57</td>\n",
       "      <td>Male</td>\n",
       "      <td>Yes</td>\n",
       "      <td>2</td>\n",
       "      <td>Graduate</td>\n",
       "      <td>No</td>\n",
       "      <td>28817</td>\n",
       "      <td>736026</td>\n",
       "      <td>Yes</td>\n",
       "      <td>684</td>\n",
       "      <td>Rural</td>\n",
       "      <td>Good</td>\n",
       "      <td>13</td>\n",
       "      <td>Yes</td>\n",
       "    </tr>\n",
       "    <tr>\n",
       "      <th>2</th>\n",
       "      <td>LP001005</td>\n",
       "      <td>25</td>\n",
       "      <td>Male</td>\n",
       "      <td>Yes</td>\n",
       "      <td>3</td>\n",
       "      <td>Graduate</td>\n",
       "      <td>Yes</td>\n",
       "      <td>99939</td>\n",
       "      <td>712432</td>\n",
       "      <td>Yes</td>\n",
       "      <td>788</td>\n",
       "      <td>Urban</td>\n",
       "      <td>Good</td>\n",
       "      <td>10</td>\n",
       "      <td>No</td>\n",
       "    </tr>\n",
       "    <tr>\n",
       "      <th>3</th>\n",
       "      <td>LP001006</td>\n",
       "      <td>44</td>\n",
       "      <td>Male</td>\n",
       "      <td>Yes</td>\n",
       "      <td>1</td>\n",
       "      <td>Not Graduate</td>\n",
       "      <td>No</td>\n",
       "      <td>38470</td>\n",
       "      <td>267161</td>\n",
       "      <td>Yes</td>\n",
       "      <td>888</td>\n",
       "      <td>Urban</td>\n",
       "      <td>Good</td>\n",
       "      <td>9</td>\n",
       "      <td>No</td>\n",
       "    </tr>\n",
       "    <tr>\n",
       "      <th>4</th>\n",
       "      <td>LP001008</td>\n",
       "      <td>58</td>\n",
       "      <td>Male</td>\n",
       "      <td>No</td>\n",
       "      <td>1</td>\n",
       "      <td>Graduate</td>\n",
       "      <td>No</td>\n",
       "      <td>28991</td>\n",
       "      <td>402474</td>\n",
       "      <td>Yes</td>\n",
       "      <td>703</td>\n",
       "      <td>Urban</td>\n",
       "      <td>Good</td>\n",
       "      <td>11</td>\n",
       "      <td>No</td>\n",
       "    </tr>\n",
       "  </tbody>\n",
       "</table>\n",
       "</div>"
      ],
      "text/plain": [
       "    Loan_ID  Age Gender Married  Dependents     Education Self_Employed  \\\n",
       "0  LP001002   43   Male      No           3      Graduate            No   \n",
       "1  LP001003   57   Male     Yes           2      Graduate            No   \n",
       "2  LP001005   25   Male     Yes           3      Graduate           Yes   \n",
       "3  LP001006   44   Male     Yes           1  Not Graduate            No   \n",
       "4  LP001008   58   Male      No           1      Graduate            No   \n",
       "\n",
       "   ApplicantIncome  LoanAmount Previous_Loan_Taken  Cibil_Score Property_Area  \\\n",
       "0            54005      334113                 Yes          668         Urban   \n",
       "1            28817      736026                 Yes          684         Rural   \n",
       "2            99939      712432                 Yes          788         Urban   \n",
       "3            38470      267161                 Yes          888         Urban   \n",
       "4            28991      402474                 Yes          703         Urban   \n",
       "\n",
       "  Customer_Bandwith  Tenure Loan_Status  \n",
       "0              Good      43          No  \n",
       "1              Good      13         Yes  \n",
       "2              Good      10          No  \n",
       "3              Good       9          No  \n",
       "4              Good      11          No  "
      ]
     },
     "execution_count": 10,
     "metadata": {},
     "output_type": "execute_result"
    }
   ],
   "source": [
    "Bank.head()"
   ]
  },
  {
   "cell_type": "code",
   "execution_count": 11,
   "metadata": {},
   "outputs": [],
   "source": [
    "#Tenure to categorical column\n",
    "def tenure_lab(Bank) :\n",
    "    if Bank[\"Tenure\"] <= 6 :\n",
    "        return \"Tenure_0_6\"\n",
    "    elif (Bank[\"Tenure\"] > 6) & (Bank[\"Tenure\"] <= 12 ):\n",
    "        return \"Tenure_7_12\"\n",
    "    elif (Bank[\"Tenure\"] > 12) & (Bank[\"Tenure\"] <= 24) :\n",
    "        return \"Tenure_13_24\"\n",
    "    elif (Bank[\"Tenure\"] > 24) & (Bank[\"Tenure\"] <= 36) :\n",
    "        return \"Tenure_25-36\"\n",
    "    elif Bank[\"Tenure\"] > 36 :\n",
    "        return \"Tenure_gt_36\"\n",
    "# banK = x\n",
    "Bank[\"Tenure_group\"] = Bank.apply(lambda x :tenure_lab(x),axis = 1)"
   ]
  },
  {
   "cell_type": "code",
   "execution_count": 12,
   "metadata": {
    "scrolled": true
   },
   "outputs": [
    {
     "data": {
      "text/html": [
       "<div>\n",
       "<style scoped>\n",
       "    .dataframe tbody tr th:only-of-type {\n",
       "        vertical-align: middle;\n",
       "    }\n",
       "\n",
       "    .dataframe tbody tr th {\n",
       "        vertical-align: top;\n",
       "    }\n",
       "\n",
       "    .dataframe thead th {\n",
       "        text-align: right;\n",
       "    }\n",
       "</style>\n",
       "<table border=\"1\" class=\"dataframe\">\n",
       "  <thead>\n",
       "    <tr style=\"text-align: right;\">\n",
       "      <th></th>\n",
       "      <th>Loan_ID</th>\n",
       "      <th>Age</th>\n",
       "      <th>Gender</th>\n",
       "      <th>Married</th>\n",
       "      <th>Dependents</th>\n",
       "      <th>Education</th>\n",
       "      <th>Self_Employed</th>\n",
       "      <th>ApplicantIncome</th>\n",
       "      <th>LoanAmount</th>\n",
       "      <th>Previous_Loan_Taken</th>\n",
       "      <th>Cibil_Score</th>\n",
       "      <th>Property_Area</th>\n",
       "      <th>Customer_Bandwith</th>\n",
       "      <th>Tenure</th>\n",
       "      <th>Loan_Status</th>\n",
       "      <th>Tenure_group</th>\n",
       "    </tr>\n",
       "  </thead>\n",
       "  <tbody>\n",
       "    <tr>\n",
       "      <th>0</th>\n",
       "      <td>LP001002</td>\n",
       "      <td>43</td>\n",
       "      <td>Male</td>\n",
       "      <td>No</td>\n",
       "      <td>3</td>\n",
       "      <td>Graduate</td>\n",
       "      <td>No</td>\n",
       "      <td>54005</td>\n",
       "      <td>334113</td>\n",
       "      <td>Yes</td>\n",
       "      <td>668</td>\n",
       "      <td>Urban</td>\n",
       "      <td>Good</td>\n",
       "      <td>43</td>\n",
       "      <td>No</td>\n",
       "      <td>Tenure_gt_36</td>\n",
       "    </tr>\n",
       "    <tr>\n",
       "      <th>1</th>\n",
       "      <td>LP001003</td>\n",
       "      <td>57</td>\n",
       "      <td>Male</td>\n",
       "      <td>Yes</td>\n",
       "      <td>2</td>\n",
       "      <td>Graduate</td>\n",
       "      <td>No</td>\n",
       "      <td>28817</td>\n",
       "      <td>736026</td>\n",
       "      <td>Yes</td>\n",
       "      <td>684</td>\n",
       "      <td>Rural</td>\n",
       "      <td>Good</td>\n",
       "      <td>13</td>\n",
       "      <td>Yes</td>\n",
       "      <td>Tenure_13_24</td>\n",
       "    </tr>\n",
       "    <tr>\n",
       "      <th>2</th>\n",
       "      <td>LP001005</td>\n",
       "      <td>25</td>\n",
       "      <td>Male</td>\n",
       "      <td>Yes</td>\n",
       "      <td>3</td>\n",
       "      <td>Graduate</td>\n",
       "      <td>Yes</td>\n",
       "      <td>99939</td>\n",
       "      <td>712432</td>\n",
       "      <td>Yes</td>\n",
       "      <td>788</td>\n",
       "      <td>Urban</td>\n",
       "      <td>Good</td>\n",
       "      <td>10</td>\n",
       "      <td>No</td>\n",
       "      <td>Tenure_7_12</td>\n",
       "    </tr>\n",
       "    <tr>\n",
       "      <th>3</th>\n",
       "      <td>LP001006</td>\n",
       "      <td>44</td>\n",
       "      <td>Male</td>\n",
       "      <td>Yes</td>\n",
       "      <td>1</td>\n",
       "      <td>Not Graduate</td>\n",
       "      <td>No</td>\n",
       "      <td>38470</td>\n",
       "      <td>267161</td>\n",
       "      <td>Yes</td>\n",
       "      <td>888</td>\n",
       "      <td>Urban</td>\n",
       "      <td>Good</td>\n",
       "      <td>9</td>\n",
       "      <td>No</td>\n",
       "      <td>Tenure_7_12</td>\n",
       "    </tr>\n",
       "    <tr>\n",
       "      <th>4</th>\n",
       "      <td>LP001008</td>\n",
       "      <td>58</td>\n",
       "      <td>Male</td>\n",
       "      <td>No</td>\n",
       "      <td>1</td>\n",
       "      <td>Graduate</td>\n",
       "      <td>No</td>\n",
       "      <td>28991</td>\n",
       "      <td>402474</td>\n",
       "      <td>Yes</td>\n",
       "      <td>703</td>\n",
       "      <td>Urban</td>\n",
       "      <td>Good</td>\n",
       "      <td>11</td>\n",
       "      <td>No</td>\n",
       "      <td>Tenure_7_12</td>\n",
       "    </tr>\n",
       "  </tbody>\n",
       "</table>\n",
       "</div>"
      ],
      "text/plain": [
       "    Loan_ID  Age Gender Married  Dependents     Education Self_Employed  \\\n",
       "0  LP001002   43   Male      No           3      Graduate            No   \n",
       "1  LP001003   57   Male     Yes           2      Graduate            No   \n",
       "2  LP001005   25   Male     Yes           3      Graduate           Yes   \n",
       "3  LP001006   44   Male     Yes           1  Not Graduate            No   \n",
       "4  LP001008   58   Male      No           1      Graduate            No   \n",
       "\n",
       "   ApplicantIncome  LoanAmount Previous_Loan_Taken  Cibil_Score Property_Area  \\\n",
       "0            54005      334113                 Yes          668         Urban   \n",
       "1            28817      736026                 Yes          684         Rural   \n",
       "2            99939      712432                 Yes          788         Urban   \n",
       "3            38470      267161                 Yes          888         Urban   \n",
       "4            28991      402474                 Yes          703         Urban   \n",
       "\n",
       "  Customer_Bandwith  Tenure Loan_Status  Tenure_group  \n",
       "0              Good      43          No  Tenure_gt_36  \n",
       "1              Good      13         Yes  Tenure_13_24  \n",
       "2              Good      10          No   Tenure_7_12  \n",
       "3              Good       9          No   Tenure_7_12  \n",
       "4              Good      11          No   Tenure_7_12  "
      ]
     },
     "execution_count": 12,
     "metadata": {},
     "output_type": "execute_result"
    }
   ],
   "source": [
    "Bank.head()"
   ]
  },
  {
   "cell_type": "code",
   "execution_count": 13,
   "metadata": {},
   "outputs": [
    {
     "data": {
      "text/plain": [
       "<AxesSubplot:xlabel='Age'>"
      ]
     },
     "execution_count": 13,
     "metadata": {},
     "output_type": "execute_result"
    },
    {
     "data": {
      "image/png": "[encoded data removed]",
      "text/plain": [
       "<Figure size 640x480 with 1 Axes>"
      ]
     },
     "metadata": {},
     "output_type": "display_data"
    }
   ],
   "source": [
    "sns.boxplot(Bank.Age)"
   ]
  },
  {
   "cell_type": "code",
   "execution_count": 14,
   "metadata": {},
   "outputs": [
    {
     "data": {
      "text/plain": [
       "Tenure_gt_36    267\n",
       "Tenure_13_24    266\n",
       "Tenure_25-36    259\n",
       "Tenure_7_12     131\n",
       "Tenure_0_6       58\n",
       "Name: Tenure_group, dtype: int64"
      ]
     },
     "execution_count": 14,
     "metadata": {},
     "output_type": "execute_result"
    }
   ],
   "source": [
    "Bank.Tenure_group.value_counts(dropna=False)"
   ]
  },
  {
   "cell_type": "code",
   "execution_count": 15,
   "metadata": {},
   "outputs": [
    {
     "data": {
      "text/plain": [
       "80.73394495412845"
      ]
     },
     "execution_count": 15,
     "metadata": {},
     "output_type": "execute_result"
    }
   ],
   "source": [
    "((267+266+259)/981)*100"
   ]
  },
  {
   "cell_type": "markdown",
   "metadata": {},
   "source": [
    "* 80% of customer required loan tenure for more than a Year"
   ]
  },
  {
   "cell_type": "markdown",
   "metadata": {},
   "source": [
    "# Data Visualization"
   ]
  },
  {
   "cell_type": "markdown",
   "metadata": {},
   "source": [
    "#### Bad Rate Analysis "
   ]
  },
  {
   "cell_type": "code",
   "execution_count": 16,
   "metadata": {
    "scrolled": true
   },
   "outputs": [
    {
     "data": {
      "text/plain": [
       "No     712\n",
       "Yes    269\n",
       "Name: Loan_Status, dtype: int64"
      ]
     },
     "execution_count": 16,
     "metadata": {},
     "output_type": "execute_result"
    }
   ],
   "source": [
    "Bank.Loan_Status.value_counts()"
   ]
  },
  {
   "cell_type": "code",
   "execution_count": 17,
   "metadata": {},
   "outputs": [
    {
     "data": {
      "text/plain": [
       "27.42099898063201"
      ]
     },
     "execution_count": 17,
     "metadata": {},
     "output_type": "execute_result"
    }
   ],
   "source": [
    "(269/981)*100 # 27% is bad rate in data "
   ]
  },
  {
   "cell_type": "code",
   "execution_count": 18,
   "metadata": {},
   "outputs": [
    {
     "data": {
      "application/vnd.plotly.v1+json": {
       "config": {
        "plotlyServerURL": "https://plot.ly"
       },
       "data": [
        {
         "customdata": [
          [
           "No"
          ],
          [
           "Yes"
          ],
          [
           "No"
          ],
          [
           "No"
          ],
          [
           "No"
          ],
          [
           "No"
          ],
          [
           "No"
          ],
          [
           "Yes"
          ],
          [
           "No"
          ],
          [
           "Yes"
          ],
          [
           "No"
          ],
          [
           "No"
          ],
          [
           "No"
          ],
          [
           "Yes"
          ],
          [
           "No"
          ],
          [
           "No"
          ],
          [
           "No"
          ],
          [
           "Yes"
          ],
          [
           "Yes"
          ],
          [
           "No"
          ],
          [
           "Yes"
          ],
          [
           "No"
          ],
          [
           "Yes"
          ],
          [
           "Yes"
          ],
          [
           "Yes"
          ],
          [
           "No"
          ],
          [
           "No"
          ],
          [
           "No"
          ],
          [
           "Yes"
          ],
          [
           "No"
          ],
          [
           "Yes"
          ],
          [
           "Yes"
          ],
          [
           "Yes"
          ],
          [
           "No"
          ],
          [
           "Yes"
          ],
          [
           "No"
          ],
          [
           "Yes"
          ],
          [
           "No"
          ],
          [
           "No"
          ],
          [
           "No"
          ],
          [
           "Yes"
          ],
          [
           "No"
          ],
          [
           "No"
          ],
          [
           "No"
          ],
          [
           "No"
          ],
          [
           "No"
          ],
          [
           "No"
          ],
          [
           "No"
          ],
          [
           "Yes"
          ],
          [
           "No"
          ],
          [
           "No"
          ],
          [
           "No"
          ],
          [
           "Yes"
          ],
          [
           "Yes"
          ],
          [
           "Yes"
          ],
          [
           "No"
          ],
          [
           "No"
          ],
          [
           "Yes"
          ],
          [
           "No"
          ],
          [
           "No"
          ],
          [
           "No"
          ],
          [
           "No"
          ],
          [
           "Yes"
          ],
          [
           "Yes"
          ],
          [
           "Yes"
          ],
          [
           "Yes"
          ],
          [
           "Yes"
          ],
          [
           "No"
          ],
          [
           "No"
          ],
          [
           "Yes"
          ],
          [
           "No"
          ],
          [
           "No"
          ],
          [
           "No"
          ],
          [
           "Yes"
          ],
          [
           "No"
          ],
          [
           "Yes"
          ],
          [
           "Yes"
          ],
          [
           "Yes"
          ],
          [
           "Yes"
          ],
          [
           "No"
          ],
          [
           "No"
          ],
          [
           "No"
          ],
          [
           "Yes"
          ],
          [
           "Yes"
          ],
          [
           "No"
          ],
          [
           "No"
          ],
          [
           "No"
          ],
          [
           "No"
          ],
          [
           "No"
          ],
          [
           "No"
          ],
          [
           "No"
          ],
          [
           "No"
          ],
          [
           "No"
          ],
          [
           "No"
          ],
          [
           "No"
          ],
          [
           "Yes"
          ],
          [
           "No"
          ],
          [
           "No"
          ],
          [
           "No"
          ],
          [
           "No"
          ],
          [
           "No"
          ],
          [
           "No"
          ],
          [
           "No"
          ],
          [
           "No"
          ],
          [
           "No"
          ],
          [
           "No"
          ],
          [
           "No"
          ],
          [
           "Yes"
          ],
          [
           "Yes"
          ],
          [
           "No"
          ],
          [
           "No"
          ],
          [
           "No"
          ],
          [
           "Yes"
          ],
          [
           "No"
          ],
          [
           "No"
          ],
          [
           "No"
          ],
          [
           "No"
          ],
          [
           "No"
          ],
          [
           "Yes"
          ],
          [
           "No"
          ],
          [
           "No"
          ],
          [
           "No"
          ],
          [
           "No"
          ],
          [
           "No"
          ],
          [
           "No"
          ],
          [
           "No"
          ],
          [
           "No"
          ],
          [
           "No"
          ],
          [
           "Yes"
          ],
          [
           "Yes"
          ],
          [
           "No"
          ],
          [
           "No"
          ],
          [
           "No"
          ],
          [
           "No"
          ],
          [
           "No"
          ],
          [
           "Yes"
          ],
          [
           "Yes"
          ],
          [
           "No"
          ],
          [
           "Yes"
          ],
          [
           "Yes"
          ],
          [
           "Yes"
          ],
          [
           "No"
          ],
          [
           "No"
          ],
          [
           "No"
          ],
          [
           "No"
          ],
          [
           "No"
          ],
          [
           "No"
          ],
          [
           "No"
          ],
          [
           "Yes"
          ],
          [
           "No"
          ],
          [
           "Yes"
          ],
          [
           "No"
          ],
          [
           "Yes"
          ],
          [
           "Yes"
          ],
          [
           "No"
          ],
          [
           "No"
          ],
          [
           "No"
          ],
          [
           "No"
          ],
          [
           "No"
          ],
          [
           "No"
          ],
          [
           "No"
          ],
          [
           "Yes"
          ],
          [
           "Yes"
          ],
          [
           "No"
          ],
          [
           "No"
          ],
          [
           "No"
          ],
          [
           "Yes"
          ],
          [
           "No"
          ],
          [
           "Yes"
          ],
          [
           "No"
          ],
          [
           "No"
          ],
          [
           "No"
          ],
          [
           "Yes"
          ],
          [
           "No"
          ],
          [
           "Yes"
          ],
          [
           "No"
          ],
          [
           "No"
          ],
          [
           "Yes"
          ],
          [
           "No"
          ],
          [
           "Yes"
          ],
          [
           "Yes"
          ],
          [
           "Yes"
          ],
          [
           "No"
          ],
          [
           "Yes"
          ],
          [
           "No"
          ],
          [
           "No"
          ],
          [
           "Yes"
          ],
          [
           "No"
          ],
          [
           "No"
          ],
          [
           "No"
          ],
          [
           "No"
          ],
          [
           "Yes"
          ],
          [
           "Yes"
          ],
          [
           "No"
          ],
          [
           "No"
          ],
          [
           "Yes"
          ],
          [
           "No"
          ],
          [
           "No"
          ],
          [
           "No"
          ],
          [
           "Yes"
          ],
          [
           "No"
          ],
          [
           "No"
          ],
          [
           "Yes"
          ],
          [
           "No"
          ],
          [
           "No"
          ],
          [
           "No"
          ],
          [
           "No"
          ],
          [
           "No"
          ],
          [
           "No"
          ],
          [
           "Yes"
          ],
          [
           "Yes"
          ],
          [
           "Yes"
          ],
          [
           "No"
          ],
          [
           "No"
          ],
          [
           "No"
          ],
          [
           "No"
          ],
          [
           "Yes"
          ],
          [
           "No"
          ],
          [
           "Yes"
          ],
          [
           "No"
          ],
          [
           "Yes"
          ],
          [
           "No"
          ],
          [
           "No"
          ],
          [
           "No"
          ],
          [
           "No"
          ],
          [
           "Yes"
          ],
          [
           "Yes"
          ],
          [
           "No"
          ],
          [
           "No"
          ],
          [
           "No"
          ],
          [
           "No"
          ],
          [
           "No"
          ],
          [
           "No"
          ],
          [
           "No"
          ],
          [
           "No"
          ],
          [
           "No"
          ],
          [
           "Yes"
          ],
          [
           "No"
          ],
          [
           "No"
          ],
          [
           "No"
          ],
          [
           "No"
          ],
          [
           "Yes"
          ],
          [
           "No"
          ],
          [
           "No"
          ],
          [
           "No"
          ],
          [
           "Yes"
          ],
          [
           "No"
          ],
          [
           "No"
          ],
          [
           "No"
          ],
          [
           "No"
          ],
          [
           "Yes"
          ],
          [
           "Yes"
          ],
          [
           "No"
          ],
          [
           "No"
          ],
          [
           "Yes"
          ],
          [
           "No"
          ],
          [
           "Yes"
          ],
          [
           "Yes"
          ],
          [
           "Yes"
          ],
          [
           "Yes"
          ],
          [
           "No"
          ],
          [
           "No"
          ],
          [
           "Yes"
          ],
          [
           "No"
          ],
          [
           "No"
          ],
          [
           "No"
          ],
          [
           "No"
          ],
          [
           "No"
          ],
          [
           "Yes"
          ],
          [
           "No"
          ],
          [
           "No"
          ],
          [
           "No"
          ],
          [
           "No"
          ],
          [
           "No"
          ],
          [
           "No"
          ],
          [
           "No"
          ],
          [
           "No"
          ],
          [
           "No"
          ],
          [
           "No"
          ],
          [
           "No"
          ],
          [
           "Yes"
          ],
          [
           "No"
          ],
          [
           "No"
          ],
          [
           "No"
          ],
          [
           "Yes"
          ],
          [
           "No"
          ],
          [
           "Yes"
          ],
          [
           "No"
          ],
          [
           "No"
          ],
          [
           "No"
          ],
          [
           "No"
          ],
          [
           "Yes"
          ],
          [
           "No"
          ],
          [
           "Yes"
          ],
          [
           "No"
          ],
          [
           "No"
          ],
          [
           "No"
          ],
          [
           "No"
          ],
          [
           "Yes"
          ],
          [
           "Yes"
          ],
          [
           "Yes"
          ],
          [
           "No"
          ],
          [
           "No"
          ],
          [
           "No"
          ],
          [
           "No"
          ],
          [
           "Yes"
          ],
          [
           "No"
          ],
          [
           "Yes"
          ],
          [
           "Yes"
          ],
          [
           "No"
          ],
          [
           "No"
          ],
          [
           "No"
          ],
          [
           "No"
          ],
          [
           "No"
          ],
          [
           "Yes"
          ],
          [
           "No"
          ],
          [
           "No"
          ],
          [
           "No"
          ],
          [
           "No"
          ],
          [
           "Yes"
          ],
          [
           "No"
          ],
          [
           "No"
          ],
          [
           "No"
          ],
          [
           "No"
          ],
          [
           "No"
          ],
          [
           "Yes"
          ],
          [
           "No"
          ],
          [
           "No"
          ],
          [
           "Yes"
          ],
          [
           "No"
          ],
          [
           "No"
          ],
          [
           "No"
          ],
          [
           "No"
          ],
          [
           "No"
          ],
          [
           "No"
          ],
          [
           "No"
          ],
          [
           "No"
          ],
          [
           "No"
          ],
          [
           "Yes"
          ],
          [
           "No"
          ],
          [
           "Yes"
          ],
          [
           "Yes"
          ],
          [
           "No"
          ],
          [
           "No"
          ],
          [
           "No"
          ],
          [
           "No"
          ],
          [
           "Yes"
          ],
          [
           "No"
          ],
          [
           "No"
          ],
          [
           "No"
          ],
          [
           "No"
          ],
          [
           "Yes"
          ],
          [
           "No"
          ],
          [
           "Yes"
          ],
          [
           "No"
          ],
          [
           "No"
          ],
          [
           "No"
          ],
          [
           "Yes"
          ],
          [
           "Yes"
          ],
          [
           "No"
          ],
          [
           "Yes"
          ],
          [
           "No"
          ],
          [
           "No"
          ],
          [
           "No"
          ],
          [
           "No"
          ],
          [
           "Yes"
          ],
          [
           "Yes"
          ],
          [
           "Yes"
          ],
          [
           "No"
          ],
          [
           "Yes"
          ],
          [
           "No"
          ],
          [
           "No"
          ],
          [
           "No"
          ],
          [
           "Yes"
          ],
          [
           "No"
          ],
          [
           "No"
          ],
          [
           "No"
          ],
          [
           "No"
          ],
          [
           "Yes"
          ],
          [
           "No"
          ],
          [
           "No"
          ],
          [
           "No"
          ],
          [
           "No"
          ],
          [
           "No"
          ],
          [
           "Yes"
          ],
          [
           "No"
          ],
          [
           "No"
          ],
          [
           "Yes"
          ],
          [
           "No"
          ],
          [
           "No"
          ],
          [
           "No"
          ],
          [
           "No"
          ],
          [
           "No"
          ],
          [
           "No"
          ],
          [
           "No"
          ],
          [
           "No"
          ],
          [
           "Yes"
          ],
          [
           "No"
          ],
          [
           "No"
          ],
          [
           "Yes"
          ],
          [
           "Yes"
          ],
          [
           "Yes"
          ],
          [
           "No"
          ],
          [
           "No"
          ],
          [
           "Yes"
          ],
          [
           "No"
          ],
          [
           "No"
          ],
          [
           "No"
          ],
          [
           "Yes"
          ],
          [
           "Yes"
          ],
          [
           "Yes"
          ],
          [
           "No"
          ],
          [
           "Yes"
          ],
          [
           "No"
          ],
          [
           "Yes"
          ],
          [
           "No"
          ],
          [
           "Yes"
          ],
          [
           "Yes"
          ],
          [
           "No"
          ],
          [
           "No"
          ],
          [
           "No"
          ],
          [
           "Yes"
          ],
          [
           "No"
          ],
          [
           "Yes"
          ],
          [
           "No"
          ],
          [
           "No"
          ],
          [
           "Yes"
          ],
          [
           "No"
          ],
          [
           "No"
          ],
          [
           "No"
          ],
          [
           "No"
          ],
          [
           "Yes"
          ],
          [
           "No"
          ],
          [
           "No"
          ],
          [
           "No"
          ],
          [
           "No"
          ],
          [
           "No"
          ],
          [
           "No"
          ],
          [
           "Yes"
          ],
          [
           "No"
          ],
          [
           "No"
          ],
          [
           "No"
          ],
          [
           "No"
          ],
          [
           "No"
          ],
          [
           "No"
          ],
          [
           "No"
          ],
          [
           "No"
          ],
          [
           "Yes"
          ],
          [
           "Yes"
          ],
          [
           "Yes"
          ],
          [
           "Yes"
          ],
          [
           "No"
          ],
          [
           "Yes"
          ],
          [
           "No"
          ],
          [
           "No"
          ],
          [
           "No"
          ],
          [
           "No"
          ],
          [
           "Yes"
          ],
          [
           "No"
          ],
          [
           "Yes"
          ],
          [
           "No"
          ],
          [
           "No"
          ],
          [
           "No"
          ],
          [
           "No"
          ],
          [
           "Yes"
          ],
          [
           "No"
          ],
          [
           "Yes"
          ],
          [
           "No"
          ],
          [
           "No"
          ],
          [
           "Yes"
          ],
          [
           "No"
          ],
          [
           "Yes"
          ],
          [
           "No"
          ],
          [
           "No"
          ],
          [
           "No"
          ],
          [
           "No"
          ],
          [
           "No"
          ],
          [
           "Yes"
          ],
          [
           "No"
          ],
          [
           "Yes"
          ],
          [
           "No"
          ],
          [
           "No"
          ],
          [
           "No"
          ],
          [
           "No"
          ],
          [
           "No"
          ],
          [
           "No"
          ],
          [
           "Yes"
          ],
          [
           "Yes"
          ],
          [
           "No"
          ],
          [
           "Yes"
          ],
          [
           "No"
          ],
          [
           "No"
          ],
          [
           "No"
          ],
          [
           "No"
          ],
          [
           "Yes"
          ],
          [
           "No"
          ],
          [
           "No"
          ],
          [
           "No"
          ],
          [
           "No"
          ],
          [
           "Yes"
          ],
          [
           "No"
          ],
          [
           "No"
          ],
          [
           "No"
          ],
          [
           "Yes"
          ],
          [
           "No"
          ],
          [
           "No"
          ],
          [
           "No"
          ],
          [
           "Yes"
          ],
          [
           "No"
          ],
          [
           "No"
          ],
          [
           "Yes"
          ],
          [
           "No"
          ],
          [
           "No"
          ],
          [
           "Yes"
          ],
          [
           "Yes"
          ],
          [
           "No"
          ],
          [
           "No"
          ],
          [
           "Yes"
          ],
          [
           "Yes"
          ],
          [
           "Yes"
          ],
          [
           "No"
          ],
          [
           "No"
          ],
          [
           "No"
          ],
          [
           "No"
          ],
          [
           "Yes"
          ],
          [
           "No"
          ],
          [
           "No"
          ],
          [
           "No"
          ],
          [
           "No"
          ],
          [
           "No"
          ],
          [
           "No"
          ],
          [
           "No"
          ],
          [
           "Yes"
          ],
          [
           "Yes"
          ],
          [
           "No"
          ],
          [
           "No"
          ],
          [
           "No"
          ],
          [
           "No"
          ],
          [
           "Yes"
          ],
          [
           "No"
          ],
          [
           "No"
          ],
          [
           "Yes"
          ],
          [
           "No"
          ],
          [
           "No"
          ],
          [
           "No"
          ],
          [
           "No"
          ],
          [
           "Yes"
          ],
          [
           "No"
          ],
          [
           "Yes"
          ],
          [
           "No"
          ],
          [
           "Yes"
          ],
          [
           "No"
          ],
          [
           "No"
          ],
          [
           "Yes"
          ],
          [
           "Yes"
          ],
          [
           "No"
          ],
          [
           "No"
          ],
          [
           "No"
          ],
          [
           "No"
          ],
          [
           "No"
          ],
          [
           "No"
          ],
          [
           "No"
          ],
          [
           "No"
          ],
          [
           "No"
          ],
          [
           "Yes"
          ],
          [
           "No"
          ],
          [
           "No"
          ],
          [
           "Yes"
          ],
          [
           "Yes"
          ],
          [
           "Yes"
          ],
          [
           "No"
          ],
          [
           "Yes"
          ],
          [
           "No"
          ],
          [
           "Yes"
          ],
          [
           "Yes"
          ],
          [
           "No"
          ],
          [
           "Yes"
          ],
          [
           "No"
          ],
          [
           "No"
          ],
          [
           "No"
          ],
          [
           "No"
          ],
          [
           "Yes"
          ],
          [
           "No"
          ],
          [
           "Yes"
          ],
          [
           "Yes"
          ],
          [
           "Yes"
          ],
          [
           "No"
          ],
          [
           "No"
          ],
          [
           "No"
          ],
          [
           "Yes"
          ],
          [
           "No"
          ],
          [
           "Yes"
          ],
          [
           "No"
          ],
          [
           "No"
          ],
          [
           "No"
          ],
          [
           "No"
          ],
          [
           "Yes"
          ],
          [
           "Yes"
          ],
          [
           "No"
          ],
          [
           "No"
          ],
          [
           "Yes"
          ],
          [
           "No"
          ],
          [
           "No"
          ],
          [
           "No"
          ],
          [
           "No"
          ],
          [
           "Yes"
          ],
          [
           "No"
          ],
          [
           "No"
          ],
          [
           "No"
          ],
          [
           "No"
          ],
          [
           "No"
          ],
          [
           "No"
          ],
          [
           "No"
          ],
          [
           "Yes"
          ],
          [
           "No"
          ],
          [
           "No"
          ],
          [
           "No"
          ],
          [
           "No"
          ],
          [
           "Yes"
          ],
          [
           "No"
          ],
          [
           "No"
          ],
          [
           "Yes"
          ],
          [
           "No"
          ],
          [
           "No"
          ],
          [
           "No"
          ],
          [
           "No"
          ],
          [
           "No"
          ],
          [
           "Yes"
          ],
          [
           "No"
          ],
          [
           "No"
          ],
          [
           "No"
          ],
          [
           "No"
          ],
          [
           "No"
          ],
          [
           "No"
          ],
          [
           "No"
          ],
          [
           "No"
          ],
          [
           "No"
          ],
          [
           "No"
          ],
          [
           "No"
          ],
          [
           "Yes"
          ],
          [
           "No"
          ],
          [
           "No"
          ],
          [
           "No"
          ],
          [
           "No"
          ],
          [
           "No"
          ],
          [
           "No"
          ],
          [
           "No"
          ],
          [
           "No"
          ],
          [
           "No"
          ],
          [
           "Yes"
          ],
          [
           "No"
          ],
          [
           "No"
          ],
          [
           "No"
          ],
          [
           "No"
          ],
          [
           "No"
          ],
          [
           "No"
          ],
          [
           "No"
          ],
          [
           "No"
          ],
          [
           "No"
          ],
          [
           "No"
          ],
          [
           "No"
          ],
          [
           "No"
          ],
          [
           "No"
          ],
          [
           "No"
          ],
          [
           "No"
          ],
          [
           "No"
          ],
          [
           "No"
          ],
          [
           "No"
          ],
          [
           "No"
          ],
          [
           "Yes"
          ],
          [
           "No"
          ],
          [
           "No"
          ],
          [
           "Yes"
          ],
          [
           "No"
          ],
          [
           "No"
          ],
          [
           "No"
          ],
          [
           "No"
          ],
          [
           "Yes"
          ],
          [
           "No"
          ],
          [
           "No"
          ],
          [
           "Yes"
          ],
          [
           "Yes"
          ],
          [
           "No"
          ],
          [
           "Yes"
          ],
          [
           "No"
          ],
          [
           "No"
          ],
          [
           "No"
          ],
          [
           "No"
          ],
          [
           "No"
          ],
          [
           "No"
          ],
          [
           "No"
          ],
          [
           "No"
          ],
          [
           "No"
          ],
          [
           "No"
          ],
          [
           "Yes"
          ],
          [
           "No"
          ],
          [
           "Yes"
          ],
          [
           "Yes"
          ],
          [
           "Yes"
          ],
          [
           "No"
          ],
          [
           "No"
          ],
          [
           "No"
          ],
          [
           "No"
          ],
          [
           "Yes"
          ],
          [
           "No"
          ],
          [
           "No"
          ],
          [
           "No"
          ],
          [
           "No"
          ],
          [
           "Yes"
          ],
          [
           "No"
          ],
          [
           "No"
          ],
          [
           "No"
          ],
          [
           "No"
          ],
          [
           "No"
          ],
          [
           "No"
          ],
          [
           "Yes"
          ],
          [
           "No"
          ],
          [
           "No"
          ],
          [
           "No"
          ],
          [
           "No"
          ],
          [
           "Yes"
          ],
          [
           "No"
          ],
          [
           "No"
          ],
          [
           "No"
          ],
          [
           "No"
          ],
          [
           "No"
          ],
          [
           "No"
          ],
          [
           "No"
          ],
          [
           "No"
          ],
          [
           "No"
          ],
          [
           "Yes"
          ],
          [
           "Yes"
          ],
          [
           "Yes"
          ],
          [
           "Yes"
          ],
          [
           "No"
          ],
          [
           "No"
          ],
          [
           "No"
          ],
          [
           "Yes"
          ],
          [
           "Yes"
          ],
          [
           "No"
          ],
          [
           "Yes"
          ],
          [
           "No"
          ],
          [
           "No"
          ],
          [
           "No"
          ],
          [
           "No"
          ],
          [
           "Yes"
          ],
          [
           "No"
          ],
          [
           "No"
          ],
          [
           "No"
          ],
          [
           "No"
          ],
          [
           "No"
          ],
          [
           "No"
          ],
          [
           "No"
          ],
          [
           "No"
          ],
          [
           "Yes"
          ],
          [
           "No"
          ],
          [
           "Yes"
          ],
          [
           "No"
          ],
          [
           "No"
          ],
          [
           "No"
          ],
          [
           "No"
          ],
          [
           "Yes"
          ],
          [
           "No"
          ],
          [
           "No"
          ],
          [
           "No"
          ],
          [
           "No"
          ],
          [
           "No"
          ],
          [
           "Yes"
          ],
          [
           "No"
          ],
          [
           "No"
          ],
          [
           "No"
          ],
          [
           "Yes"
          ],
          [
           "No"
          ],
          [
           "Yes"
          ],
          [
           "No"
          ],
          [
           "Yes"
          ],
          [
           "No"
          ],
          [
           "No"
          ],
          [
           "No"
          ],
          [
           "Yes"
          ],
          [
           "Yes"
          ],
          [
           "No"
          ],
          [
           "Yes"
          ],
          [
           "Yes"
          ],
          [
           "No"
          ],
          [
           "No"
          ],
          [
           "Yes"
          ],
          [
           "Yes"
          ],
          [
           "Yes"
          ],
          [
           "No"
          ],
          [
           "No"
          ],
          [
           "No"
          ],
          [
           "No"
          ],
          [
           "No"
          ],
          [
           "No"
          ],
          [
           "No"
          ],
          [
           "No"
          ],
          [
           "No"
          ],
          [
           "No"
          ],
          [
           "No"
          ],
          [
           "No"
          ],
          [
           "No"
          ],
          [
           "No"
          ],
          [
           "No"
          ],
          [
           "No"
          ],
          [
           "No"
          ],
          [
           "Yes"
          ],
          [
           "Yes"
          ],
          [
           "Yes"
          ],
          [
           "No"
          ],
          [
           "Yes"
          ],
          [
           "No"
          ],
          [
           "Yes"
          ],
          [
           "No"
          ],
          [
           "No"
          ],
          [
           "No"
          ],
          [
           "No"
          ],
          [
           "No"
          ],
          [
           "No"
          ],
          [
           "No"
          ],
          [
           "No"
          ],
          [
           "No"
          ],
          [
           "Yes"
          ],
          [
           "No"
          ],
          [
           "No"
          ],
          [
           "Yes"
          ],
          [
           "No"
          ],
          [
           "No"
          ],
          [
           "No"
          ],
          [
           "No"
          ],
          [
           "No"
          ],
          [
           "No"
          ],
          [
           "No"
          ],
          [
           "No"
          ],
          [
           "No"
          ],
          [
           "No"
          ],
          [
           "No"
          ],
          [
           "No"
          ],
          [
           "Yes"
          ],
          [
           "No"
          ],
          [
           "No"
          ],
          [
           "No"
          ],
          [
           "No"
          ],
          [
           "Yes"
          ],
          [
           "No"
          ],
          [
           "No"
          ],
          [
           "No"
          ],
          [
           "No"
          ],
          [
           "No"
          ],
          [
           "Yes"
          ],
          [
           "Yes"
          ],
          [
           "No"
          ],
          [
           "No"
          ],
          [
           "Yes"
          ],
          [
           "No"
          ],
          [
           "Yes"
          ],
          [
           "No"
          ],
          [
           "Yes"
          ],
          [
           "No"
          ],
          [
           "Yes"
          ],
          [
           "No"
          ],
          [
           "No"
          ],
          [
           "No"
          ],
          [
           "No"
          ],
          [
           "Yes"
          ],
          [
           "No"
          ],
          [
           "No"
          ],
          [
           "No"
          ],
          [
           "No"
          ],
          [
           "Yes"
          ],
          [
           "No"
          ],
          [
           "No"
          ],
          [
           "No"
          ],
          [
           "Yes"
          ],
          [
           "No"
          ],
          [
           "No"
          ],
          [
           "Yes"
          ],
          [
           "No"
          ],
          [
           "No"
          ],
          [
           "No"
          ],
          [
           "Yes"
          ],
          [
           "No"
          ],
          [
           "Yes"
          ],
          [
           "Yes"
          ],
          [
           "No"
          ],
          [
           "No"
          ],
          [
           "No"
          ],
          [
           "Yes"
          ],
          [
           "Yes"
          ],
          [
           "No"
          ],
          [
           "No"
          ],
          [
           "No"
          ],
          [
           "Yes"
          ],
          [
           "No"
          ],
          [
           "No"
          ],
          [
           "No"
          ],
          [
           "No"
          ],
          [
           "No"
          ],
          [
           "No"
          ],
          [
           "No"
          ],
          [
           "No"
          ],
          [
           "No"
          ],
          [
           "No"
          ],
          [
           "No"
          ],
          [
           "No"
          ],
          [
           "No"
          ],
          [
           "Yes"
          ],
          [
           "Yes"
          ],
          [
           "No"
          ],
          [
           "No"
          ],
          [
           "No"
          ],
          [
           "Yes"
          ],
          [
           "No"
          ],
          [
           "No"
          ],
          [
           "No"
          ],
          [
           "Yes"
          ],
          [
           "No"
          ],
          [
           "No"
          ],
          [
           "No"
          ],
          [
           "No"
          ],
          [
           "No"
          ],
          [
           "No"
          ],
          [
           "No"
          ],
          [
           "No"
          ],
          [
           "No"
          ],
          [
           "Yes"
          ],
          [
           "No"
          ],
          [
           "No"
          ],
          [
           "No"
          ],
          [
           "No"
          ],
          [
           "No"
          ],
          [
           "Yes"
          ],
          [
           "No"
          ],
          [
           "No"
          ],
          [
           "No"
          ],
          [
           "No"
          ],
          [
           "No"
          ],
          [
           "No"
          ],
          [
           "No"
          ],
          [
           "Yes"
          ],
          [
           "No"
          ],
          [
           "No"
          ],
          [
           "No"
          ],
          [
           "No"
          ],
          [
           "No"
          ],
          [
           "No"
          ],
          [
           "No"
          ],
          [
           "No"
          ],
          [
           "No"
          ],
          [
           "No"
          ],
          [
           "No"
          ],
          [
           "No"
          ],
          [
           "No"
          ],
          [
           "Yes"
          ],
          [
           "No"
          ],
          [
           "No"
          ],
          [
           "Yes"
          ],
          [
           "No"
          ],
          [
           "No"
          ],
          [
           "No"
          ],
          [
           "Yes"
          ],
          [
           "No"
          ],
          [
           "No"
          ],
          [
           "No"
          ],
          [
           "No"
          ],
          [
           "No"
          ],
          [
           "No"
          ],
          [
           "No"
          ],
          [
           "No"
          ],
          [
           "No"
          ],
          [
           "No"
          ],
          [
           "No"
          ],
          [
           "No"
          ],
          [
           "No"
          ],
          [
           "No"
          ],
          [
           "No"
          ],
          [
           "No"
          ],
          [
           "No"
          ],
          [
           "No"
          ],
          [
           "Yes"
          ],
          [
           "No"
          ]
         ],
         "domain": {
          "x": [
           0,
           1
          ],
          "y": [
           0,
           1
          ]
         },
         "hovertemplate": "Loan_Status=%{customdata[0]}<extra></extra>",
         "labels": [
          "No",
          "Yes",
          "No",
          "No",
          "No",
          "No",
          "No",
          "Yes",
          "No",
          "Yes",
          "No",
          "No",
          "No",
          "Yes",
          "No",
          "No",
          "No",
          "Yes",
          "Yes",
          "No",
          "Yes",
          "No",
          "Yes",
          "Yes",
          "Yes",
          "No",
          "No",
          "No",
          "Yes",
          "No",
          "Yes",
          "Yes",
          "Yes",
          "No",
          "Yes",
          "No",
          "Yes",
          "No",
          "No",
          "No",
          "Yes",
          "No",
          "No",
          "No",
          "No",
          "No",
          "No",
          "No",
          "Yes",
          "No",
          "No",
          "No",
          "Yes",
          "Yes",
          "Yes",
          "No",
          "No",
          "Yes",
          "No",
          "No",
          "No",
          "No",
          "Yes",
          "Yes",
          "Yes",
          "Yes",
          "Yes",
          "No",
          "No",
          "Yes",
          "No",
          "No",
          "No",
          "Yes",
          "No",
          "Yes",
          "Yes",
          "Yes",
          "Yes",
          "No",
          "No",
          "No",
          "Yes",
          "Yes",
          "No",
          "No",
          "No",
          "No",
          "No",
          "No",
          "No",
          "No",
          "No",
          "No",
          "No",
          "Yes",
          "No",
          "No",
          "No",
          "No",
          "No",
          "No",
          "No",
          "No",
          "No",
          "No",
          "No",
          "Yes",
          "Yes",
          "No",
          "No",
          "No",
          "Yes",
          "No",
          "No",
          "No",
          "No",
          "No",
          "Yes",
          "No",
          "No",
          "No",
          "No",
          "No",
          "No",
          "No",
          "No",
          "No",
          "Yes",
          "Yes",
          "No",
          "No",
          "No",
          "No",
          "No",
          "Yes",
          "Yes",
          "No",
          "Yes",
          "Yes",
          "Yes",
          "No",
          "No",
          "No",
          "No",
          "No",
          "No",
          "No",
          "Yes",
          "No",
          "Yes",
          "No",
          "Yes",
          "Yes",
          "No",
          "No",
          "No",
          "No",
          "No",
          "No",
          "No",
          "Yes",
          "Yes",
          "No",
          "No",
          "No",
          "Yes",
          "No",
          "Yes",
          "No",
          "No",
          "No",
          "Yes",
          "No",
          "Yes",
          "No",
          "No",
          "Yes",
          "No",
          "Yes",
          "Yes",
          "Yes",
          "No",
          "Yes",
          "No",
          "No",
          "Yes",
          "No",
          "No",
          "No",
          "No",
          "Yes",
          "Yes",
          "No",
          "No",
          "Yes",
          "No",
          "No",
          "No",
          "Yes",
          "No",
          "No",
          "Yes",
          "No",
          "No",
          "No",
          "No",
          "No",
          "No",
          "Yes",
          "Yes",
          "Yes",
          "No",
          "No",
          "No",
          "No",
          "Yes",
          "No",
          "Yes",
          "No",
          "Yes",
          "No",
          "No",
          "No",
          "No",
          "Yes",
          "Yes",
          "No",
          "No",
          "No",
          "No",
          "No",
          "No",
          "No",
          "No",
          "No",
          "Yes",
          "No",
          "No",
          "No",
          "No",
          "Yes",
          "No",
          "No",
          "No",
          "Yes",
          "No",
          "No",
          "No",
          "No",
          "Yes",
          "Yes",
          "No",
          "No",
          "Yes",
          "No",
          "Yes",
          "Yes",
          "Yes",
          "Yes",
          "No",
          "No",
          "Yes",
          "No",
          "No",
          "No",
          "No",
          "No",
          "Yes",
          "No",
          "No",
          "No",
          "No",
          "No",
          "No",
          "No",
          "No",
          "No",
          "No",
          "No",
          "Yes",
          "No",
          "No",
          "No",
          "Yes",
          "No",
          "Yes",
          "No",
          "No",
          "No",
          "No",
          "Yes",
          "No",
          "Yes",
          "No",
          "No",
          "No",
          "No",
          "Yes",
          "Yes",
          "Yes",
          "No",
          "No",
          "No",
          "No",
          "Yes",
          "No",
          "Yes",
          "Yes",
          "No",
          "No",
          "No",
          "No",
          "No",
          "Yes",
          "No",
          "No",
          "No",
          "No",
          "Yes",
          "No",
          "No",
          "No",
          "No",
          "No",
          "Yes",
          "No",
          "No",
          "Yes",
          "No",
          "No",
          "No",
          "No",
          "No",
          "No",
          "No",
          "No",
          "No",
          "Yes",
          "No",
          "Yes",
          "Yes",
          "No",
          "No",
          "No",
          "No",
          "Yes",
          "No",
          "No",
          "No",
          "No",
          "Yes",
          "No",
          "Yes",
          "No",
          "No",
          "No",
          "Yes",
          "Yes",
          "No",
          "Yes",
          "No",
          "No",
          "No",
          "No",
          "Yes",
          "Yes",
          "Yes",
          "No",
          "Yes",
          "No",
          "No",
          "No",
          "Yes",
          "No",
          "No",
          "No",
          "No",
          "Yes",
          "No",
          "No",
          "No",
          "No",
          "No",
          "Yes",
          "No",
          "No",
          "Yes",
          "No",
          "No",
          "No",
          "No",
          "No",
          "No",
          "No",
          "No",
          "Yes",
          "No",
          "No",
          "Yes",
          "Yes",
          "Yes",
          "No",
          "No",
          "Yes",
          "No",
          "No",
          "No",
          "Yes",
          "Yes",
          "Yes",
          "No",
          "Yes",
          "No",
          "Yes",
          "No",
          "Yes",
          "Yes",
          "No",
          "No",
          "No",
          "Yes",
          "No",
          "Yes",
          "No",
          "No",
          "Yes",
          "No",
          "No",
          "No",
          "No",
          "Yes",
          "No",
          "No",
          "No",
          "No",
          "No",
          "No",
          "Yes",
          "No",
          "No",
          "No",
          "No",
          "No",
          "No",
          "No",
          "No",
          "Yes",
          "Yes",
          "Yes",
          "Yes",
          "No",
          "Yes",
          "No",
          "No",
          "No",
          "No",
          "Yes",
          "No",
          "Yes",
          "No",
          "No",
          "No",
          "No",
          "Yes",
          "No",
          "Yes",
          "No",
          "No",
          "Yes",
          "No",
          "Yes",
          "No",
          "No",
          "No",
          "No",
          "No",
          "Yes",
          "No",
          "Yes",
          "No",
          "No",
          "No",
          "No",
          "No",
          "No",
          "Yes",
          "Yes",
          "No",
          "Yes",
          "No",
          "No",
          "No",
          "No",
          "Yes",
          "No",
          "No",
          "No",
          "No",
          "Yes",
          "No",
          "No",
          "No",
          "Yes",
          "No",
          "No",
          "No",
          "Yes",
          "No",
          "No",
          "Yes",
          "No",
          "No",
          "Yes",
          "Yes",
          "No",
          "No",
          "Yes",
          "Yes",
          "Yes",
          "No",
          "No",
          "No",
          "No",
          "Yes",
          "No",
          "No",
          "No",
          "No",
          "No",
          "No",
          "No",
          "Yes",
          "Yes",
          "No",
          "No",
          "No",
          "No",
          "Yes",
          "No",
          "No",
          "Yes",
          "No",
          "No",
          "No",
          "No",
          "Yes",
          "No",
          "Yes",
          "No",
          "Yes",
          "No",
          "No",
          "Yes",
          "Yes",
          "No",
          "No",
          "No",
          "No",
          "No",
          "No",
          "No",
          "No",
          "No",
          "Yes",
          "No",
          "No",
          "Yes",
          "Yes",
          "Yes",
          "No",
          "Yes",
          "No",
          "Yes",
          "Yes",
          "No",
          "Yes",
          "No",
          "No",
          "No",
          "No",
          "Yes",
          "No",
          "Yes",
          "Yes",
          "Yes",
          "No",
          "No",
          "No",
          "Yes",
          "No",
          "Yes",
          "No",
          "No",
          "No",
          "No",
          "Yes",
          "Yes",
          "No",
          "No",
          "Yes",
          "No",
          "No",
          "No",
          "No",
          "Yes",
          "No",
          "No",
          "No",
          "No",
          "No",
          "No",
          "No",
          "Yes",
          "No",
          "No",
          "No",
          "No",
          "Yes",
          "No",
          "No",
          "Yes",
          "No",
          "No",
          "No",
          "No",
          "No",
          "Yes",
          "No",
          "No",
          "No",
          "No",
          "No",
          "No",
          "No",
          "No",
          "No",
          "No",
          "No",
          "Yes",
          "No",
          "No",
          "No",
          "No",
          "No",
          "No",
          "No",
          "No",
          "No",
          "Yes",
          "No",
          "No",
          "No",
          "No",
          "No",
          "No",
          "No",
          "No",
          "No",
          "No",
          "No",
          "No",
          "No",
          "No",
          "No",
          "No",
          "No",
          "No",
          "No",
          "Yes",
          "No",
          "No",
          "Yes",
          "No",
          "No",
          "No",
          "No",
          "Yes",
          "No",
          "No",
          "Yes",
          "Yes",
          "No",
          "Yes",
          "No",
          "No",
          "No",
          "No",
          "No",
          "No",
          "No",
          "No",
          "No",
          "No",
          "Yes",
          "No",
          "Yes",
          "Yes",
          "Yes",
          "No",
          "No",
          "No",
          "No",
          "Yes",
          "No",
          "No",
          "No",
          "No",
          "Yes",
          "No",
          "No",
          "No",
          "No",
          "No",
          "No",
          "Yes",
          "No",
          "No",
          "No",
          "No",
          "Yes",
          "No",
          "No",
          "No",
          "No",
          "No",
          "No",
          "No",
          "No",
          "No",
          "Yes",
          "Yes",
          "Yes",
          "Yes",
          "No",
          "No",
          "No",
          "Yes",
          "Yes",
          "No",
          "Yes",
          "No",
          "No",
          "No",
          "No",
          "Yes",
          "No",
          "No",
          "No",
          "No",
          "No",
          "No",
          "No",
          "No",
          "Yes",
          "No",
          "Yes",
          "No",
          "No",
          "No",
          "No",
          "Yes",
          "No",
          "No",
          "No",
          "No",
          "No",
          "Yes",
          "No",
          "No",
          "No",
          "Yes",
          "No",
          "Yes",
          "No",
          "Yes",
          "No",
          "No",
          "No",
          "Yes",
          "Yes",
          "No",
          "Yes",
          "Yes",
          "No",
          "No",
          "Yes",
          "Yes",
          "Yes",
          "No",
          "No",
          "No",
          "No",
          "No",
          "No",
          "No",
          "No",
          "No",
          "No",
          "No",
          "No",
          "No",
          "No",
          "No",
          "No",
          "No",
          "Yes",
          "Yes",
          "Yes",
          "No",
          "Yes",
          "No",
          "Yes",
          "No",
          "No",
          "No",
          "No",
          "No",
          "No",
          "No",
          "No",
          "No",
          "Yes",
          "No",
          "No",
          "Yes",
          "No",
          "No",
          "No",
          "No",
          "No",
          "No",
          "No",
          "No",
          "No",
          "No",
          "No",
          "No",
          "Yes",
          "No",
          "No",
          "No",
          "No",
          "Yes",
          "No",
          "No",
          "No",
          "No",
          "No",
          "Yes",
          "Yes",
          "No",
          "No",
          "Yes",
          "No",
          "Yes",
          "No",
          "Yes",
          "No",
          "Yes",
          "No",
          "No",
          "No",
          "No",
          "Yes",
          "No",
          "No",
          "No",
          "No",
          "Yes",
          "No",
          "No",
          "No",
          "Yes",
          "No",
          "No",
          "Yes",
          "No",
          "No",
          "No",
          "Yes",
          "No",
          "Yes",
          "Yes",
          "No",
          "No",
          "No",
          "Yes",
          "Yes",
          "No",
          "No",
          "No",
          "Yes",
          "No",
          "No",
          "No",
          "No",
          "No",
          "No",
          "No",
          "No",
          "No",
          "No",
          "No",
          "No",
          "No",
          "Yes",
          "Yes",
          "No",
          "No",
          "No",
          "Yes",
          "No",
          "No",
          "No",
          "Yes",
          "No",
          "No",
          "No",
          "No",
          "No",
          "No",
          "No",
          "No",
          "No",
          "Yes",
          "No",
          "No",
          "No",
          "No",
          "No",
          "Yes",
          "No",
          "No",
          "No",
          "No",
          "No",
          "No",
          "No",
          "Yes",
          "No",
          "No",
          "No",
          "No",
          "No",
          "No",
          "No",
          "No",
          "No",
          "No",
          "No",
          "No",
          "No",
          "Yes",
          "No",
          "No",
          "Yes",
          "No",
          "No",
          "No",
          "Yes",
          "No",
          "No",
          "No",
          "No",
          "No",
          "No",
          "No",
          "No",
          "No",
          "No",
          "No",
          "No",
          "No",
          "No",
          "No",
          "No",
          "No",
          "No",
          "Yes",
          "No"
         ],
         "legendgroup": "",
         "marker": {
          "colors": [
           "green",
           "red",
           "green",
           "green",
           "green",
           "green",
           "green",
           "red",
           "green",
           "red",
           "green",
           "green",
           "green",
           "red",
           "green",
           "green",
           "green",
           "red",
           "red",
           "green",
           "red",
           "green",
           "red",
           "red",
           "red",
           "green",
           "green",
           "green",
           "red",
           "green",
           "red",
           "red",
           "red",
           "green",
           "red",
           "green",
           "red",
           "green",
           "green",
           "green",
           "red",
           "green",
           "green",
           "green",
           "green",
           "green",
           "green",
           "green",
           "red",
           "green",
           "green",
           "green",
           "red",
           "red",
           "red",
           "green",
           "green",
           "red",
           "green",
           "green",
           "green",
           "green",
           "red",
           "red",
           "red",
           "red",
           "red",
           "green",
           "green",
           "red",
           "green",
           "green",
           "green",
           "red",
           "green",
           "red",
           "red",
           "red",
           "red",
           "green",
           "green",
           "green",
           "red",
           "red",
           "green",
           "green",
           "green",
           "green",
           "green",
           "green",
           "green",
           "green",
           "green",
           "green",
           "green",
           "red",
           "green",
           "green",
           "green",
           "green",
           "green",
           "green",
           "green",
           "green",
           "green",
           "green",
           "green",
           "red",
           "red",
           "green",
           "green",
           "green",
           "red",
           "green",
           "green",
           "green",
           "green",
           "green",
           "red",
           "green",
           "green",
           "green",
           "green",
           "green",
           "green",
           "green",
           "green",
           "green",
           "red",
           "red",
           "green",
           "green",
           "green",
           "green",
           "green",
           "red",
           "red",
           "green",
           "red",
           "red",
           "red",
           "green",
           "green",
           "green",
           "green",
           "green",
           "green",
           "green",
           "red",
           "green",
           "red",
           "green",
           "red",
           "red",
           "green",
           "green",
           "green",
           "green",
           "green",
           "green",
           "green",
           "red",
           "red",
           "green",
           "green",
           "green",
           "red",
           "green",
           "red",
           "green",
           "green",
           "green",
           "red",
           "green",
           "red",
           "green",
           "green",
           "red",
           "green",
           "red",
           "red",
           "red",
           "green",
           "red",
           "green",
           "green",
           "red",
           "green",
           "green",
           "green",
           "green",
           "red",
           "red",
           "green",
           "green",
           "red",
           "green",
           "green",
           "green",
           "red",
           "green",
           "green",
           "red",
           "green",
           "green",
           "green",
           "green",
           "green",
           "green",
           "red",
           "red",
           "red",
           "green",
           "green",
           "green",
           "green",
           "red",
           "green",
           "red",
           "green",
           "red",
           "green",
           "green",
           "green",
           "green",
           "red",
           "red",
           "green",
           "green",
           "green",
           "green",
           "green",
           "green",
           "green",
           "green",
           "green",
           "red",
           "green",
           "green",
           "green",
           "green",
           "red",
           "green",
           "green",
           "green",
           "red",
           "green",
           "green",
           "green",
           "green",
           "red",
           "red",
           "green",
           "green",
           "red",
           "green",
           "red",
           "red",
           "red",
           "red",
           "green",
           "green",
           "red",
           "green",
           "green",
           "green",
           "green",
           "green",
           "red",
           "green",
           "green",
           "green",
           "green",
           "green",
           "green",
           "green",
           "green",
           "green",
           "green",
           "green",
           "red",
           "green",
           "green",
           "green",
           "red",
           "green",
           "red",
           "green",
           "green",
           "green",
           "green",
           "red",
           "green",
           "red",
           "green",
           "green",
           "green",
           "green",
           "red",
           "red",
           "red",
           "green",
           "green",
           "green",
           "green",
           "red",
           "green",
           "red",
           "red",
           "green",
           "green",
           "green",
           "green",
           "green",
           "red",
           "green",
           "green",
           "green",
           "green",
           "red",
           "green",
           "green",
           "green",
           "green",
           "green",
           "red",
           "green",
           "green",
           "red",
           "green",
           "green",
           "green",
           "green",
           "green",
           "green",
           "green",
           "green",
           "green",
           "red",
           "green",
           "red",
           "red",
           "green",
           "green",
           "green",
           "green",
           "red",
           "green",
           "green",
           "green",
           "green",
           "red",
           "green",
           "red",
           "green",
           "green",
           "green",
           "red",
           "red",
           "green",
           "red",
           "green",
           "green",
           "green",
           "green",
           "red",
           "red",
           "red",
           "green",
           "red",
           "green",
           "green",
           "green",
           "red",
           "green",
           "green",
           "green",
           "green",
           "red",
           "green",
           "green",
           "green",
           "green",
           "green",
           "red",
           "green",
           "green",
           "red",
           "green",
           "green",
           "green",
           "green",
           "green",
           "green",
           "green",
           "green",
           "red",
           "green",
           "green",
           "red",
           "red",
           "red",
           "green",
           "green",
           "red",
           "green",
           "green",
           "green",
           "red",
           "red",
           "red",
           "green",
           "red",
           "green",
           "red",
           "green",
           "red",
           "red",
           "green",
           "green",
           "green",
           "red",
           "green",
           "red",
           "green",
           "green",
           "red",
           "green",
           "green",
           "green",
           "green",
           "red",
           "green",
           "green",
           "green",
           "green",
           "green",
           "green",
           "red",
           "green",
           "green",
           "green",
           "green",
           "green",
           "green",
           "green",
           "green",
           "red",
           "red",
           "red",
           "red",
           "green",
           "red",
           "green",
           "green",
           "green",
           "green",
           "red",
           "green",
           "red",
           "green",
           "green",
           "green",
           "green",
           "red",
           "green",
           "red",
           "green",
           "green",
           "red",
           "green",
           "red",
           "green",
           "green",
           "green",
           "green",
           "green",
           "red",
           "green",
           "red",
           "green",
           "green",
           "green",
           "green",
           "green",
           "green",
           "red",
           "red",
           "green",
           "red",
           "green",
           "green",
           "green",
           "green",
           "red",
           "green",
           "green",
           "green",
           "green",
           "red",
           "green",
           "green",
           "green",
           "red",
           "green",
           "green",
           "green",
           "red",
           "green",
           "green",
           "red",
           "green",
           "green",
           "red",
           "red",
           "green",
           "green",
           "red",
           "red",
           "red",
           "green",
           "green",
           "green",
           "green",
           "red",
           "green",
           "green",
           "green",
           "green",
           "green",
           "green",
           "green",
           "red",
           "red",
           "green",
           "green",
           "green",
           "green",
           "red",
           "green",
           "green",
           "red",
           "green",
           "green",
           "green",
           "green",
           "red",
           "green",
           "red",
           "green",
           "red",
           "green",
           "green",
           "red",
           "red",
           "green",
           "green",
           "green",
           "green",
           "green",
           "green",
           "green",
           "green",
           "green",
           "red",
           "green",
           "green",
           "red",
           "red",
           "red",
           "green",
           "red",
           "green",
           "red",
           "red",
           "green",
           "red",
           "green",
           "green",
           "green",
           "green",
           "red",
           "green",
           "red",
           "red",
           "red",
           "green",
           "green",
           "green",
           "red",
           "green",
           "red",
           "green",
           "green",
           "green",
           "green",
           "red",
           "red",
           "green",
           "green",
           "red",
           "green",
           "green",
           "green",
           "green",
           "red",
           "green",
           "green",
           "green",
           "green",
           "green",
           "green",
           "green",
           "red",
           "green",
           "green",
           "green",
           "green",
           "red",
           "green",
           "green",
           "red",
           "green",
           "green",
           "green",
           "green",
           "green",
           "red",
           "green",
           "green",
           "green",
           "green",
           "green",
           "green",
           "green",
           "green",
           "green",
           "green",
           "green",
           "red",
           "green",
           "green",
           "green",
           "green",
           "green",
           "green",
           "green",
           "green",
           "green",
           "red",
           "green",
           "green",
           "green",
           "green",
           "green",
           "green",
           "green",
           "green",
           "green",
           "green",
           "green",
           "green",
           "green",
           "green",
           "green",
           "green",
           "green",
           "green",
           "green",
           "red",
           "green",
           "green",
           "red",
           "green",
           "green",
           "green",
           "green",
           "red",
           "green",
           "green",
           "red",
           "red",
           "green",
           "red",
           "green",
           "green",
           "green",
           "green",
           "green",
           "green",
           "green",
           "green",
           "green",
           "green",
           "red",
           "green",
           "red",
           "red",
           "red",
           "green",
           "green",
           "green",
           "green",
           "red",
           "green",
           "green",
           "green",
           "green",
           "red",
           "green",
           "green",
           "green",
           "green",
           "green",
           "green",
           "red",
           "green",
           "green",
           "green",
           "green",
           "red",
           "green",
           "green",
           "green",
           "green",
           "green",
           "green",
           "green",
           "green",
           "green",
           "red",
           "red",
           "red",
           "red",
           "green",
           "green",
           "green",
           "red",
           "red",
           "green",
           "red",
           "green",
           "green",
           "green",
           "green",
           "red",
           "green",
           "green",
           "green",
           "green",
           "green",
           "green",
           "green",
           "green",
           "red",
           "green",
           "red",
           "green",
           "green",
           "green",
           "green",
           "red",
           "green",
           "green",
           "green",
           "green",
           "green",
           "red",
           "green",
           "green",
           "green",
           "red",
           "green",
           "red",
           "green",
           "red",
           "green",
           "green",
           "green",
           "red",
           "red",
           "green",
           "red",
           "red",
           "green",
           "green",
           "red",
           "red",
           "red",
           "green",
           "green",
           "green",
           "green",
           "green",
           "green",
           "green",
           "green",
           "green",
           "green",
           "green",
           "green",
           "green",
           "green",
           "green",
           "green",
           "green",
           "red",
           "red",
           "red",
           "green",
           "red",
           "green",
           "red",
           "green",
           "green",
           "green",
           "green",
           "green",
           "green",
           "green",
           "green",
           "green",
           "red",
           "green",
           "green",
           "red",
           "green",
           "green",
           "green",
           "green",
           "green",
           "green",
           "green",
           "green",
           "green",
           "green",
           "green",
           "green",
           "red",
           "green",
           "green",
           "green",
           "green",
           "red",
           "green",
           "green",
           "green",
           "green",
           "green",
           "red",
           "red",
           "green",
           "green",
           "red",
           "green",
           "red",
           "green",
           "red",
           "green",
           "red",
           "green",
           "green",
           "green",
           "green",
           "red",
           "green",
           "green",
           "green",
           "green",
           "red",
           "green",
           "green",
           "green",
           "red",
           "green",
           "green",
           "red",
           "green",
           "green",
           "green",
           "red",
           "green",
           "red",
           "red",
           "green",
           "green",
           "green",
           "red",
           "red",
           "green",
           "green",
           "green",
           "red",
           "green",
           "green",
           "green",
           "green",
           "green",
           "green",
           "green",
           "green",
           "green",
           "green",
           "green",
           "green",
           "green",
           "red",
           "red",
           "green",
           "green",
           "green",
           "red",
           "green",
           "green",
           "green",
           "red",
           "green",
           "green",
           "green",
           "green",
           "green",
           "green",
           "green",
           "green",
           "green",
           "red",
           "green",
           "green",
           "green",
           "green",
           "green",
           "red",
           "green",
           "green",
           "green",
           "green",
           "green",
           "green",
           "green",
           "red",
           "green",
           "green",
           "green",
           "green",
           "green",
           "green",
           "green",
           "green",
           "green",
           "green",
           "green",
           "green",
           "green",
           "red",
           "green",
           "green",
           "red",
           "green",
           "green",
           "green",
           "red",
           "green",
           "green",
           "green",
           "green",
           "green",
           "green",
           "green",
           "green",
           "green",
           "green",
           "green",
           "green",
           "green",
           "green",
           "green",
           "green",
           "green",
           "green",
           "red",
           "green"
          ]
         },
         "name": "",
         "showlegend": true,
         "type": "pie"
        }
       ],
       "layout": {
        "legend": {
         "tracegroupgap": 0
        },
        "margin": {
         "t": 60
        },
        "template": {
         "data": {
          "bar": [
           {
            "error_x": {
             "color": "#2a3f5f"
            },
            "error_y": {
             "color": "#2a3f5f"
            },
            "marker": {
             "line": {
              "color": "#E5ECF6",
              "width": 0.5
             },
             "pattern": {
              "fillmode": "overlay",
              "size": 10,
              "solidity": 0.2
             }
            },
            "type": "bar"
           }
          ],
          "barpolar": [
           {
            "marker": {
             "line": {
              "color": "#E5ECF6",
              "width": 0.5
             },
             "pattern": {
              "fillmode": "overlay",
              "size": 10,
              "solidity": 0.2
             }
            },
            "type": "barpolar"
           }
          ],
          "carpet": [
           {
            "aaxis": {
             "endlinecolor": "#2a3f5f",
             "gridcolor": "white",
             "linecolor": "white",
             "minorgridcolor": "white",
             "startlinecolor": "#2a3f5f"
            },
            "baxis": {
             "endlinecolor": "#2a3f5f",
             "gridcolor": "white",
             "linecolor": "white",
             "minorgridcolor": "white",
             "startlinecolor": "#2a3f5f"
            },
            "type": "carpet"
           }
          ],
          "choropleth": [
           {
            "colorbar": {
             "outlinewidth": 0,
             "ticks": ""
            },
            "type": "choropleth"
           }
          ],
          "contour": [
           {
            "colorbar": {
             "outlinewidth": 0,
             "ticks": ""
            },
            "colorscale": [
             [
              0,
              "#0d0887"
             ],
             [
              0.1111111111111111,
              "#46039f"
             ],
             [
              0.2222222222222222,
              "#7201a8"
             ],
             [
              0.3333333333333333,
              "#9c179e"
             ],
             [
              0.4444444444444444,
              "#bd3786"
             ],
             [
              0.5555555555555556,
              "#d8576b"
             ],
             [
              0.6666666666666666,
              "#ed7953"
             ],
             [
              0.7777777777777778,
              "#fb9f3a"
             ],
             [
              0.8888888888888888,
              "#fdca26"
             ],
             [
              1,
              "#f0f921"
             ]
            ],
            "type": "contour"
           }
          ],
          "contourcarpet": [
           {
            "colorbar": {
             "outlinewidth": 0,
             "ticks": ""
            },
            "type": "contourcarpet"
           }
          ],
          "heatmap": [
           {
            "colorbar": {
             "outlinewidth": 0,
             "ticks": ""
            },
            "colorscale": [
             [
              0,
              "#0d0887"
             ],
             [
              0.1111111111111111,
              "#46039f"
             ],
             [
              0.2222222222222222,
              "#7201a8"
             ],
             [
              0.3333333333333333,
              "#9c179e"
             ],
             [
              0.4444444444444444,
              "#bd3786"
             ],
             [
              0.5555555555555556,
              "#d8576b"
             ],
             [
              0.6666666666666666,
              "#ed7953"
             ],
             [
              0.7777777777777778,
              "#fb9f3a"
             ],
             [
              0.8888888888888888,
              "#fdca26"
             ],
             [
              1,
              "#f0f921"
             ]
            ],
            "type": "heatmap"
           }
          ],
          "heatmapgl": [
           {
            "colorbar": {
             "outlinewidth": 0,
             "ticks": ""
            },
            "colorscale": [
             [
              0,
              "#0d0887"
             ],
             [
              0.1111111111111111,
              "#46039f"
             ],
             [
              0.2222222222222222,
              "#7201a8"
             ],
             [
              0.3333333333333333,
              "#9c179e"
             ],
             [
              0.4444444444444444,
              "#bd3786"
             ],
             [
              0.5555555555555556,
              "#d8576b"
             ],
             [
              0.6666666666666666,
              "#ed7953"
             ],
             [
              0.7777777777777778,
              "#fb9f3a"
             ],
             [
              0.8888888888888888,
              "#fdca26"
             ],
             [
              1,
              "#f0f921"
             ]
            ],
            "type": "heatmapgl"
           }
          ],
          "histogram": [
           {
            "marker": {
             "pattern": {
              "fillmode": "overlay",
              "size": 10,
              "solidity": 0.2
             }
            },
            "type": "histogram"
           }
          ],
          "histogram2d": [
           {
            "colorbar": {
             "outlinewidth": 0,
             "ticks": ""
            },
            "colorscale": [
             [
              0,
              "#0d0887"
             ],
             [
              0.1111111111111111,
              "#46039f"
             ],
             [
              0.2222222222222222,
              "#7201a8"
             ],
             [
              0.3333333333333333,
              "#9c179e"
             ],
             [
              0.4444444444444444,
              "#bd3786"
             ],
             [
              0.5555555555555556,
              "#d8576b"
             ],
             [
              0.6666666666666666,
              "#ed7953"
             ],
             [
              0.7777777777777778,
              "#fb9f3a"
             ],
             [
              0.8888888888888888,
              "#fdca26"
             ],
             [
              1,
              "#f0f921"
             ]
            ],
            "type": "histogram2d"
           }
          ],
          "histogram2dcontour": [
           {
            "colorbar": {
             "outlinewidth": 0,
             "ticks": ""
            },
            "colorscale": [
             [
              0,
              "#0d0887"
             ],
             [
              0.1111111111111111,
              "#46039f"
             ],
             [
              0.2222222222222222,
              "#7201a8"
             ],
             [
              0.3333333333333333,
              "#9c179e"
             ],
             [
              0.4444444444444444,
              "#bd3786"
             ],
             [
              0.5555555555555556,
              "#d8576b"
             ],
             [
              0.6666666666666666,
              "#ed7953"
             ],
             [
              0.7777777777777778,
              "#fb9f3a"
             ],
             [
              0.8888888888888888,
              "#fdca26"
             ],
             [
              1,
              "#f0f921"
             ]
            ],
            "type": "histogram2dcontour"
           }
          ],
          "mesh3d": [
           {
            "colorbar": {
             "outlinewidth": 0,
             "ticks": ""
            },
            "type": "mesh3d"
           }
          ],
          "parcoords": [
           {
            "line": {
             "colorbar": {
              "outlinewidth": 0,
              "ticks": ""
             }
            },
            "type": "parcoords"
           }
          ],
          "pie": [
           {
            "automargin": true,
            "type": "pie"
           }
          ],
          "scatter": [
           {
            "fillpattern": {
             "fillmode": "overlay",
             "size": 10,
             "solidity": 0.2
            },
            "type": "scatter"
           }
          ],
          "scatter3d": [
           {
            "line": {
             "colorbar": {
              "outlinewidth": 0,
              "ticks": ""
             }
            },
            "marker": {
             "colorbar": {
              "outlinewidth": 0,
              "ticks": ""
             }
            },
            "type": "scatter3d"
           }
          ],
          "scattercarpet": [
           {
            "marker": {
             "colorbar": {
              "outlinewidth": 0,
              "ticks": ""
             }
            },
            "type": "scattercarpet"
           }
          ],
          "scattergeo": [
           {
            "marker": {
             "colorbar": {
              "outlinewidth": 0,
              "ticks": ""
             }
            },
            "type": "scattergeo"
           }
          ],
          "scattergl": [
           {
            "marker": {
             "colorbar": {
              "outlinewidth": 0,
              "ticks": ""
             }
            },
            "type": "scattergl"
           }
          ],
          "scattermapbox": [
           {
            "marker": {
             "colorbar": {
              "outlinewidth": 0,
              "ticks": ""
             }
            },
            "type": "scattermapbox"
           }
          ],
          "scatterpolar": [
           {
            "marker": {
             "colorbar": {
              "outlinewidth": 0,
              "ticks": ""
             }
            },
            "type": "scatterpolar"
           }
          ],
          "scatterpolargl": [
           {
            "marker": {
             "colorbar": {
              "outlinewidth": 0,
              "ticks": ""
             }
            },
            "type": "scatterpolargl"
           }
          ],
          "scatterternary": [
           {
            "marker": {
             "colorbar": {
              "outlinewidth": 0,
              "ticks": ""
             }
            },
            "type": "scatterternary"
           }
          ],
          "surface": [
           {
            "colorbar": {
             "outlinewidth": 0,
             "ticks": ""
            },
            "colorscale": [
             [
              0,
              "#0d0887"
             ],
             [
              0.1111111111111111,
              "#46039f"
             ],
             [
              0.2222222222222222,
              "#7201a8"
             ],
             [
              0.3333333333333333,
              "#9c179e"
             ],
             [
              0.4444444444444444,
              "#bd3786"
             ],
             [
              0.5555555555555556,
              "#d8576b"
             ],
             [
              0.6666666666666666,
              "#ed7953"
             ],
             [
              0.7777777777777778,
              "#fb9f3a"
             ],
             [
              0.8888888888888888,
              "#fdca26"
             ],
             [
              1,
              "#f0f921"
             ]
            ],
            "type": "surface"
           }
          ],
          "table": [
           {
            "cells": {
             "fill": {
              "color": "#EBF0F8"
             },
             "line": {
              "color": "white"
             }
            },
            "header": {
             "fill": {
              "color": "#C8D4E3"
             },
             "line": {
              "color": "white"
             }
            },
            "type": "table"
           }
          ]
         },
         "layout": {
          "annotationdefaults": {
           "arrowcolor": "#2a3f5f",
           "arrowhead": 0,
           "arrowwidth": 1
          },
          "autotypenumbers": "strict",
          "coloraxis": {
           "colorbar": {
            "outlinewidth": 0,
            "ticks": ""
           }
          },
          "colorscale": {
           "diverging": [
            [
             0,
             "#8e0152"
            ],
            [
             0.1,
             "#c51b7d"
            ],
            [
             0.2,
             "#de77ae"
            ],
            [
             0.3,
             "#f1b6da"
            ],
            [
             0.4,
             "#fde0ef"
            ],
            [
             0.5,
             "#f7f7f7"
            ],
            [
             0.6,
             "#e6f5d0"
            ],
            [
             0.7,
             "#b8e186"
            ],
            [
             0.8,
             "#7fbc41"
            ],
            [
             0.9,
             "#4d9221"
            ],
            [
             1,
             "#276419"
            ]
           ],
           "sequential": [
            [
             0,
             "#0d0887"
            ],
            [
             0.1111111111111111,
             "#46039f"
            ],
            [
             0.2222222222222222,
             "#7201a8"
            ],
            [
             0.3333333333333333,
             "#9c179e"
            ],
            [
             0.4444444444444444,
             "#bd3786"
            ],
            [
             0.5555555555555556,
             "#d8576b"
            ],
            [
             0.6666666666666666,
             "#ed7953"
            ],
            [
             0.7777777777777778,
             "#fb9f3a"
            ],
            [
             0.8888888888888888,
             "#fdca26"
            ],
            [
             1,
             "#f0f921"
            ]
           ],
           "sequentialminus": [
            [
             0,
             "#0d0887"
            ],
            [
             0.1111111111111111,
             "#46039f"
            ],
            [
             0.2222222222222222,
             "#7201a8"
            ],
            [
             0.3333333333333333,
             "#9c179e"
            ],
            [
             0.4444444444444444,
             "#bd3786"
            ],
            [
             0.5555555555555556,
             "#d8576b"
            ],
            [
             0.6666666666666666,
             "#ed7953"
            ],
            [
             0.7777777777777778,
             "#fb9f3a"
            ],
            [
             0.8888888888888888,
             "#fdca26"
            ],
            [
             1,
             "#f0f921"
            ]
           ]
          },
          "colorway": [
           "#636efa",
           "#EF553B",
           "#00cc96",
           "#ab63fa",
           "#FFA15A",
           "#19d3f3",
           "#FF6692",
           "#B6E880",
           "#FF97FF",
           "#FECB52"
          ],
          "font": {
           "color": "#2a3f5f"
          },
          "geo": {
           "bgcolor": "white",
           "lakecolor": "white",
           "landcolor": "#E5ECF6",
           "showlakes": true,
           "showland": true,
           "subunitcolor": "white"
          },
          "hoverlabel": {
           "align": "left"
          },
          "hovermode": "closest",
          "mapbox": {
           "style": "light"
          },
          "paper_bgcolor": "white",
          "plot_bgcolor": "#E5ECF6",
          "polar": {
           "angularaxis": {
            "gridcolor": "white",
            "linecolor": "white",
            "ticks": ""
           },
           "bgcolor": "#E5ECF6",
           "radialaxis": {
            "gridcolor": "white",
            "linecolor": "white",
            "ticks": ""
           }
          },
          "scene": {
           "xaxis": {
            "backgroundcolor": "#E5ECF6",
            "gridcolor": "white",
            "gridwidth": 2,
            "linecolor": "white",
            "showbackground": true,
            "ticks": "",
            "zerolinecolor": "white"
           },
           "yaxis": {
            "backgroundcolor": "#E5ECF6",
            "gridcolor": "white",
            "gridwidth": 2,
            "linecolor": "white",
            "showbackground": true,
            "ticks": "",
            "zerolinecolor": "white"
           },
           "zaxis": {
            "backgroundcolor": "#E5ECF6",
            "gridcolor": "white",
            "gridwidth": 2,
            "linecolor": "white",
            "showbackground": true,
            "ticks": "",
            "zerolinecolor": "white"
           }
          },
          "shapedefaults": {
           "line": {
            "color": "#2a3f5f"
           }
          },
          "ternary": {
           "aaxis": {
            "gridcolor": "white",
            "linecolor": "white",
            "ticks": ""
           },
           "baxis": {
            "gridcolor": "white",
            "linecolor": "white",
            "ticks": ""
           },
           "bgcolor": "#E5ECF6",
           "caxis": {
            "gridcolor": "white",
            "linecolor": "white",
            "ticks": ""
           }
          },
          "title": {
           "x": 0.05
          },
          "xaxis": {
           "automargin": true,
           "gridcolor": "white",
           "linecolor": "white",
           "ticks": "",
           "title": {
            "standoff": 15
           },
           "zerolinecolor": "white",
           "zerolinewidth": 2
          },
          "yaxis": {
           "automargin": true,
           "gridcolor": "white",
           "linecolor": "white",
           "ticks": "",
           "title": {
            "standoff": 15
           },
           "zerolinecolor": "white",
           "zerolinewidth": 2
          }
         }
        }
       }
      },
      "text/html": [
       "<div>                            <div id=\"daa5309c-0be7-4984-bb55-e80594dbdd44\" class=\"plotly-graph-div\" style=\"height:525px; width:100%;\"></div>            <script type=\"text/javascript\">                require([\"plotly\"], function(Plotly) {                    window.PLOTLYENV=window.PLOTLYENV || {};                                    if (document.getElementById(\"daa5309c-0be7-4984-bb55-e80594dbdd44\")) {                    Plotly.newPlot(                        \"daa5309c-0be7-4984-bb55-e80594dbdd44\",                        [{\"customdata\":[[\"No\"],[\"Yes\"],[\"No\"],[\"No\"],[\"No\"],[\"No\"],[\"No\"],[\"Yes\"],[\"No\"],[\"Yes\"],[\"No\"],[\"No\"],[\"No\"],[\"Yes\"],[\"No\"],[\"No\"],[\"No\"],[\"Yes\"],[\"Yes\"],[\"No\"],[\"Yes\"],[\"No\"],[\"Yes\"],[\"Yes\"],[\"Yes\"],[\"No\"],[\"No\"],[\"No\"],[\"Yes\"],[\"No\"],[\"Yes\"],[\"Yes\"],[\"Yes\"],[\"No\"],[\"Yes\"],[\"No\"],[\"Yes\"],[\"No\"],[\"No\"],[\"No\"],[\"Yes\"],[\"No\"],[\"No\"],[\"No\"],[\"No\"],[\"No\"],[\"No\"],[\"No\"],[\"Yes\"],[\"No\"],[\"No\"],[\"No\"],[\"Yes\"],[\"Yes\"],[\"Yes\"],[\"No\"],[\"No\"],[\"Yes\"],[\"No\"],[\"No\"],[\"No\"],[\"No\"],[\"Yes\"],[\"Yes\"],[\"Yes\"],[\"Yes\"],[\"Yes\"],[\"No\"],[\"No\"],[\"Yes\"],[\"No\"],[\"No\"],[\"No\"],[\"Yes\"],[\"No\"],[\"Yes\"],[\"Yes\"],[\"Yes\"],[\"Yes\"],[\"No\"],[\"No\"],[\"No\"],[\"Yes\"],[\"Yes\"],[\"No\"],[\"No\"],[\"No\"],[\"No\"],[\"No\"],[\"No\"],[\"No\"],[\"No\"],[\"No\"],[\"No\"],[\"No\"],[\"Yes\"],[\"No\"],[\"No\"],[\"No\"],[\"No\"],[\"No\"],[\"No\"],[\"No\"],[\"No\"],[\"No\"],[\"No\"],[\"No\"],[\"Yes\"],[\"Yes\"],[\"No\"],[\"No\"],[\"No\"],[\"Yes\"],[\"No\"],[\"No\"],[\"No\"],[\"No\"],[\"No\"],[\"Yes\"],[\"No\"],[\"No\"],[\"No\"],[\"No\"],[\"No\"],[\"No\"],[\"No\"],[\"No\"],[\"No\"],[\"Yes\"],[\"Yes\"],[\"No\"],[\"No\"],[\"No\"],[\"No\"],[\"No\"],[\"Yes\"],[\"Yes\"],[\"No\"],[\"Yes\"],[\"Yes\"],[\"Yes\"],[\"No\"],[\"No\"],[\"No\"],[\"No\"],[\"No\"],[\"No\"],[\"No\"],[\"Yes\"],[\"No\"],[\"Yes\"],[\"No\"],[\"Yes\"],[\"Yes\"],[\"No\"],[\"No\"],[\"No\"],[\"No\"],[\"No\"],[\"No\"],[\"No\"],[\"Yes\"],[\"Yes\"],[\"No\"],[\"No\"],[\"No\"],[\"Yes\"],[\"No\"],[\"Yes\"],[\"No\"],[\"No\"],[\"No\"],[\"Yes\"],[\"No\"],[\"Yes\"],[\"No\"],[\"No\"],[\"Yes\"],[\"No\"],[\"Yes\"],[\"Yes\"],[\"Yes\"],[\"No\"],[\"Yes\"],[\"No\"],[\"No\"],[\"Yes\"],[\"No\"],[\"No\"],[\"No\"],[\"No\"],[\"Yes\"],[\"Yes\"],[\"No\"],[\"No\"],[\"Yes\"],[\"No\"],[\"No\"],[\"No\"],[\"Yes\"],[\"No\"],[\"No\"],[\"Yes\"],[\"No\"],[\"No\"],[\"No\"],[\"No\"],[\"No\"],[\"No\"],[\"Yes\"],[\"Yes\"],[\"Yes\"],[\"No\"],[\"No\"],[\"No\"],[\"No\"],[\"Yes\"],[\"No\"],[\"Yes\"],[\"No\"],[\"Yes\"],[\"No\"],[\"No\"],[\"No\"],[\"No\"],[\"Yes\"],[\"Yes\"],[\"No\"],[\"No\"],[\"No\"],[\"No\"],[\"No\"],[\"No\"],[\"No\"],[\"No\"],[\"No\"],[\"Yes\"],[\"No\"],[\"No\"],[\"No\"],[\"No\"],[\"Yes\"],[\"No\"],[\"No\"],[\"No\"],[\"Yes\"],[\"No\"],[\"No\"],[\"No\"],[\"No\"],[\"Yes\"],[\"Yes\"],[\"No\"],[\"No\"],[\"Yes\"],[\"No\"],[\"Yes\"],[\"Yes\"],[\"Yes\"],[\"Yes\"],[\"No\"],[\"No\"],[\"Yes\"],[\"No\"],[\"No\"],[\"No\"],[\"No\"],[\"No\"],[\"Yes\"],[\"No\"],[\"No\"],[\"No\"],[\"No\"],[\"No\"],[\"No\"],[\"No\"],[\"No\"],[\"No\"],[\"No\"],[\"No\"],[\"Yes\"],[\"No\"],[\"No\"],[\"No\"],[\"Yes\"],[\"No\"],[\"Yes\"],[\"No\"],[\"No\"],[\"No\"],[\"No\"],[\"Yes\"],[\"No\"],[\"Yes\"],[\"No\"],[\"No\"],[\"No\"],[\"No\"],[\"Yes\"],[\"Yes\"],[\"Yes\"],[\"No\"],[\"No\"],[\"No\"],[\"No\"],[\"Yes\"],[\"No\"],[\"Yes\"],[\"Yes\"],[\"No\"],[\"No\"],[\"No\"],[\"No\"],[\"No\"],[\"Yes\"],[\"No\"],[\"No\"],[\"No\"],[\"No\"],[\"Yes\"],[\"No\"],[\"No\"],[\"No\"],[\"No\"],[\"No\"],[\"Yes\"],[\"No\"],[\"No\"],[\"Yes\"],[\"No\"],[\"No\"],[\"No\"],[\"No\"],[\"No\"],[\"No\"],[\"No\"],[\"No\"],[\"No\"],[\"Yes\"],[\"No\"],[\"Yes\"],[\"Yes\"],[\"No\"],[\"No\"],[\"No\"],[\"No\"],[\"Yes\"],[\"No\"],[\"No\"],[\"No\"],[\"No\"],[\"Yes\"],[\"No\"],[\"Yes\"],[\"No\"],[\"No\"],[\"No\"],[\"Yes\"],[\"Yes\"],[\"No\"],[\"Yes\"],[\"No\"],[\"No\"],[\"No\"],[\"No\"],[\"Yes\"],[\"Yes\"],[\"Yes\"],[\"No\"],[\"Yes\"],[\"No\"],[\"No\"],[\"No\"],[\"Yes\"],[\"No\"],[\"No\"],[\"No\"],[\"No\"],[\"Yes\"],[\"No\"],[\"No\"],[\"No\"],[\"No\"],[\"No\"],[\"Yes\"],[\"No\"],[\"No\"],[\"Yes\"],[\"No\"],[\"No\"],[\"No\"],[\"No\"],[\"No\"],[\"No\"],[\"No\"],[\"No\"],[\"Yes\"],[\"No\"],[\"No\"],[\"Yes\"],[\"Yes\"],[\"Yes\"],[\"No\"],[\"No\"],[\"Yes\"],[\"No\"],[\"No\"],[\"No\"],[\"Yes\"],[\"Yes\"],[\"Yes\"],[\"No\"],[\"Yes\"],[\"No\"],[\"Yes\"],[\"No\"],[\"Yes\"],[\"Yes\"],[\"No\"],[\"No\"],[\"No\"],[\"Yes\"],[\"No\"],[\"Yes\"],[\"No\"],[\"No\"],[\"Yes\"],[\"No\"],[\"No\"],[\"No\"],[\"No\"],[\"Yes\"],[\"No\"],[\"No\"],[\"No\"],[\"No\"],[\"No\"],[\"No\"],[\"Yes\"],[\"No\"],[\"No\"],[\"No\"],[\"No\"],[\"No\"],[\"No\"],[\"No\"],[\"No\"],[\"Yes\"],[\"Yes\"],[\"Yes\"],[\"Yes\"],[\"No\"],[\"Yes\"],[\"No\"],[\"No\"],[\"No\"],[\"No\"],[\"Yes\"],[\"No\"],[\"Yes\"],[\"No\"],[\"No\"],[\"No\"],[\"No\"],[\"Yes\"],[\"No\"],[\"Yes\"],[\"No\"],[\"No\"],[\"Yes\"],[\"No\"],[\"Yes\"],[\"No\"],[\"No\"],[\"No\"],[\"No\"],[\"No\"],[\"Yes\"],[\"No\"],[\"Yes\"],[\"No\"],[\"No\"],[\"No\"],[\"No\"],[\"No\"],[\"No\"],[\"Yes\"],[\"Yes\"],[\"No\"],[\"Yes\"],[\"No\"],[\"No\"],[\"No\"],[\"No\"],[\"Yes\"],[\"No\"],[\"No\"],[\"No\"],[\"No\"],[\"Yes\"],[\"No\"],[\"No\"],[\"No\"],[\"Yes\"],[\"No\"],[\"No\"],[\"No\"],[\"Yes\"],[\"No\"],[\"No\"],[\"Yes\"],[\"No\"],[\"No\"],[\"Yes\"],[\"Yes\"],[\"No\"],[\"No\"],[\"Yes\"],[\"Yes\"],[\"Yes\"],[\"No\"],[\"No\"],[\"No\"],[\"No\"],[\"Yes\"],[\"No\"],[\"No\"],[\"No\"],[\"No\"],[\"No\"],[\"No\"],[\"No\"],[\"Yes\"],[\"Yes\"],[\"No\"],[\"No\"],[\"No\"],[\"No\"],[\"Yes\"],[\"No\"],[\"No\"],[\"Yes\"],[\"No\"],[\"No\"],[\"No\"],[\"No\"],[\"Yes\"],[\"No\"],[\"Yes\"],[\"No\"],[\"Yes\"],[\"No\"],[\"No\"],[\"Yes\"],[\"Yes\"],[\"No\"],[\"No\"],[\"No\"],[\"No\"],[\"No\"],[\"No\"],[\"No\"],[\"No\"],[\"No\"],[\"Yes\"],[\"No\"],[\"No\"],[\"Yes\"],[\"Yes\"],[\"Yes\"],[\"No\"],[\"Yes\"],[\"No\"],[\"Yes\"],[\"Yes\"],[\"No\"],[\"Yes\"],[\"No\"],[\"No\"],[\"No\"],[\"No\"],[\"Yes\"],[\"No\"],[\"Yes\"],[\"Yes\"],[\"Yes\"],[\"No\"],[\"No\"],[\"No\"],[\"Yes\"],[\"No\"],[\"Yes\"],[\"No\"],[\"No\"],[\"No\"],[\"No\"],[\"Yes\"],[\"Yes\"],[\"No\"],[\"No\"],[\"Yes\"],[\"No\"],[\"No\"],[\"No\"],[\"No\"],[\"Yes\"],[\"No\"],[\"No\"],[\"No\"],[\"No\"],[\"No\"],[\"No\"],[\"No\"],[\"Yes\"],[\"No\"],[\"No\"],[\"No\"],[\"No\"],[\"Yes\"],[\"No\"],[\"No\"],[\"Yes\"],[\"No\"],[\"No\"],[\"No\"],[\"No\"],[\"No\"],[\"Yes\"],[\"No\"],[\"No\"],[\"No\"],[\"No\"],[\"No\"],[\"No\"],[\"No\"],[\"No\"],[\"No\"],[\"No\"],[\"No\"],[\"Yes\"],[\"No\"],[\"No\"],[\"No\"],[\"No\"],[\"No\"],[\"No\"],[\"No\"],[\"No\"],[\"No\"],[\"Yes\"],[\"No\"],[\"No\"],[\"No\"],[\"No\"],[\"No\"],[\"No\"],[\"No\"],[\"No\"],[\"No\"],[\"No\"],[\"No\"],[\"No\"],[\"No\"],[\"No\"],[\"No\"],[\"No\"],[\"No\"],[\"No\"],[\"No\"],[\"Yes\"],[\"No\"],[\"No\"],[\"Yes\"],[\"No\"],[\"No\"],[\"No\"],[\"No\"],[\"Yes\"],[\"No\"],[\"No\"],[\"Yes\"],[\"Yes\"],[\"No\"],[\"Yes\"],[\"No\"],[\"No\"],[\"No\"],[\"No\"],[\"No\"],[\"No\"],[\"No\"],[\"No\"],[\"No\"],[\"No\"],[\"Yes\"],[\"No\"],[\"Yes\"],[\"Yes\"],[\"Yes\"],[\"No\"],[\"No\"],[\"No\"],[\"No\"],[\"Yes\"],[\"No\"],[\"No\"],[\"No\"],[\"No\"],[\"Yes\"],[\"No\"],[\"No\"],[\"No\"],[\"No\"],[\"No\"],[\"No\"],[\"Yes\"],[\"No\"],[\"No\"],[\"No\"],[\"No\"],[\"Yes\"],[\"No\"],[\"No\"],[\"No\"],[\"No\"],[\"No\"],[\"No\"],[\"No\"],[\"No\"],[\"No\"],[\"Yes\"],[\"Yes\"],[\"Yes\"],[\"Yes\"],[\"No\"],[\"No\"],[\"No\"],[\"Yes\"],[\"Yes\"],[\"No\"],[\"Yes\"],[\"No\"],[\"No\"],[\"No\"],[\"No\"],[\"Yes\"],[\"No\"],[\"No\"],[\"No\"],[\"No\"],[\"No\"],[\"No\"],[\"No\"],[\"No\"],[\"Yes\"],[\"No\"],[\"Yes\"],[\"No\"],[\"No\"],[\"No\"],[\"No\"],[\"Yes\"],[\"No\"],[\"No\"],[\"No\"],[\"No\"],[\"No\"],[\"Yes\"],[\"No\"],[\"No\"],[\"No\"],[\"Yes\"],[\"No\"],[\"Yes\"],[\"No\"],[\"Yes\"],[\"No\"],[\"No\"],[\"No\"],[\"Yes\"],[\"Yes\"],[\"No\"],[\"Yes\"],[\"Yes\"],[\"No\"],[\"No\"],[\"Yes\"],[\"Yes\"],[\"Yes\"],[\"No\"],[\"No\"],[\"No\"],[\"No\"],[\"No\"],[\"No\"],[\"No\"],[\"No\"],[\"No\"],[\"No\"],[\"No\"],[\"No\"],[\"No\"],[\"No\"],[\"No\"],[\"No\"],[\"No\"],[\"Yes\"],[\"Yes\"],[\"Yes\"],[\"No\"],[\"Yes\"],[\"No\"],[\"Yes\"],[\"No\"],[\"No\"],[\"No\"],[\"No\"],[\"No\"],[\"No\"],[\"No\"],[\"No\"],[\"No\"],[\"Yes\"],[\"No\"],[\"No\"],[\"Yes\"],[\"No\"],[\"No\"],[\"No\"],[\"No\"],[\"No\"],[\"No\"],[\"No\"],[\"No\"],[\"No\"],[\"No\"],[\"No\"],[\"No\"],[\"Yes\"],[\"No\"],[\"No\"],[\"No\"],[\"No\"],[\"Yes\"],[\"No\"],[\"No\"],[\"No\"],[\"No\"],[\"No\"],[\"Yes\"],[\"Yes\"],[\"No\"],[\"No\"],[\"Yes\"],[\"No\"],[\"Yes\"],[\"No\"],[\"Yes\"],[\"No\"],[\"Yes\"],[\"No\"],[\"No\"],[\"No\"],[\"No\"],[\"Yes\"],[\"No\"],[\"No\"],[\"No\"],[\"No\"],[\"Yes\"],[\"No\"],[\"No\"],[\"No\"],[\"Yes\"],[\"No\"],[\"No\"],[\"Yes\"],[\"No\"],[\"No\"],[\"No\"],[\"Yes\"],[\"No\"],[\"Yes\"],[\"Yes\"],[\"No\"],[\"No\"],[\"No\"],[\"Yes\"],[\"Yes\"],[\"No\"],[\"No\"],[\"No\"],[\"Yes\"],[\"No\"],[\"No\"],[\"No\"],[\"No\"],[\"No\"],[\"No\"],[\"No\"],[\"No\"],[\"No\"],[\"No\"],[\"No\"],[\"No\"],[\"No\"],[\"Yes\"],[\"Yes\"],[\"No\"],[\"No\"],[\"No\"],[\"Yes\"],[\"No\"],[\"No\"],[\"No\"],[\"Yes\"],[\"No\"],[\"No\"],[\"No\"],[\"No\"],[\"No\"],[\"No\"],[\"No\"],[\"No\"],[\"No\"],[\"Yes\"],[\"No\"],[\"No\"],[\"No\"],[\"No\"],[\"No\"],[\"Yes\"],[\"No\"],[\"No\"],[\"No\"],[\"No\"],[\"No\"],[\"No\"],[\"No\"],[\"Yes\"],[\"No\"],[\"No\"],[\"No\"],[\"No\"],[\"No\"],[\"No\"],[\"No\"],[\"No\"],[\"No\"],[\"No\"],[\"No\"],[\"No\"],[\"No\"],[\"Yes\"],[\"No\"],[\"No\"],[\"Yes\"],[\"No\"],[\"No\"],[\"No\"],[\"Yes\"],[\"No\"],[\"No\"],[\"No\"],[\"No\"],[\"No\"],[\"No\"],[\"No\"],[\"No\"],[\"No\"],[\"No\"],[\"No\"],[\"No\"],[\"No\"],[\"No\"],[\"No\"],[\"No\"],[\"No\"],[\"No\"],[\"Yes\"],[\"No\"]],\"domain\":{\"x\":[0.0,1.0],\"y\":[0.0,1.0]},\"hovertemplate\":\"Loan_Status=%{customdata[0]}<extra></extra>\",\"labels\":[\"No\",\"Yes\",\"No\",\"No\",\"No\",\"No\",\"No\",\"Yes\",\"No\",\"Yes\",\"No\",\"No\",\"No\",\"Yes\",\"No\",\"No\",\"No\",\"Yes\",\"Yes\",\"No\",\"Yes\",\"No\",\"Yes\",\"Yes\",\"Yes\",\"No\",\"No\",\"No\",\"Yes\",\"No\",\"Yes\",\"Yes\",\"Yes\",\"No\",\"Yes\",\"No\",\"Yes\",\"No\",\"No\",\"No\",\"Yes\",\"No\",\"No\",\"No\",\"No\",\"No\",\"No\",\"No\",\"Yes\",\"No\",\"No\",\"No\",\"Yes\",\"Yes\",\"Yes\",\"No\",\"No\",\"Yes\",\"No\",\"No\",\"No\",\"No\",\"Yes\",\"Yes\",\"Yes\",\"Yes\",\"Yes\",\"No\",\"No\",\"Yes\",\"No\",\"No\",\"No\",\"Yes\",\"No\",\"Yes\",\"Yes\",\"Yes\",\"Yes\",\"No\",\"No\",\"No\",\"Yes\",\"Yes\",\"No\",\"No\",\"No\",\"No\",\"No\",\"No\",\"No\",\"No\",\"No\",\"No\",\"No\",\"Yes\",\"No\",\"No\",\"No\",\"No\",\"No\",\"No\",\"No\",\"No\",\"No\",\"No\",\"No\",\"Yes\",\"Yes\",\"No\",\"No\",\"No\",\"Yes\",\"No\",\"No\",\"No\",\"No\",\"No\",\"Yes\",\"No\",\"No\",\"No\",\"No\",\"No\",\"No\",\"No\",\"No\",\"No\",\"Yes\",\"Yes\",\"No\",\"No\",\"No\",\"No\",\"No\",\"Yes\",\"Yes\",\"No\",\"Yes\",\"Yes\",\"Yes\",\"No\",\"No\",\"No\",\"No\",\"No\",\"No\",\"No\",\"Yes\",\"No\",\"Yes\",\"No\",\"Yes\",\"Yes\",\"No\",\"No\",\"No\",\"No\",\"No\",\"No\",\"No\",\"Yes\",\"Yes\",\"No\",\"No\",\"No\",\"Yes\",\"No\",\"Yes\",\"No\",\"No\",\"No\",\"Yes\",\"No\",\"Yes\",\"No\",\"No\",\"Yes\",\"No\",\"Yes\",\"Yes\",\"Yes\",\"No\",\"Yes\",\"No\",\"No\",\"Yes\",\"No\",\"No\",\"No\",\"No\",\"Yes\",\"Yes\",\"No\",\"No\",\"Yes\",\"No\",\"No\",\"No\",\"Yes\",\"No\",\"No\",\"Yes\",\"No\",\"No\",\"No\",\"No\",\"No\",\"No\",\"Yes\",\"Yes\",\"Yes\",\"No\",\"No\",\"No\",\"No\",\"Yes\",\"No\",\"Yes\",\"No\",\"Yes\",\"No\",\"No\",\"No\",\"No\",\"Yes\",\"Yes\",\"No\",\"No\",\"No\",\"No\",\"No\",\"No\",\"No\",\"No\",\"No\",\"Yes\",\"No\",\"No\",\"No\",\"No\",\"Yes\",\"No\",\"No\",\"No\",\"Yes\",\"No\",\"No\",\"No\",\"No\",\"Yes\",\"Yes\",\"No\",\"No\",\"Yes\",\"No\",\"Yes\",\"Yes\",\"Yes\",\"Yes\",\"No\",\"No\",\"Yes\",\"No\",\"No\",\"No\",\"No\",\"No\",\"Yes\",\"No\",\"No\",\"No\",\"No\",\"No\",\"No\",\"No\",\"No\",\"No\",\"No\",\"No\",\"Yes\",\"No\",\"No\",\"No\",\"Yes\",\"No\",\"Yes\",\"No\",\"No\",\"No\",\"No\",\"Yes\",\"No\",\"Yes\",\"No\",\"No\",\"No\",\"No\",\"Yes\",\"Yes\",\"Yes\",\"No\",\"No\",\"No\",\"No\",\"Yes\",\"No\",\"Yes\",\"Yes\",\"No\",\"No\",\"No\",\"No\",\"No\",\"Yes\",\"No\",\"No\",\"No\",\"No\",\"Yes\",\"No\",\"No\",\"No\",\"No\",\"No\",\"Yes\",\"No\",\"No\",\"Yes\",\"No\",\"No\",\"No\",\"No\",\"No\",\"No\",\"No\",\"No\",\"No\",\"Yes\",\"No\",\"Yes\",\"Yes\",\"No\",\"No\",\"No\",\"No\",\"Yes\",\"No\",\"No\",\"No\",\"No\",\"Yes\",\"No\",\"Yes\",\"No\",\"No\",\"No\",\"Yes\",\"Yes\",\"No\",\"Yes\",\"No\",\"No\",\"No\",\"No\",\"Yes\",\"Yes\",\"Yes\",\"No\",\"Yes\",\"No\",\"No\",\"No\",\"Yes\",\"No\",\"No\",\"No\",\"No\",\"Yes\",\"No\",\"No\",\"No\",\"No\",\"No\",\"Yes\",\"No\",\"No\",\"Yes\",\"No\",\"No\",\"No\",\"No\",\"No\",\"No\",\"No\",\"No\",\"Yes\",\"No\",\"No\",\"Yes\",\"Yes\",\"Yes\",\"No\",\"No\",\"Yes\",\"No\",\"No\",\"No\",\"Yes\",\"Yes\",\"Yes\",\"No\",\"Yes\",\"No\",\"Yes\",\"No\",\"Yes\",\"Yes\",\"No\",\"No\",\"No\",\"Yes\",\"No\",\"Yes\",\"No\",\"No\",\"Yes\",\"No\",\"No\",\"No\",\"No\",\"Yes\",\"No\",\"No\",\"No\",\"No\",\"No\",\"No\",\"Yes\",\"No\",\"No\",\"No\",\"No\",\"No\",\"No\",\"No\",\"No\",\"Yes\",\"Yes\",\"Yes\",\"Yes\",\"No\",\"Yes\",\"No\",\"No\",\"No\",\"No\",\"Yes\",\"No\",\"Yes\",\"No\",\"No\",\"No\",\"No\",\"Yes\",\"No\",\"Yes\",\"No\",\"No\",\"Yes\",\"No\",\"Yes\",\"No\",\"No\",\"No\",\"No\",\"No\",\"Yes\",\"No\",\"Yes\",\"No\",\"No\",\"No\",\"No\",\"No\",\"No\",\"Yes\",\"Yes\",\"No\",\"Yes\",\"No\",\"No\",\"No\",\"No\",\"Yes\",\"No\",\"No\",\"No\",\"No\",\"Yes\",\"No\",\"No\",\"No\",\"Yes\",\"No\",\"No\",\"No\",\"Yes\",\"No\",\"No\",\"Yes\",\"No\",\"No\",\"Yes\",\"Yes\",\"No\",\"No\",\"Yes\",\"Yes\",\"Yes\",\"No\",\"No\",\"No\",\"No\",\"Yes\",\"No\",\"No\",\"No\",\"No\",\"No\",\"No\",\"No\",\"Yes\",\"Yes\",\"No\",\"No\",\"No\",\"No\",\"Yes\",\"No\",\"No\",\"Yes\",\"No\",\"No\",\"No\",\"No\",\"Yes\",\"No\",\"Yes\",\"No\",\"Yes\",\"No\",\"No\",\"Yes\",\"Yes\",\"No\",\"No\",\"No\",\"No\",\"No\",\"No\",\"No\",\"No\",\"No\",\"Yes\",\"No\",\"No\",\"Yes\",\"Yes\",\"Yes\",\"No\",\"Yes\",\"No\",\"Yes\",\"Yes\",\"No\",\"Yes\",\"No\",\"No\",\"No\",\"No\",\"Yes\",\"No\",\"Yes\",\"Yes\",\"Yes\",\"No\",\"No\",\"No\",\"Yes\",\"No\",\"Yes\",\"No\",\"No\",\"No\",\"No\",\"Yes\",\"Yes\",\"No\",\"No\",\"Yes\",\"No\",\"No\",\"No\",\"No\",\"Yes\",\"No\",\"No\",\"No\",\"No\",\"No\",\"No\",\"No\",\"Yes\",\"No\",\"No\",\"No\",\"No\",\"Yes\",\"No\",\"No\",\"Yes\",\"No\",\"No\",\"No\",\"No\",\"No\",\"Yes\",\"No\",\"No\",\"No\",\"No\",\"No\",\"No\",\"No\",\"No\",\"No\",\"No\",\"No\",\"Yes\",\"No\",\"No\",\"No\",\"No\",\"No\",\"No\",\"No\",\"No\",\"No\",\"Yes\",\"No\",\"No\",\"No\",\"No\",\"No\",\"No\",\"No\",\"No\",\"No\",\"No\",\"No\",\"No\",\"No\",\"No\",\"No\",\"No\",\"No\",\"No\",\"No\",\"Yes\",\"No\",\"No\",\"Yes\",\"No\",\"No\",\"No\",\"No\",\"Yes\",\"No\",\"No\",\"Yes\",\"Yes\",\"No\",\"Yes\",\"No\",\"No\",\"No\",\"No\",\"No\",\"No\",\"No\",\"No\",\"No\",\"No\",\"Yes\",\"No\",\"Yes\",\"Yes\",\"Yes\",\"No\",\"No\",\"No\",\"No\",\"Yes\",\"No\",\"No\",\"No\",\"No\",\"Yes\",\"No\",\"No\",\"No\",\"No\",\"No\",\"No\",\"Yes\",\"No\",\"No\",\"No\",\"No\",\"Yes\",\"No\",\"No\",\"No\",\"No\",\"No\",\"No\",\"No\",\"No\",\"No\",\"Yes\",\"Yes\",\"Yes\",\"Yes\",\"No\",\"No\",\"No\",\"Yes\",\"Yes\",\"No\",\"Yes\",\"No\",\"No\",\"No\",\"No\",\"Yes\",\"No\",\"No\",\"No\",\"No\",\"No\",\"No\",\"No\",\"No\",\"Yes\",\"No\",\"Yes\",\"No\",\"No\",\"No\",\"No\",\"Yes\",\"No\",\"No\",\"No\",\"No\",\"No\",\"Yes\",\"No\",\"No\",\"No\",\"Yes\",\"No\",\"Yes\",\"No\",\"Yes\",\"No\",\"No\",\"No\",\"Yes\",\"Yes\",\"No\",\"Yes\",\"Yes\",\"No\",\"No\",\"Yes\",\"Yes\",\"Yes\",\"No\",\"No\",\"No\",\"No\",\"No\",\"No\",\"No\",\"No\",\"No\",\"No\",\"No\",\"No\",\"No\",\"No\",\"No\",\"No\",\"No\",\"Yes\",\"Yes\",\"Yes\",\"No\",\"Yes\",\"No\",\"Yes\",\"No\",\"No\",\"No\",\"No\",\"No\",\"No\",\"No\",\"No\",\"No\",\"Yes\",\"No\",\"No\",\"Yes\",\"No\",\"No\",\"No\",\"No\",\"No\",\"No\",\"No\",\"No\",\"No\",\"No\",\"No\",\"No\",\"Yes\",\"No\",\"No\",\"No\",\"No\",\"Yes\",\"No\",\"No\",\"No\",\"No\",\"No\",\"Yes\",\"Yes\",\"No\",\"No\",\"Yes\",\"No\",\"Yes\",\"No\",\"Yes\",\"No\",\"Yes\",\"No\",\"No\",\"No\",\"No\",\"Yes\",\"No\",\"No\",\"No\",\"No\",\"Yes\",\"No\",\"No\",\"No\",\"Yes\",\"No\",\"No\",\"Yes\",\"No\",\"No\",\"No\",\"Yes\",\"No\",\"Yes\",\"Yes\",\"No\",\"No\",\"No\",\"Yes\",\"Yes\",\"No\",\"No\",\"No\",\"Yes\",\"No\",\"No\",\"No\",\"No\",\"No\",\"No\",\"No\",\"No\",\"No\",\"No\",\"No\",\"No\",\"No\",\"Yes\",\"Yes\",\"No\",\"No\",\"No\",\"Yes\",\"No\",\"No\",\"No\",\"Yes\",\"No\",\"No\",\"No\",\"No\",\"No\",\"No\",\"No\",\"No\",\"No\",\"Yes\",\"No\",\"No\",\"No\",\"No\",\"No\",\"Yes\",\"No\",\"No\",\"No\",\"No\",\"No\",\"No\",\"No\",\"Yes\",\"No\",\"No\",\"No\",\"No\",\"No\",\"No\",\"No\",\"No\",\"No\",\"No\",\"No\",\"No\",\"No\",\"Yes\",\"No\",\"No\",\"Yes\",\"No\",\"No\",\"No\",\"Yes\",\"No\",\"No\",\"No\",\"No\",\"No\",\"No\",\"No\",\"No\",\"No\",\"No\",\"No\",\"No\",\"No\",\"No\",\"No\",\"No\",\"No\",\"No\",\"Yes\",\"No\"],\"legendgroup\":\"\",\"marker\":{\"colors\":[\"green\",\"red\",\"green\",\"green\",\"green\",\"green\",\"green\",\"red\",\"green\",\"red\",\"green\",\"green\",\"green\",\"red\",\"green\",\"green\",\"green\",\"red\",\"red\",\"green\",\"red\",\"green\",\"red\",\"red\",\"red\",\"green\",\"green\",\"green\",\"red\",\"green\",\"red\",\"red\",\"red\",\"green\",\"red\",\"green\",\"red\",\"green\",\"green\",\"green\",\"red\",\"green\",\"green\",\"green\",\"green\",\"green\",\"green\",\"green\",\"red\",\"green\",\"green\",\"green\",\"red\",\"red\",\"red\",\"green\",\"green\",\"red\",\"green\",\"green\",\"green\",\"green\",\"red\",\"red\",\"red\",\"red\",\"red\",\"green\",\"green\",\"red\",\"green\",\"green\",\"green\",\"red\",\"green\",\"red\",\"red\",\"red\",\"red\",\"green\",\"green\",\"green\",\"red\",\"red\",\"green\",\"green\",\"green\",\"green\",\"green\",\"green\",\"green\",\"green\",\"green\",\"green\",\"green\",\"red\",\"green\",\"green\",\"green\",\"green\",\"green\",\"green\",\"green\",\"green\",\"green\",\"green\",\"green\",\"red\",\"red\",\"green\",\"green\",\"green\",\"red\",\"green\",\"green\",\"green\",\"green\",\"green\",\"red\",\"green\",\"green\",\"green\",\"green\",\"green\",\"green\",\"green\",\"green\",\"green\",\"red\",\"red\",\"green\",\"green\",\"green\",\"green\",\"green\",\"red\",\"red\",\"green\",\"red\",\"red\",\"red\",\"green\",\"green\",\"green\",\"green\",\"green\",\"green\",\"green\",\"red\",\"green\",\"red\",\"green\",\"red\",\"red\",\"green\",\"green\",\"green\",\"green\",\"green\",\"green\",\"green\",\"red\",\"red\",\"green\",\"green\",\"green\",\"red\",\"green\",\"red\",\"green\",\"green\",\"green\",\"red\",\"green\",\"red\",\"green\",\"green\",\"red\",\"green\",\"red\",\"red\",\"red\",\"green\",\"red\",\"green\",\"green\",\"red\",\"green\",\"green\",\"green\",\"green\",\"red\",\"red\",\"green\",\"green\",\"red\",\"green\",\"green\",\"green\",\"red\",\"green\",\"green\",\"red\",\"green\",\"green\",\"green\",\"green\",\"green\",\"green\",\"red\",\"red\",\"red\",\"green\",\"green\",\"green\",\"green\",\"red\",\"green\",\"red\",\"green\",\"red\",\"green\",\"green\",\"green\",\"green\",\"red\",\"red\",\"green\",\"green\",\"green\",\"green\",\"green\",\"green\",\"green\",\"green\",\"green\",\"red\",\"green\",\"green\",\"green\",\"green\",\"red\",\"green\",\"green\",\"green\",\"red\",\"green\",\"green\",\"green\",\"green\",\"red\",\"red\",\"green\",\"green\",\"red\",\"green\",\"red\",\"red\",\"red\",\"red\",\"green\",\"green\",\"red\",\"green\",\"green\",\"green\",\"green\",\"green\",\"red\",\"green\",\"green\",\"green\",\"green\",\"green\",\"green\",\"green\",\"green\",\"green\",\"green\",\"green\",\"red\",\"green\",\"green\",\"green\",\"red\",\"green\",\"red\",\"green\",\"green\",\"green\",\"green\",\"red\",\"green\",\"red\",\"green\",\"green\",\"green\",\"green\",\"red\",\"red\",\"red\",\"green\",\"green\",\"green\",\"green\",\"red\",\"green\",\"red\",\"red\",\"green\",\"green\",\"green\",\"green\",\"green\",\"red\",\"green\",\"green\",\"green\",\"green\",\"red\",\"green\",\"green\",\"green\",\"green\",\"green\",\"red\",\"green\",\"green\",\"red\",\"green\",\"green\",\"green\",\"green\",\"green\",\"green\",\"green\",\"green\",\"green\",\"red\",\"green\",\"red\",\"red\",\"green\",\"green\",\"green\",\"green\",\"red\",\"green\",\"green\",\"green\",\"green\",\"red\",\"green\",\"red\",\"green\",\"green\",\"green\",\"red\",\"red\",\"green\",\"red\",\"green\",\"green\",\"green\",\"green\",\"red\",\"red\",\"red\",\"green\",\"red\",\"green\",\"green\",\"green\",\"red\",\"green\",\"green\",\"green\",\"green\",\"red\",\"green\",\"green\",\"green\",\"green\",\"green\",\"red\",\"green\",\"green\",\"red\",\"green\",\"green\",\"green\",\"green\",\"green\",\"green\",\"green\",\"green\",\"red\",\"green\",\"green\",\"red\",\"red\",\"red\",\"green\",\"green\",\"red\",\"green\",\"green\",\"green\",\"red\",\"red\",\"red\",\"green\",\"red\",\"green\",\"red\",\"green\",\"red\",\"red\",\"green\",\"green\",\"green\",\"red\",\"green\",\"red\",\"green\",\"green\",\"red\",\"green\",\"green\",\"green\",\"green\",\"red\",\"green\",\"green\",\"green\",\"green\",\"green\",\"green\",\"red\",\"green\",\"green\",\"green\",\"green\",\"green\",\"green\",\"green\",\"green\",\"red\",\"red\",\"red\",\"red\",\"green\",\"red\",\"green\",\"green\",\"green\",\"green\",\"red\",\"green\",\"red\",\"green\",\"green\",\"green\",\"green\",\"red\",\"green\",\"red\",\"green\",\"green\",\"red\",\"green\",\"red\",\"green\",\"green\",\"green\",\"green\",\"green\",\"red\",\"green\",\"red\",\"green\",\"green\",\"green\",\"green\",\"green\",\"green\",\"red\",\"red\",\"green\",\"red\",\"green\",\"green\",\"green\",\"green\",\"red\",\"green\",\"green\",\"green\",\"green\",\"red\",\"green\",\"green\",\"green\",\"red\",\"green\",\"green\",\"green\",\"red\",\"green\",\"green\",\"red\",\"green\",\"green\",\"red\",\"red\",\"green\",\"green\",\"red\",\"red\",\"red\",\"green\",\"green\",\"green\",\"green\",\"red\",\"green\",\"green\",\"green\",\"green\",\"green\",\"green\",\"green\",\"red\",\"red\",\"green\",\"green\",\"green\",\"green\",\"red\",\"green\",\"green\",\"red\",\"green\",\"green\",\"green\",\"green\",\"red\",\"green\",\"red\",\"green\",\"red\",\"green\",\"green\",\"red\",\"red\",\"green\",\"green\",\"green\",\"green\",\"green\",\"green\",\"green\",\"green\",\"green\",\"red\",\"green\",\"green\",\"red\",\"red\",\"red\",\"green\",\"red\",\"green\",\"red\",\"red\",\"green\",\"red\",\"green\",\"green\",\"green\",\"green\",\"red\",\"green\",\"red\",\"red\",\"red\",\"green\",\"green\",\"green\",\"red\",\"green\",\"red\",\"green\",\"green\",\"green\",\"green\",\"red\",\"red\",\"green\",\"green\",\"red\",\"green\",\"green\",\"green\",\"green\",\"red\",\"green\",\"green\",\"green\",\"green\",\"green\",\"green\",\"green\",\"red\",\"green\",\"green\",\"green\",\"green\",\"red\",\"green\",\"green\",\"red\",\"green\",\"green\",\"green\",\"green\",\"green\",\"red\",\"green\",\"green\",\"green\",\"green\",\"green\",\"green\",\"green\",\"green\",\"green\",\"green\",\"green\",\"red\",\"green\",\"green\",\"green\",\"green\",\"green\",\"green\",\"green\",\"green\",\"green\",\"red\",\"green\",\"green\",\"green\",\"green\",\"green\",\"green\",\"green\",\"green\",\"green\",\"green\",\"green\",\"green\",\"green\",\"green\",\"green\",\"green\",\"green\",\"green\",\"green\",\"red\",\"green\",\"green\",\"red\",\"green\",\"green\",\"green\",\"green\",\"red\",\"green\",\"green\",\"red\",\"red\",\"green\",\"red\",\"green\",\"green\",\"green\",\"green\",\"green\",\"green\",\"green\",\"green\",\"green\",\"green\",\"red\",\"green\",\"red\",\"red\",\"red\",\"green\",\"green\",\"green\",\"green\",\"red\",\"green\",\"green\",\"green\",\"green\",\"red\",\"green\",\"green\",\"green\",\"green\",\"green\",\"green\",\"red\",\"green\",\"green\",\"green\",\"green\",\"red\",\"green\",\"green\",\"green\",\"green\",\"green\",\"green\",\"green\",\"green\",\"green\",\"red\",\"red\",\"red\",\"red\",\"green\",\"green\",\"green\",\"red\",\"red\",\"green\",\"red\",\"green\",\"green\",\"green\",\"green\",\"red\",\"green\",\"green\",\"green\",\"green\",\"green\",\"green\",\"green\",\"green\",\"red\",\"green\",\"red\",\"green\",\"green\",\"green\",\"green\",\"red\",\"green\",\"green\",\"green\",\"green\",\"green\",\"red\",\"green\",\"green\",\"green\",\"red\",\"green\",\"red\",\"green\",\"red\",\"green\",\"green\",\"green\",\"red\",\"red\",\"green\",\"red\",\"red\",\"green\",\"green\",\"red\",\"red\",\"red\",\"green\",\"green\",\"green\",\"green\",\"green\",\"green\",\"green\",\"green\",\"green\",\"green\",\"green\",\"green\",\"green\",\"green\",\"green\",\"green\",\"green\",\"red\",\"red\",\"red\",\"green\",\"red\",\"green\",\"red\",\"green\",\"green\",\"green\",\"green\",\"green\",\"green\",\"green\",\"green\",\"green\",\"red\",\"green\",\"green\",\"red\",\"green\",\"green\",\"green\",\"green\",\"green\",\"green\",\"green\",\"green\",\"green\",\"green\",\"green\",\"green\",\"red\",\"green\",\"green\",\"green\",\"green\",\"red\",\"green\",\"green\",\"green\",\"green\",\"green\",\"red\",\"red\",\"green\",\"green\",\"red\",\"green\",\"red\",\"green\",\"red\",\"green\",\"red\",\"green\",\"green\",\"green\",\"green\",\"red\",\"green\",\"green\",\"green\",\"green\",\"red\",\"green\",\"green\",\"green\",\"red\",\"green\",\"green\",\"red\",\"green\",\"green\",\"green\",\"red\",\"green\",\"red\",\"red\",\"green\",\"green\",\"green\",\"red\",\"red\",\"green\",\"green\",\"green\",\"red\",\"green\",\"green\",\"green\",\"green\",\"green\",\"green\",\"green\",\"green\",\"green\",\"green\",\"green\",\"green\",\"green\",\"red\",\"red\",\"green\",\"green\",\"green\",\"red\",\"green\",\"green\",\"green\",\"red\",\"green\",\"green\",\"green\",\"green\",\"green\",\"green\",\"green\",\"green\",\"green\",\"red\",\"green\",\"green\",\"green\",\"green\",\"green\",\"red\",\"green\",\"green\",\"green\",\"green\",\"green\",\"green\",\"green\",\"red\",\"green\",\"green\",\"green\",\"green\",\"green\",\"green\",\"green\",\"green\",\"green\",\"green\",\"green\",\"green\",\"green\",\"red\",\"green\",\"green\",\"red\",\"green\",\"green\",\"green\",\"red\",\"green\",\"green\",\"green\",\"green\",\"green\",\"green\",\"green\",\"green\",\"green\",\"green\",\"green\",\"green\",\"green\",\"green\",\"green\",\"green\",\"green\",\"green\",\"red\",\"green\"]},\"name\":\"\",\"showlegend\":true,\"type\":\"pie\"}],                        {\"template\":{\"data\":{\"histogram2dcontour\":[{\"type\":\"histogram2dcontour\",\"colorbar\":{\"outlinewidth\":0,\"ticks\":\"\"},\"colorscale\":[[0.0,\"#0d0887\"],[0.1111111111111111,\"#46039f\"],[0.2222222222222222,\"#7201a8\"],[0.3333333333333333,\"#9c179e\"],[0.4444444444444444,\"#bd3786\"],[0.5555555555555556,\"#d8576b\"],[0.6666666666666666,\"#ed7953\"],[0.7777777777777778,\"#fb9f3a\"],[0.8888888888888888,\"#fdca26\"],[1.0,\"#f0f921\"]]}],\"choropleth\":[{\"type\":\"choropleth\",\"colorbar\":{\"outlinewidth\":0,\"ticks\":\"\"}}],\"histogram2d\":[{\"type\":\"histogram2d\",\"colorbar\":{\"outlinewidth\":0,\"ticks\":\"\"},\"colorscale\":[[0.0,\"#0d0887\"],[0.1111111111111111,\"#46039f\"],[0.2222222222222222,\"#7201a8\"],[0.3333333333333333,\"#9c179e\"],[0.4444444444444444,\"#bd3786\"],[0.5555555555555556,\"#d8576b\"],[0.6666666666666666,\"#ed7953\"],[0.7777777777777778,\"#fb9f3a\"],[0.8888888888888888,\"#fdca26\"],[1.0,\"#f0f921\"]]}],\"heatmap\":[{\"type\":\"heatmap\",\"colorbar\":{\"outlinewidth\":0,\"ticks\":\"\"},\"colorscale\":[[0.0,\"#0d0887\"],[0.1111111111111111,\"#46039f\"],[0.2222222222222222,\"#7201a8\"],[0.3333333333333333,\"#9c179e\"],[0.4444444444444444,\"#bd3786\"],[0.5555555555555556,\"#d8576b\"],[0.6666666666666666,\"#ed7953\"],[0.7777777777777778,\"#fb9f3a\"],[0.8888888888888888,\"#fdca26\"],[1.0,\"#f0f921\"]]}],\"heatmapgl\":[{\"type\":\"heatmapgl\",\"colorbar\":{\"outlinewidth\":0,\"ticks\":\"\"},\"colorscale\":[[0.0,\"#0d0887\"],[0.1111111111111111,\"#46039f\"],[0.2222222222222222,\"#7201a8\"],[0.3333333333333333,\"#9c179e\"],[0.4444444444444444,\"#bd3786\"],[0.5555555555555556,\"#d8576b\"],[0.6666666666666666,\"#ed7953\"],[0.7777777777777778,\"#fb9f3a\"],[0.8888888888888888,\"#fdca26\"],[1.0,\"#f0f921\"]]}],\"contourcarpet\":[{\"type\":\"contourcarpet\",\"colorbar\":{\"outlinewidth\":0,\"ticks\":\"\"}}],\"contour\":[{\"type\":\"contour\",\"colorbar\":{\"outlinewidth\":0,\"ticks\":\"\"},\"colorscale\":[[0.0,\"#0d0887\"],[0.1111111111111111,\"#46039f\"],[0.2222222222222222,\"#7201a8\"],[0.3333333333333333,\"#9c179e\"],[0.4444444444444444,\"#bd3786\"],[0.5555555555555556,\"#d8576b\"],[0.6666666666666666,\"#ed7953\"],[0.7777777777777778,\"#fb9f3a\"],[0.8888888888888888,\"#fdca26\"],[1.0,\"#f0f921\"]]}],\"surface\":[{\"type\":\"surface\",\"colorbar\":{\"outlinewidth\":0,\"ticks\":\"\"},\"colorscale\":[[0.0,\"#0d0887\"],[0.1111111111111111,\"#46039f\"],[0.2222222222222222,\"#7201a8\"],[0.3333333333333333,\"#9c179e\"],[0.4444444444444444,\"#bd3786\"],[0.5555555555555556,\"#d8576b\"],[0.6666666666666666,\"#ed7953\"],[0.7777777777777778,\"#fb9f3a\"],[0.8888888888888888,\"#fdca26\"],[1.0,\"#f0f921\"]]}],\"mesh3d\":[{\"type\":\"mesh3d\",\"colorbar\":{\"outlinewidth\":0,\"ticks\":\"\"}}],\"scatter\":[{\"fillpattern\":{\"fillmode\":\"overlay\",\"size\":10,\"solidity\":0.2},\"type\":\"scatter\"}],\"parcoords\":[{\"type\":\"parcoords\",\"line\":{\"colorbar\":{\"outlinewidth\":0,\"ticks\":\"\"}}}],\"scatterpolargl\":[{\"type\":\"scatterpolargl\",\"marker\":{\"colorbar\":{\"outlinewidth\":0,\"ticks\":\"\"}}}],\"bar\":[{\"error_x\":{\"color\":\"#2a3f5f\"},\"error_y\":{\"color\":\"#2a3f5f\"},\"marker\":{\"line\":{\"color\":\"#E5ECF6\",\"width\":0.5},\"pattern\":{\"fillmode\":\"overlay\",\"size\":10,\"solidity\":0.2}},\"type\":\"bar\"}],\"scattergeo\":[{\"type\":\"scattergeo\",\"marker\":{\"colorbar\":{\"outlinewidth\":0,\"ticks\":\"\"}}}],\"scatterpolar\":[{\"type\":\"scatterpolar\",\"marker\":{\"colorbar\":{\"outlinewidth\":0,\"ticks\":\"\"}}}],\"histogram\":[{\"marker\":{\"pattern\":{\"fillmode\":\"overlay\",\"size\":10,\"solidity\":0.2}},\"type\":\"histogram\"}],\"scattergl\":[{\"type\":\"scattergl\",\"marker\":{\"colorbar\":{\"outlinewidth\":0,\"ticks\":\"\"}}}],\"scatter3d\":[{\"type\":\"scatter3d\",\"line\":{\"colorbar\":{\"outlinewidth\":0,\"ticks\":\"\"}},\"marker\":{\"colorbar\":{\"outlinewidth\":0,\"ticks\":\"\"}}}],\"scattermapbox\":[{\"type\":\"scattermapbox\",\"marker\":{\"colorbar\":{\"outlinewidth\":0,\"ticks\":\"\"}}}],\"scatterternary\":[{\"type\":\"scatterternary\",\"marker\":{\"colorbar\":{\"outlinewidth\":0,\"ticks\":\"\"}}}],\"scattercarpet\":[{\"type\":\"scattercarpet\",\"marker\":{\"colorbar\":{\"outlinewidth\":0,\"ticks\":\"\"}}}],\"carpet\":[{\"aaxis\":{\"endlinecolor\":\"#2a3f5f\",\"gridcolor\":\"white\",\"linecolor\":\"white\",\"minorgridcolor\":\"white\",\"startlinecolor\":\"#2a3f5f\"},\"baxis\":{\"endlinecolor\":\"#2a3f5f\",\"gridcolor\":\"white\",\"linecolor\":\"white\",\"minorgridcolor\":\"white\",\"startlinecolor\":\"#2a3f5f\"},\"type\":\"carpet\"}],\"table\":[{\"cells\":{\"fill\":{\"color\":\"#EBF0F8\"},\"line\":{\"color\":\"white\"}},\"header\":{\"fill\":{\"color\":\"#C8D4E3\"},\"line\":{\"color\":\"white\"}},\"type\":\"table\"}],\"barpolar\":[{\"marker\":{\"line\":{\"color\":\"#E5ECF6\",\"width\":0.5},\"pattern\":{\"fillmode\":\"overlay\",\"size\":10,\"solidity\":0.2}},\"type\":\"barpolar\"}],\"pie\":[{\"automargin\":true,\"type\":\"pie\"}]},\"layout\":{\"autotypenumbers\":\"strict\",\"colorway\":[\"#636efa\",\"#EF553B\",\"#00cc96\",\"#ab63fa\",\"#FFA15A\",\"#19d3f3\",\"#FF6692\",\"#B6E880\",\"#FF97FF\",\"#FECB52\"],\"font\":{\"color\":\"#2a3f5f\"},\"hovermode\":\"closest\",\"hoverlabel\":{\"align\":\"left\"},\"paper_bgcolor\":\"white\",\"plot_bgcolor\":\"#E5ECF6\",\"polar\":{\"bgcolor\":\"#E5ECF6\",\"angularaxis\":{\"gridcolor\":\"white\",\"linecolor\":\"white\",\"ticks\":\"\"},\"radialaxis\":{\"gridcolor\":\"white\",\"linecolor\":\"white\",\"ticks\":\"\"}},\"ternary\":{\"bgcolor\":\"#E5ECF6\",\"aaxis\":{\"gridcolor\":\"white\",\"linecolor\":\"white\",\"ticks\":\"\"},\"baxis\":{\"gridcolor\":\"white\",\"linecolor\":\"white\",\"ticks\":\"\"},\"caxis\":{\"gridcolor\":\"white\",\"linecolor\":\"white\",\"ticks\":\"\"}},\"coloraxis\":{\"colorbar\":{\"outlinewidth\":0,\"ticks\":\"\"}},\"colorscale\":{\"sequential\":[[0.0,\"#0d0887\"],[0.1111111111111111,\"#46039f\"],[0.2222222222222222,\"#7201a8\"],[0.3333333333333333,\"#9c179e\"],[0.4444444444444444,\"#bd3786\"],[0.5555555555555556,\"#d8576b\"],[0.6666666666666666,\"#ed7953\"],[0.7777777777777778,\"#fb9f3a\"],[0.8888888888888888,\"#fdca26\"],[1.0,\"#f0f921\"]],\"sequentialminus\":[[0.0,\"#0d0887\"],[0.1111111111111111,\"#46039f\"],[0.2222222222222222,\"#7201a8\"],[0.3333333333333333,\"#9c179e\"],[0.4444444444444444,\"#bd3786\"],[0.5555555555555556,\"#d8576b\"],[0.6666666666666666,\"#ed7953\"],[0.7777777777777778,\"#fb9f3a\"],[0.8888888888888888,\"#fdca26\"],[1.0,\"#f0f921\"]],\"diverging\":[[0,\"#8e0152\"],[0.1,\"#c51b7d\"],[0.2,\"#de77ae\"],[0.3,\"#f1b6da\"],[0.4,\"#fde0ef\"],[0.5,\"#f7f7f7\"],[0.6,\"#e6f5d0\"],[0.7,\"#b8e186\"],[0.8,\"#7fbc41\"],[0.9,\"#4d9221\"],[1,\"#276419\"]]},\"xaxis\":{\"gridcolor\":\"white\",\"linecolor\":\"white\",\"ticks\":\"\",\"title\":{\"standoff\":15},\"zerolinecolor\":\"white\",\"automargin\":true,\"zerolinewidth\":2},\"yaxis\":{\"gridcolor\":\"white\",\"linecolor\":\"white\",\"ticks\":\"\",\"title\":{\"standoff\":15},\"zerolinecolor\":\"white\",\"automargin\":true,\"zerolinewidth\":2},\"scene\":{\"xaxis\":{\"backgroundcolor\":\"#E5ECF6\",\"gridcolor\":\"white\",\"linecolor\":\"white\",\"showbackground\":true,\"ticks\":\"\",\"zerolinecolor\":\"white\",\"gridwidth\":2},\"yaxis\":{\"backgroundcolor\":\"#E5ECF6\",\"gridcolor\":\"white\",\"linecolor\":\"white\",\"showbackground\":true,\"ticks\":\"\",\"zerolinecolor\":\"white\",\"gridwidth\":2},\"zaxis\":{\"backgroundcolor\":\"#E5ECF6\",\"gridcolor\":\"white\",\"linecolor\":\"white\",\"showbackground\":true,\"ticks\":\"\",\"zerolinecolor\":\"white\",\"gridwidth\":2}},\"shapedefaults\":{\"line\":{\"color\":\"#2a3f5f\"}},\"annotationdefaults\":{\"arrowcolor\":\"#2a3f5f\",\"arrowhead\":0,\"arrowwidth\":1},\"geo\":{\"bgcolor\":\"white\",\"landcolor\":\"#E5ECF6\",\"subunitcolor\":\"white\",\"showland\":true,\"showlakes\":true,\"lakecolor\":\"white\"},\"title\":{\"x\":0.05},\"mapbox\":{\"style\":\"light\"}}},\"legend\":{\"tracegroupgap\":0},\"margin\":{\"t\":60}},                        {\"responsive\": true}                    ).then(function(){\n",
       "                            \n",
       "var gd = document.getElementById('daa5309c-0be7-4984-bb55-e80594dbdd44');\n",
       "var x = new MutationObserver(function (mutations, observer) {{\n",
       "        var display = window.getComputedStyle(gd).display;\n",
       "        if (!display || display === 'none') {{\n",
       "            console.log([gd, 'removed!']);\n",
       "            Plotly.purge(gd);\n",
       "            observer.disconnect();\n",
       "        }}\n",
       "}});\n",
       "\n",
       "// Listen for the removal of the full notebook cells\n",
       "var notebookContainer = gd.closest('#notebook-container');\n",
       "if (notebookContainer) {{\n",
       "    x.observe(notebookContainer, {childList: true});\n",
       "}}\n",
       "\n",
       "// Listen for the clearing of the current output cell\n",
       "var outputEl = gd.closest('.output');\n",
       "if (outputEl) {{\n",
       "    x.observe(outputEl, {childList: true});\n",
       "}}\n",
       "\n",
       "                        })                };                });            </script>        </div>"
      ]
     },
     "metadata": {},
     "output_type": "display_data"
    }
   ],
   "source": [
    "import plotly.express as px\n",
    "\n",
    "fig = px.pie(Bank,names='Loan_Status',color='Loan_Status',\n",
    "             color_discrete_map={'Yes':'red',\n",
    "                                 'No':'green'})\n",
    "fig.show()"
   ]
  },
  {
   "cell_type": "markdown",
   "metadata": {},
   "source": [
    "### Reject customer data  = Bad Customer"
   ]
  },
  {
   "cell_type": "code",
   "execution_count": 19,
   "metadata": {},
   "outputs": [
    {
     "data": {
      "text/html": [
       "<div>\n",
       "<style scoped>\n",
       "    .dataframe tbody tr th:only-of-type {\n",
       "        vertical-align: middle;\n",
       "    }\n",
       "\n",
       "    .dataframe tbody tr th {\n",
       "        vertical-align: top;\n",
       "    }\n",
       "\n",
       "    .dataframe thead th {\n",
       "        text-align: right;\n",
       "    }\n",
       "</style>\n",
       "<table border=\"1\" class=\"dataframe\">\n",
       "  <thead>\n",
       "    <tr style=\"text-align: right;\">\n",
       "      <th></th>\n",
       "      <th>Loan_ID</th>\n",
       "      <th>Age</th>\n",
       "      <th>Gender</th>\n",
       "      <th>Married</th>\n",
       "      <th>Dependents</th>\n",
       "      <th>Education</th>\n",
       "      <th>Self_Employed</th>\n",
       "      <th>ApplicantIncome</th>\n",
       "      <th>LoanAmount</th>\n",
       "      <th>Previous_Loan_Taken</th>\n",
       "      <th>Cibil_Score</th>\n",
       "      <th>Property_Area</th>\n",
       "      <th>Customer_Bandwith</th>\n",
       "      <th>Tenure</th>\n",
       "      <th>Loan_Status</th>\n",
       "      <th>Tenure_group</th>\n",
       "    </tr>\n",
       "  </thead>\n",
       "  <tbody>\n",
       "    <tr>\n",
       "      <th>1</th>\n",
       "      <td>LP001003</td>\n",
       "      <td>57</td>\n",
       "      <td>Male</td>\n",
       "      <td>Yes</td>\n",
       "      <td>2</td>\n",
       "      <td>Graduate</td>\n",
       "      <td>No</td>\n",
       "      <td>28817</td>\n",
       "      <td>736026</td>\n",
       "      <td>Yes</td>\n",
       "      <td>684</td>\n",
       "      <td>Rural</td>\n",
       "      <td>Good</td>\n",
       "      <td>13</td>\n",
       "      <td>Yes</td>\n",
       "      <td>Tenure_13_24</td>\n",
       "    </tr>\n",
       "    <tr>\n",
       "      <th>7</th>\n",
       "      <td>LP001014</td>\n",
       "      <td>54</td>\n",
       "      <td>Male</td>\n",
       "      <td>Yes</td>\n",
       "      <td>1</td>\n",
       "      <td>Graduate</td>\n",
       "      <td>No</td>\n",
       "      <td>53213</td>\n",
       "      <td>368715</td>\n",
       "      <td>No</td>\n",
       "      <td>447</td>\n",
       "      <td>Semiurban</td>\n",
       "      <td>Bad</td>\n",
       "      <td>17</td>\n",
       "      <td>Yes</td>\n",
       "      <td>Tenure_13_24</td>\n",
       "    </tr>\n",
       "    <tr>\n",
       "      <th>9</th>\n",
       "      <td>LP001020</td>\n",
       "      <td>33</td>\n",
       "      <td>Male</td>\n",
       "      <td>Yes</td>\n",
       "      <td>0</td>\n",
       "      <td>Graduate</td>\n",
       "      <td>No</td>\n",
       "      <td>57348</td>\n",
       "      <td>347577</td>\n",
       "      <td>Yes</td>\n",
       "      <td>378</td>\n",
       "      <td>Semiurban</td>\n",
       "      <td>Bad</td>\n",
       "      <td>18</td>\n",
       "      <td>Yes</td>\n",
       "      <td>Tenure_13_24</td>\n",
       "    </tr>\n",
       "    <tr>\n",
       "      <th>13</th>\n",
       "      <td>LP001029</td>\n",
       "      <td>32</td>\n",
       "      <td>Male</td>\n",
       "      <td>No</td>\n",
       "      <td>4</td>\n",
       "      <td>Graduate</td>\n",
       "      <td>No</td>\n",
       "      <td>43208</td>\n",
       "      <td>309303</td>\n",
       "      <td>Yes</td>\n",
       "      <td>585</td>\n",
       "      <td>Rural</td>\n",
       "      <td>Medium</td>\n",
       "      <td>39</td>\n",
       "      <td>Yes</td>\n",
       "      <td>Tenure_gt_36</td>\n",
       "    </tr>\n",
       "    <tr>\n",
       "      <th>17</th>\n",
       "      <td>LP001036</td>\n",
       "      <td>45</td>\n",
       "      <td>Female</td>\n",
       "      <td>No</td>\n",
       "      <td>2</td>\n",
       "      <td>Graduate</td>\n",
       "      <td>No</td>\n",
       "      <td>27568</td>\n",
       "      <td>830422</td>\n",
       "      <td>No</td>\n",
       "      <td>659</td>\n",
       "      <td>Urban</td>\n",
       "      <td>Good</td>\n",
       "      <td>35</td>\n",
       "      <td>Yes</td>\n",
       "      <td>Tenure_25-36</td>\n",
       "    </tr>\n",
       "    <tr>\n",
       "      <th>...</th>\n",
       "      <td>...</td>\n",
       "      <td>...</td>\n",
       "      <td>...</td>\n",
       "      <td>...</td>\n",
       "      <td>...</td>\n",
       "      <td>...</td>\n",
       "      <td>...</td>\n",
       "      <td>...</td>\n",
       "      <td>...</td>\n",
       "      <td>...</td>\n",
       "      <td>...</td>\n",
       "      <td>...</td>\n",
       "      <td>...</td>\n",
       "      <td>...</td>\n",
       "      <td>...</td>\n",
       "      <td>...</td>\n",
       "    </tr>\n",
       "    <tr>\n",
       "      <th>939</th>\n",
       "      <td>LP002802</td>\n",
       "      <td>24</td>\n",
       "      <td>Male</td>\n",
       "      <td>No</td>\n",
       "      <td>4</td>\n",
       "      <td>Graduate</td>\n",
       "      <td>No</td>\n",
       "      <td>29313</td>\n",
       "      <td>127392</td>\n",
       "      <td>No</td>\n",
       "      <td>618</td>\n",
       "      <td>Semiurban</td>\n",
       "      <td>Medium</td>\n",
       "      <td>36</td>\n",
       "      <td>Yes</td>\n",
       "      <td>Tenure_25-36</td>\n",
       "    </tr>\n",
       "    <tr>\n",
       "      <th>953</th>\n",
       "      <td>LP002858</td>\n",
       "      <td>57</td>\n",
       "      <td>Female</td>\n",
       "      <td>No</td>\n",
       "      <td>2</td>\n",
       "      <td>Graduate</td>\n",
       "      <td>No</td>\n",
       "      <td>91401</td>\n",
       "      <td>777888</td>\n",
       "      <td>No</td>\n",
       "      <td>726</td>\n",
       "      <td>Rural</td>\n",
       "      <td>Good</td>\n",
       "      <td>7</td>\n",
       "      <td>Yes</td>\n",
       "      <td>Tenure_7_12</td>\n",
       "    </tr>\n",
       "    <tr>\n",
       "      <th>956</th>\n",
       "      <td>LP002869</td>\n",
       "      <td>45</td>\n",
       "      <td>Male</td>\n",
       "      <td>Yes</td>\n",
       "      <td>4</td>\n",
       "      <td>Not Graduate</td>\n",
       "      <td>No</td>\n",
       "      <td>63617</td>\n",
       "      <td>421266</td>\n",
       "      <td>Yes</td>\n",
       "      <td>599</td>\n",
       "      <td>Rural</td>\n",
       "      <td>Medium</td>\n",
       "      <td>17</td>\n",
       "      <td>Yes</td>\n",
       "      <td>Tenure_13_24</td>\n",
       "    </tr>\n",
       "    <tr>\n",
       "      <th>960</th>\n",
       "      <td>LP002879</td>\n",
       "      <td>23</td>\n",
       "      <td>Male</td>\n",
       "      <td>Yes</td>\n",
       "      <td>4</td>\n",
       "      <td>Graduate</td>\n",
       "      <td>No</td>\n",
       "      <td>96201</td>\n",
       "      <td>996625</td>\n",
       "      <td>No</td>\n",
       "      <td>846</td>\n",
       "      <td>Rural</td>\n",
       "      <td>Good</td>\n",
       "      <td>22</td>\n",
       "      <td>Yes</td>\n",
       "      <td>Tenure_13_24</td>\n",
       "    </tr>\n",
       "    <tr>\n",
       "      <th>979</th>\n",
       "      <td>LP002986</td>\n",
       "      <td>31</td>\n",
       "      <td>Male</td>\n",
       "      <td>Yes</td>\n",
       "      <td>4</td>\n",
       "      <td>Graduate</td>\n",
       "      <td>No</td>\n",
       "      <td>77945</td>\n",
       "      <td>817294</td>\n",
       "      <td>Yes</td>\n",
       "      <td>889</td>\n",
       "      <td>Rural</td>\n",
       "      <td>Good</td>\n",
       "      <td>28</td>\n",
       "      <td>Yes</td>\n",
       "      <td>Tenure_25-36</td>\n",
       "    </tr>\n",
       "  </tbody>\n",
       "</table>\n",
       "<p>269 rows × 16 columns</p>\n",
       "</div>"
      ],
      "text/plain": [
       "      Loan_ID  Age  Gender Married  Dependents     Education Self_Employed  \\\n",
       "1    LP001003   57    Male     Yes           2      Graduate            No   \n",
       "7    LP001014   54    Male     Yes           1      Graduate            No   \n",
       "9    LP001020   33    Male     Yes           0      Graduate            No   \n",
       "13   LP001029   32    Male      No           4      Graduate            No   \n",
       "17   LP001036   45  Female      No           2      Graduate            No   \n",
       "..        ...  ...     ...     ...         ...           ...           ...   \n",
       "939  LP002802   24    Male      No           4      Graduate            No   \n",
       "953  LP002858   57  Female      No           2      Graduate            No   \n",
       "956  LP002869   45    Male     Yes           4  Not Graduate            No   \n",
       "960  LP002879   23    Male     Yes           4      Graduate            No   \n",
       "979  LP002986   31    Male     Yes           4      Graduate            No   \n",
       "\n",
       "     ApplicantIncome  LoanAmount Previous_Loan_Taken  Cibil_Score  \\\n",
       "1              28817      736026                 Yes          684   \n",
       "7              53213      368715                  No          447   \n",
       "9              57348      347577                 Yes          378   \n",
       "13             43208      309303                 Yes          585   \n",
       "17             27568      830422                  No          659   \n",
       "..               ...         ...                 ...          ...   \n",
       "939            29313      127392                  No          618   \n",
       "953            91401      777888                  No          726   \n",
       "956            63617      421266                 Yes          599   \n",
       "960            96201      996625                  No          846   \n",
       "979            77945      817294                 Yes          889   \n",
       "\n",
       "    Property_Area Customer_Bandwith  Tenure Loan_Status  Tenure_group  \n",
       "1           Rural              Good      13         Yes  Tenure_13_24  \n",
       "7       Semiurban               Bad      17         Yes  Tenure_13_24  \n",
       "9       Semiurban               Bad      18         Yes  Tenure_13_24  \n",
       "13          Rural            Medium      39         Yes  Tenure_gt_36  \n",
       "17          Urban              Good      35         Yes  Tenure_25-36  \n",
       "..            ...               ...     ...         ...           ...  \n",
       "939     Semiurban            Medium      36         Yes  Tenure_25-36  \n",
       "953         Rural              Good       7         Yes   Tenure_7_12  \n",
       "956         Rural            Medium      17         Yes  Tenure_13_24  \n",
       "960         Rural              Good      22         Yes  Tenure_13_24  \n",
       "979         Rural              Good      28         Yes  Tenure_25-36  \n",
       "\n",
       "[269 rows x 16 columns]"
      ]
     },
     "execution_count": 19,
     "metadata": {},
     "output_type": "execute_result"
    }
   ],
   "source": [
    "Bank_Yes= Bank[Bank[\"Loan_Status\"] == \"Yes\"]  # 269\n",
    "\n",
    "Bank_Yes"
   ]
  },
  {
   "cell_type": "code",
   "execution_count": 20,
   "metadata": {},
   "outputs": [
    {
     "data": {
      "application/vnd.plotly.v1+json": {
       "config": {
        "plotlyServerURL": "https://plot.ly"
       },
       "data": [
        {
         "branchvalues": "total",
         "domain": {
          "x": [
           0,
           1
          ],
          "y": [
           0,
           1
          ]
         },
         "hovertemplate": "labels=%{label}<br>count=%{value}<br>parent=%{parent}<br>id=%{id}<extra></extra>",
         "ids": [
          "Female/Graduate/No/Tenure_0_6/Rural",
          "Male/Graduate/No/Tenure_0_6/Rural",
          "Male/Not Graduate/No/Tenure_0_6/Rural",
          "Female/Graduate/Yes/Tenure_0_6/Rural",
          "Female/Graduate/No/Tenure_13_24/Rural",
          "Male/Graduate/No/Tenure_13_24/Rural",
          "Female/Not Graduate/No/Tenure_13_24/Rural",
          "Male/Not Graduate/No/Tenure_13_24/Rural",
          "Male/Graduate/Yes/Tenure_13_24/Rural",
          "Male/Not Graduate/Yes/Tenure_13_24/Rural",
          "Female/Graduate/No/Tenure_25-36/Rural",
          "Male/Graduate/No/Tenure_25-36/Rural",
          "Male/Not Graduate/No/Tenure_25-36/Rural",
          "Male/Graduate/Yes/Tenure_25-36/Rural",
          "Male/Not Graduate/Yes/Tenure_25-36/Rural",
          "Female/Graduate/No/Tenure_7_12/Rural",
          "Male/Graduate/No/Tenure_7_12/Rural",
          "Male/Not Graduate/No/Tenure_7_12/Rural",
          "Female/Graduate/Yes/Tenure_7_12/Rural",
          "Male/Graduate/Yes/Tenure_7_12/Rural",
          "Female/Graduate/No/Tenure_gt_36/Rural",
          "Male/Graduate/No/Tenure_gt_36/Rural",
          "Female/Not Graduate/No/Tenure_gt_36/Rural",
          "Male/Not Graduate/No/Tenure_gt_36/Rural",
          "Male/Graduate/Yes/Tenure_gt_36/Rural",
          "Female/Graduate/No/Tenure_0_6/Semiurban",
          "Female/Not Graduate/Yes/Tenure_0_6/Semiurban",
          "Female/Graduate/No/Tenure_13_24/Semiurban",
          "Male/Graduate/No/Tenure_13_24/Semiurban",
          "Male/Not Graduate/No/Tenure_13_24/Semiurban",
          "Female/Graduate/Yes/Tenure_13_24/Semiurban",
          "Male/Graduate/Yes/Tenure_13_24/Semiurban",
          "Male/Not Graduate/Yes/Tenure_13_24/Semiurban",
          "Female/Graduate/No/Tenure_25-36/Semiurban",
          "Male/Graduate/No/Tenure_25-36/Semiurban",
          "Female/Not Graduate/No/Tenure_25-36/Semiurban",
          "Male/Not Graduate/No/Tenure_25-36/Semiurban",
          "Female/Graduate/Yes/Tenure_25-36/Semiurban",
          "Male/Graduate/Yes/Tenure_25-36/Semiurban",
          "Male/Graduate/No/Tenure_7_12/Semiurban",
          "Male/Not Graduate/No/Tenure_7_12/Semiurban",
          "Male/Not Graduate/Yes/Tenure_7_12/Semiurban",
          "Female/Graduate/No/Tenure_gt_36/Semiurban",
          "Male/Graduate/No/Tenure_gt_36/Semiurban",
          "Female/Not Graduate/No/Tenure_gt_36/Semiurban",
          "Male/Not Graduate/No/Tenure_gt_36/Semiurban",
          "Female/Graduate/Yes/Tenure_gt_36/Semiurban",
          "Male/Graduate/No/Tenure_0_6/Urban",
          "Male/Not Graduate/No/Tenure_0_6/Urban",
          "Female/Graduate/No/Tenure_13_24/Urban",
          "Male/Graduate/No/Tenure_13_24/Urban",
          "Female/Not Graduate/No/Tenure_13_24/Urban",
          "Male/Not Graduate/No/Tenure_13_24/Urban",
          "Female/Graduate/No/Tenure_25-36/Urban",
          "Male/Graduate/No/Tenure_25-36/Urban",
          "Male/Not Graduate/No/Tenure_25-36/Urban",
          "Female/Graduate/Yes/Tenure_25-36/Urban",
          "Male/Graduate/Yes/Tenure_25-36/Urban",
          "Male/Not Graduate/Yes/Tenure_25-36/Urban",
          "Female/Graduate/No/Tenure_7_12/Urban",
          "Male/Graduate/No/Tenure_7_12/Urban",
          "Female/Not Graduate/No/Tenure_7_12/Urban",
          "Male/Not Graduate/No/Tenure_7_12/Urban",
          "Male/Graduate/Yes/Tenure_7_12/Urban",
          "Female/Graduate/No/Tenure_gt_36/Urban",
          "Male/Graduate/No/Tenure_gt_36/Urban",
          "Male/Not Graduate/No/Tenure_gt_36/Urban",
          "Male/Graduate/Yes/Tenure_gt_36/Urban",
          "Male/Not Graduate/Yes/Tenure_gt_36/Urban",
          "Female/Graduate/No/Tenure_0_6",
          "Male/Graduate/No/Tenure_0_6",
          "Male/Not Graduate/No/Tenure_0_6",
          "Female/Graduate/Yes/Tenure_0_6",
          "Female/Not Graduate/Yes/Tenure_0_6",
          "Female/Graduate/No/Tenure_13_24",
          "Male/Graduate/No/Tenure_13_24",
          "Female/Not Graduate/No/Tenure_13_24",
          "Male/Not Graduate/No/Tenure_13_24",
          "Female/Graduate/Yes/Tenure_13_24",
          "Male/Graduate/Yes/Tenure_13_24",
          "Male/Not Graduate/Yes/Tenure_13_24",
          "Female/Graduate/No/Tenure_25-36",
          "Male/Graduate/No/Tenure_25-36",
          "Female/Not Graduate/No/Tenure_25-36",
          "Male/Not Graduate/No/Tenure_25-36",
          "Female/Graduate/Yes/Tenure_25-36",
          "Male/Graduate/Yes/Tenure_25-36",
          "Male/Not Graduate/Yes/Tenure_25-36",
          "Female/Graduate/No/Tenure_7_12",
          "Male/Graduate/No/Tenure_7_12",
          "Female/Not Graduate/No/Tenure_7_12",
          "Male/Not Graduate/No/Tenure_7_12",
          "Female/Graduate/Yes/Tenure_7_12",
          "Male/Graduate/Yes/Tenure_7_12",
          "Male/Not Graduate/Yes/Tenure_7_12",
          "Female/Graduate/No/Tenure_gt_36",
          "Male/Graduate/No/Tenure_gt_36",
          "Female/Not Graduate/No/Tenure_gt_36",
          "Male/Not Graduate/No/Tenure_gt_36",
          "Female/Graduate/Yes/Tenure_gt_36",
          "Male/Graduate/Yes/Tenure_gt_36",
          "Male/Not Graduate/Yes/Tenure_gt_36",
          "Female/Graduate/No",
          "Male/Graduate/No",
          "Female/Not Graduate/No",
          "Male/Not Graduate/No",
          "Female/Graduate/Yes",
          "Male/Graduate/Yes",
          "Female/Not Graduate/Yes",
          "Male/Not Graduate/Yes",
          "Female/Graduate",
          "Male/Graduate",
          "Female/Not Graduate",
          "Male/Not Graduate",
          "Female",
          "Male"
         ],
         "labels": [
          "Rural",
          "Rural",
          "Rural",
          "Rural",
          "Rural",
          "Rural",
          "Rural",
          "Rural",
          "Rural",
          "Rural",
          "Rural",
          "Rural",
          "Rural",
          "Rural",
          "Rural",
          "Rural",
          "Rural",
          "Rural",
          "Rural",
          "Rural",
          "Rural",
          "Rural",
          "Rural",
          "Rural",
          "Rural",
          "Semiurban",
          "Semiurban",
          "Semiurban",
          "Semiurban",
          "Semiurban",
          "Semiurban",
          "Semiurban",
          "Semiurban",
          "Semiurban",
          "Semiurban",
          "Semiurban",
          "Semiurban",
          "Semiurban",
          "Semiurban",
          "Semiurban",
          "Semiurban",
          "Semiurban",
          "Semiurban",
          "Semiurban",
          "Semiurban",
          "Semiurban",
          "Semiurban",
          "Urban",
          "Urban",
          "Urban",
          "Urban",
          "Urban",
          "Urban",
          "Urban",
          "Urban",
          "Urban",
          "Urban",
          "Urban",
          "Urban",
          "Urban",
          "Urban",
          "Urban",
          "Urban",
          "Urban",
          "Urban",
          "Urban",
          "Urban",
          "Urban",
          "Urban",
          "Tenure_0_6",
          "Tenure_0_6",
          "Tenure_0_6",
          "Tenure_0_6",
          "Tenure_0_6",
          "Tenure_13_24",
          "Tenure_13_24",
          "Tenure_13_24",
          "Tenure_13_24",
          "Tenure_13_24",
          "Tenure_13_24",
          "Tenure_13_24",
          "Tenure_25-36",
          "Tenure_25-36",
          "Tenure_25-36",
          "Tenure_25-36",
          "Tenure_25-36",
          "Tenure_25-36",
          "Tenure_25-36",
          "Tenure_7_12",
          "Tenure_7_12",
          "Tenure_7_12",
          "Tenure_7_12",
          "Tenure_7_12",
          "Tenure_7_12",
          "Tenure_7_12",
          "Tenure_gt_36",
          "Tenure_gt_36",
          "Tenure_gt_36",
          "Tenure_gt_36",
          "Tenure_gt_36",
          "Tenure_gt_36",
          "Tenure_gt_36",
          "No",
          "No",
          "No",
          "No",
          "Yes",
          "Yes",
          "Yes",
          "Yes",
          "Graduate",
          "Graduate",
          "Not Graduate",
          "Not Graduate",
          "Female",
          "Male"
         ],
         "name": "",
         "parents": [
          "Female/Graduate/No/Tenure_0_6",
          "Male/Graduate/No/Tenure_0_6",
          "Male/Not Graduate/No/Tenure_0_6",
          "Female/Graduate/Yes/Tenure_0_6",
          "Female/Graduate/No/Tenure_13_24",
          "Male/Graduate/No/Tenure_13_24",
          "Female/Not Graduate/No/Tenure_13_24",
          "Male/Not Graduate/No/Tenure_13_24",
          "Male/Graduate/Yes/Tenure_13_24",
          "Male/Not Graduate/Yes/Tenure_13_24",
          "Female/Graduate/No/Tenure_25-36",
          "Male/Graduate/No/Tenure_25-36",
          "Male/Not Graduate/No/Tenure_25-36",
          "Male/Graduate/Yes/Tenure_25-36",
          "Male/Not Graduate/Yes/Tenure_25-36",
          "Female/Graduate/No/Tenure_7_12",
          "Male/Graduate/No/Tenure_7_12",
          "Male/Not Graduate/No/Tenure_7_12",
          "Female/Graduate/Yes/Tenure_7_12",
          "Male/Graduate/Yes/Tenure_7_12",
          "Female/Graduate/No/Tenure_gt_36",
          "Male/Graduate/No/Tenure_gt_36",
          "Female/Not Graduate/No/Tenure_gt_36",
          "Male/Not Graduate/No/Tenure_gt_36",
          "Male/Graduate/Yes/Tenure_gt_36",
          "Female/Graduate/No/Tenure_0_6",
          "Female/Not Graduate/Yes/Tenure_0_6",
          "Female/Graduate/No/Tenure_13_24",
          "Male/Graduate/No/Tenure_13_24",
          "Male/Not Graduate/No/Tenure_13_24",
          "Female/Graduate/Yes/Tenure_13_24",
          "Male/Graduate/Yes/Tenure_13_24",
          "Male/Not Graduate/Yes/Tenure_13_24",
          "Female/Graduate/No/Tenure_25-36",
          "Male/Graduate/No/Tenure_25-36",
          "Female/Not Graduate/No/Tenure_25-36",
          "Male/Not Graduate/No/Tenure_25-36",
          "Female/Graduate/Yes/Tenure_25-36",
          "Male/Graduate/Yes/Tenure_25-36",
          "Male/Graduate/No/Tenure_7_12",
          "Male/Not Graduate/No/Tenure_7_12",
          "Male/Not Graduate/Yes/Tenure_7_12",
          "Female/Graduate/No/Tenure_gt_36",
          "Male/Graduate/No/Tenure_gt_36",
          "Female/Not Graduate/No/Tenure_gt_36",
          "Male/Not Graduate/No/Tenure_gt_36",
          "Female/Graduate/Yes/Tenure_gt_36",
          "Male/Graduate/No/Tenure_0_6",
          "Male/Not Graduate/No/Tenure_0_6",
          "Female/Graduate/No/Tenure_13_24",
          "Male/Graduate/No/Tenure_13_24",
          "Female/Not Graduate/No/Tenure_13_24",
          "Male/Not Graduate/No/Tenure_13_24",
          "Female/Graduate/No/Tenure_25-36",
          "Male/Graduate/No/Tenure_25-36",
          "Male/Not Graduate/No/Tenure_25-36",
          "Female/Graduate/Yes/Tenure_25-36",
          "Male/Graduate/Yes/Tenure_25-36",
          "Male/Not Graduate/Yes/Tenure_25-36",
          "Female/Graduate/No/Tenure_7_12",
          "Male/Graduate/No/Tenure_7_12",
          "Female/Not Graduate/No/Tenure_7_12",
          "Male/Not Graduate/No/Tenure_7_12",
          "Male/Graduate/Yes/Tenure_7_12",
          "Female/Graduate/No/Tenure_gt_36",
          "Male/Graduate/No/Tenure_gt_36",
          "Male/Not Graduate/No/Tenure_gt_36",
          "Male/Graduate/Yes/Tenure_gt_36",
          "Male/Not Graduate/Yes/Tenure_gt_36",
          "Female/Graduate/No",
          "Male/Graduate/No",
          "Male/Not Graduate/No",
          "Female/Graduate/Yes",
          "Female/Not Graduate/Yes",
          "Female/Graduate/No",
          "Male/Graduate/No",
          "Female/Not Graduate/No",
          "Male/Not Graduate/No",
          "Female/Graduate/Yes",
          "Male/Graduate/Yes",
          "Male/Not Graduate/Yes",
          "Female/Graduate/No",
          "Male/Graduate/No",
          "Female/Not Graduate/No",
          "Male/Not Graduate/No",
          "Female/Graduate/Yes",
          "Male/Graduate/Yes",
          "Male/Not Graduate/Yes",
          "Female/Graduate/No",
          "Male/Graduate/No",
          "Female/Not Graduate/No",
          "Male/Not Graduate/No",
          "Female/Graduate/Yes",
          "Male/Graduate/Yes",
          "Male/Not Graduate/Yes",
          "Female/Graduate/No",
          "Male/Graduate/No",
          "Female/Not Graduate/No",
          "Male/Not Graduate/No",
          "Female/Graduate/Yes",
          "Male/Graduate/Yes",
          "Male/Not Graduate/Yes",
          "Female/Graduate",
          "Male/Graduate",
          "Female/Not Graduate",
          "Male/Not Graduate",
          "Female/Graduate",
          "Male/Graduate",
          "Female/Not Graduate",
          "Male/Not Graduate",
          "Female",
          "Male",
          "Female",
          "Male",
          "",
          ""
         ],
         "type": "sunburst",
         "values": [
          2,
          5,
          2,
          1,
          4,
          16,
          1,
          7,
          1,
          1,
          2,
          16,
          9,
          2,
          2,
          1,
          3,
          4,
          1,
          1,
          3,
          12,
          1,
          5,
          1,
          1,
          1,
          3,
          13,
          3,
          1,
          1,
          1,
          5,
          9,
          1,
          1,
          1,
          1,
          6,
          3,
          1,
          5,
          14,
          1,
          3,
          1,
          2,
          2,
          2,
          9,
          2,
          5,
          7,
          14,
          8,
          1,
          4,
          1,
          1,
          9,
          1,
          2,
          1,
          5,
          7,
          4,
          2,
          1,
          3,
          7,
          4,
          1,
          1,
          9,
          38,
          3,
          15,
          1,
          2,
          2,
          14,
          39,
          1,
          18,
          2,
          7,
          3,
          2,
          18,
          1,
          9,
          1,
          2,
          1,
          13,
          33,
          2,
          12,
          1,
          3,
          1,
          41,
          135,
          7,
          58,
          6,
          14,
          1,
          7,
          47,
          149,
          8,
          65,
          55,
          214
         ]
        }
       ],
       "layout": {
        "legend": {
         "tracegroupgap": 0
        },
        "margin": {
         "t": 60
        },
        "template": {
         "data": {
          "bar": [
           {
            "error_x": {
             "color": "#2a3f5f"
            },
            "error_y": {
             "color": "#2a3f5f"
            },
            "marker": {
             "line": {
              "color": "#E5ECF6",
              "width": 0.5
             },
             "pattern": {
              "fillmode": "overlay",
              "size": 10,
              "solidity": 0.2
             }
            },
            "type": "bar"
           }
          ],
          "barpolar": [
           {
            "marker": {
             "line": {
              "color": "#E5ECF6",
              "width": 0.5
             },
             "pattern": {
              "fillmode": "overlay",
              "size": 10,
              "solidity": 0.2
             }
            },
            "type": "barpolar"
           }
          ],
          "carpet": [
           {
            "aaxis": {
             "endlinecolor": "#2a3f5f",
             "gridcolor": "white",
             "linecolor": "white",
             "minorgridcolor": "white",
             "startlinecolor": "#2a3f5f"
            },
            "baxis": {
             "endlinecolor": "#2a3f5f",
             "gridcolor": "white",
             "linecolor": "white",
             "minorgridcolor": "white",
             "startlinecolor": "#2a3f5f"
            },
            "type": "carpet"
           }
          ],
          "choropleth": [
           {
            "colorbar": {
             "outlinewidth": 0,
             "ticks": ""
            },
            "type": "choropleth"
           }
          ],
          "contour": [
           {
            "colorbar": {
             "outlinewidth": 0,
             "ticks": ""
            },
            "colorscale": [
             [
              0,
              "#0d0887"
             ],
             [
              0.1111111111111111,
              "#46039f"
             ],
             [
              0.2222222222222222,
              "#7201a8"
             ],
             [
              0.3333333333333333,
              "#9c179e"
             ],
             [
              0.4444444444444444,
              "#bd3786"
             ],
             [
              0.5555555555555556,
              "#d8576b"
             ],
             [
              0.6666666666666666,
              "#ed7953"
             ],
             [
              0.7777777777777778,
              "#fb9f3a"
             ],
             [
              0.8888888888888888,
              "#fdca26"
             ],
             [
              1,
              "#f0f921"
             ]
            ],
            "type": "contour"
           }
          ],
          "contourcarpet": [
           {
            "colorbar": {
             "outlinewidth": 0,
             "ticks": ""
            },
            "type": "contourcarpet"
           }
          ],
          "heatmap": [
           {
            "colorbar": {
             "outlinewidth": 0,
             "ticks": ""
            },
            "colorscale": [
             [
              0,
              "#0d0887"
             ],
             [
              0.1111111111111111,
              "#46039f"
             ],
             [
              0.2222222222222222,
              "#7201a8"
             ],
             [
              0.3333333333333333,
              "#9c179e"
             ],
             [
              0.4444444444444444,
              "#bd3786"
             ],
             [
              0.5555555555555556,
              "#d8576b"
             ],
             [
              0.6666666666666666,
              "#ed7953"
             ],
             [
              0.7777777777777778,
              "#fb9f3a"
             ],
             [
              0.8888888888888888,
              "#fdca26"
             ],
             [
              1,
              "#f0f921"
             ]
            ],
            "type": "heatmap"
           }
          ],
          "heatmapgl": [
           {
            "colorbar": {
             "outlinewidth": 0,
             "ticks": ""
            },
            "colorscale": [
             [
              0,
              "#0d0887"
             ],
             [
              0.1111111111111111,
              "#46039f"
             ],
             [
              0.2222222222222222,
              "#7201a8"
             ],
             [
              0.3333333333333333,
              "#9c179e"
             ],
             [
              0.4444444444444444,
              "#bd3786"
             ],
             [
              0.5555555555555556,
              "#d8576b"
             ],
             [
              0.6666666666666666,
              "#ed7953"
             ],
             [
              0.7777777777777778,
              "#fb9f3a"
             ],
             [
              0.8888888888888888,
              "#fdca26"
             ],
             [
              1,
              "#f0f921"
             ]
            ],
            "type": "heatmapgl"
           }
          ],
          "histogram": [
           {
            "marker": {
             "pattern": {
              "fillmode": "overlay",
              "size": 10,
              "solidity": 0.2
             }
            },
            "type": "histogram"
           }
          ],
          "histogram2d": [
           {
            "colorbar": {
             "outlinewidth": 0,
             "ticks": ""
            },
            "colorscale": [
             [
              0,
              "#0d0887"
             ],
             [
              0.1111111111111111,
              "#46039f"
             ],
             [
              0.2222222222222222,
              "#7201a8"
             ],
             [
              0.3333333333333333,
              "#9c179e"
             ],
             [
              0.4444444444444444,
              "#bd3786"
             ],
             [
              0.5555555555555556,
              "#d8576b"
             ],
             [
              0.6666666666666666,
              "#ed7953"
             ],
             [
              0.7777777777777778,
              "#fb9f3a"
             ],
             [
              0.8888888888888888,
              "#fdca26"
             ],
             [
              1,
              "#f0f921"
             ]
            ],
            "type": "histogram2d"
           }
          ],
          "histogram2dcontour": [
           {
            "colorbar": {
             "outlinewidth": 0,
             "ticks": ""
            },
            "colorscale": [
             [
              0,
              "#0d0887"
             ],
             [
              0.1111111111111111,
              "#46039f"
             ],
             [
              0.2222222222222222,
              "#7201a8"
             ],
             [
              0.3333333333333333,
              "#9c179e"
             ],
             [
              0.4444444444444444,
              "#bd3786"
             ],
             [
              0.5555555555555556,
              "#d8576b"
             ],
             [
              0.6666666666666666,
              "#ed7953"
             ],
             [
              0.7777777777777778,
              "#fb9f3a"
             ],
             [
              0.8888888888888888,
              "#fdca26"
             ],
             [
              1,
              "#f0f921"
             ]
            ],
            "type": "histogram2dcontour"
           }
          ],
          "mesh3d": [
           {
            "colorbar": {
             "outlinewidth": 0,
             "ticks": ""
            },
            "type": "mesh3d"
           }
          ],
          "parcoords": [
           {
            "line": {
             "colorbar": {
              "outlinewidth": 0,
              "ticks": ""
             }
            },
            "type": "parcoords"
           }
          ],
          "pie": [
           {
            "automargin": true,
            "type": "pie"
           }
          ],
          "scatter": [
           {
            "fillpattern": {
             "fillmode": "overlay",
             "size": 10,
             "solidity": 0.2
            },
            "type": "scatter"
           }
          ],
          "scatter3d": [
           {
            "line": {
             "colorbar": {
              "outlinewidth": 0,
              "ticks": ""
             }
            },
            "marker": {
             "colorbar": {
              "outlinewidth": 0,
              "ticks": ""
             }
            },
            "type": "scatter3d"
           }
          ],
          "scattercarpet": [
           {
            "marker": {
             "colorbar": {
              "outlinewidth": 0,
              "ticks": ""
             }
            },
            "type": "scattercarpet"
           }
          ],
          "scattergeo": [
           {
            "marker": {
             "colorbar": {
              "outlinewidth": 0,
              "ticks": ""
             }
            },
            "type": "scattergeo"
           }
          ],
          "scattergl": [
           {
            "marker": {
             "colorbar": {
              "outlinewidth": 0,
              "ticks": ""
             }
            },
            "type": "scattergl"
           }
          ],
          "scattermapbox": [
           {
            "marker": {
             "colorbar": {
              "outlinewidth": 0,
              "ticks": ""
             }
            },
            "type": "scattermapbox"
           }
          ],
          "scatterpolar": [
           {
            "marker": {
             "colorbar": {
              "outlinewidth": 0,
              "ticks": ""
             }
            },
            "type": "scatterpolar"
           }
          ],
          "scatterpolargl": [
           {
            "marker": {
             "colorbar": {
              "outlinewidth": 0,
              "ticks": ""
             }
            },
            "type": "scatterpolargl"
           }
          ],
          "scatterternary": [
           {
            "marker": {
             "colorbar": {
              "outlinewidth": 0,
              "ticks": ""
             }
            },
            "type": "scatterternary"
           }
          ],
          "surface": [
           {
            "colorbar": {
             "outlinewidth": 0,
             "ticks": ""
            },
            "colorscale": [
             [
              0,
              "#0d0887"
             ],
             [
              0.1111111111111111,
              "#46039f"
             ],
             [
              0.2222222222222222,
              "#7201a8"
             ],
             [
              0.3333333333333333,
              "#9c179e"
             ],
             [
              0.4444444444444444,
              "#bd3786"
             ],
             [
              0.5555555555555556,
              "#d8576b"
             ],
             [
              0.6666666666666666,
              "#ed7953"
             ],
             [
              0.7777777777777778,
              "#fb9f3a"
             ],
             [
              0.8888888888888888,
              "#fdca26"
             ],
             [
              1,
              "#f0f921"
             ]
            ],
            "type": "surface"
           }
          ],
          "table": [
           {
            "cells": {
             "fill": {
              "color": "#EBF0F8"
             },
             "line": {
              "color": "white"
             }
            },
            "header": {
             "fill": {
              "color": "#C8D4E3"
             },
             "line": {
              "color": "white"
             }
            },
            "type": "table"
           }
          ]
         },
         "layout": {
          "annotationdefaults": {
           "arrowcolor": "#2a3f5f",
           "arrowhead": 0,
           "arrowwidth": 1
          },
          "autotypenumbers": "strict",
          "coloraxis": {
           "colorbar": {
            "outlinewidth": 0,
            "ticks": ""
           }
          },
          "colorscale": {
           "diverging": [
            [
             0,
             "#8e0152"
            ],
            [
             0.1,
             "#c51b7d"
            ],
            [
             0.2,
             "#de77ae"
            ],
            [
             0.3,
             "#f1b6da"
            ],
            [
             0.4,
             "#fde0ef"
            ],
            [
             0.5,
             "#f7f7f7"
            ],
            [
             0.6,
             "#e6f5d0"
            ],
            [
             0.7,
             "#b8e186"
            ],
            [
             0.8,
             "#7fbc41"
            ],
            [
             0.9,
             "#4d9221"
            ],
            [
             1,
             "#276419"
            ]
           ],
           "sequential": [
            [
             0,
             "#0d0887"
            ],
            [
             0.1111111111111111,
             "#46039f"
            ],
            [
             0.2222222222222222,
             "#7201a8"
            ],
            [
             0.3333333333333333,
             "#9c179e"
            ],
            [
             0.4444444444444444,
             "#bd3786"
            ],
            [
             0.5555555555555556,
             "#d8576b"
            ],
            [
             0.6666666666666666,
             "#ed7953"
            ],
            [
             0.7777777777777778,
             "#fb9f3a"
            ],
            [
             0.8888888888888888,
             "#fdca26"
            ],
            [
             1,
             "#f0f921"
            ]
           ],
           "sequentialminus": [
            [
             0,
             "#0d0887"
            ],
            [
             0.1111111111111111,
             "#46039f"
            ],
            [
             0.2222222222222222,
             "#7201a8"
            ],
            [
             0.3333333333333333,
             "#9c179e"
            ],
            [
             0.4444444444444444,
             "#bd3786"
            ],
            [
             0.5555555555555556,
             "#d8576b"
            ],
            [
             0.6666666666666666,
             "#ed7953"
            ],
            [
             0.7777777777777778,
             "#fb9f3a"
            ],
            [
             0.8888888888888888,
             "#fdca26"
            ],
            [
             1,
             "#f0f921"
            ]
           ]
          },
          "colorway": [
           "#636efa",
           "#EF553B",
           "#00cc96",
           "#ab63fa",
           "#FFA15A",
           "#19d3f3",
           "#FF6692",
           "#B6E880",
           "#FF97FF",
           "#FECB52"
          ],
          "font": {
           "color": "#2a3f5f"
          },
          "geo": {
           "bgcolor": "white",
           "lakecolor": "white",
           "landcolor": "#E5ECF6",
           "showlakes": true,
           "showland": true,
           "subunitcolor": "white"
          },
          "hoverlabel": {
           "align": "left"
          },
          "hovermode": "closest",
          "mapbox": {
           "style": "light"
          },
          "paper_bgcolor": "white",
          "plot_bgcolor": "#E5ECF6",
          "polar": {
           "angularaxis": {
            "gridcolor": "white",
            "linecolor": "white",
            "ticks": ""
           },
           "bgcolor": "#E5ECF6",
           "radialaxis": {
            "gridcolor": "white",
            "linecolor": "white",
            "ticks": ""
           }
          },
          "scene": {
           "xaxis": {
            "backgroundcolor": "#E5ECF6",
            "gridcolor": "white",
            "gridwidth": 2,
            "linecolor": "white",
            "showbackground": true,
            "ticks": "",
            "zerolinecolor": "white"
           },
           "yaxis": {
            "backgroundcolor": "#E5ECF6",
            "gridcolor": "white",
            "gridwidth": 2,
            "linecolor": "white",
            "showbackground": true,
            "ticks": "",
            "zerolinecolor": "white"
           },
           "zaxis": {
            "backgroundcolor": "#E5ECF6",
            "gridcolor": "white",
            "gridwidth": 2,
            "linecolor": "white",
            "showbackground": true,
            "ticks": "",
            "zerolinecolor": "white"
           }
          },
          "shapedefaults": {
           "line": {
            "color": "#2a3f5f"
           }
          },
          "ternary": {
           "aaxis": {
            "gridcolor": "white",
            "linecolor": "white",
            "ticks": ""
           },
           "baxis": {
            "gridcolor": "white",
            "linecolor": "white",
            "ticks": ""
           },
           "bgcolor": "#E5ECF6",
           "caxis": {
            "gridcolor": "white",
            "linecolor": "white",
            "ticks": ""
           }
          },
          "title": {
           "x": 0.05
          },
          "xaxis": {
           "automargin": true,
           "gridcolor": "white",
           "linecolor": "white",
           "ticks": "",
           "title": {
            "standoff": 15
           },
           "zerolinecolor": "white",
           "zerolinewidth": 2
          },
          "yaxis": {
           "automargin": true,
           "gridcolor": "white",
           "linecolor": "white",
           "ticks": "",
           "title": {
            "standoff": 15
           },
           "zerolinecolor": "white",
           "zerolinewidth": 2
          }
         }
        }
       }
      },
      "text/html": [
       "<div>                            <div id=\"1f91c18e-30a0-4947-9cec-c5de842e4814\" class=\"plotly-graph-div\" style=\"height:525px; width:100%;\"></div>            <script type=\"text/javascript\">                require([\"plotly\"], function(Plotly) {                    window.PLOTLYENV=window.PLOTLYENV || {};                                    if (document.getElementById(\"1f91c18e-30a0-4947-9cec-c5de842e4814\")) {                    Plotly.newPlot(                        \"1f91c18e-30a0-4947-9cec-c5de842e4814\",                        [{\"branchvalues\":\"total\",\"domain\":{\"x\":[0.0,1.0],\"y\":[0.0,1.0]},\"hovertemplate\":\"labels=%{label}<br>count=%{value}<br>parent=%{parent}<br>id=%{id}<extra></extra>\",\"ids\":[\"Female/Graduate/No/Tenure_0_6/Rural\",\"Male/Graduate/No/Tenure_0_6/Rural\",\"Male/Not Graduate/No/Tenure_0_6/Rural\",\"Female/Graduate/Yes/Tenure_0_6/Rural\",\"Female/Graduate/No/Tenure_13_24/Rural\",\"Male/Graduate/No/Tenure_13_24/Rural\",\"Female/Not Graduate/No/Tenure_13_24/Rural\",\"Male/Not Graduate/No/Tenure_13_24/Rural\",\"Male/Graduate/Yes/Tenure_13_24/Rural\",\"Male/Not Graduate/Yes/Tenure_13_24/Rural\",\"Female/Graduate/No/Tenure_25-36/Rural\",\"Male/Graduate/No/Tenure_25-36/Rural\",\"Male/Not Graduate/No/Tenure_25-36/Rural\",\"Male/Graduate/Yes/Tenure_25-36/Rural\",\"Male/Not Graduate/Yes/Tenure_25-36/Rural\",\"Female/Graduate/No/Tenure_7_12/Rural\",\"Male/Graduate/No/Tenure_7_12/Rural\",\"Male/Not Graduate/No/Tenure_7_12/Rural\",\"Female/Graduate/Yes/Tenure_7_12/Rural\",\"Male/Graduate/Yes/Tenure_7_12/Rural\",\"Female/Graduate/No/Tenure_gt_36/Rural\",\"Male/Graduate/No/Tenure_gt_36/Rural\",\"Female/Not Graduate/No/Tenure_gt_36/Rural\",\"Male/Not Graduate/No/Tenure_gt_36/Rural\",\"Male/Graduate/Yes/Tenure_gt_36/Rural\",\"Female/Graduate/No/Tenure_0_6/Semiurban\",\"Female/Not Graduate/Yes/Tenure_0_6/Semiurban\",\"Female/Graduate/No/Tenure_13_24/Semiurban\",\"Male/Graduate/No/Tenure_13_24/Semiurban\",\"Male/Not Graduate/No/Tenure_13_24/Semiurban\",\"Female/Graduate/Yes/Tenure_13_24/Semiurban\",\"Male/Graduate/Yes/Tenure_13_24/Semiurban\",\"Male/Not Graduate/Yes/Tenure_13_24/Semiurban\",\"Female/Graduate/No/Tenure_25-36/Semiurban\",\"Male/Graduate/No/Tenure_25-36/Semiurban\",\"Female/Not Graduate/No/Tenure_25-36/Semiurban\",\"Male/Not Graduate/No/Tenure_25-36/Semiurban\",\"Female/Graduate/Yes/Tenure_25-36/Semiurban\",\"Male/Graduate/Yes/Tenure_25-36/Semiurban\",\"Male/Graduate/No/Tenure_7_12/Semiurban\",\"Male/Not Graduate/No/Tenure_7_12/Semiurban\",\"Male/Not Graduate/Yes/Tenure_7_12/Semiurban\",\"Female/Graduate/No/Tenure_gt_36/Semiurban\",\"Male/Graduate/No/Tenure_gt_36/Semiurban\",\"Female/Not Graduate/No/Tenure_gt_36/Semiurban\",\"Male/Not Graduate/No/Tenure_gt_36/Semiurban\",\"Female/Graduate/Yes/Tenure_gt_36/Semiurban\",\"Male/Graduate/No/Tenure_0_6/Urban\",\"Male/Not Graduate/No/Tenure_0_6/Urban\",\"Female/Graduate/No/Tenure_13_24/Urban\",\"Male/Graduate/No/Tenure_13_24/Urban\",\"Female/Not Graduate/No/Tenure_13_24/Urban\",\"Male/Not Graduate/No/Tenure_13_24/Urban\",\"Female/Graduate/No/Tenure_25-36/Urban\",\"Male/Graduate/No/Tenure_25-36/Urban\",\"Male/Not Graduate/No/Tenure_25-36/Urban\",\"Female/Graduate/Yes/Tenure_25-36/Urban\",\"Male/Graduate/Yes/Tenure_25-36/Urban\",\"Male/Not Graduate/Yes/Tenure_25-36/Urban\",\"Female/Graduate/No/Tenure_7_12/Urban\",\"Male/Graduate/No/Tenure_7_12/Urban\",\"Female/Not Graduate/No/Tenure_7_12/Urban\",\"Male/Not Graduate/No/Tenure_7_12/Urban\",\"Male/Graduate/Yes/Tenure_7_12/Urban\",\"Female/Graduate/No/Tenure_gt_36/Urban\",\"Male/Graduate/No/Tenure_gt_36/Urban\",\"Male/Not Graduate/No/Tenure_gt_36/Urban\",\"Male/Graduate/Yes/Tenure_gt_36/Urban\",\"Male/Not Graduate/Yes/Tenure_gt_36/Urban\",\"Female/Graduate/No/Tenure_0_6\",\"Male/Graduate/No/Tenure_0_6\",\"Male/Not Graduate/No/Tenure_0_6\",\"Female/Graduate/Yes/Tenure_0_6\",\"Female/Not Graduate/Yes/Tenure_0_6\",\"Female/Graduate/No/Tenure_13_24\",\"Male/Graduate/No/Tenure_13_24\",\"Female/Not Graduate/No/Tenure_13_24\",\"Male/Not Graduate/No/Tenure_13_24\",\"Female/Graduate/Yes/Tenure_13_24\",\"Male/Graduate/Yes/Tenure_13_24\",\"Male/Not Graduate/Yes/Tenure_13_24\",\"Female/Graduate/No/Tenure_25-36\",\"Male/Graduate/No/Tenure_25-36\",\"Female/Not Graduate/No/Tenure_25-36\",\"Male/Not Graduate/No/Tenure_25-36\",\"Female/Graduate/Yes/Tenure_25-36\",\"Male/Graduate/Yes/Tenure_25-36\",\"Male/Not Graduate/Yes/Tenure_25-36\",\"Female/Graduate/No/Tenure_7_12\",\"Male/Graduate/No/Tenure_7_12\",\"Female/Not Graduate/No/Tenure_7_12\",\"Male/Not Graduate/No/Tenure_7_12\",\"Female/Graduate/Yes/Tenure_7_12\",\"Male/Graduate/Yes/Tenure_7_12\",\"Male/Not Graduate/Yes/Tenure_7_12\",\"Female/Graduate/No/Tenure_gt_36\",\"Male/Graduate/No/Tenure_gt_36\",\"Female/Not Graduate/No/Tenure_gt_36\",\"Male/Not Graduate/No/Tenure_gt_36\",\"Female/Graduate/Yes/Tenure_gt_36\",\"Male/Graduate/Yes/Tenure_gt_36\",\"Male/Not Graduate/Yes/Tenure_gt_36\",\"Female/Graduate/No\",\"Male/Graduate/No\",\"Female/Not Graduate/No\",\"Male/Not Graduate/No\",\"Female/Graduate/Yes\",\"Male/Graduate/Yes\",\"Female/Not Graduate/Yes\",\"Male/Not Graduate/Yes\",\"Female/Graduate\",\"Male/Graduate\",\"Female/Not Graduate\",\"Male/Not Graduate\",\"Female\",\"Male\"],\"labels\":[\"Rural\",\"Rural\",\"Rural\",\"Rural\",\"Rural\",\"Rural\",\"Rural\",\"Rural\",\"Rural\",\"Rural\",\"Rural\",\"Rural\",\"Rural\",\"Rural\",\"Rural\",\"Rural\",\"Rural\",\"Rural\",\"Rural\",\"Rural\",\"Rural\",\"Rural\",\"Rural\",\"Rural\",\"Rural\",\"Semiurban\",\"Semiurban\",\"Semiurban\",\"Semiurban\",\"Semiurban\",\"Semiurban\",\"Semiurban\",\"Semiurban\",\"Semiurban\",\"Semiurban\",\"Semiurban\",\"Semiurban\",\"Semiurban\",\"Semiurban\",\"Semiurban\",\"Semiurban\",\"Semiurban\",\"Semiurban\",\"Semiurban\",\"Semiurban\",\"Semiurban\",\"Semiurban\",\"Urban\",\"Urban\",\"Urban\",\"Urban\",\"Urban\",\"Urban\",\"Urban\",\"Urban\",\"Urban\",\"Urban\",\"Urban\",\"Urban\",\"Urban\",\"Urban\",\"Urban\",\"Urban\",\"Urban\",\"Urban\",\"Urban\",\"Urban\",\"Urban\",\"Urban\",\"Tenure_0_6\",\"Tenure_0_6\",\"Tenure_0_6\",\"Tenure_0_6\",\"Tenure_0_6\",\"Tenure_13_24\",\"Tenure_13_24\",\"Tenure_13_24\",\"Tenure_13_24\",\"Tenure_13_24\",\"Tenure_13_24\",\"Tenure_13_24\",\"Tenure_25-36\",\"Tenure_25-36\",\"Tenure_25-36\",\"Tenure_25-36\",\"Tenure_25-36\",\"Tenure_25-36\",\"Tenure_25-36\",\"Tenure_7_12\",\"Tenure_7_12\",\"Tenure_7_12\",\"Tenure_7_12\",\"Tenure_7_12\",\"Tenure_7_12\",\"Tenure_7_12\",\"Tenure_gt_36\",\"Tenure_gt_36\",\"Tenure_gt_36\",\"Tenure_gt_36\",\"Tenure_gt_36\",\"Tenure_gt_36\",\"Tenure_gt_36\",\"No\",\"No\",\"No\",\"No\",\"Yes\",\"Yes\",\"Yes\",\"Yes\",\"Graduate\",\"Graduate\",\"Not Graduate\",\"Not Graduate\",\"Female\",\"Male\"],\"name\":\"\",\"parents\":[\"Female/Graduate/No/Tenure_0_6\",\"Male/Graduate/No/Tenure_0_6\",\"Male/Not Graduate/No/Tenure_0_6\",\"Female/Graduate/Yes/Tenure_0_6\",\"Female/Graduate/No/Tenure_13_24\",\"Male/Graduate/No/Tenure_13_24\",\"Female/Not Graduate/No/Tenure_13_24\",\"Male/Not Graduate/No/Tenure_13_24\",\"Male/Graduate/Yes/Tenure_13_24\",\"Male/Not Graduate/Yes/Tenure_13_24\",\"Female/Graduate/No/Tenure_25-36\",\"Male/Graduate/No/Tenure_25-36\",\"Male/Not Graduate/No/Tenure_25-36\",\"Male/Graduate/Yes/Tenure_25-36\",\"Male/Not Graduate/Yes/Tenure_25-36\",\"Female/Graduate/No/Tenure_7_12\",\"Male/Graduate/No/Tenure_7_12\",\"Male/Not Graduate/No/Tenure_7_12\",\"Female/Graduate/Yes/Tenure_7_12\",\"Male/Graduate/Yes/Tenure_7_12\",\"Female/Graduate/No/Tenure_gt_36\",\"Male/Graduate/No/Tenure_gt_36\",\"Female/Not Graduate/No/Tenure_gt_36\",\"Male/Not Graduate/No/Tenure_gt_36\",\"Male/Graduate/Yes/Tenure_gt_36\",\"Female/Graduate/No/Tenure_0_6\",\"Female/Not Graduate/Yes/Tenure_0_6\",\"Female/Graduate/No/Tenure_13_24\",\"Male/Graduate/No/Tenure_13_24\",\"Male/Not Graduate/No/Tenure_13_24\",\"Female/Graduate/Yes/Tenure_13_24\",\"Male/Graduate/Yes/Tenure_13_24\",\"Male/Not Graduate/Yes/Tenure_13_24\",\"Female/Graduate/No/Tenure_25-36\",\"Male/Graduate/No/Tenure_25-36\",\"Female/Not Graduate/No/Tenure_25-36\",\"Male/Not Graduate/No/Tenure_25-36\",\"Female/Graduate/Yes/Tenure_25-36\",\"Male/Graduate/Yes/Tenure_25-36\",\"Male/Graduate/No/Tenure_7_12\",\"Male/Not Graduate/No/Tenure_7_12\",\"Male/Not Graduate/Yes/Tenure_7_12\",\"Female/Graduate/No/Tenure_gt_36\",\"Male/Graduate/No/Tenure_gt_36\",\"Female/Not Graduate/No/Tenure_gt_36\",\"Male/Not Graduate/No/Tenure_gt_36\",\"Female/Graduate/Yes/Tenure_gt_36\",\"Male/Graduate/No/Tenure_0_6\",\"Male/Not Graduate/No/Tenure_0_6\",\"Female/Graduate/No/Tenure_13_24\",\"Male/Graduate/No/Tenure_13_24\",\"Female/Not Graduate/No/Tenure_13_24\",\"Male/Not Graduate/No/Tenure_13_24\",\"Female/Graduate/No/Tenure_25-36\",\"Male/Graduate/No/Tenure_25-36\",\"Male/Not Graduate/No/Tenure_25-36\",\"Female/Graduate/Yes/Tenure_25-36\",\"Male/Graduate/Yes/Tenure_25-36\",\"Male/Not Graduate/Yes/Tenure_25-36\",\"Female/Graduate/No/Tenure_7_12\",\"Male/Graduate/No/Tenure_7_12\",\"Female/Not Graduate/No/Tenure_7_12\",\"Male/Not Graduate/No/Tenure_7_12\",\"Male/Graduate/Yes/Tenure_7_12\",\"Female/Graduate/No/Tenure_gt_36\",\"Male/Graduate/No/Tenure_gt_36\",\"Male/Not Graduate/No/Tenure_gt_36\",\"Male/Graduate/Yes/Tenure_gt_36\",\"Male/Not Graduate/Yes/Tenure_gt_36\",\"Female/Graduate/No\",\"Male/Graduate/No\",\"Male/Not Graduate/No\",\"Female/Graduate/Yes\",\"Female/Not Graduate/Yes\",\"Female/Graduate/No\",\"Male/Graduate/No\",\"Female/Not Graduate/No\",\"Male/Not Graduate/No\",\"Female/Graduate/Yes\",\"Male/Graduate/Yes\",\"Male/Not Graduate/Yes\",\"Female/Graduate/No\",\"Male/Graduate/No\",\"Female/Not Graduate/No\",\"Male/Not Graduate/No\",\"Female/Graduate/Yes\",\"Male/Graduate/Yes\",\"Male/Not Graduate/Yes\",\"Female/Graduate/No\",\"Male/Graduate/No\",\"Female/Not Graduate/No\",\"Male/Not Graduate/No\",\"Female/Graduate/Yes\",\"Male/Graduate/Yes\",\"Male/Not Graduate/Yes\",\"Female/Graduate/No\",\"Male/Graduate/No\",\"Female/Not Graduate/No\",\"Male/Not Graduate/No\",\"Female/Graduate/Yes\",\"Male/Graduate/Yes\",\"Male/Not Graduate/Yes\",\"Female/Graduate\",\"Male/Graduate\",\"Female/Not Graduate\",\"Male/Not Graduate\",\"Female/Graduate\",\"Male/Graduate\",\"Female/Not Graduate\",\"Male/Not Graduate\",\"Female\",\"Male\",\"Female\",\"Male\",\"\",\"\"],\"values\":[2,5,2,1,4,16,1,7,1,1,2,16,9,2,2,1,3,4,1,1,3,12,1,5,1,1,1,3,13,3,1,1,1,5,9,1,1,1,1,6,3,1,5,14,1,3,1,2,2,2,9,2,5,7,14,8,1,4,1,1,9,1,2,1,5,7,4,2,1,3,7,4,1,1,9,38,3,15,1,2,2,14,39,1,18,2,7,3,2,18,1,9,1,2,1,13,33,2,12,1,3,1,41,135,7,58,6,14,1,7,47,149,8,65,55,214],\"type\":\"sunburst\"}],                        {\"template\":{\"data\":{\"histogram2dcontour\":[{\"type\":\"histogram2dcontour\",\"colorbar\":{\"outlinewidth\":0,\"ticks\":\"\"},\"colorscale\":[[0.0,\"#0d0887\"],[0.1111111111111111,\"#46039f\"],[0.2222222222222222,\"#7201a8\"],[0.3333333333333333,\"#9c179e\"],[0.4444444444444444,\"#bd3786\"],[0.5555555555555556,\"#d8576b\"],[0.6666666666666666,\"#ed7953\"],[0.7777777777777778,\"#fb9f3a\"],[0.8888888888888888,\"#fdca26\"],[1.0,\"#f0f921\"]]}],\"choropleth\":[{\"type\":\"choropleth\",\"colorbar\":{\"outlinewidth\":0,\"ticks\":\"\"}}],\"histogram2d\":[{\"type\":\"histogram2d\",\"colorbar\":{\"outlinewidth\":0,\"ticks\":\"\"},\"colorscale\":[[0.0,\"#0d0887\"],[0.1111111111111111,\"#46039f\"],[0.2222222222222222,\"#7201a8\"],[0.3333333333333333,\"#9c179e\"],[0.4444444444444444,\"#bd3786\"],[0.5555555555555556,\"#d8576b\"],[0.6666666666666666,\"#ed7953\"],[0.7777777777777778,\"#fb9f3a\"],[0.8888888888888888,\"#fdca26\"],[1.0,\"#f0f921\"]]}],\"heatmap\":[{\"type\":\"heatmap\",\"colorbar\":{\"outlinewidth\":0,\"ticks\":\"\"},\"colorscale\":[[0.0,\"#0d0887\"],[0.1111111111111111,\"#46039f\"],[0.2222222222222222,\"#7201a8\"],[0.3333333333333333,\"#9c179e\"],[0.4444444444444444,\"#bd3786\"],[0.5555555555555556,\"#d8576b\"],[0.6666666666666666,\"#ed7953\"],[0.7777777777777778,\"#fb9f3a\"],[0.8888888888888888,\"#fdca26\"],[1.0,\"#f0f921\"]]}],\"heatmapgl\":[{\"type\":\"heatmapgl\",\"colorbar\":{\"outlinewidth\":0,\"ticks\":\"\"},\"colorscale\":[[0.0,\"#0d0887\"],[0.1111111111111111,\"#46039f\"],[0.2222222222222222,\"#7201a8\"],[0.3333333333333333,\"#9c179e\"],[0.4444444444444444,\"#bd3786\"],[0.5555555555555556,\"#d8576b\"],[0.6666666666666666,\"#ed7953\"],[0.7777777777777778,\"#fb9f3a\"],[0.8888888888888888,\"#fdca26\"],[1.0,\"#f0f921\"]]}],\"contourcarpet\":[{\"type\":\"contourcarpet\",\"colorbar\":{\"outlinewidth\":0,\"ticks\":\"\"}}],\"contour\":[{\"type\":\"contour\",\"colorbar\":{\"outlinewidth\":0,\"ticks\":\"\"},\"colorscale\":[[0.0,\"#0d0887\"],[0.1111111111111111,\"#46039f\"],[0.2222222222222222,\"#7201a8\"],[0.3333333333333333,\"#9c179e\"],[0.4444444444444444,\"#bd3786\"],[0.5555555555555556,\"#d8576b\"],[0.6666666666666666,\"#ed7953\"],[0.7777777777777778,\"#fb9f3a\"],[0.8888888888888888,\"#fdca26\"],[1.0,\"#f0f921\"]]}],\"surface\":[{\"type\":\"surface\",\"colorbar\":{\"outlinewidth\":0,\"ticks\":\"\"},\"colorscale\":[[0.0,\"#0d0887\"],[0.1111111111111111,\"#46039f\"],[0.2222222222222222,\"#7201a8\"],[0.3333333333333333,\"#9c179e\"],[0.4444444444444444,\"#bd3786\"],[0.5555555555555556,\"#d8576b\"],[0.6666666666666666,\"#ed7953\"],[0.7777777777777778,\"#fb9f3a\"],[0.8888888888888888,\"#fdca26\"],[1.0,\"#f0f921\"]]}],\"mesh3d\":[{\"type\":\"mesh3d\",\"colorbar\":{\"outlinewidth\":0,\"ticks\":\"\"}}],\"scatter\":[{\"fillpattern\":{\"fillmode\":\"overlay\",\"size\":10,\"solidity\":0.2},\"type\":\"scatter\"}],\"parcoords\":[{\"type\":\"parcoords\",\"line\":{\"colorbar\":{\"outlinewidth\":0,\"ticks\":\"\"}}}],\"scatterpolargl\":[{\"type\":\"scatterpolargl\",\"marker\":{\"colorbar\":{\"outlinewidth\":0,\"ticks\":\"\"}}}],\"bar\":[{\"error_x\":{\"color\":\"#2a3f5f\"},\"error_y\":{\"color\":\"#2a3f5f\"},\"marker\":{\"line\":{\"color\":\"#E5ECF6\",\"width\":0.5},\"pattern\":{\"fillmode\":\"overlay\",\"size\":10,\"solidity\":0.2}},\"type\":\"bar\"}],\"scattergeo\":[{\"type\":\"scattergeo\",\"marker\":{\"colorbar\":{\"outlinewidth\":0,\"ticks\":\"\"}}}],\"scatterpolar\":[{\"type\":\"scatterpolar\",\"marker\":{\"colorbar\":{\"outlinewidth\":0,\"ticks\":\"\"}}}],\"histogram\":[{\"marker\":{\"pattern\":{\"fillmode\":\"overlay\",\"size\":10,\"solidity\":0.2}},\"type\":\"histogram\"}],\"scattergl\":[{\"type\":\"scattergl\",\"marker\":{\"colorbar\":{\"outlinewidth\":0,\"ticks\":\"\"}}}],\"scatter3d\":[{\"type\":\"scatter3d\",\"line\":{\"colorbar\":{\"outlinewidth\":0,\"ticks\":\"\"}},\"marker\":{\"colorbar\":{\"outlinewidth\":0,\"ticks\":\"\"}}}],\"scattermapbox\":[{\"type\":\"scattermapbox\",\"marker\":{\"colorbar\":{\"outlinewidth\":0,\"ticks\":\"\"}}}],\"scatterternary\":[{\"type\":\"scatterternary\",\"marker\":{\"colorbar\":{\"outlinewidth\":0,\"ticks\":\"\"}}}],\"scattercarpet\":[{\"type\":\"scattercarpet\",\"marker\":{\"colorbar\":{\"outlinewidth\":0,\"ticks\":\"\"}}}],\"carpet\":[{\"aaxis\":{\"endlinecolor\":\"#2a3f5f\",\"gridcolor\":\"white\",\"linecolor\":\"white\",\"minorgridcolor\":\"white\",\"startlinecolor\":\"#2a3f5f\"},\"baxis\":{\"endlinecolor\":\"#2a3f5f\",\"gridcolor\":\"white\",\"linecolor\":\"white\",\"minorgridcolor\":\"white\",\"startlinecolor\":\"#2a3f5f\"},\"type\":\"carpet\"}],\"table\":[{\"cells\":{\"fill\":{\"color\":\"#EBF0F8\"},\"line\":{\"color\":\"white\"}},\"header\":{\"fill\":{\"color\":\"#C8D4E3\"},\"line\":{\"color\":\"white\"}},\"type\":\"table\"}],\"barpolar\":[{\"marker\":{\"line\":{\"color\":\"#E5ECF6\",\"width\":0.5},\"pattern\":{\"fillmode\":\"overlay\",\"size\":10,\"solidity\":0.2}},\"type\":\"barpolar\"}],\"pie\":[{\"automargin\":true,\"type\":\"pie\"}]},\"layout\":{\"autotypenumbers\":\"strict\",\"colorway\":[\"#636efa\",\"#EF553B\",\"#00cc96\",\"#ab63fa\",\"#FFA15A\",\"#19d3f3\",\"#FF6692\",\"#B6E880\",\"#FF97FF\",\"#FECB52\"],\"font\":{\"color\":\"#2a3f5f\"},\"hovermode\":\"closest\",\"hoverlabel\":{\"align\":\"left\"},\"paper_bgcolor\":\"white\",\"plot_bgcolor\":\"#E5ECF6\",\"polar\":{\"bgcolor\":\"#E5ECF6\",\"angularaxis\":{\"gridcolor\":\"white\",\"linecolor\":\"white\",\"ticks\":\"\"},\"radialaxis\":{\"gridcolor\":\"white\",\"linecolor\":\"white\",\"ticks\":\"\"}},\"ternary\":{\"bgcolor\":\"#E5ECF6\",\"aaxis\":{\"gridcolor\":\"white\",\"linecolor\":\"white\",\"ticks\":\"\"},\"baxis\":{\"gridcolor\":\"white\",\"linecolor\":\"white\",\"ticks\":\"\"},\"caxis\":{\"gridcolor\":\"white\",\"linecolor\":\"white\",\"ticks\":\"\"}},\"coloraxis\":{\"colorbar\":{\"outlinewidth\":0,\"ticks\":\"\"}},\"colorscale\":{\"sequential\":[[0.0,\"#0d0887\"],[0.1111111111111111,\"#46039f\"],[0.2222222222222222,\"#7201a8\"],[0.3333333333333333,\"#9c179e\"],[0.4444444444444444,\"#bd3786\"],[0.5555555555555556,\"#d8576b\"],[0.6666666666666666,\"#ed7953\"],[0.7777777777777778,\"#fb9f3a\"],[0.8888888888888888,\"#fdca26\"],[1.0,\"#f0f921\"]],\"sequentialminus\":[[0.0,\"#0d0887\"],[0.1111111111111111,\"#46039f\"],[0.2222222222222222,\"#7201a8\"],[0.3333333333333333,\"#9c179e\"],[0.4444444444444444,\"#bd3786\"],[0.5555555555555556,\"#d8576b\"],[0.6666666666666666,\"#ed7953\"],[0.7777777777777778,\"#fb9f3a\"],[0.8888888888888888,\"#fdca26\"],[1.0,\"#f0f921\"]],\"diverging\":[[0,\"#8e0152\"],[0.1,\"#c51b7d\"],[0.2,\"#de77ae\"],[0.3,\"#f1b6da\"],[0.4,\"#fde0ef\"],[0.5,\"#f7f7f7\"],[0.6,\"#e6f5d0\"],[0.7,\"#b8e186\"],[0.8,\"#7fbc41\"],[0.9,\"#4d9221\"],[1,\"#276419\"]]},\"xaxis\":{\"gridcolor\":\"white\",\"linecolor\":\"white\",\"ticks\":\"\",\"title\":{\"standoff\":15},\"zerolinecolor\":\"white\",\"automargin\":true,\"zerolinewidth\":2},\"yaxis\":{\"gridcolor\":\"white\",\"linecolor\":\"white\",\"ticks\":\"\",\"title\":{\"standoff\":15},\"zerolinecolor\":\"white\",\"automargin\":true,\"zerolinewidth\":2},\"scene\":{\"xaxis\":{\"backgroundcolor\":\"#E5ECF6\",\"gridcolor\":\"white\",\"linecolor\":\"white\",\"showbackground\":true,\"ticks\":\"\",\"zerolinecolor\":\"white\",\"gridwidth\":2},\"yaxis\":{\"backgroundcolor\":\"#E5ECF6\",\"gridcolor\":\"white\",\"linecolor\":\"white\",\"showbackground\":true,\"ticks\":\"\",\"zerolinecolor\":\"white\",\"gridwidth\":2},\"zaxis\":{\"backgroundcolor\":\"#E5ECF6\",\"gridcolor\":\"white\",\"linecolor\":\"white\",\"showbackground\":true,\"ticks\":\"\",\"zerolinecolor\":\"white\",\"gridwidth\":2}},\"shapedefaults\":{\"line\":{\"color\":\"#2a3f5f\"}},\"annotationdefaults\":{\"arrowcolor\":\"#2a3f5f\",\"arrowhead\":0,\"arrowwidth\":1},\"geo\":{\"bgcolor\":\"white\",\"landcolor\":\"#E5ECF6\",\"subunitcolor\":\"white\",\"showland\":true,\"showlakes\":true,\"lakecolor\":\"white\"},\"title\":{\"x\":0.05},\"mapbox\":{\"style\":\"light\"}}},\"legend\":{\"tracegroupgap\":0},\"margin\":{\"t\":60}},                        {\"responsive\": true}                    ).then(function(){\n",
       "                            \n",
       "var gd = document.getElementById('1f91c18e-30a0-4947-9cec-c5de842e4814');\n",
       "var x = new MutationObserver(function (mutations, observer) {{\n",
       "        var display = window.getComputedStyle(gd).display;\n",
       "        if (!display || display === 'none') {{\n",
       "            console.log([gd, 'removed!']);\n",
       "            Plotly.purge(gd);\n",
       "            observer.disconnect();\n",
       "        }}\n",
       "}});\n",
       "\n",
       "// Listen for the removal of the full notebook cells\n",
       "var notebookContainer = gd.closest('#notebook-container');\n",
       "if (notebookContainer) {{\n",
       "    x.observe(notebookContainer, {childList: true});\n",
       "}}\n",
       "\n",
       "// Listen for the clearing of the current output cell\n",
       "var outputEl = gd.closest('.output');\n",
       "if (outputEl) {{\n",
       "    x.observe(outputEl, {childList: true});\n",
       "}}\n",
       "\n",
       "                        })                };                });            </script>        </div>"
      ]
     },
     "metadata": {},
     "output_type": "display_data"
    }
   ],
   "source": [
    "fig = px.sunburst(Bank_Yes, path=[\"Gender\",'Education','Self_Employed',\n",
    "                                    'Tenure_group','Property_Area'])\n",
    "fig.show()"
   ]
  },
  {
   "cell_type": "markdown",
   "metadata": {},
   "source": [
    "### Interpetation : - Trend Analysis\n",
    "* Customer ==  Male,Graduate,salaried & Tenure  less than a year , Rural   == Loan Rejected \n",
    "* customer ==  Male,Graduate,salaried & Tenure  less than a year ,Urban   == Loan Rejected \n",
    "* customer ==  Female,Graduate,salaried & Tenure <= 6 Months ,Rural    == Loan Rejected "
   ]
  },
  {
   "cell_type": "markdown",
   "metadata": {},
   "source": [
    "# 5. Breaking Data into Two Part\n",
    " * Quantitative Variable\n",
    " * Qualitative Variable\n",
    " \n"
   ]
  },
  {
   "cell_type": "code",
   "execution_count": 21,
   "metadata": {},
   "outputs": [
    {
     "data": {
      "text/html": [
       "<div>\n",
       "<style scoped>\n",
       "    .dataframe tbody tr th:only-of-type {\n",
       "        vertical-align: middle;\n",
       "    }\n",
       "\n",
       "    .dataframe tbody tr th {\n",
       "        vertical-align: top;\n",
       "    }\n",
       "\n",
       "    .dataframe thead th {\n",
       "        text-align: right;\n",
       "    }\n",
       "</style>\n",
       "<table border=\"1\" class=\"dataframe\">\n",
       "  <thead>\n",
       "    <tr style=\"text-align: right;\">\n",
       "      <th></th>\n",
       "      <th>Age</th>\n",
       "      <th>Gender</th>\n",
       "      <th>Married</th>\n",
       "      <th>Dependents</th>\n",
       "      <th>Education</th>\n",
       "      <th>Self_Employed</th>\n",
       "      <th>ApplicantIncome</th>\n",
       "      <th>LoanAmount</th>\n",
       "      <th>Previous_Loan_Taken</th>\n",
       "      <th>Cibil_Score</th>\n",
       "      <th>Property_Area</th>\n",
       "      <th>Customer_Bandwith</th>\n",
       "      <th>Tenure</th>\n",
       "      <th>Loan_Status</th>\n",
       "      <th>Tenure_group</th>\n",
       "    </tr>\n",
       "  </thead>\n",
       "  <tbody>\n",
       "    <tr>\n",
       "      <th>0</th>\n",
       "      <td>43</td>\n",
       "      <td>Male</td>\n",
       "      <td>No</td>\n",
       "      <td>3</td>\n",
       "      <td>Graduate</td>\n",
       "      <td>No</td>\n",
       "      <td>54005</td>\n",
       "      <td>334113</td>\n",
       "      <td>Yes</td>\n",
       "      <td>668</td>\n",
       "      <td>Urban</td>\n",
       "      <td>Good</td>\n",
       "      <td>43</td>\n",
       "      <td>No</td>\n",
       "      <td>Tenure_gt_36</td>\n",
       "    </tr>\n",
       "    <tr>\n",
       "      <th>1</th>\n",
       "      <td>57</td>\n",
       "      <td>Male</td>\n",
       "      <td>Yes</td>\n",
       "      <td>2</td>\n",
       "      <td>Graduate</td>\n",
       "      <td>No</td>\n",
       "      <td>28817</td>\n",
       "      <td>736026</td>\n",
       "      <td>Yes</td>\n",
       "      <td>684</td>\n",
       "      <td>Rural</td>\n",
       "      <td>Good</td>\n",
       "      <td>13</td>\n",
       "      <td>Yes</td>\n",
       "      <td>Tenure_13_24</td>\n",
       "    </tr>\n",
       "    <tr>\n",
       "      <th>2</th>\n",
       "      <td>25</td>\n",
       "      <td>Male</td>\n",
       "      <td>Yes</td>\n",
       "      <td>3</td>\n",
       "      <td>Graduate</td>\n",
       "      <td>Yes</td>\n",
       "      <td>99939</td>\n",
       "      <td>712432</td>\n",
       "      <td>Yes</td>\n",
       "      <td>788</td>\n",
       "      <td>Urban</td>\n",
       "      <td>Good</td>\n",
       "      <td>10</td>\n",
       "      <td>No</td>\n",
       "      <td>Tenure_7_12</td>\n",
       "    </tr>\n",
       "    <tr>\n",
       "      <th>3</th>\n",
       "      <td>44</td>\n",
       "      <td>Male</td>\n",
       "      <td>Yes</td>\n",
       "      <td>1</td>\n",
       "      <td>Not Graduate</td>\n",
       "      <td>No</td>\n",
       "      <td>38470</td>\n",
       "      <td>267161</td>\n",
       "      <td>Yes</td>\n",
       "      <td>888</td>\n",
       "      <td>Urban</td>\n",
       "      <td>Good</td>\n",
       "      <td>9</td>\n",
       "      <td>No</td>\n",
       "      <td>Tenure_7_12</td>\n",
       "    </tr>\n",
       "    <tr>\n",
       "      <th>4</th>\n",
       "      <td>58</td>\n",
       "      <td>Male</td>\n",
       "      <td>No</td>\n",
       "      <td>1</td>\n",
       "      <td>Graduate</td>\n",
       "      <td>No</td>\n",
       "      <td>28991</td>\n",
       "      <td>402474</td>\n",
       "      <td>Yes</td>\n",
       "      <td>703</td>\n",
       "      <td>Urban</td>\n",
       "      <td>Good</td>\n",
       "      <td>11</td>\n",
       "      <td>No</td>\n",
       "      <td>Tenure_7_12</td>\n",
       "    </tr>\n",
       "  </tbody>\n",
       "</table>\n",
       "</div>"
      ],
      "text/plain": [
       "   Age Gender Married  Dependents     Education Self_Employed  \\\n",
       "0   43   Male      No           3      Graduate            No   \n",
       "1   57   Male     Yes           2      Graduate            No   \n",
       "2   25   Male     Yes           3      Graduate           Yes   \n",
       "3   44   Male     Yes           1  Not Graduate            No   \n",
       "4   58   Male      No           1      Graduate            No   \n",
       "\n",
       "   ApplicantIncome  LoanAmount Previous_Loan_Taken  Cibil_Score Property_Area  \\\n",
       "0            54005      334113                 Yes          668         Urban   \n",
       "1            28817      736026                 Yes          684         Rural   \n",
       "2            99939      712432                 Yes          788         Urban   \n",
       "3            38470      267161                 Yes          888         Urban   \n",
       "4            28991      402474                 Yes          703         Urban   \n",
       "\n",
       "  Customer_Bandwith  Tenure Loan_Status  Tenure_group  \n",
       "0              Good      43          No  Tenure_gt_36  \n",
       "1              Good      13         Yes  Tenure_13_24  \n",
       "2              Good      10          No   Tenure_7_12  \n",
       "3              Good       9          No   Tenure_7_12  \n",
       "4              Good      11          No   Tenure_7_12  "
      ]
     },
     "execution_count": 21,
     "metadata": {},
     "output_type": "execute_result"
    }
   ],
   "source": [
    "Bank=Bank.drop('Loan_ID',axis=1)\n",
    "Bank.head()"
   ]
  },
  {
   "cell_type": "code",
   "execution_count": 22,
   "metadata": {},
   "outputs": [
    {
     "data": {
      "text/plain": [
       "['Age', 'Dependents', 'ApplicantIncome', 'LoanAmount', 'Cibil_Score', 'Tenure']"
      ]
     },
     "execution_count": 22,
     "metadata": {},
     "output_type": "execute_result"
    }
   ],
   "source": [
    "Bank.select_dtypes(include=[np.number]).columns.tolist()"
   ]
  },
  {
   "cell_type": "code",
   "execution_count": 23,
   "metadata": {},
   "outputs": [
    {
     "data": {
      "text/html": [
       "<div>\n",
       "<style scoped>\n",
       "    .dataframe tbody tr th:only-of-type {\n",
       "        vertical-align: middle;\n",
       "    }\n",
       "\n",
       "    .dataframe tbody tr th {\n",
       "        vertical-align: top;\n",
       "    }\n",
       "\n",
       "    .dataframe thead th {\n",
       "        text-align: right;\n",
       "    }\n",
       "</style>\n",
       "<table border=\"1\" class=\"dataframe\">\n",
       "  <thead>\n",
       "    <tr style=\"text-align: right;\">\n",
       "      <th></th>\n",
       "      <th>Age</th>\n",
       "      <th>Dependents</th>\n",
       "      <th>ApplicantIncome</th>\n",
       "      <th>LoanAmount</th>\n",
       "      <th>Cibil_Score</th>\n",
       "      <th>Tenure</th>\n",
       "    </tr>\n",
       "  </thead>\n",
       "  <tbody>\n",
       "    <tr>\n",
       "      <th>0</th>\n",
       "      <td>43</td>\n",
       "      <td>3</td>\n",
       "      <td>54005</td>\n",
       "      <td>334113</td>\n",
       "      <td>668</td>\n",
       "      <td>43</td>\n",
       "    </tr>\n",
       "    <tr>\n",
       "      <th>1</th>\n",
       "      <td>57</td>\n",
       "      <td>2</td>\n",
       "      <td>28817</td>\n",
       "      <td>736026</td>\n",
       "      <td>684</td>\n",
       "      <td>13</td>\n",
       "    </tr>\n",
       "    <tr>\n",
       "      <th>2</th>\n",
       "      <td>25</td>\n",
       "      <td>3</td>\n",
       "      <td>99939</td>\n",
       "      <td>712432</td>\n",
       "      <td>788</td>\n",
       "      <td>10</td>\n",
       "    </tr>\n",
       "  </tbody>\n",
       "</table>\n",
       "</div>"
      ],
      "text/plain": [
       "   Age  Dependents  ApplicantIncome  LoanAmount  Cibil_Score  Tenure\n",
       "0   43           3            54005      334113          668      43\n",
       "1   57           2            28817      736026          684      13\n",
       "2   25           3            99939      712432          788      10"
      ]
     },
     "execution_count": 23,
     "metadata": {},
     "output_type": "execute_result"
    }
   ],
   "source": [
    "# Qualitative Variable\n",
    "Quantitative_Variable = Bank[Bank.select_dtypes(include=[np.number]).columns.tolist()]\n",
    "Quantitative_Variable.head(3)"
   ]
  },
  {
   "cell_type": "code",
   "execution_count": 24,
   "metadata": {},
   "outputs": [
    {
     "data": {
      "text/html": [
       "<div>\n",
       "<style scoped>\n",
       "    .dataframe tbody tr th:only-of-type {\n",
       "        vertical-align: middle;\n",
       "    }\n",
       "\n",
       "    .dataframe tbody tr th {\n",
       "        vertical-align: top;\n",
       "    }\n",
       "\n",
       "    .dataframe thead th {\n",
       "        text-align: right;\n",
       "    }\n",
       "</style>\n",
       "<table border=\"1\" class=\"dataframe\">\n",
       "  <thead>\n",
       "    <tr style=\"text-align: right;\">\n",
       "      <th></th>\n",
       "      <th>Gender</th>\n",
       "      <th>Married</th>\n",
       "      <th>Education</th>\n",
       "      <th>Self_Employed</th>\n",
       "      <th>Previous_Loan_Taken</th>\n",
       "      <th>Property_Area</th>\n",
       "      <th>Customer_Bandwith</th>\n",
       "      <th>Loan_Status</th>\n",
       "      <th>Tenure_group</th>\n",
       "    </tr>\n",
       "  </thead>\n",
       "  <tbody>\n",
       "    <tr>\n",
       "      <th>0</th>\n",
       "      <td>Male</td>\n",
       "      <td>No</td>\n",
       "      <td>Graduate</td>\n",
       "      <td>No</td>\n",
       "      <td>Yes</td>\n",
       "      <td>Urban</td>\n",
       "      <td>Good</td>\n",
       "      <td>No</td>\n",
       "      <td>Tenure_gt_36</td>\n",
       "    </tr>\n",
       "    <tr>\n",
       "      <th>1</th>\n",
       "      <td>Male</td>\n",
       "      <td>Yes</td>\n",
       "      <td>Graduate</td>\n",
       "      <td>No</td>\n",
       "      <td>Yes</td>\n",
       "      <td>Rural</td>\n",
       "      <td>Good</td>\n",
       "      <td>Yes</td>\n",
       "      <td>Tenure_13_24</td>\n",
       "    </tr>\n",
       "    <tr>\n",
       "      <th>2</th>\n",
       "      <td>Male</td>\n",
       "      <td>Yes</td>\n",
       "      <td>Graduate</td>\n",
       "      <td>Yes</td>\n",
       "      <td>Yes</td>\n",
       "      <td>Urban</td>\n",
       "      <td>Good</td>\n",
       "      <td>No</td>\n",
       "      <td>Tenure_7_12</td>\n",
       "    </tr>\n",
       "  </tbody>\n",
       "</table>\n",
       "</div>"
      ],
      "text/plain": [
       "  Gender Married Education Self_Employed Previous_Loan_Taken Property_Area  \\\n",
       "0   Male      No  Graduate            No                 Yes         Urban   \n",
       "1   Male     Yes  Graduate            No                 Yes         Rural   \n",
       "2   Male     Yes  Graduate           Yes                 Yes         Urban   \n",
       "\n",
       "  Customer_Bandwith Loan_Status  Tenure_group  \n",
       "0              Good          No  Tenure_gt_36  \n",
       "1              Good         Yes  Tenure_13_24  \n",
       "2              Good          No   Tenure_7_12  "
      ]
     },
     "execution_count": 24,
     "metadata": {},
     "output_type": "execute_result"
    }
   ],
   "source": [
    "Qualitative_Variable = Bank[Bank.select_dtypes(include=['object']).columns.tolist()]\n",
    "Qualitative_Variable.head(3)"
   ]
  },
  {
   "cell_type": "markdown",
   "metadata": {},
   "source": [
    "### Converting qualitative Variable into number"
   ]
  },
  {
   "cell_type": "code",
   "execution_count": 25,
   "metadata": {},
   "outputs": [
    {
     "data": {
      "text/html": [
       "<div>\n",
       "<style scoped>\n",
       "    .dataframe tbody tr th:only-of-type {\n",
       "        vertical-align: middle;\n",
       "    }\n",
       "\n",
       "    .dataframe tbody tr th {\n",
       "        vertical-align: top;\n",
       "    }\n",
       "\n",
       "    .dataframe thead th {\n",
       "        text-align: right;\n",
       "    }\n",
       "</style>\n",
       "<table border=\"1\" class=\"dataframe\">\n",
       "  <thead>\n",
       "    <tr style=\"text-align: right;\">\n",
       "      <th></th>\n",
       "      <th>Gender</th>\n",
       "      <th>Married</th>\n",
       "      <th>Education</th>\n",
       "      <th>Self_Employed</th>\n",
       "      <th>Previous_Loan_Taken</th>\n",
       "      <th>Property_Area</th>\n",
       "      <th>Customer_Bandwith</th>\n",
       "      <th>Loan_Status</th>\n",
       "      <th>Tenure_group</th>\n",
       "    </tr>\n",
       "  </thead>\n",
       "  <tbody>\n",
       "    <tr>\n",
       "      <th>0</th>\n",
       "      <td>1</td>\n",
       "      <td>0</td>\n",
       "      <td>0</td>\n",
       "      <td>0</td>\n",
       "      <td>1</td>\n",
       "      <td>2</td>\n",
       "      <td>1</td>\n",
       "      <td>0</td>\n",
       "      <td>4</td>\n",
       "    </tr>\n",
       "    <tr>\n",
       "      <th>1</th>\n",
       "      <td>1</td>\n",
       "      <td>1</td>\n",
       "      <td>0</td>\n",
       "      <td>0</td>\n",
       "      <td>1</td>\n",
       "      <td>0</td>\n",
       "      <td>1</td>\n",
       "      <td>1</td>\n",
       "      <td>1</td>\n",
       "    </tr>\n",
       "    <tr>\n",
       "      <th>2</th>\n",
       "      <td>1</td>\n",
       "      <td>1</td>\n",
       "      <td>0</td>\n",
       "      <td>1</td>\n",
       "      <td>1</td>\n",
       "      <td>2</td>\n",
       "      <td>1</td>\n",
       "      <td>0</td>\n",
       "      <td>3</td>\n",
       "    </tr>\n",
       "    <tr>\n",
       "      <th>3</th>\n",
       "      <td>1</td>\n",
       "      <td>1</td>\n",
       "      <td>1</td>\n",
       "      <td>0</td>\n",
       "      <td>1</td>\n",
       "      <td>2</td>\n",
       "      <td>1</td>\n",
       "      <td>0</td>\n",
       "      <td>3</td>\n",
       "    </tr>\n",
       "    <tr>\n",
       "      <th>4</th>\n",
       "      <td>1</td>\n",
       "      <td>0</td>\n",
       "      <td>0</td>\n",
       "      <td>0</td>\n",
       "      <td>1</td>\n",
       "      <td>2</td>\n",
       "      <td>1</td>\n",
       "      <td>0</td>\n",
       "      <td>3</td>\n",
       "    </tr>\n",
       "  </tbody>\n",
       "</table>\n",
       "</div>"
      ],
      "text/plain": [
       "   Gender  Married  Education  Self_Employed  Previous_Loan_Taken  \\\n",
       "0       1        0          0              0                    1   \n",
       "1       1        1          0              0                    1   \n",
       "2       1        1          0              1                    1   \n",
       "3       1        1          1              0                    1   \n",
       "4       1        0          0              0                    1   \n",
       "\n",
       "   Property_Area  Customer_Bandwith  Loan_Status  Tenure_group  \n",
       "0              2                  1            0             4  \n",
       "1              0                  1            1             1  \n",
       "2              2                  1            0             3  \n",
       "3              2                  1            0             3  \n",
       "4              2                  1            0             3  "
      ]
     },
     "execution_count": 25,
     "metadata": {},
     "output_type": "execute_result"
    }
   ],
   "source": [
    "from sklearn.preprocessing import LabelEncoder\n",
    "Qualitative_Variable=Qualitative_Variable.apply(LabelEncoder().fit_transform) # label in ascending order\n",
    "Qualitative_Variable.head()"
   ]
  },
  {
   "cell_type": "markdown",
   "metadata": {},
   "source": [
    "## Combining the data set "
   ]
  },
  {
   "cell_type": "code",
   "execution_count": 26,
   "metadata": {},
   "outputs": [
    {
     "data": {
      "text/html": [
       "<div>\n",
       "<style scoped>\n",
       "    .dataframe tbody tr th:only-of-type {\n",
       "        vertical-align: middle;\n",
       "    }\n",
       "\n",
       "    .dataframe tbody tr th {\n",
       "        vertical-align: top;\n",
       "    }\n",
       "\n",
       "    .dataframe thead th {\n",
       "        text-align: right;\n",
       "    }\n",
       "</style>\n",
       "<table border=\"1\" class=\"dataframe\">\n",
       "  <thead>\n",
       "    <tr style=\"text-align: right;\">\n",
       "      <th></th>\n",
       "      <th>Gender</th>\n",
       "      <th>Married</th>\n",
       "      <th>Education</th>\n",
       "      <th>Self_Employed</th>\n",
       "      <th>Previous_Loan_Taken</th>\n",
       "      <th>Property_Area</th>\n",
       "      <th>Customer_Bandwith</th>\n",
       "      <th>Loan_Status</th>\n",
       "      <th>Tenure_group</th>\n",
       "      <th>Age</th>\n",
       "      <th>Dependents</th>\n",
       "      <th>ApplicantIncome</th>\n",
       "      <th>LoanAmount</th>\n",
       "      <th>Cibil_Score</th>\n",
       "      <th>Tenure</th>\n",
       "    </tr>\n",
       "  </thead>\n",
       "  <tbody>\n",
       "    <tr>\n",
       "      <th>0</th>\n",
       "      <td>1</td>\n",
       "      <td>0</td>\n",
       "      <td>0</td>\n",
       "      <td>0</td>\n",
       "      <td>1</td>\n",
       "      <td>2</td>\n",
       "      <td>1</td>\n",
       "      <td>0</td>\n",
       "      <td>4</td>\n",
       "      <td>43</td>\n",
       "      <td>3</td>\n",
       "      <td>54005</td>\n",
       "      <td>334113</td>\n",
       "      <td>668</td>\n",
       "      <td>43</td>\n",
       "    </tr>\n",
       "    <tr>\n",
       "      <th>1</th>\n",
       "      <td>1</td>\n",
       "      <td>1</td>\n",
       "      <td>0</td>\n",
       "      <td>0</td>\n",
       "      <td>1</td>\n",
       "      <td>0</td>\n",
       "      <td>1</td>\n",
       "      <td>1</td>\n",
       "      <td>1</td>\n",
       "      <td>57</td>\n",
       "      <td>2</td>\n",
       "      <td>28817</td>\n",
       "      <td>736026</td>\n",
       "      <td>684</td>\n",
       "      <td>13</td>\n",
       "    </tr>\n",
       "    <tr>\n",
       "      <th>2</th>\n",
       "      <td>1</td>\n",
       "      <td>1</td>\n",
       "      <td>0</td>\n",
       "      <td>1</td>\n",
       "      <td>1</td>\n",
       "      <td>2</td>\n",
       "      <td>1</td>\n",
       "      <td>0</td>\n",
       "      <td>3</td>\n",
       "      <td>25</td>\n",
       "      <td>3</td>\n",
       "      <td>99939</td>\n",
       "      <td>712432</td>\n",
       "      <td>788</td>\n",
       "      <td>10</td>\n",
       "    </tr>\n",
       "    <tr>\n",
       "      <th>3</th>\n",
       "      <td>1</td>\n",
       "      <td>1</td>\n",
       "      <td>1</td>\n",
       "      <td>0</td>\n",
       "      <td>1</td>\n",
       "      <td>2</td>\n",
       "      <td>1</td>\n",
       "      <td>0</td>\n",
       "      <td>3</td>\n",
       "      <td>44</td>\n",
       "      <td>1</td>\n",
       "      <td>38470</td>\n",
       "      <td>267161</td>\n",
       "      <td>888</td>\n",
       "      <td>9</td>\n",
       "    </tr>\n",
       "    <tr>\n",
       "      <th>4</th>\n",
       "      <td>1</td>\n",
       "      <td>0</td>\n",
       "      <td>0</td>\n",
       "      <td>0</td>\n",
       "      <td>1</td>\n",
       "      <td>2</td>\n",
       "      <td>1</td>\n",
       "      <td>0</td>\n",
       "      <td>3</td>\n",
       "      <td>58</td>\n",
       "      <td>1</td>\n",
       "      <td>28991</td>\n",
       "      <td>402474</td>\n",
       "      <td>703</td>\n",
       "      <td>11</td>\n",
       "    </tr>\n",
       "  </tbody>\n",
       "</table>\n",
       "</div>"
      ],
      "text/plain": [
       "   Gender  Married  Education  Self_Employed  Previous_Loan_Taken  \\\n",
       "0       1        0          0              0                    1   \n",
       "1       1        1          0              0                    1   \n",
       "2       1        1          0              1                    1   \n",
       "3       1        1          1              0                    1   \n",
       "4       1        0          0              0                    1   \n",
       "\n",
       "   Property_Area  Customer_Bandwith  Loan_Status  Tenure_group  Age  \\\n",
       "0              2                  1            0             4   43   \n",
       "1              0                  1            1             1   57   \n",
       "2              2                  1            0             3   25   \n",
       "3              2                  1            0             3   44   \n",
       "4              2                  1            0             3   58   \n",
       "\n",
       "   Dependents  ApplicantIncome  LoanAmount  Cibil_Score  Tenure  \n",
       "0           3            54005      334113          668      43  \n",
       "1           2            28817      736026          684      13  \n",
       "2           3            99939      712432          788      10  \n",
       "3           1            38470      267161          888       9  \n",
       "4           1            28991      402474          703      11  "
      ]
     },
     "execution_count": 26,
     "metadata": {},
     "output_type": "execute_result"
    }
   ],
   "source": [
    "Final_combined = pd.concat([Qualitative_Variable, Quantitative_Variable],axis=1)\n",
    "Final_combined.head()"
   ]
  },
  {
   "cell_type": "markdown",
   "metadata": {},
   "source": [
    "# Data Partition "
   ]
  },
  {
   "cell_type": "code",
   "execution_count": 27,
   "metadata": {},
   "outputs": [],
   "source": [
    "from sklearn.model_selection import train_test_split\n",
    "\n",
    "# define our input variable (X) & output variable\n",
    "X = Final_combined.drop('Loan_Status', axis = 1)\n",
    "Y = Final_combined[['Loan_Status']]\n",
    "# Split X and y into X_\n",
    "X_train, X_test, y_train, y_test = train_test_split(X, Y, test_size=0.20, random_state=56)"
   ]
  },
  {
   "cell_type": "markdown",
   "metadata": {},
   "source": [
    "# Model building "
   ]
  },
  {
   "cell_type": "markdown",
   "metadata": {},
   "source": [
    "# Hypothesis\n",
    "\n",
    "* H0 :- There is no log linear relationship between Loan_Status and all independent Variable\n",
    "\n",
    "Vs \n",
    "\n",
    "* H1 :- There is log linear relationship between Loan_Status and all independent Variable\n",
    "\n",
    "Alpha = 0.05 (5%)"
   ]
  },
  {
   "cell_type": "markdown",
   "metadata": {},
   "source": [
    "# Logistics Regression"
   ]
  },
  {
   "cell_type": "code",
   "execution_count": 28,
   "metadata": {},
   "outputs": [],
   "source": [
    "from sklearn.linear_model import LogisticRegression\n",
    "from sklearn import metrics\n",
    "logreg = LogisticRegression()\n",
    "output=logreg.fit(X_train, y_train) # model"
   ]
  },
  {
   "cell_type": "code",
   "execution_count": 29,
   "metadata": {},
   "outputs": [
    {
     "data": {
      "text/plain": [
       "array([-1.56831339e-06])"
      ]
     },
     "execution_count": 29,
     "metadata": {},
     "output_type": "execute_result"
    }
   ],
   "source": [
    "output.intercept_  # beto "
   ]
  },
  {
   "cell_type": "code",
   "execution_count": 30,
   "metadata": {},
   "outputs": [
    {
     "data": {
      "text/plain": [
       "array([[-2.34672254e-06, -2.66038458e-06,  6.07473060e-07,\n",
       "        -9.88931039e-07, -1.09998773e-05, -3.70002696e-06,\n",
       "        -4.97042956e-06, -4.93804053e-06, -4.80913995e-05,\n",
       "        -2.61447992e-06,  1.77969519e-05,  1.16938573e-06,\n",
       "        -4.11996732e-03, -4.25743075e-05]])"
      ]
     },
     "execution_count": 30,
     "metadata": {},
     "output_type": "execute_result"
    }
   ],
   "source": [
    "output.coef_  # Beta 1 -- "
   ]
  },
  {
   "cell_type": "code",
   "execution_count": 31,
   "metadata": {
    "scrolled": true
   },
   "outputs": [
    {
     "data": {
      "text/plain": [
       "array(['Gender', 'Married', 'Education', 'Self_Employed',\n",
       "       'Previous_Loan_Taken', 'Property_Area', 'Customer_Bandwith',\n",
       "       'Tenure_group', 'Age', 'Dependents', 'ApplicantIncome',\n",
       "       'LoanAmount', 'Cibil_Score', 'Tenure'], dtype=object)"
      ]
     },
     "execution_count": 31,
     "metadata": {},
     "output_type": "execute_result"
    }
   ],
   "source": [
    "output.feature_names_in_"
   ]
  },
  {
   "cell_type": "markdown",
   "metadata": {},
   "source": [
    "# Step 6 : Predictions on Train Dataset"
   ]
  },
  {
   "cell_type": "code",
   "execution_count": 32,
   "metadata": {},
   "outputs": [
    {
     "data": {
      "text/html": [
       "<div>\n",
       "<style scoped>\n",
       "    .dataframe tbody tr th:only-of-type {\n",
       "        vertical-align: middle;\n",
       "    }\n",
       "\n",
       "    .dataframe tbody tr th {\n",
       "        vertical-align: top;\n",
       "    }\n",
       "\n",
       "    .dataframe thead th {\n",
       "        text-align: right;\n",
       "    }\n",
       "</style>\n",
       "<table border=\"1\" class=\"dataframe\">\n",
       "  <thead>\n",
       "    <tr style=\"text-align: right;\">\n",
       "      <th></th>\n",
       "      <th>Gender</th>\n",
       "      <th>Married</th>\n",
       "      <th>Education</th>\n",
       "      <th>Self_Employed</th>\n",
       "      <th>Previous_Loan_Taken</th>\n",
       "      <th>Property_Area</th>\n",
       "      <th>Customer_Bandwith</th>\n",
       "      <th>Tenure_group</th>\n",
       "      <th>Age</th>\n",
       "      <th>Dependents</th>\n",
       "      <th>ApplicantIncome</th>\n",
       "      <th>LoanAmount</th>\n",
       "      <th>Cibil_Score</th>\n",
       "      <th>Tenure</th>\n",
       "      <th>Loan_Status</th>\n",
       "    </tr>\n",
       "  </thead>\n",
       "  <tbody>\n",
       "    <tr>\n",
       "      <th>920</th>\n",
       "      <td>1</td>\n",
       "      <td>1</td>\n",
       "      <td>0</td>\n",
       "      <td>1</td>\n",
       "      <td>1</td>\n",
       "      <td>0</td>\n",
       "      <td>1</td>\n",
       "      <td>4</td>\n",
       "      <td>29</td>\n",
       "      <td>3</td>\n",
       "      <td>98044</td>\n",
       "      <td>514905</td>\n",
       "      <td>700</td>\n",
       "      <td>47</td>\n",
       "      <td>0</td>\n",
       "    </tr>\n",
       "    <tr>\n",
       "      <th>666</th>\n",
       "      <td>1</td>\n",
       "      <td>1</td>\n",
       "      <td>0</td>\n",
       "      <td>0</td>\n",
       "      <td>1</td>\n",
       "      <td>1</td>\n",
       "      <td>1</td>\n",
       "      <td>4</td>\n",
       "      <td>20</td>\n",
       "      <td>1</td>\n",
       "      <td>40361</td>\n",
       "      <td>203352</td>\n",
       "      <td>722</td>\n",
       "      <td>46</td>\n",
       "      <td>0</td>\n",
       "    </tr>\n",
       "    <tr>\n",
       "      <th>797</th>\n",
       "      <td>0</td>\n",
       "      <td>1</td>\n",
       "      <td>0</td>\n",
       "      <td>0</td>\n",
       "      <td>1</td>\n",
       "      <td>0</td>\n",
       "      <td>1</td>\n",
       "      <td>3</td>\n",
       "      <td>26</td>\n",
       "      <td>0</td>\n",
       "      <td>81575</td>\n",
       "      <td>180754</td>\n",
       "      <td>803</td>\n",
       "      <td>9</td>\n",
       "      <td>0</td>\n",
       "    </tr>\n",
       "    <tr>\n",
       "      <th>925</th>\n",
       "      <td>0</td>\n",
       "      <td>0</td>\n",
       "      <td>0</td>\n",
       "      <td>0</td>\n",
       "      <td>0</td>\n",
       "      <td>0</td>\n",
       "      <td>0</td>\n",
       "      <td>0</td>\n",
       "      <td>49</td>\n",
       "      <td>5</td>\n",
       "      <td>30054</td>\n",
       "      <td>351494</td>\n",
       "      <td>327</td>\n",
       "      <td>6</td>\n",
       "      <td>1</td>\n",
       "    </tr>\n",
       "    <tr>\n",
       "      <th>735</th>\n",
       "      <td>1</td>\n",
       "      <td>1</td>\n",
       "      <td>0</td>\n",
       "      <td>0</td>\n",
       "      <td>1</td>\n",
       "      <td>0</td>\n",
       "      <td>1</td>\n",
       "      <td>4</td>\n",
       "      <td>38</td>\n",
       "      <td>4</td>\n",
       "      <td>53256</td>\n",
       "      <td>336285</td>\n",
       "      <td>800</td>\n",
       "      <td>45</td>\n",
       "      <td>0</td>\n",
       "    </tr>\n",
       "  </tbody>\n",
       "</table>\n",
       "</div>"
      ],
      "text/plain": [
       "     Gender  Married  Education  Self_Employed  Previous_Loan_Taken  \\\n",
       "920       1        1          0              1                    1   \n",
       "666       1        1          0              0                    1   \n",
       "797       0        1          0              0                    1   \n",
       "925       0        0          0              0                    0   \n",
       "735       1        1          0              0                    1   \n",
       "\n",
       "     Property_Area  Customer_Bandwith  Tenure_group  Age  Dependents  \\\n",
       "920              0                  1             4   29           3   \n",
       "666              1                  1             4   20           1   \n",
       "797              0                  1             3   26           0   \n",
       "925              0                  0             0   49           5   \n",
       "735              0                  1             4   38           4   \n",
       "\n",
       "     ApplicantIncome  LoanAmount  Cibil_Score  Tenure  Loan_Status  \n",
       "920            98044      514905          700      47            0  \n",
       "666            40361      203352          722      46            0  \n",
       "797            81575      180754          803       9            0  \n",
       "925            30054      351494          327       6            1  \n",
       "735            53256      336285          800      45            0  "
      ]
     },
     "execution_count": 32,
     "metadata": {},
     "output_type": "execute_result"
    }
   ],
   "source": [
    "train=pd.concat([X_train,y_train],axis=1)\n",
    "train.head()"
   ]
  },
  {
   "cell_type": "code",
   "execution_count": 33,
   "metadata": {},
   "outputs": [
    {
     "data": {
      "text/html": [
       "<div>\n",
       "<style scoped>\n",
       "    .dataframe tbody tr th:only-of-type {\n",
       "        vertical-align: middle;\n",
       "    }\n",
       "\n",
       "    .dataframe tbody tr th {\n",
       "        vertical-align: top;\n",
       "    }\n",
       "\n",
       "    .dataframe thead th {\n",
       "        text-align: right;\n",
       "    }\n",
       "</style>\n",
       "<table border=\"1\" class=\"dataframe\">\n",
       "  <thead>\n",
       "    <tr style=\"text-align: right;\">\n",
       "      <th></th>\n",
       "      <th>Gender</th>\n",
       "      <th>Married</th>\n",
       "      <th>Education</th>\n",
       "      <th>Self_Employed</th>\n",
       "      <th>Previous_Loan_Taken</th>\n",
       "      <th>Property_Area</th>\n",
       "      <th>Customer_Bandwith</th>\n",
       "      <th>Tenure_group</th>\n",
       "      <th>Age</th>\n",
       "      <th>Dependents</th>\n",
       "      <th>ApplicantIncome</th>\n",
       "      <th>LoanAmount</th>\n",
       "      <th>Cibil_Score</th>\n",
       "      <th>Tenure</th>\n",
       "      <th>Loan_Status</th>\n",
       "      <th>Predicted</th>\n",
       "    </tr>\n",
       "  </thead>\n",
       "  <tbody>\n",
       "    <tr>\n",
       "      <th>920</th>\n",
       "      <td>1</td>\n",
       "      <td>1</td>\n",
       "      <td>0</td>\n",
       "      <td>1</td>\n",
       "      <td>1</td>\n",
       "      <td>0</td>\n",
       "      <td>1</td>\n",
       "      <td>4</td>\n",
       "      <td>29</td>\n",
       "      <td>3</td>\n",
       "      <td>98044</td>\n",
       "      <td>514905</td>\n",
       "      <td>700</td>\n",
       "      <td>47</td>\n",
       "      <td>0</td>\n",
       "      <td>0</td>\n",
       "    </tr>\n",
       "    <tr>\n",
       "      <th>666</th>\n",
       "      <td>1</td>\n",
       "      <td>1</td>\n",
       "      <td>0</td>\n",
       "      <td>0</td>\n",
       "      <td>1</td>\n",
       "      <td>1</td>\n",
       "      <td>1</td>\n",
       "      <td>4</td>\n",
       "      <td>20</td>\n",
       "      <td>1</td>\n",
       "      <td>40361</td>\n",
       "      <td>203352</td>\n",
       "      <td>722</td>\n",
       "      <td>46</td>\n",
       "      <td>0</td>\n",
       "      <td>0</td>\n",
       "    </tr>\n",
       "    <tr>\n",
       "      <th>797</th>\n",
       "      <td>0</td>\n",
       "      <td>1</td>\n",
       "      <td>0</td>\n",
       "      <td>0</td>\n",
       "      <td>1</td>\n",
       "      <td>0</td>\n",
       "      <td>1</td>\n",
       "      <td>3</td>\n",
       "      <td>26</td>\n",
       "      <td>0</td>\n",
       "      <td>81575</td>\n",
       "      <td>180754</td>\n",
       "      <td>803</td>\n",
       "      <td>9</td>\n",
       "      <td>0</td>\n",
       "      <td>0</td>\n",
       "    </tr>\n",
       "    <tr>\n",
       "      <th>925</th>\n",
       "      <td>0</td>\n",
       "      <td>0</td>\n",
       "      <td>0</td>\n",
       "      <td>0</td>\n",
       "      <td>0</td>\n",
       "      <td>0</td>\n",
       "      <td>0</td>\n",
       "      <td>0</td>\n",
       "      <td>49</td>\n",
       "      <td>5</td>\n",
       "      <td>30054</td>\n",
       "      <td>351494</td>\n",
       "      <td>327</td>\n",
       "      <td>6</td>\n",
       "      <td>1</td>\n",
       "      <td>0</td>\n",
       "    </tr>\n",
       "    <tr>\n",
       "      <th>735</th>\n",
       "      <td>1</td>\n",
       "      <td>1</td>\n",
       "      <td>0</td>\n",
       "      <td>0</td>\n",
       "      <td>1</td>\n",
       "      <td>0</td>\n",
       "      <td>1</td>\n",
       "      <td>4</td>\n",
       "      <td>38</td>\n",
       "      <td>4</td>\n",
       "      <td>53256</td>\n",
       "      <td>336285</td>\n",
       "      <td>800</td>\n",
       "      <td>45</td>\n",
       "      <td>0</td>\n",
       "      <td>0</td>\n",
       "    </tr>\n",
       "  </tbody>\n",
       "</table>\n",
       "</div>"
      ],
      "text/plain": [
       "     Gender  Married  Education  Self_Employed  Previous_Loan_Taken  \\\n",
       "920       1        1          0              1                    1   \n",
       "666       1        1          0              0                    1   \n",
       "797       0        1          0              0                    1   \n",
       "925       0        0          0              0                    0   \n",
       "735       1        1          0              0                    1   \n",
       "\n",
       "     Property_Area  Customer_Bandwith  Tenure_group  Age  Dependents  \\\n",
       "920              0                  1             4   29           3   \n",
       "666              1                  1             4   20           1   \n",
       "797              0                  1             3   26           0   \n",
       "925              0                  0             0   49           5   \n",
       "735              0                  1             4   38           4   \n",
       "\n",
       "     ApplicantIncome  LoanAmount  Cibil_Score  Tenure  Loan_Status  Predicted  \n",
       "920            98044      514905          700      47            0          0  \n",
       "666            40361      203352          722      46            0          0  \n",
       "797            81575      180754          803       9            0          0  \n",
       "925            30054      351494          327       6            1          0  \n",
       "735            53256      336285          800      45            0          0  "
      ]
     },
     "execution_count": 33,
     "metadata": {},
     "output_type": "execute_result"
    }
   ],
   "source": [
    "train['Predicted']=output.predict(X_train)\n",
    "train.head()"
   ]
  },
  {
   "cell_type": "markdown",
   "metadata": {},
   "source": [
    "train['Predicted']=np.where(train['Probability'] >= 0.7,1,0) \n",
    "train.head()"
   ]
  },
  {
   "cell_type": "markdown",
   "metadata": {},
   "source": [
    "# Step 7 : Model Performance Metrics"
   ]
  },
  {
   "cell_type": "code",
   "execution_count": 34,
   "metadata": {},
   "outputs": [
    {
     "data": {
      "text/plain": [
       "array([[555, 179],\n",
       "       [  7,  43]], dtype=int64)"
      ]
     },
     "execution_count": 34,
     "metadata": {},
     "output_type": "execute_result"
    }
   ],
   "source": [
    "from sklearn.metrics import confusion_matrix\n",
    "matrix = confusion_matrix(train['Predicted'], train['Loan_Status'])\n",
    "matrix"
   ]
  },
  {
   "cell_type": "code",
   "execution_count": 35,
   "metadata": {},
   "outputs": [
    {
     "name": "stdout",
     "output_type": "stream",
     "text": [
      "76.27551020408163\n"
     ]
    }
   ],
   "source": [
    "Accuracy_Train=((555+43)/(784)*100)\n",
    "print(Accuracy_Train)"
   ]
  },
  {
   "cell_type": "markdown",
   "metadata": {},
   "source": [
    "* Accuracy of Model is 76% , So we say Model good fit data  "
   ]
  },
  {
   "cell_type": "code",
   "execution_count": 36,
   "metadata": {
    "scrolled": true
   },
   "outputs": [
    {
     "name": "stdout",
     "output_type": "stream",
     "text": [
      "              precision    recall  f1-score   support\n",
      "\n",
      "           0       0.76      0.99      0.86       562\n",
      "           1       0.86      0.19      0.32       222\n",
      "\n",
      "    accuracy                           0.76       784\n",
      "   macro avg       0.81      0.59      0.59       784\n",
      "weighted avg       0.79      0.76      0.70       784\n",
      "\n"
     ]
    }
   ],
   "source": [
    "from sklearn.metrics import classification_report\n",
    "print(classification_report(train['Loan_Status'],train['Predicted']))"
   ]
  },
  {
   "cell_type": "markdown",
   "metadata": {},
   "source": [
    "* Accuracy of  Model is 76%,Hence Model is good Fit \n",
    "* Accuracy of Bad Customer Capture by Model is 19% ( Sensitivity )\n",
    "* Accuracy of Good Customer Capture by Model is 99% (Specificity)"
   ]
  },
  {
   "cell_type": "markdown",
   "metadata": {},
   "source": [
    "# Step 8 : Predictions on Test Dataset"
   ]
  },
  {
   "cell_type": "code",
   "execution_count": 37,
   "metadata": {
    "scrolled": true
   },
   "outputs": [
    {
     "data": {
      "text/html": [
       "<div>\n",
       "<style scoped>\n",
       "    .dataframe tbody tr th:only-of-type {\n",
       "        vertical-align: middle;\n",
       "    }\n",
       "\n",
       "    .dataframe tbody tr th {\n",
       "        vertical-align: top;\n",
       "    }\n",
       "\n",
       "    .dataframe thead th {\n",
       "        text-align: right;\n",
       "    }\n",
       "</style>\n",
       "<table border=\"1\" class=\"dataframe\">\n",
       "  <thead>\n",
       "    <tr style=\"text-align: right;\">\n",
       "      <th></th>\n",
       "      <th>Gender</th>\n",
       "      <th>Married</th>\n",
       "      <th>Education</th>\n",
       "      <th>Self_Employed</th>\n",
       "      <th>Previous_Loan_Taken</th>\n",
       "      <th>Property_Area</th>\n",
       "      <th>Customer_Bandwith</th>\n",
       "      <th>Tenure_group</th>\n",
       "      <th>Age</th>\n",
       "      <th>Dependents</th>\n",
       "      <th>ApplicantIncome</th>\n",
       "      <th>LoanAmount</th>\n",
       "      <th>Cibil_Score</th>\n",
       "      <th>Tenure</th>\n",
       "      <th>Loan_Status</th>\n",
       "    </tr>\n",
       "  </thead>\n",
       "  <tbody>\n",
       "    <tr>\n",
       "      <th>607</th>\n",
       "      <td>1</td>\n",
       "      <td>1</td>\n",
       "      <td>1</td>\n",
       "      <td>0</td>\n",
       "      <td>1</td>\n",
       "      <td>0</td>\n",
       "      <td>1</td>\n",
       "      <td>2</td>\n",
       "      <td>36</td>\n",
       "      <td>4</td>\n",
       "      <td>34747</td>\n",
       "      <td>374750</td>\n",
       "      <td>707</td>\n",
       "      <td>31</td>\n",
       "      <td>0</td>\n",
       "    </tr>\n",
       "    <tr>\n",
       "      <th>401</th>\n",
       "      <td>1</td>\n",
       "      <td>0</td>\n",
       "      <td>1</td>\n",
       "      <td>0</td>\n",
       "      <td>1</td>\n",
       "      <td>0</td>\n",
       "      <td>0</td>\n",
       "      <td>1</td>\n",
       "      <td>32</td>\n",
       "      <td>2</td>\n",
       "      <td>99459</td>\n",
       "      <td>755401</td>\n",
       "      <td>415</td>\n",
       "      <td>23</td>\n",
       "      <td>1</td>\n",
       "    </tr>\n",
       "    <tr>\n",
       "      <th>634</th>\n",
       "      <td>1</td>\n",
       "      <td>1</td>\n",
       "      <td>1</td>\n",
       "      <td>0</td>\n",
       "      <td>1</td>\n",
       "      <td>2</td>\n",
       "      <td>1</td>\n",
       "      <td>1</td>\n",
       "      <td>30</td>\n",
       "      <td>3</td>\n",
       "      <td>73468</td>\n",
       "      <td>234542</td>\n",
       "      <td>839</td>\n",
       "      <td>21</td>\n",
       "      <td>0</td>\n",
       "    </tr>\n",
       "    <tr>\n",
       "      <th>98</th>\n",
       "      <td>1</td>\n",
       "      <td>1</td>\n",
       "      <td>1</td>\n",
       "      <td>0</td>\n",
       "      <td>1</td>\n",
       "      <td>1</td>\n",
       "      <td>1</td>\n",
       "      <td>3</td>\n",
       "      <td>33</td>\n",
       "      <td>1</td>\n",
       "      <td>63519</td>\n",
       "      <td>788684</td>\n",
       "      <td>862</td>\n",
       "      <td>12</td>\n",
       "      <td>0</td>\n",
       "    </tr>\n",
       "    <tr>\n",
       "      <th>143</th>\n",
       "      <td>1</td>\n",
       "      <td>1</td>\n",
       "      <td>0</td>\n",
       "      <td>0</td>\n",
       "      <td>1</td>\n",
       "      <td>1</td>\n",
       "      <td>2</td>\n",
       "      <td>2</td>\n",
       "      <td>52</td>\n",
       "      <td>2</td>\n",
       "      <td>54231</td>\n",
       "      <td>170898</td>\n",
       "      <td>643</td>\n",
       "      <td>29</td>\n",
       "      <td>0</td>\n",
       "    </tr>\n",
       "  </tbody>\n",
       "</table>\n",
       "</div>"
      ],
      "text/plain": [
       "     Gender  Married  Education  Self_Employed  Previous_Loan_Taken  \\\n",
       "607       1        1          1              0                    1   \n",
       "401       1        0          1              0                    1   \n",
       "634       1        1          1              0                    1   \n",
       "98        1        1          1              0                    1   \n",
       "143       1        1          0              0                    1   \n",
       "\n",
       "     Property_Area  Customer_Bandwith  Tenure_group  Age  Dependents  \\\n",
       "607              0                  1             2   36           4   \n",
       "401              0                  0             1   32           2   \n",
       "634              2                  1             1   30           3   \n",
       "98               1                  1             3   33           1   \n",
       "143              1                  2             2   52           2   \n",
       "\n",
       "     ApplicantIncome  LoanAmount  Cibil_Score  Tenure  Loan_Status  \n",
       "607            34747      374750          707      31            0  \n",
       "401            99459      755401          415      23            1  \n",
       "634            73468      234542          839      21            0  \n",
       "98             63519      788684          862      12            0  \n",
       "143            54231      170898          643      29            0  "
      ]
     },
     "execution_count": 37,
     "metadata": {},
     "output_type": "execute_result"
    }
   ],
   "source": [
    "test=pd.concat([X_test,y_test],axis=1)\n",
    "test.head()"
   ]
  },
  {
   "cell_type": "code",
   "execution_count": 38,
   "metadata": {},
   "outputs": [
    {
     "data": {
      "text/html": [
       "<div>\n",
       "<style scoped>\n",
       "    .dataframe tbody tr th:only-of-type {\n",
       "        vertical-align: middle;\n",
       "    }\n",
       "\n",
       "    .dataframe tbody tr th {\n",
       "        vertical-align: top;\n",
       "    }\n",
       "\n",
       "    .dataframe thead th {\n",
       "        text-align: right;\n",
       "    }\n",
       "</style>\n",
       "<table border=\"1\" class=\"dataframe\">\n",
       "  <thead>\n",
       "    <tr style=\"text-align: right;\">\n",
       "      <th></th>\n",
       "      <th>Gender</th>\n",
       "      <th>Married</th>\n",
       "      <th>Education</th>\n",
       "      <th>Self_Employed</th>\n",
       "      <th>Previous_Loan_Taken</th>\n",
       "      <th>Property_Area</th>\n",
       "      <th>Customer_Bandwith</th>\n",
       "      <th>Tenure_group</th>\n",
       "      <th>Age</th>\n",
       "      <th>Dependents</th>\n",
       "      <th>ApplicantIncome</th>\n",
       "      <th>LoanAmount</th>\n",
       "      <th>Cibil_Score</th>\n",
       "      <th>Tenure</th>\n",
       "      <th>Loan_Status</th>\n",
       "      <th>Predicted</th>\n",
       "    </tr>\n",
       "  </thead>\n",
       "  <tbody>\n",
       "    <tr>\n",
       "      <th>607</th>\n",
       "      <td>1</td>\n",
       "      <td>1</td>\n",
       "      <td>1</td>\n",
       "      <td>0</td>\n",
       "      <td>1</td>\n",
       "      <td>0</td>\n",
       "      <td>1</td>\n",
       "      <td>2</td>\n",
       "      <td>36</td>\n",
       "      <td>4</td>\n",
       "      <td>34747</td>\n",
       "      <td>374750</td>\n",
       "      <td>707</td>\n",
       "      <td>31</td>\n",
       "      <td>0</td>\n",
       "      <td>0</td>\n",
       "    </tr>\n",
       "    <tr>\n",
       "      <th>401</th>\n",
       "      <td>1</td>\n",
       "      <td>0</td>\n",
       "      <td>1</td>\n",
       "      <td>0</td>\n",
       "      <td>1</td>\n",
       "      <td>0</td>\n",
       "      <td>0</td>\n",
       "      <td>1</td>\n",
       "      <td>32</td>\n",
       "      <td>2</td>\n",
       "      <td>99459</td>\n",
       "      <td>755401</td>\n",
       "      <td>415</td>\n",
       "      <td>23</td>\n",
       "      <td>1</td>\n",
       "      <td>1</td>\n",
       "    </tr>\n",
       "    <tr>\n",
       "      <th>634</th>\n",
       "      <td>1</td>\n",
       "      <td>1</td>\n",
       "      <td>1</td>\n",
       "      <td>0</td>\n",
       "      <td>1</td>\n",
       "      <td>2</td>\n",
       "      <td>1</td>\n",
       "      <td>1</td>\n",
       "      <td>30</td>\n",
       "      <td>3</td>\n",
       "      <td>73468</td>\n",
       "      <td>234542</td>\n",
       "      <td>839</td>\n",
       "      <td>21</td>\n",
       "      <td>0</td>\n",
       "      <td>0</td>\n",
       "    </tr>\n",
       "    <tr>\n",
       "      <th>98</th>\n",
       "      <td>1</td>\n",
       "      <td>1</td>\n",
       "      <td>1</td>\n",
       "      <td>0</td>\n",
       "      <td>1</td>\n",
       "      <td>1</td>\n",
       "      <td>1</td>\n",
       "      <td>3</td>\n",
       "      <td>33</td>\n",
       "      <td>1</td>\n",
       "      <td>63519</td>\n",
       "      <td>788684</td>\n",
       "      <td>862</td>\n",
       "      <td>12</td>\n",
       "      <td>0</td>\n",
       "      <td>0</td>\n",
       "    </tr>\n",
       "    <tr>\n",
       "      <th>143</th>\n",
       "      <td>1</td>\n",
       "      <td>1</td>\n",
       "      <td>0</td>\n",
       "      <td>0</td>\n",
       "      <td>1</td>\n",
       "      <td>1</td>\n",
       "      <td>2</td>\n",
       "      <td>2</td>\n",
       "      <td>52</td>\n",
       "      <td>2</td>\n",
       "      <td>54231</td>\n",
       "      <td>170898</td>\n",
       "      <td>643</td>\n",
       "      <td>29</td>\n",
       "      <td>0</td>\n",
       "      <td>0</td>\n",
       "    </tr>\n",
       "  </tbody>\n",
       "</table>\n",
       "</div>"
      ],
      "text/plain": [
       "     Gender  Married  Education  Self_Employed  Previous_Loan_Taken  \\\n",
       "607       1        1          1              0                    1   \n",
       "401       1        0          1              0                    1   \n",
       "634       1        1          1              0                    1   \n",
       "98        1        1          1              0                    1   \n",
       "143       1        1          0              0                    1   \n",
       "\n",
       "     Property_Area  Customer_Bandwith  Tenure_group  Age  Dependents  \\\n",
       "607              0                  1             2   36           4   \n",
       "401              0                  0             1   32           2   \n",
       "634              2                  1             1   30           3   \n",
       "98               1                  1             3   33           1   \n",
       "143              1                  2             2   52           2   \n",
       "\n",
       "     ApplicantIncome  LoanAmount  Cibil_Score  Tenure  Loan_Status  Predicted  \n",
       "607            34747      374750          707      31            0          0  \n",
       "401            99459      755401          415      23            1          1  \n",
       "634            73468      234542          839      21            0          0  \n",
       "98             63519      788684          862      12            0          0  \n",
       "143            54231      170898          643      29            0          0  "
      ]
     },
     "execution_count": 38,
     "metadata": {},
     "output_type": "execute_result"
    }
   ],
   "source": [
    "test['Predicted']=output.predict(X_test)\n",
    "test.head()"
   ]
  },
  {
   "cell_type": "markdown",
   "metadata": {},
   "source": [
    "test['Predicted']=np.where(test['Probability'] >= 0.7,1,0) \n",
    "test.head()"
   ]
  },
  {
   "cell_type": "markdown",
   "metadata": {},
   "source": [
    "# Step 9 : Model Performance Metrics on Test data "
   ]
  },
  {
   "cell_type": "code",
   "execution_count": 39,
   "metadata": {},
   "outputs": [
    {
     "name": "stdout",
     "output_type": "stream",
     "text": [
      "[[149  39]\n",
      " [  1   8]]\n"
     ]
    }
   ],
   "source": [
    "from sklearn.metrics import confusion_matrix\n",
    "matrix = confusion_matrix(test['Predicted'],test['Loan_Status'])\n",
    "print(matrix)"
   ]
  },
  {
   "cell_type": "code",
   "execution_count": 40,
   "metadata": {},
   "outputs": [
    {
     "data": {
      "text/plain": [
       "79.69543147208121"
      ]
     },
     "execution_count": 40,
     "metadata": {},
     "output_type": "execute_result"
    }
   ],
   "source": [
    "Accuracy_test=((149+8)/(197)*100)\n",
    "Accuracy_test"
   ]
  },
  {
   "cell_type": "code",
   "execution_count": 41,
   "metadata": {
    "scrolled": false
   },
   "outputs": [
    {
     "name": "stdout",
     "output_type": "stream",
     "text": [
      "              precision    recall  f1-score   support\n",
      "\n",
      "           0       0.79      0.99      0.88       150\n",
      "           1       0.89      0.17      0.29        47\n",
      "\n",
      "    accuracy                           0.80       197\n",
      "   macro avg       0.84      0.58      0.58       197\n",
      "weighted avg       0.82      0.80      0.74       197\n",
      "\n"
     ]
    }
   ],
   "source": [
    "from sklearn.metrics import classification_report\n",
    "print(classification_report(test['Loan_Status'],test['Predicted']))"
   ]
  },
  {
   "cell_type": "markdown",
   "metadata": {},
   "source": [
    "* Accuracy of  Model is 81%,Hence Model is good Fit \n",
    "* Accuracy of Bad Customer Capture by Model is 21% ( Sensitivity )\n",
    "* Accuracy of Good Customer Capture by Model is 100% "
   ]
  },
  {
   "cell_type": "markdown",
   "metadata": {},
   "source": [
    "# Coefficient \n",
    "\n",
    "* For future Prediction below 4 variable data is mandatory \n",
    "\n",
    "* Note :- If anyone is not present output will not be reliable "
   ]
  },
  {
   "cell_type": "code",
   "execution_count": 42,
   "metadata": {},
   "outputs": [
    {
     "data": {
      "text/html": [
       "<div>\n",
       "<style scoped>\n",
       "    .dataframe tbody tr th:only-of-type {\n",
       "        vertical-align: middle;\n",
       "    }\n",
       "\n",
       "    .dataframe tbody tr th {\n",
       "        vertical-align: top;\n",
       "    }\n",
       "\n",
       "    .dataframe thead th {\n",
       "        text-align: right;\n",
       "    }\n",
       "</style>\n",
       "<table border=\"1\" class=\"dataframe\">\n",
       "  <thead>\n",
       "    <tr style=\"text-align: right;\">\n",
       "      <th></th>\n",
       "      <th>Coefficient</th>\n",
       "    </tr>\n",
       "  </thead>\n",
       "  <tbody>\n",
       "    <tr>\n",
       "      <th>Intercept</th>\n",
       "      <td>-0.000002</td>\n",
       "    </tr>\n",
       "  </tbody>\n",
       "</table>\n",
       "</div>"
      ],
      "text/plain": [
       "           Coefficient\n",
       "Intercept    -0.000002"
      ]
     },
     "execution_count": 42,
     "metadata": {},
     "output_type": "execute_result"
    }
   ],
   "source": [
    "Model_Values=pd.DataFrame(output.intercept_,index=['Intercept'],columns=['Coefficient'])\n",
    "Model_Values"
   ]
  },
  {
   "cell_type": "code",
   "execution_count": 43,
   "metadata": {},
   "outputs": [
    {
     "data": {
      "text/html": [
       "<div>\n",
       "<style scoped>\n",
       "    .dataframe tbody tr th:only-of-type {\n",
       "        vertical-align: middle;\n",
       "    }\n",
       "\n",
       "    .dataframe tbody tr th {\n",
       "        vertical-align: top;\n",
       "    }\n",
       "\n",
       "    .dataframe thead th {\n",
       "        text-align: right;\n",
       "    }\n",
       "</style>\n",
       "<table border=\"1\" class=\"dataframe\">\n",
       "  <thead>\n",
       "    <tr style=\"text-align: right;\">\n",
       "      <th></th>\n",
       "      <th>Coefficient</th>\n",
       "    </tr>\n",
       "  </thead>\n",
       "  <tbody>\n",
       "    <tr>\n",
       "      <th>Gender</th>\n",
       "      <td>-2.346723e-06</td>\n",
       "    </tr>\n",
       "    <tr>\n",
       "      <th>Married</th>\n",
       "      <td>-2.660385e-06</td>\n",
       "    </tr>\n",
       "    <tr>\n",
       "      <th>Education</th>\n",
       "      <td>6.074731e-07</td>\n",
       "    </tr>\n",
       "    <tr>\n",
       "      <th>Self_Employed</th>\n",
       "      <td>-9.889310e-07</td>\n",
       "    </tr>\n",
       "    <tr>\n",
       "      <th>Previous_Loan_Taken</th>\n",
       "      <td>-1.099988e-05</td>\n",
       "    </tr>\n",
       "    <tr>\n",
       "      <th>Property_Area</th>\n",
       "      <td>-3.700027e-06</td>\n",
       "    </tr>\n",
       "    <tr>\n",
       "      <th>Customer_Bandwith</th>\n",
       "      <td>-4.970430e-06</td>\n",
       "    </tr>\n",
       "    <tr>\n",
       "      <th>Tenure_group</th>\n",
       "      <td>-4.938041e-06</td>\n",
       "    </tr>\n",
       "    <tr>\n",
       "      <th>Age</th>\n",
       "      <td>-4.809140e-05</td>\n",
       "    </tr>\n",
       "    <tr>\n",
       "      <th>Dependents</th>\n",
       "      <td>-2.614480e-06</td>\n",
       "    </tr>\n",
       "    <tr>\n",
       "      <th>ApplicantIncome</th>\n",
       "      <td>1.779695e-05</td>\n",
       "    </tr>\n",
       "    <tr>\n",
       "      <th>LoanAmount</th>\n",
       "      <td>1.169386e-06</td>\n",
       "    </tr>\n",
       "    <tr>\n",
       "      <th>Cibil_Score</th>\n",
       "      <td>-4.119967e-03</td>\n",
       "    </tr>\n",
       "    <tr>\n",
       "      <th>Tenure</th>\n",
       "      <td>-4.257431e-05</td>\n",
       "    </tr>\n",
       "  </tbody>\n",
       "</table>\n",
       "</div>"
      ],
      "text/plain": [
       "                      Coefficient\n",
       "Gender              -2.346723e-06\n",
       "Married             -2.660385e-06\n",
       "Education            6.074731e-07\n",
       "Self_Employed       -9.889310e-07\n",
       "Previous_Loan_Taken -1.099988e-05\n",
       "Property_Area       -3.700027e-06\n",
       "Customer_Bandwith   -4.970430e-06\n",
       "Tenure_group        -4.938041e-06\n",
       "Age                 -4.809140e-05\n",
       "Dependents          -2.614480e-06\n",
       "ApplicantIncome      1.779695e-05\n",
       "LoanAmount           1.169386e-06\n",
       "Cibil_Score         -4.119967e-03\n",
       "Tenure              -4.257431e-05"
      ]
     },
     "execution_count": 43,
     "metadata": {},
     "output_type": "execute_result"
    }
   ],
   "source": [
    "abc=pd.DataFrame(output.coef_.T,index=output.feature_names_in_,columns=['Coefficient'])\n",
    "abc"
   ]
  },
  {
   "cell_type": "code",
   "execution_count": 44,
   "metadata": {},
   "outputs": [
    {
     "data": {
      "text/html": [
       "<div>\n",
       "<style scoped>\n",
       "    .dataframe tbody tr th:only-of-type {\n",
       "        vertical-align: middle;\n",
       "    }\n",
       "\n",
       "    .dataframe tbody tr th {\n",
       "        vertical-align: top;\n",
       "    }\n",
       "\n",
       "    .dataframe thead th {\n",
       "        text-align: right;\n",
       "    }\n",
       "</style>\n",
       "<table border=\"1\" class=\"dataframe\">\n",
       "  <thead>\n",
       "    <tr style=\"text-align: right;\">\n",
       "      <th></th>\n",
       "      <th>Coefficient</th>\n",
       "    </tr>\n",
       "  </thead>\n",
       "  <tbody>\n",
       "    <tr>\n",
       "      <th>Intercept</th>\n",
       "      <td>-1.568313e-06</td>\n",
       "    </tr>\n",
       "    <tr>\n",
       "      <th>Gender</th>\n",
       "      <td>-2.346723e-06</td>\n",
       "    </tr>\n",
       "    <tr>\n",
       "      <th>Married</th>\n",
       "      <td>-2.660385e-06</td>\n",
       "    </tr>\n",
       "    <tr>\n",
       "      <th>Education</th>\n",
       "      <td>6.074731e-07</td>\n",
       "    </tr>\n",
       "    <tr>\n",
       "      <th>Self_Employed</th>\n",
       "      <td>-9.889310e-07</td>\n",
       "    </tr>\n",
       "    <tr>\n",
       "      <th>Previous_Loan_Taken</th>\n",
       "      <td>-1.099988e-05</td>\n",
       "    </tr>\n",
       "    <tr>\n",
       "      <th>Property_Area</th>\n",
       "      <td>-3.700027e-06</td>\n",
       "    </tr>\n",
       "    <tr>\n",
       "      <th>Customer_Bandwith</th>\n",
       "      <td>-4.970430e-06</td>\n",
       "    </tr>\n",
       "    <tr>\n",
       "      <th>Tenure_group</th>\n",
       "      <td>-4.938041e-06</td>\n",
       "    </tr>\n",
       "    <tr>\n",
       "      <th>Age</th>\n",
       "      <td>-4.809140e-05</td>\n",
       "    </tr>\n",
       "    <tr>\n",
       "      <th>Dependents</th>\n",
       "      <td>-2.614480e-06</td>\n",
       "    </tr>\n",
       "    <tr>\n",
       "      <th>ApplicantIncome</th>\n",
       "      <td>1.779695e-05</td>\n",
       "    </tr>\n",
       "    <tr>\n",
       "      <th>LoanAmount</th>\n",
       "      <td>1.169386e-06</td>\n",
       "    </tr>\n",
       "    <tr>\n",
       "      <th>Cibil_Score</th>\n",
       "      <td>-4.119967e-03</td>\n",
       "    </tr>\n",
       "    <tr>\n",
       "      <th>Tenure</th>\n",
       "      <td>-4.257431e-05</td>\n",
       "    </tr>\n",
       "  </tbody>\n",
       "</table>\n",
       "</div>"
      ],
      "text/plain": [
       "                      Coefficient\n",
       "Intercept           -1.568313e-06\n",
       "Gender              -2.346723e-06\n",
       "Married             -2.660385e-06\n",
       "Education            6.074731e-07\n",
       "Self_Employed       -9.889310e-07\n",
       "Previous_Loan_Taken -1.099988e-05\n",
       "Property_Area       -3.700027e-06\n",
       "Customer_Bandwith   -4.970430e-06\n",
       "Tenure_group        -4.938041e-06\n",
       "Age                 -4.809140e-05\n",
       "Dependents          -2.614480e-06\n",
       "ApplicantIncome      1.779695e-05\n",
       "LoanAmount           1.169386e-06\n",
       "Cibil_Score         -4.119967e-03\n",
       "Tenure              -4.257431e-05"
      ]
     },
     "execution_count": 44,
     "metadata": {},
     "output_type": "execute_result"
    }
   ],
   "source": [
    "Model_Values.append(abc)"
   ]
  },
  {
   "cell_type": "markdown",
   "metadata": {},
   "source": [
    "# Finish"
   ]
  }
 ],
 "metadata": {
  "kernelspec": {
   "display_name": "Python 3 (ipykernel)",
   "language": "python",
   "name": "python3"
  },
  "language_info": {
   "codemirror_mode": {
    "name": "ipython",
    "version": 3
   },
   "file_extension": ".py",
   "mimetype": "text/x-python",
   "name": "python",
   "nbconvert_exporter": "python",
   "pygments_lexer": "ipython3",
   "version": "3.9.13"
  }
 },
 "nbformat": 4,
 "nbformat_minor": 2
}
